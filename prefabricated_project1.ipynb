{
 "cells": [
  {
   "cell_type": "markdown",
   "metadata": {},
   "source": [
    "# Сборный Проект - 1. Изучение закономерностей, определяющих успешность игр"
   ]
  },
  {
   "cell_type": "markdown",
   "metadata": {},
   "source": [
    "<h1>Содержание<span class=\"tocSkip\"></span></h1>\n",
    "<div class=\"toc\"><ul class=\"toc-item\"><li><span><a href=\"#Изучение-данных-из-файла\" data-toc-modified-id=\"Изучение-данных-из-файла-1\"><span class=\"toc-item-num\">1&nbsp;&nbsp;</span>Изучение данных из файла</a></span><ul class=\"toc-item\"><li><span><a href=\"#Выведем-основную-информацию-на-экран\" data-toc-modified-id=\"Выведем-основную-информацию-на-экран-1.1\"><span class=\"toc-item-num\">1.1&nbsp;&nbsp;</span>Выведем основную информацию на экран</a></span></li><li><span><a href=\"#Выводы\" data-toc-modified-id=\"Выводы-1.2\"><span class=\"toc-item-num\">1.2&nbsp;&nbsp;</span>Выводы</a></span></li></ul></li><li><span><a href=\"#Предобработка-данных\" data-toc-modified-id=\"Предобработка-данных-2\"><span class=\"toc-item-num\">2&nbsp;&nbsp;</span>Предобработка данных</a></span><ul class=\"toc-item\"><li><span><a href=\"#Замена-названий-столбцов\" data-toc-modified-id=\"Замена-названий-столбцов-2.1\"><span class=\"toc-item-num\">2.1&nbsp;&nbsp;</span>Замена названий столбцов</a></span></li><li><span><a href=\"#Замена-типа-данных\" data-toc-modified-id=\"Замена-типа-данных-2.2\"><span class=\"toc-item-num\">2.2&nbsp;&nbsp;</span>Замена типа данных</a></span></li><li><span><a href=\"#Обработка-пропусков\" data-toc-modified-id=\"Обработка-пропусков-2.3\"><span class=\"toc-item-num\">2.3&nbsp;&nbsp;</span>Обработка пропусков</a></span></li><li><span><a href=\"#Подсчет-суммарных-продаж\" data-toc-modified-id=\"Подсчет-суммарных-продаж-2.4\"><span class=\"toc-item-num\">2.4&nbsp;&nbsp;</span>Подсчет суммарных продаж</a></span></li></ul></li><li><span><a href=\"#Исследовательский-анализ-данных\" data-toc-modified-id=\"Исследовательский-анализ-данных-3\"><span class=\"toc-item-num\">3&nbsp;&nbsp;</span>Исследовательский анализ данных</a></span><ul class=\"toc-item\"><li><span><a href=\"#Сколько-игр-выпускалось-в-разные-годы.-Важны-ли-данные-за-все-периоды?\" data-toc-modified-id=\"Сколько-игр-выпускалось-в-разные-годы.-Важны-ли-данные-за-все-периоды?-3.1\"><span class=\"toc-item-num\">3.1&nbsp;&nbsp;</span>Сколько игр выпускалось в разные годы. Важны ли данные за все периоды?</a></span><ul class=\"toc-item\"><li><span><a href=\"#Вывод\" data-toc-modified-id=\"Вывод-3.1.1\"><span class=\"toc-item-num\">3.1.1&nbsp;&nbsp;</span>Вывод</a></span></li></ul></li><li><span><a href=\"#Посмотрите,-как-менялись-продажи-по-платформам.-Выберите-платформы-с-наибольшими-суммарными-продажами-и-постройте-распределение-по-годам.-За-какой-характерный-срок-появляются-новые-и-исчезают-старые-платформы?\" data-toc-modified-id=\"Посмотрите,-как-менялись-продажи-по-платформам.-Выберите-платформы-с-наибольшими-суммарными-продажами-и-постройте-распределение-по-годам.-За-какой-характерный-срок-появляются-новые-и-исчезают-старые-платформы?-3.2\"><span class=\"toc-item-num\">3.2&nbsp;&nbsp;</span>Посмотрите, как менялись продажи по платформам. Выберите платформы с наибольшими суммарными продажами и постройте распределение по годам. За какой характерный срок появляются новые и исчезают старые платформы?</a></span><ul class=\"toc-item\"><li><span><a href=\"#Вывод\" data-toc-modified-id=\"Вывод-3.2.1\"><span class=\"toc-item-num\">3.2.1&nbsp;&nbsp;</span>Вывод</a></span></li></ul></li><li><span><a href=\"#Возьмите-данные-за-соответствующий-актуальный-период.-Актуальный-период-определите-самостоятельно-в-результате-исследования-предыдущих-вопросов.-Основной-фактор-—-эти-данные-помогут-построить-прогноз-на-2017-год.Не-учитывайте-в-работе-данные-за-предыдущие-годы.-Какие-платформы-лидируют-по-продажам,-растут-или-падают?-Выберите-несколько-потенциально-прибыльных-платформ.\" data-toc-modified-id=\"Возьмите-данные-за-соответствующий-актуальный-период.-Актуальный-период-определите-самостоятельно-в-результате-исследования-предыдущих-вопросов.-Основной-фактор-—-эти-данные-помогут-построить-прогноз-на-2017-год.Не-учитывайте-в-работе-данные-за-предыдущие-годы.-Какие-платформы-лидируют-по-продажам,-растут-или-падают?-Выберите-несколько-потенциально-прибыльных-платформ.-3.3\"><span class=\"toc-item-num\">3.3&nbsp;&nbsp;</span>Возьмите данные за соответствующий актуальный период. Актуальный период определите самостоятельно в результате исследования предыдущих вопросов. Основной фактор — эти данные помогут построить прогноз на 2017 год.Не учитывайте в работе данные за предыдущие годы. Какие платформы лидируют по продажам, растут или падают? Выберите несколько потенциально прибыльных платформ.</a></span><ul class=\"toc-item\"><li><span><a href=\"#Вывод\" data-toc-modified-id=\"Вывод-3.3.1\"><span class=\"toc-item-num\">3.3.1&nbsp;&nbsp;</span>Вывод</a></span></li></ul></li><li><span><a href=\"#Постройте-график-«ящик-с-усами»-по-глобальным-продажам-игр-в-разбивке-по-платформам.-Опишите-результат.\" data-toc-modified-id=\"Постройте-график-«ящик-с-усами»-по-глобальным-продажам-игр-в-разбивке-по-платформам.-Опишите-результат.-3.4\"><span class=\"toc-item-num\">3.4&nbsp;&nbsp;</span>Постройте график «ящик с усами» по глобальным продажам игр в разбивке по платформам. Опишите результат.</a></span><ul class=\"toc-item\"><li><span><a href=\"#Вывод\" data-toc-modified-id=\"Вывод-3.4.1\"><span class=\"toc-item-num\">3.4.1&nbsp;&nbsp;</span>Вывод</a></span></li></ul></li><li><span><a href=\"#Посмотрите,-как-влияют-на-продажи-внутри-одной-популярной-платформы-отзывы-пользователей-и-критиков.-Постройте-диаграмму-рассеяния-и-посчитайте-корреляцию-между-отзывами-и-продажами.-Сформулируйте-выводы.-Соотнесите-выводы-с-продажами-игр-на-других-платформах.\" data-toc-modified-id=\"Посмотрите,-как-влияют-на-продажи-внутри-одной-популярной-платформы-отзывы-пользователей-и-критиков.-Постройте-диаграмму-рассеяния-и-посчитайте-корреляцию-между-отзывами-и-продажами.-Сформулируйте-выводы.-Соотнесите-выводы-с-продажами-игр-на-других-платформах.-3.5\"><span class=\"toc-item-num\">3.5&nbsp;&nbsp;</span>Посмотрите, как влияют на продажи внутри одной популярной платформы отзывы пользователей и критиков. Постройте диаграмму рассеяния и посчитайте корреляцию между отзывами и продажами. Сформулируйте выводы. Соотнесите выводы с продажами игр на других платформах.</a></span><ul class=\"toc-item\"><li><span><a href=\"#Вывод\" data-toc-modified-id=\"Вывод-3.5.1\"><span class=\"toc-item-num\">3.5.1&nbsp;&nbsp;</span>Вывод</a></span></li><li><span><a href=\"#Вывод\" data-toc-modified-id=\"Вывод-3.5.2\"><span class=\"toc-item-num\">3.5.2&nbsp;&nbsp;</span>Вывод</a></span></li></ul></li><li><span><a href=\"#Посмотрите-на-общее-распределение-игр-по-жанрам.-Что-можно-сказать-о-самых-прибыльных-жанрах?-Выделяются-ли-жанры-с-высокими-и-низкими-продажами?\" data-toc-modified-id=\"Посмотрите-на-общее-распределение-игр-по-жанрам.-Что-можно-сказать-о-самых-прибыльных-жанрах?-Выделяются-ли-жанры-с-высокими-и-низкими-продажами?-3.6\"><span class=\"toc-item-num\">3.6&nbsp;&nbsp;</span>Посмотрите на общее распределение игр по жанрам. Что можно сказать о самых прибыльных жанрах? Выделяются ли жанры с высокими и низкими продажами?</a></span><ul class=\"toc-item\"><li><span><a href=\"#Вывод\" data-toc-modified-id=\"Вывод-3.6.1\"><span class=\"toc-item-num\">3.6.1&nbsp;&nbsp;</span>Вывод</a></span></li></ul></li></ul></li><li><span><a href=\"#Составьте-портрет-пользователя-каждого-региона\" data-toc-modified-id=\"Составьте-портрет-пользователя-каждого-региона-4\"><span class=\"toc-item-num\">4&nbsp;&nbsp;</span>Составьте портрет пользователя каждого региона</a></span><ul class=\"toc-item\"><li><span><a href=\"#Определите-для-пользователя-каждого-региона-(NA,-EU,-JP)-cамые-популярные-платформы-(топ-5).-Опишите-различия-в-долях-продаж.\" data-toc-modified-id=\"Определите-для-пользователя-каждого-региона-(NA,-EU,-JP)-cамые-популярные-платформы-(топ-5).-Опишите-различия-в-долях-продаж.-4.1\"><span class=\"toc-item-num\">4.1&nbsp;&nbsp;</span>Определите для пользователя каждого региона (NA, EU, JP) cамые популярные платформы (топ-5). Опишите различия в долях продаж.</a></span><ul class=\"toc-item\"><li><span><a href=\"#Вывод\" data-toc-modified-id=\"Вывод-4.1.1\"><span class=\"toc-item-num\">4.1.1&nbsp;&nbsp;</span>Вывод</a></span></li><li><span><a href=\"#Вывод\" data-toc-modified-id=\"Вывод-4.1.2\"><span class=\"toc-item-num\">4.1.2&nbsp;&nbsp;</span>Вывод</a></span></li><li><span><a href=\"#Вывод\" data-toc-modified-id=\"Вывод-4.1.3\"><span class=\"toc-item-num\">4.1.3&nbsp;&nbsp;</span>Вывод</a></span></li><li><span><a href=\"#Вывод\" data-toc-modified-id=\"Вывод-4.1.4\"><span class=\"toc-item-num\">4.1.4&nbsp;&nbsp;</span>Вывод</a></span></li></ul></li><li><span><a href=\"#Определите-для-пользователя-каждого-региона-(NA,-EU,-JP)-самые-популярные-жанры-(топ-5).-Поясните-разницу.\" data-toc-modified-id=\"Определите-для-пользователя-каждого-региона-(NA,-EU,-JP)-самые-популярные-жанры-(топ-5).-Поясните-разницу.-4.2\"><span class=\"toc-item-num\">4.2&nbsp;&nbsp;</span>Определите для пользователя каждого региона (NA, EU, JP) самые популярные жанры (топ-5). Поясните разницу.</a></span><ul class=\"toc-item\"><li><span><a href=\"#Вывод\" data-toc-modified-id=\"Вывод-4.2.1\"><span class=\"toc-item-num\">4.2.1&nbsp;&nbsp;</span>Вывод</a></span></li></ul></li><li><span><a href=\"#Влияет-ли-рейтинг-ESRB-на-продажи-в-отдельном-регионе?\" data-toc-modified-id=\"Влияет-ли-рейтинг-ESRB-на-продажи-в-отдельном-регионе?-4.3\"><span class=\"toc-item-num\">4.3&nbsp;&nbsp;</span>Влияет ли рейтинг ESRB на продажи в отдельном регионе?</a></span><ul class=\"toc-item\"><li><span><a href=\"#Вывод\" data-toc-modified-id=\"Вывод-4.3.1\"><span class=\"toc-item-num\">4.3.1&nbsp;&nbsp;</span>Вывод</a></span></li></ul></li></ul></li><li><span><a href=\"#Проверьте-гипотезы\" data-toc-modified-id=\"Проверьте-гипотезы-5\"><span class=\"toc-item-num\">5&nbsp;&nbsp;</span>Проверьте гипотезы</a></span><ul class=\"toc-item\"><li><span><a href=\"#Средние-пользовательские-рейтинги-платформ-Xbox-One-и-PC-одинаковые\" data-toc-modified-id=\"Средние-пользовательские-рейтинги-платформ-Xbox-One-и-PC-одинаковые-5.1\"><span class=\"toc-item-num\">5.1&nbsp;&nbsp;</span>Средние пользовательские рейтинги платформ Xbox One и PC одинаковые</a></span></li><li><span><a href=\"#Средние-пользовательские-рейтинги-жанров-Action-(англ.-«действие»,-экшен-игры)-и-Sports-(англ.-«спортивные-соревнования»)-разные.\" data-toc-modified-id=\"Средние-пользовательские-рейтинги-жанров-Action-(англ.-«действие»,-экшен-игры)-и-Sports-(англ.-«спортивные-соревнования»)-разные.-5.2\"><span class=\"toc-item-num\">5.2&nbsp;&nbsp;</span>Средние пользовательские рейтинги жанров Action (англ. «действие», экшен-игры) и Sports (англ. «спортивные соревнования») разные.</a></span></li></ul></li><li><span><a href=\"#Общий-вывод\" data-toc-modified-id=\"Общий-вывод-6\"><span class=\"toc-item-num\">6&nbsp;&nbsp;</span>Общий вывод</a></span></li></ul></div>"
   ]
  },
  {
   "cell_type": "markdown",
   "metadata": {},
   "source": [
    "Из открытых источников доступны исторические данные о продажах игр, оценки пользователей и экспертов, жанры и платформы. Необходимо выявить определяющие успешность игры закономерности. Это позволит сделать ставку на потенциально популярный продукт и спланировать рекламные кампании.\n",
    "Перед нами данные до 2016 года. Представим, что сейчас декабрь 2016 г., и мы планируем кампанию на 2017-й. Нужно отработать принцип работы с данными.   \n",
    "Источник данных - Яндекс.Практикум"
   ]
  },
  {
   "cell_type": "markdown",
   "metadata": {},
   "source": [
    "## Изучение данных из файла"
   ]
  },
  {
   "cell_type": "markdown",
   "metadata": {},
   "source": [
    "- Импортируем нужные библиотеки, читаем датасет"
   ]
  },
  {
   "cell_type": "code",
   "execution_count": 1,
   "metadata": {},
   "outputs": [
    {
     "data": {
      "text/html": [
       "<div>\n",
       "<style scoped>\n",
       "    .dataframe tbody tr th:only-of-type {\n",
       "        vertical-align: middle;\n",
       "    }\n",
       "\n",
       "    .dataframe tbody tr th {\n",
       "        vertical-align: top;\n",
       "    }\n",
       "\n",
       "    .dataframe thead th {\n",
       "        text-align: right;\n",
       "    }\n",
       "</style>\n",
       "<table border=\"1\" class=\"dataframe\">\n",
       "  <thead>\n",
       "    <tr style=\"text-align: right;\">\n",
       "      <th></th>\n",
       "      <th>Name</th>\n",
       "      <th>Platform</th>\n",
       "      <th>Year_of_Release</th>\n",
       "      <th>Genre</th>\n",
       "      <th>NA_sales</th>\n",
       "      <th>EU_sales</th>\n",
       "      <th>JP_sales</th>\n",
       "      <th>Other_sales</th>\n",
       "      <th>Critic_Score</th>\n",
       "      <th>User_Score</th>\n",
       "      <th>Rating</th>\n",
       "    </tr>\n",
       "  </thead>\n",
       "  <tbody>\n",
       "    <tr>\n",
       "      <td>0</td>\n",
       "      <td>Wii Sports</td>\n",
       "      <td>Wii</td>\n",
       "      <td>2,006.00</td>\n",
       "      <td>Sports</td>\n",
       "      <td>41.36</td>\n",
       "      <td>28.96</td>\n",
       "      <td>3.77</td>\n",
       "      <td>8.45</td>\n",
       "      <td>76.00</td>\n",
       "      <td>8</td>\n",
       "      <td>E</td>\n",
       "    </tr>\n",
       "    <tr>\n",
       "      <td>1</td>\n",
       "      <td>Super Mario Bros.</td>\n",
       "      <td>NES</td>\n",
       "      <td>1,985.00</td>\n",
       "      <td>Platform</td>\n",
       "      <td>29.08</td>\n",
       "      <td>3.58</td>\n",
       "      <td>6.81</td>\n",
       "      <td>0.77</td>\n",
       "      <td>nan</td>\n",
       "      <td>NaN</td>\n",
       "      <td>NaN</td>\n",
       "    </tr>\n",
       "    <tr>\n",
       "      <td>2</td>\n",
       "      <td>Mario Kart Wii</td>\n",
       "      <td>Wii</td>\n",
       "      <td>2,008.00</td>\n",
       "      <td>Racing</td>\n",
       "      <td>15.68</td>\n",
       "      <td>12.76</td>\n",
       "      <td>3.79</td>\n",
       "      <td>3.29</td>\n",
       "      <td>82.00</td>\n",
       "      <td>8.3</td>\n",
       "      <td>E</td>\n",
       "    </tr>\n",
       "    <tr>\n",
       "      <td>3</td>\n",
       "      <td>Wii Sports Resort</td>\n",
       "      <td>Wii</td>\n",
       "      <td>2,009.00</td>\n",
       "      <td>Sports</td>\n",
       "      <td>15.61</td>\n",
       "      <td>10.93</td>\n",
       "      <td>3.28</td>\n",
       "      <td>2.95</td>\n",
       "      <td>80.00</td>\n",
       "      <td>8</td>\n",
       "      <td>E</td>\n",
       "    </tr>\n",
       "    <tr>\n",
       "      <td>4</td>\n",
       "      <td>Pokemon Red/Pokemon Blue</td>\n",
       "      <td>GB</td>\n",
       "      <td>1,996.00</td>\n",
       "      <td>Role-Playing</td>\n",
       "      <td>11.27</td>\n",
       "      <td>8.89</td>\n",
       "      <td>10.22</td>\n",
       "      <td>1.00</td>\n",
       "      <td>nan</td>\n",
       "      <td>NaN</td>\n",
       "      <td>NaN</td>\n",
       "    </tr>\n",
       "    <tr>\n",
       "      <td>5</td>\n",
       "      <td>Tetris</td>\n",
       "      <td>GB</td>\n",
       "      <td>1,989.00</td>\n",
       "      <td>Puzzle</td>\n",
       "      <td>23.20</td>\n",
       "      <td>2.26</td>\n",
       "      <td>4.22</td>\n",
       "      <td>0.58</td>\n",
       "      <td>nan</td>\n",
       "      <td>NaN</td>\n",
       "      <td>NaN</td>\n",
       "    </tr>\n",
       "    <tr>\n",
       "      <td>6</td>\n",
       "      <td>New Super Mario Bros.</td>\n",
       "      <td>DS</td>\n",
       "      <td>2,006.00</td>\n",
       "      <td>Platform</td>\n",
       "      <td>11.28</td>\n",
       "      <td>9.14</td>\n",
       "      <td>6.50</td>\n",
       "      <td>2.88</td>\n",
       "      <td>89.00</td>\n",
       "      <td>8.5</td>\n",
       "      <td>E</td>\n",
       "    </tr>\n",
       "    <tr>\n",
       "      <td>7</td>\n",
       "      <td>Wii Play</td>\n",
       "      <td>Wii</td>\n",
       "      <td>2,006.00</td>\n",
       "      <td>Misc</td>\n",
       "      <td>13.96</td>\n",
       "      <td>9.18</td>\n",
       "      <td>2.93</td>\n",
       "      <td>2.84</td>\n",
       "      <td>58.00</td>\n",
       "      <td>6.6</td>\n",
       "      <td>E</td>\n",
       "    </tr>\n",
       "    <tr>\n",
       "      <td>8</td>\n",
       "      <td>New Super Mario Bros. Wii</td>\n",
       "      <td>Wii</td>\n",
       "      <td>2,009.00</td>\n",
       "      <td>Platform</td>\n",
       "      <td>14.44</td>\n",
       "      <td>6.94</td>\n",
       "      <td>4.70</td>\n",
       "      <td>2.24</td>\n",
       "      <td>87.00</td>\n",
       "      <td>8.4</td>\n",
       "      <td>E</td>\n",
       "    </tr>\n",
       "    <tr>\n",
       "      <td>9</td>\n",
       "      <td>Duck Hunt</td>\n",
       "      <td>NES</td>\n",
       "      <td>1,984.00</td>\n",
       "      <td>Shooter</td>\n",
       "      <td>26.93</td>\n",
       "      <td>0.63</td>\n",
       "      <td>0.28</td>\n",
       "      <td>0.47</td>\n",
       "      <td>nan</td>\n",
       "      <td>NaN</td>\n",
       "      <td>NaN</td>\n",
       "    </tr>\n",
       "    <tr>\n",
       "      <td>10</td>\n",
       "      <td>Nintendogs</td>\n",
       "      <td>DS</td>\n",
       "      <td>2,005.00</td>\n",
       "      <td>Simulation</td>\n",
       "      <td>9.05</td>\n",
       "      <td>10.95</td>\n",
       "      <td>1.93</td>\n",
       "      <td>2.74</td>\n",
       "      <td>nan</td>\n",
       "      <td>NaN</td>\n",
       "      <td>NaN</td>\n",
       "    </tr>\n",
       "    <tr>\n",
       "      <td>11</td>\n",
       "      <td>Mario Kart DS</td>\n",
       "      <td>DS</td>\n",
       "      <td>2,005.00</td>\n",
       "      <td>Racing</td>\n",
       "      <td>9.71</td>\n",
       "      <td>7.47</td>\n",
       "      <td>4.13</td>\n",
       "      <td>1.90</td>\n",
       "      <td>91.00</td>\n",
       "      <td>8.6</td>\n",
       "      <td>E</td>\n",
       "    </tr>\n",
       "    <tr>\n",
       "      <td>12</td>\n",
       "      <td>Pokemon Gold/Pokemon Silver</td>\n",
       "      <td>GB</td>\n",
       "      <td>1,999.00</td>\n",
       "      <td>Role-Playing</td>\n",
       "      <td>9.00</td>\n",
       "      <td>6.18</td>\n",
       "      <td>7.20</td>\n",
       "      <td>0.71</td>\n",
       "      <td>nan</td>\n",
       "      <td>NaN</td>\n",
       "      <td>NaN</td>\n",
       "    </tr>\n",
       "    <tr>\n",
       "      <td>13</td>\n",
       "      <td>Wii Fit</td>\n",
       "      <td>Wii</td>\n",
       "      <td>2,007.00</td>\n",
       "      <td>Sports</td>\n",
       "      <td>8.92</td>\n",
       "      <td>8.03</td>\n",
       "      <td>3.60</td>\n",
       "      <td>2.15</td>\n",
       "      <td>80.00</td>\n",
       "      <td>7.7</td>\n",
       "      <td>E</td>\n",
       "    </tr>\n",
       "    <tr>\n",
       "      <td>14</td>\n",
       "      <td>Kinect Adventures!</td>\n",
       "      <td>X360</td>\n",
       "      <td>2,010.00</td>\n",
       "      <td>Misc</td>\n",
       "      <td>15.00</td>\n",
       "      <td>4.89</td>\n",
       "      <td>0.24</td>\n",
       "      <td>1.69</td>\n",
       "      <td>61.00</td>\n",
       "      <td>6.3</td>\n",
       "      <td>E</td>\n",
       "    </tr>\n",
       "    <tr>\n",
       "      <td>15</td>\n",
       "      <td>Wii Fit Plus</td>\n",
       "      <td>Wii</td>\n",
       "      <td>2,009.00</td>\n",
       "      <td>Sports</td>\n",
       "      <td>9.01</td>\n",
       "      <td>8.49</td>\n",
       "      <td>2.53</td>\n",
       "      <td>1.77</td>\n",
       "      <td>80.00</td>\n",
       "      <td>7.4</td>\n",
       "      <td>E</td>\n",
       "    </tr>\n",
       "    <tr>\n",
       "      <td>16</td>\n",
       "      <td>Grand Theft Auto V</td>\n",
       "      <td>PS3</td>\n",
       "      <td>2,013.00</td>\n",
       "      <td>Action</td>\n",
       "      <td>7.02</td>\n",
       "      <td>9.09</td>\n",
       "      <td>0.98</td>\n",
       "      <td>3.96</td>\n",
       "      <td>97.00</td>\n",
       "      <td>8.2</td>\n",
       "      <td>M</td>\n",
       "    </tr>\n",
       "    <tr>\n",
       "      <td>17</td>\n",
       "      <td>Grand Theft Auto: San Andreas</td>\n",
       "      <td>PS2</td>\n",
       "      <td>2,004.00</td>\n",
       "      <td>Action</td>\n",
       "      <td>9.43</td>\n",
       "      <td>0.40</td>\n",
       "      <td>0.41</td>\n",
       "      <td>10.57</td>\n",
       "      <td>95.00</td>\n",
       "      <td>9</td>\n",
       "      <td>M</td>\n",
       "    </tr>\n",
       "    <tr>\n",
       "      <td>18</td>\n",
       "      <td>Super Mario World</td>\n",
       "      <td>SNES</td>\n",
       "      <td>1,990.00</td>\n",
       "      <td>Platform</td>\n",
       "      <td>12.78</td>\n",
       "      <td>3.75</td>\n",
       "      <td>3.54</td>\n",
       "      <td>0.55</td>\n",
       "      <td>nan</td>\n",
       "      <td>NaN</td>\n",
       "      <td>NaN</td>\n",
       "    </tr>\n",
       "    <tr>\n",
       "      <td>19</td>\n",
       "      <td>Brain Age: Train Your Brain in Minutes a Day</td>\n",
       "      <td>DS</td>\n",
       "      <td>2,005.00</td>\n",
       "      <td>Misc</td>\n",
       "      <td>4.74</td>\n",
       "      <td>9.20</td>\n",
       "      <td>4.16</td>\n",
       "      <td>2.04</td>\n",
       "      <td>77.00</td>\n",
       "      <td>7.9</td>\n",
       "      <td>E</td>\n",
       "    </tr>\n",
       "    <tr>\n",
       "      <td>20</td>\n",
       "      <td>Pokemon Diamond/Pokemon Pearl</td>\n",
       "      <td>DS</td>\n",
       "      <td>2,006.00</td>\n",
       "      <td>Role-Playing</td>\n",
       "      <td>6.38</td>\n",
       "      <td>4.46</td>\n",
       "      <td>6.04</td>\n",
       "      <td>1.36</td>\n",
       "      <td>nan</td>\n",
       "      <td>NaN</td>\n",
       "      <td>NaN</td>\n",
       "    </tr>\n",
       "    <tr>\n",
       "      <td>21</td>\n",
       "      <td>Super Mario Land</td>\n",
       "      <td>GB</td>\n",
       "      <td>1,989.00</td>\n",
       "      <td>Platform</td>\n",
       "      <td>10.83</td>\n",
       "      <td>2.71</td>\n",
       "      <td>4.18</td>\n",
       "      <td>0.42</td>\n",
       "      <td>nan</td>\n",
       "      <td>NaN</td>\n",
       "      <td>NaN</td>\n",
       "    </tr>\n",
       "    <tr>\n",
       "      <td>22</td>\n",
       "      <td>Super Mario Bros. 3</td>\n",
       "      <td>NES</td>\n",
       "      <td>1,988.00</td>\n",
       "      <td>Platform</td>\n",
       "      <td>9.54</td>\n",
       "      <td>3.44</td>\n",
       "      <td>3.84</td>\n",
       "      <td>0.46</td>\n",
       "      <td>nan</td>\n",
       "      <td>NaN</td>\n",
       "      <td>NaN</td>\n",
       "    </tr>\n",
       "    <tr>\n",
       "      <td>23</td>\n",
       "      <td>Grand Theft Auto V</td>\n",
       "      <td>X360</td>\n",
       "      <td>2,013.00</td>\n",
       "      <td>Action</td>\n",
       "      <td>9.66</td>\n",
       "      <td>5.14</td>\n",
       "      <td>0.06</td>\n",
       "      <td>1.41</td>\n",
       "      <td>97.00</td>\n",
       "      <td>8.1</td>\n",
       "      <td>M</td>\n",
       "    </tr>\n",
       "    <tr>\n",
       "      <td>24</td>\n",
       "      <td>Grand Theft Auto: Vice City</td>\n",
       "      <td>PS2</td>\n",
       "      <td>2,002.00</td>\n",
       "      <td>Action</td>\n",
       "      <td>8.41</td>\n",
       "      <td>5.49</td>\n",
       "      <td>0.47</td>\n",
       "      <td>1.78</td>\n",
       "      <td>95.00</td>\n",
       "      <td>8.7</td>\n",
       "      <td>M</td>\n",
       "    </tr>\n",
       "    <tr>\n",
       "      <td>25</td>\n",
       "      <td>Pokemon Ruby/Pokemon Sapphire</td>\n",
       "      <td>GBA</td>\n",
       "      <td>2,002.00</td>\n",
       "      <td>Role-Playing</td>\n",
       "      <td>6.06</td>\n",
       "      <td>3.90</td>\n",
       "      <td>5.38</td>\n",
       "      <td>0.50</td>\n",
       "      <td>nan</td>\n",
       "      <td>NaN</td>\n",
       "      <td>NaN</td>\n",
       "    </tr>\n",
       "    <tr>\n",
       "      <td>26</td>\n",
       "      <td>Brain Age 2: More Training in Minutes a Day</td>\n",
       "      <td>DS</td>\n",
       "      <td>2,005.00</td>\n",
       "      <td>Puzzle</td>\n",
       "      <td>3.43</td>\n",
       "      <td>5.35</td>\n",
       "      <td>5.32</td>\n",
       "      <td>1.18</td>\n",
       "      <td>77.00</td>\n",
       "      <td>7.1</td>\n",
       "      <td>E</td>\n",
       "    </tr>\n",
       "    <tr>\n",
       "      <td>27</td>\n",
       "      <td>Pokemon Black/Pokemon White</td>\n",
       "      <td>DS</td>\n",
       "      <td>2,010.00</td>\n",
       "      <td>Role-Playing</td>\n",
       "      <td>5.51</td>\n",
       "      <td>3.17</td>\n",
       "      <td>5.65</td>\n",
       "      <td>0.80</td>\n",
       "      <td>nan</td>\n",
       "      <td>NaN</td>\n",
       "      <td>NaN</td>\n",
       "    </tr>\n",
       "    <tr>\n",
       "      <td>28</td>\n",
       "      <td>Gran Turismo 3: A-Spec</td>\n",
       "      <td>PS2</td>\n",
       "      <td>2,001.00</td>\n",
       "      <td>Racing</td>\n",
       "      <td>6.85</td>\n",
       "      <td>5.09</td>\n",
       "      <td>1.87</td>\n",
       "      <td>1.16</td>\n",
       "      <td>95.00</td>\n",
       "      <td>8.4</td>\n",
       "      <td>E</td>\n",
       "    </tr>\n",
       "    <tr>\n",
       "      <td>29</td>\n",
       "      <td>Call of Duty: Modern Warfare 3</td>\n",
       "      <td>X360</td>\n",
       "      <td>2,011.00</td>\n",
       "      <td>Shooter</td>\n",
       "      <td>9.04</td>\n",
       "      <td>4.24</td>\n",
       "      <td>0.13</td>\n",
       "      <td>1.32</td>\n",
       "      <td>88.00</td>\n",
       "      <td>3.4</td>\n",
       "      <td>M</td>\n",
       "    </tr>\n",
       "  </tbody>\n",
       "</table>\n",
       "</div>"
      ],
      "text/plain": [
       "                                            Name Platform  Year_of_Release  \\\n",
       "0                                     Wii Sports      Wii         2,006.00   \n",
       "1                              Super Mario Bros.      NES         1,985.00   \n",
       "2                                 Mario Kart Wii      Wii         2,008.00   \n",
       "3                              Wii Sports Resort      Wii         2,009.00   \n",
       "4                       Pokemon Red/Pokemon Blue       GB         1,996.00   \n",
       "5                                         Tetris       GB         1,989.00   \n",
       "6                          New Super Mario Bros.       DS         2,006.00   \n",
       "7                                       Wii Play      Wii         2,006.00   \n",
       "8                      New Super Mario Bros. Wii      Wii         2,009.00   \n",
       "9                                      Duck Hunt      NES         1,984.00   \n",
       "10                                    Nintendogs       DS         2,005.00   \n",
       "11                                 Mario Kart DS       DS         2,005.00   \n",
       "12                   Pokemon Gold/Pokemon Silver       GB         1,999.00   \n",
       "13                                       Wii Fit      Wii         2,007.00   \n",
       "14                            Kinect Adventures!     X360         2,010.00   \n",
       "15                                  Wii Fit Plus      Wii         2,009.00   \n",
       "16                            Grand Theft Auto V      PS3         2,013.00   \n",
       "17                 Grand Theft Auto: San Andreas      PS2         2,004.00   \n",
       "18                             Super Mario World     SNES         1,990.00   \n",
       "19  Brain Age: Train Your Brain in Minutes a Day       DS         2,005.00   \n",
       "20                 Pokemon Diamond/Pokemon Pearl       DS         2,006.00   \n",
       "21                              Super Mario Land       GB         1,989.00   \n",
       "22                           Super Mario Bros. 3      NES         1,988.00   \n",
       "23                            Grand Theft Auto V     X360         2,013.00   \n",
       "24                   Grand Theft Auto: Vice City      PS2         2,002.00   \n",
       "25                 Pokemon Ruby/Pokemon Sapphire      GBA         2,002.00   \n",
       "26   Brain Age 2: More Training in Minutes a Day       DS         2,005.00   \n",
       "27                   Pokemon Black/Pokemon White       DS         2,010.00   \n",
       "28                        Gran Turismo 3: A-Spec      PS2         2,001.00   \n",
       "29                Call of Duty: Modern Warfare 3     X360         2,011.00   \n",
       "\n",
       "           Genre  NA_sales  EU_sales  JP_sales  Other_sales  Critic_Score  \\\n",
       "0         Sports     41.36     28.96      3.77         8.45         76.00   \n",
       "1       Platform     29.08      3.58      6.81         0.77           nan   \n",
       "2         Racing     15.68     12.76      3.79         3.29         82.00   \n",
       "3         Sports     15.61     10.93      3.28         2.95         80.00   \n",
       "4   Role-Playing     11.27      8.89     10.22         1.00           nan   \n",
       "5         Puzzle     23.20      2.26      4.22         0.58           nan   \n",
       "6       Platform     11.28      9.14      6.50         2.88         89.00   \n",
       "7           Misc     13.96      9.18      2.93         2.84         58.00   \n",
       "8       Platform     14.44      6.94      4.70         2.24         87.00   \n",
       "9        Shooter     26.93      0.63      0.28         0.47           nan   \n",
       "10    Simulation      9.05     10.95      1.93         2.74           nan   \n",
       "11        Racing      9.71      7.47      4.13         1.90         91.00   \n",
       "12  Role-Playing      9.00      6.18      7.20         0.71           nan   \n",
       "13        Sports      8.92      8.03      3.60         2.15         80.00   \n",
       "14          Misc     15.00      4.89      0.24         1.69         61.00   \n",
       "15        Sports      9.01      8.49      2.53         1.77         80.00   \n",
       "16        Action      7.02      9.09      0.98         3.96         97.00   \n",
       "17        Action      9.43      0.40      0.41        10.57         95.00   \n",
       "18      Platform     12.78      3.75      3.54         0.55           nan   \n",
       "19          Misc      4.74      9.20      4.16         2.04         77.00   \n",
       "20  Role-Playing      6.38      4.46      6.04         1.36           nan   \n",
       "21      Platform     10.83      2.71      4.18         0.42           nan   \n",
       "22      Platform      9.54      3.44      3.84         0.46           nan   \n",
       "23        Action      9.66      5.14      0.06         1.41         97.00   \n",
       "24        Action      8.41      5.49      0.47         1.78         95.00   \n",
       "25  Role-Playing      6.06      3.90      5.38         0.50           nan   \n",
       "26        Puzzle      3.43      5.35      5.32         1.18         77.00   \n",
       "27  Role-Playing      5.51      3.17      5.65         0.80           nan   \n",
       "28        Racing      6.85      5.09      1.87         1.16         95.00   \n",
       "29       Shooter      9.04      4.24      0.13         1.32         88.00   \n",
       "\n",
       "   User_Score Rating  \n",
       "0           8      E  \n",
       "1         NaN    NaN  \n",
       "2         8.3      E  \n",
       "3           8      E  \n",
       "4         NaN    NaN  \n",
       "5         NaN    NaN  \n",
       "6         8.5      E  \n",
       "7         6.6      E  \n",
       "8         8.4      E  \n",
       "9         NaN    NaN  \n",
       "10        NaN    NaN  \n",
       "11        8.6      E  \n",
       "12        NaN    NaN  \n",
       "13        7.7      E  \n",
       "14        6.3      E  \n",
       "15        7.4      E  \n",
       "16        8.2      M  \n",
       "17          9      M  \n",
       "18        NaN    NaN  \n",
       "19        7.9      E  \n",
       "20        NaN    NaN  \n",
       "21        NaN    NaN  \n",
       "22        NaN    NaN  \n",
       "23        8.1      M  \n",
       "24        8.7      M  \n",
       "25        NaN    NaN  \n",
       "26        7.1      E  \n",
       "27        NaN    NaN  \n",
       "28        8.4      E  \n",
       "29        3.4      M  "
      ]
     },
     "execution_count": 1,
     "metadata": {},
     "output_type": "execute_result"
    }
   ],
   "source": [
    "import pandas as pd\n",
    "import numpy as np\n",
    "import matplotlib.pyplot as plt\n",
    "import seaborn as sns\n",
    "pd.set_option('display.float_format', '{:,.2f}'.format)\n",
    "\n",
    "df = pd.read_csv('/datasets/games.csv')\n",
    "df.head(30)"
   ]
  },
  {
   "cell_type": "markdown",
   "metadata": {},
   "source": [
    "### Выведем основную информацию на экран"
   ]
  },
  {
   "cell_type": "code",
   "execution_count": 2,
   "metadata": {},
   "outputs": [
    {
     "name": "stdout",
     "output_type": "stream",
     "text": [
      "<class 'pandas.core.frame.DataFrame'>\n",
      "RangeIndex: 16715 entries, 0 to 16714\n",
      "Data columns (total 11 columns):\n",
      "Name               16713 non-null object\n",
      "Platform           16715 non-null object\n",
      "Year_of_Release    16446 non-null float64\n",
      "Genre              16713 non-null object\n",
      "NA_sales           16715 non-null float64\n",
      "EU_sales           16715 non-null float64\n",
      "JP_sales           16715 non-null float64\n",
      "Other_sales        16715 non-null float64\n",
      "Critic_Score       8137 non-null float64\n",
      "User_Score         10014 non-null object\n",
      "Rating             9949 non-null object\n",
      "dtypes: float64(6), object(5)\n",
      "memory usage: 1.4+ MB\n"
     ]
    },
    {
     "data": {
      "text/html": [
       "<div>\n",
       "<style scoped>\n",
       "    .dataframe tbody tr th:only-of-type {\n",
       "        vertical-align: middle;\n",
       "    }\n",
       "\n",
       "    .dataframe tbody tr th {\n",
       "        vertical-align: top;\n",
       "    }\n",
       "\n",
       "    .dataframe thead th {\n",
       "        text-align: right;\n",
       "    }\n",
       "</style>\n",
       "<table border=\"1\" class=\"dataframe\">\n",
       "  <thead>\n",
       "    <tr style=\"text-align: right;\">\n",
       "      <th></th>\n",
       "      <th>Year_of_Release</th>\n",
       "      <th>NA_sales</th>\n",
       "      <th>EU_sales</th>\n",
       "      <th>JP_sales</th>\n",
       "      <th>Other_sales</th>\n",
       "      <th>Critic_Score</th>\n",
       "    </tr>\n",
       "  </thead>\n",
       "  <tbody>\n",
       "    <tr>\n",
       "      <td>count</td>\n",
       "      <td>16,446.00</td>\n",
       "      <td>16,715.00</td>\n",
       "      <td>16,715.00</td>\n",
       "      <td>16,715.00</td>\n",
       "      <td>16,715.00</td>\n",
       "      <td>8,137.00</td>\n",
       "    </tr>\n",
       "    <tr>\n",
       "      <td>mean</td>\n",
       "      <td>2,006.48</td>\n",
       "      <td>0.26</td>\n",
       "      <td>0.15</td>\n",
       "      <td>0.08</td>\n",
       "      <td>0.05</td>\n",
       "      <td>68.97</td>\n",
       "    </tr>\n",
       "    <tr>\n",
       "      <td>std</td>\n",
       "      <td>5.88</td>\n",
       "      <td>0.81</td>\n",
       "      <td>0.50</td>\n",
       "      <td>0.31</td>\n",
       "      <td>0.19</td>\n",
       "      <td>13.94</td>\n",
       "    </tr>\n",
       "    <tr>\n",
       "      <td>min</td>\n",
       "      <td>1,980.00</td>\n",
       "      <td>0.00</td>\n",
       "      <td>0.00</td>\n",
       "      <td>0.00</td>\n",
       "      <td>0.00</td>\n",
       "      <td>13.00</td>\n",
       "    </tr>\n",
       "    <tr>\n",
       "      <td>25%</td>\n",
       "      <td>2,003.00</td>\n",
       "      <td>0.00</td>\n",
       "      <td>0.00</td>\n",
       "      <td>0.00</td>\n",
       "      <td>0.00</td>\n",
       "      <td>60.00</td>\n",
       "    </tr>\n",
       "    <tr>\n",
       "      <td>50%</td>\n",
       "      <td>2,007.00</td>\n",
       "      <td>0.08</td>\n",
       "      <td>0.02</td>\n",
       "      <td>0.00</td>\n",
       "      <td>0.01</td>\n",
       "      <td>71.00</td>\n",
       "    </tr>\n",
       "    <tr>\n",
       "      <td>75%</td>\n",
       "      <td>2,010.00</td>\n",
       "      <td>0.24</td>\n",
       "      <td>0.11</td>\n",
       "      <td>0.04</td>\n",
       "      <td>0.03</td>\n",
       "      <td>79.00</td>\n",
       "    </tr>\n",
       "    <tr>\n",
       "      <td>max</td>\n",
       "      <td>2,016.00</td>\n",
       "      <td>41.36</td>\n",
       "      <td>28.96</td>\n",
       "      <td>10.22</td>\n",
       "      <td>10.57</td>\n",
       "      <td>98.00</td>\n",
       "    </tr>\n",
       "  </tbody>\n",
       "</table>\n",
       "</div>"
      ],
      "text/plain": [
       "       Year_of_Release  NA_sales  EU_sales  JP_sales  Other_sales  \\\n",
       "count        16,446.00 16,715.00 16,715.00 16,715.00    16,715.00   \n",
       "mean          2,006.48      0.26      0.15      0.08         0.05   \n",
       "std               5.88      0.81      0.50      0.31         0.19   \n",
       "min           1,980.00      0.00      0.00      0.00         0.00   \n",
       "25%           2,003.00      0.00      0.00      0.00         0.00   \n",
       "50%           2,007.00      0.08      0.02      0.00         0.01   \n",
       "75%           2,010.00      0.24      0.11      0.04         0.03   \n",
       "max           2,016.00     41.36     28.96     10.22        10.57   \n",
       "\n",
       "       Critic_Score  \n",
       "count      8,137.00  \n",
       "mean          68.97  \n",
       "std           13.94  \n",
       "min           13.00  \n",
       "25%           60.00  \n",
       "50%           71.00  \n",
       "75%           79.00  \n",
       "max           98.00  "
      ]
     },
     "execution_count": 2,
     "metadata": {},
     "output_type": "execute_result"
    }
   ],
   "source": [
    "df.info()\n",
    "df.describe()"
   ]
  },
  {
   "cell_type": "markdown",
   "metadata": {},
   "source": [
    "### Выводы"
   ]
  },
  {
   "cell_type": "markdown",
   "metadata": {},
   "source": [
    "Сразу же выделяются следующие проблемы:\n",
    "\n",
    "- названия столбцов содержат буквы как верхнего так и нижнего регистра\n",
    "- в столбцах Year_of_Release и User_Score надо поменять тип данных\n",
    "- есть колонки с пропусками - Critic_Score, User_Score, Rating"
   ]
  },
  {
   "cell_type": "markdown",
   "metadata": {},
   "source": [
    "## Предобработка данных"
   ]
  },
  {
   "cell_type": "markdown",
   "metadata": {},
   "source": [
    "### Замена названий столбцов"
   ]
  },
  {
   "cell_type": "code",
   "execution_count": 3,
   "metadata": {},
   "outputs": [
    {
     "data": {
      "text/html": [
       "<div>\n",
       "<style scoped>\n",
       "    .dataframe tbody tr th:only-of-type {\n",
       "        vertical-align: middle;\n",
       "    }\n",
       "\n",
       "    .dataframe tbody tr th {\n",
       "        vertical-align: top;\n",
       "    }\n",
       "\n",
       "    .dataframe thead th {\n",
       "        text-align: right;\n",
       "    }\n",
       "</style>\n",
       "<table border=\"1\" class=\"dataframe\">\n",
       "  <thead>\n",
       "    <tr style=\"text-align: right;\">\n",
       "      <th></th>\n",
       "      <th>name</th>\n",
       "      <th>platform</th>\n",
       "      <th>year_of_release</th>\n",
       "      <th>genre</th>\n",
       "      <th>na_sales</th>\n",
       "      <th>eu_sales</th>\n",
       "      <th>jp_sales</th>\n",
       "      <th>other_sales</th>\n",
       "      <th>critic_score</th>\n",
       "      <th>user_score</th>\n",
       "      <th>rating</th>\n",
       "    </tr>\n",
       "  </thead>\n",
       "  <tbody>\n",
       "    <tr>\n",
       "      <td>0</td>\n",
       "      <td>Wii Sports</td>\n",
       "      <td>Wii</td>\n",
       "      <td>2,006.00</td>\n",
       "      <td>Sports</td>\n",
       "      <td>41.36</td>\n",
       "      <td>28.96</td>\n",
       "      <td>3.77</td>\n",
       "      <td>8.45</td>\n",
       "      <td>76.00</td>\n",
       "      <td>8</td>\n",
       "      <td>E</td>\n",
       "    </tr>\n",
       "    <tr>\n",
       "      <td>1</td>\n",
       "      <td>Super Mario Bros.</td>\n",
       "      <td>NES</td>\n",
       "      <td>1,985.00</td>\n",
       "      <td>Platform</td>\n",
       "      <td>29.08</td>\n",
       "      <td>3.58</td>\n",
       "      <td>6.81</td>\n",
       "      <td>0.77</td>\n",
       "      <td>nan</td>\n",
       "      <td>NaN</td>\n",
       "      <td>NaN</td>\n",
       "    </tr>\n",
       "    <tr>\n",
       "      <td>2</td>\n",
       "      <td>Mario Kart Wii</td>\n",
       "      <td>Wii</td>\n",
       "      <td>2,008.00</td>\n",
       "      <td>Racing</td>\n",
       "      <td>15.68</td>\n",
       "      <td>12.76</td>\n",
       "      <td>3.79</td>\n",
       "      <td>3.29</td>\n",
       "      <td>82.00</td>\n",
       "      <td>8.3</td>\n",
       "      <td>E</td>\n",
       "    </tr>\n",
       "    <tr>\n",
       "      <td>3</td>\n",
       "      <td>Wii Sports Resort</td>\n",
       "      <td>Wii</td>\n",
       "      <td>2,009.00</td>\n",
       "      <td>Sports</td>\n",
       "      <td>15.61</td>\n",
       "      <td>10.93</td>\n",
       "      <td>3.28</td>\n",
       "      <td>2.95</td>\n",
       "      <td>80.00</td>\n",
       "      <td>8</td>\n",
       "      <td>E</td>\n",
       "    </tr>\n",
       "    <tr>\n",
       "      <td>4</td>\n",
       "      <td>Pokemon Red/Pokemon Blue</td>\n",
       "      <td>GB</td>\n",
       "      <td>1,996.00</td>\n",
       "      <td>Role-Playing</td>\n",
       "      <td>11.27</td>\n",
       "      <td>8.89</td>\n",
       "      <td>10.22</td>\n",
       "      <td>1.00</td>\n",
       "      <td>nan</td>\n",
       "      <td>NaN</td>\n",
       "      <td>NaN</td>\n",
       "    </tr>\n",
       "  </tbody>\n",
       "</table>\n",
       "</div>"
      ],
      "text/plain": [
       "                       name platform  year_of_release         genre  na_sales  \\\n",
       "0                Wii Sports      Wii         2,006.00        Sports     41.36   \n",
       "1         Super Mario Bros.      NES         1,985.00      Platform     29.08   \n",
       "2            Mario Kart Wii      Wii         2,008.00        Racing     15.68   \n",
       "3         Wii Sports Resort      Wii         2,009.00        Sports     15.61   \n",
       "4  Pokemon Red/Pokemon Blue       GB         1,996.00  Role-Playing     11.27   \n",
       "\n",
       "   eu_sales  jp_sales  other_sales  critic_score user_score rating  \n",
       "0     28.96      3.77         8.45         76.00          8      E  \n",
       "1      3.58      6.81         0.77           nan        NaN    NaN  \n",
       "2     12.76      3.79         3.29         82.00        8.3      E  \n",
       "3     10.93      3.28         2.95         80.00          8      E  \n",
       "4      8.89     10.22         1.00           nan        NaN    NaN  "
      ]
     },
     "execution_count": 3,
     "metadata": {},
     "output_type": "execute_result"
    }
   ],
   "source": [
    "df.rename(columns={'Name':'name',\n",
    "           'Platform':'platform',\n",
    "           'Year_of_Release':'year_of_release',\n",
    "           'Genre':'genre','NA_sales':'na_sales',\n",
    "           'EU_sales':'eu_sales','JP_sales':'jp_sales',\n",
    "           'Other_sales':'other_sales','Critic_Score':'critic_score',\n",
    "           'User_Score':'user_score','Rating':'rating'\n",
    "           },inplace=True)\n",
    "\n",
    "df.head()"
   ]
  },
  {
   "cell_type": "markdown",
   "metadata": {},
   "source": [
    "### Замена типа данных"
   ]
  },
  {
   "cell_type": "code",
   "execution_count": 4,
   "metadata": {},
   "outputs": [
    {
     "data": {
      "text/plain": [
       "Int64Dtype()"
      ]
     },
     "execution_count": 4,
     "metadata": {},
     "output_type": "execute_result"
    }
   ],
   "source": [
    "df['year_of_release'] = df['year_of_release'].astype('Int64') #меняем тип на целочисленный\n",
    "df['year_of_release'].dtype"
   ]
  },
  {
   "cell_type": "markdown",
   "metadata": {},
   "source": [
    "- Здесь сразу упомяну про TBD, которая расшифровывается как \"To Be Determined\", т.е. \"Будет определено\". В данном случае я буду воспринимать такие значения как пропуски и заменю их на NaN"
   ]
  },
  {
   "cell_type": "code",
   "execution_count": 5,
   "metadata": {},
   "outputs": [],
   "source": [
    "for item in df['user_score']:\n",
    "    if item == 'tbd':\n",
    "        df.loc[df['user_score']=='tbd', 'user_score'] = np.nan"
   ]
  },
  {
   "cell_type": "code",
   "execution_count": 6,
   "metadata": {},
   "outputs": [],
   "source": [
    "df['user_score'] = pd.to_numeric(df['user_score'])#меняем с object на float64"
   ]
  },
  {
   "cell_type": "markdown",
   "metadata": {},
   "source": [
    "### Обработка пропусков"
   ]
  },
  {
   "cell_type": "code",
   "execution_count": 7,
   "metadata": {},
   "outputs": [
    {
     "data": {
      "text/plain": [
       "name                  2\n",
       "platform              0\n",
       "year_of_release     269\n",
       "genre                 2\n",
       "na_sales              0\n",
       "eu_sales              0\n",
       "jp_sales              0\n",
       "other_sales           0\n",
       "critic_score       8578\n",
       "user_score         9125\n",
       "rating             6766\n",
       "dtype: int64"
      ]
     },
     "execution_count": 7,
     "metadata": {},
     "output_type": "execute_result"
    }
   ],
   "source": [
    "df.isna().sum()"
   ]
  },
  {
   "cell_type": "markdown",
   "metadata": {},
   "source": [
    "- В жанрах, названии и году процент пропусков небольшой, поэтому можно просто удалить строчки с помощью dropna"
   ]
  },
  {
   "cell_type": "code",
   "execution_count": 8,
   "metadata": {},
   "outputs": [],
   "source": [
    "df.dropna(subset = ['name' ], inplace= True)\n",
    "df.dropna(subset = ['genre'], inplace= True)\n",
    "df.dropna(subset = ['year_of_release'], inplace= True)\n",
    "df = df.reset_index(drop=True)"
   ]
  },
  {
   "cell_type": "markdown",
   "metadata": {},
   "source": [
    "- Пропуски в колонке рейтинг заменю на значение \"не определено\"(Про рейтинги ESRB читала <a href=\"https://ru.wikipedia.org/wiki/Entertainment_Software_Rating_Board\">тут</a>)"
   ]
  },
  {
   "cell_type": "code",
   "execution_count": 9,
   "metadata": {},
   "outputs": [
    {
     "name": "stdout",
     "output_type": "stream",
     "text": [
      "Пропуски до в rating: 6676\n",
      "Пропуски после: 0\n"
     ]
    },
    {
     "data": {
      "text/plain": [
       "not_defined    6676\n",
       "E              3921\n",
       "T              2905\n",
       "M              1536\n",
       "E10+           1393\n",
       "EC                8\n",
       "K-A               3\n",
       "RP                1\n",
       "AO                1\n",
       "Name: rating, dtype: int64"
      ]
     },
     "execution_count": 9,
     "metadata": {},
     "output_type": "execute_result"
    }
   ],
   "source": [
    "print('Пропуски до в rating:',df['rating'].isna().sum())\n",
    "df['rating'] = df['rating'].fillna('not_defined')\n",
    "print('Пропуски после:',df['rating'].isna().sum())\n",
    "df['rating'].value_counts()"
   ]
  },
  {
   "cell_type": "code",
   "execution_count": 10,
   "metadata": {},
   "outputs": [
    {
     "data": {
      "text/plain": [
       "name                  0\n",
       "platform              0\n",
       "year_of_release       0\n",
       "genre                 0\n",
       "na_sales              0\n",
       "eu_sales              0\n",
       "jp_sales              0\n",
       "other_sales           0\n",
       "critic_score       8461\n",
       "user_score         8981\n",
       "rating                0\n",
       "dtype: int64"
      ]
     },
     "execution_count": 10,
     "metadata": {},
     "output_type": "execute_result"
    }
   ],
   "source": [
    "df.isna().sum()"
   ]
  },
  {
   "cell_type": "markdown",
   "metadata": {},
   "source": [
    "- Пропуски в score не обрабатываю, т.к. это в дальнейшем может исказить результаты"
   ]
  },
  {
   "cell_type": "markdown",
   "metadata": {},
   "source": [
    "### Подсчет суммарных продаж "
   ]
  },
  {
   "cell_type": "code",
   "execution_count": 11,
   "metadata": {},
   "outputs": [
    {
     "data": {
      "text/html": [
       "<div>\n",
       "<style scoped>\n",
       "    .dataframe tbody tr th:only-of-type {\n",
       "        vertical-align: middle;\n",
       "    }\n",
       "\n",
       "    .dataframe tbody tr th {\n",
       "        vertical-align: top;\n",
       "    }\n",
       "\n",
       "    .dataframe thead th {\n",
       "        text-align: right;\n",
       "    }\n",
       "</style>\n",
       "<table border=\"1\" class=\"dataframe\">\n",
       "  <thead>\n",
       "    <tr style=\"text-align: right;\">\n",
       "      <th></th>\n",
       "      <th>name</th>\n",
       "      <th>platform</th>\n",
       "      <th>year_of_release</th>\n",
       "      <th>genre</th>\n",
       "      <th>na_sales</th>\n",
       "      <th>eu_sales</th>\n",
       "      <th>jp_sales</th>\n",
       "      <th>other_sales</th>\n",
       "      <th>critic_score</th>\n",
       "      <th>user_score</th>\n",
       "      <th>rating</th>\n",
       "      <th>total_sales</th>\n",
       "    </tr>\n",
       "  </thead>\n",
       "  <tbody>\n",
       "    <tr>\n",
       "      <td>0</td>\n",
       "      <td>Wii Sports</td>\n",
       "      <td>Wii</td>\n",
       "      <td>2006</td>\n",
       "      <td>Sports</td>\n",
       "      <td>41.36</td>\n",
       "      <td>28.96</td>\n",
       "      <td>3.77</td>\n",
       "      <td>8.45</td>\n",
       "      <td>76.00</td>\n",
       "      <td>8.00</td>\n",
       "      <td>E</td>\n",
       "      <td>82.54</td>\n",
       "    </tr>\n",
       "    <tr>\n",
       "      <td>1</td>\n",
       "      <td>Super Mario Bros.</td>\n",
       "      <td>NES</td>\n",
       "      <td>1985</td>\n",
       "      <td>Platform</td>\n",
       "      <td>29.08</td>\n",
       "      <td>3.58</td>\n",
       "      <td>6.81</td>\n",
       "      <td>0.77</td>\n",
       "      <td>nan</td>\n",
       "      <td>nan</td>\n",
       "      <td>not_defined</td>\n",
       "      <td>40.24</td>\n",
       "    </tr>\n",
       "    <tr>\n",
       "      <td>2</td>\n",
       "      <td>Mario Kart Wii</td>\n",
       "      <td>Wii</td>\n",
       "      <td>2008</td>\n",
       "      <td>Racing</td>\n",
       "      <td>15.68</td>\n",
       "      <td>12.76</td>\n",
       "      <td>3.79</td>\n",
       "      <td>3.29</td>\n",
       "      <td>82.00</td>\n",
       "      <td>8.30</td>\n",
       "      <td>E</td>\n",
       "      <td>35.52</td>\n",
       "    </tr>\n",
       "    <tr>\n",
       "      <td>3</td>\n",
       "      <td>Wii Sports Resort</td>\n",
       "      <td>Wii</td>\n",
       "      <td>2009</td>\n",
       "      <td>Sports</td>\n",
       "      <td>15.61</td>\n",
       "      <td>10.93</td>\n",
       "      <td>3.28</td>\n",
       "      <td>2.95</td>\n",
       "      <td>80.00</td>\n",
       "      <td>8.00</td>\n",
       "      <td>E</td>\n",
       "      <td>32.77</td>\n",
       "    </tr>\n",
       "    <tr>\n",
       "      <td>4</td>\n",
       "      <td>Pokemon Red/Pokemon Blue</td>\n",
       "      <td>GB</td>\n",
       "      <td>1996</td>\n",
       "      <td>Role-Playing</td>\n",
       "      <td>11.27</td>\n",
       "      <td>8.89</td>\n",
       "      <td>10.22</td>\n",
       "      <td>1.00</td>\n",
       "      <td>nan</td>\n",
       "      <td>nan</td>\n",
       "      <td>not_defined</td>\n",
       "      <td>31.38</td>\n",
       "    </tr>\n",
       "  </tbody>\n",
       "</table>\n",
       "</div>"
      ],
      "text/plain": [
       "                       name platform  year_of_release         genre  na_sales  \\\n",
       "0                Wii Sports      Wii             2006        Sports     41.36   \n",
       "1         Super Mario Bros.      NES             1985      Platform     29.08   \n",
       "2            Mario Kart Wii      Wii             2008        Racing     15.68   \n",
       "3         Wii Sports Resort      Wii             2009        Sports     15.61   \n",
       "4  Pokemon Red/Pokemon Blue       GB             1996  Role-Playing     11.27   \n",
       "\n",
       "   eu_sales  jp_sales  other_sales  critic_score  user_score       rating  \\\n",
       "0     28.96      3.77         8.45         76.00        8.00            E   \n",
       "1      3.58      6.81         0.77           nan         nan  not_defined   \n",
       "2     12.76      3.79         3.29         82.00        8.30            E   \n",
       "3     10.93      3.28         2.95         80.00        8.00            E   \n",
       "4      8.89     10.22         1.00           nan         nan  not_defined   \n",
       "\n",
       "   total_sales  \n",
       "0        82.54  \n",
       "1        40.24  \n",
       "2        35.52  \n",
       "3        32.77  \n",
       "4        31.38  "
      ]
     },
     "execution_count": 11,
     "metadata": {},
     "output_type": "execute_result"
    }
   ],
   "source": [
    "df['total_sales'] = df[['na_sales','eu_sales','jp_sales','other_sales']].sum(axis=1)  \n",
    "df.head()"
   ]
  },
  {
   "cell_type": "markdown",
   "metadata": {},
   "source": [
    " ## Исследовательский анализ данных"
   ]
  },
  {
   "cell_type": "markdown",
   "metadata": {},
   "source": [
    "### Сколько игр выпускалось в разные годы. Важны ли данные за все периоды?"
   ]
  },
  {
   "cell_type": "code",
   "execution_count": 12,
   "metadata": {
    "scrolled": false
   },
   "outputs": [
    {
     "data": {
      "text/html": [
       "<div>\n",
       "<style scoped>\n",
       "    .dataframe tbody tr th:only-of-type {\n",
       "        vertical-align: middle;\n",
       "    }\n",
       "\n",
       "    .dataframe tbody tr th {\n",
       "        vertical-align: top;\n",
       "    }\n",
       "\n",
       "    .dataframe thead th {\n",
       "        text-align: right;\n",
       "    }\n",
       "</style>\n",
       "<table border=\"1\" class=\"dataframe\">\n",
       "  <thead>\n",
       "    <tr style=\"text-align: right;\">\n",
       "      <th></th>\n",
       "      <th>year</th>\n",
       "      <th>amount</th>\n",
       "    </tr>\n",
       "  </thead>\n",
       "  <tbody>\n",
       "    <tr>\n",
       "      <td>0</td>\n",
       "      <td>1980</td>\n",
       "      <td>9</td>\n",
       "    </tr>\n",
       "    <tr>\n",
       "      <td>1</td>\n",
       "      <td>1981</td>\n",
       "      <td>46</td>\n",
       "    </tr>\n",
       "    <tr>\n",
       "      <td>2</td>\n",
       "      <td>1982</td>\n",
       "      <td>36</td>\n",
       "    </tr>\n",
       "    <tr>\n",
       "      <td>3</td>\n",
       "      <td>1983</td>\n",
       "      <td>17</td>\n",
       "    </tr>\n",
       "    <tr>\n",
       "      <td>4</td>\n",
       "      <td>1984</td>\n",
       "      <td>14</td>\n",
       "    </tr>\n",
       "    <tr>\n",
       "      <td>5</td>\n",
       "      <td>1985</td>\n",
       "      <td>14</td>\n",
       "    </tr>\n",
       "    <tr>\n",
       "      <td>6</td>\n",
       "      <td>1986</td>\n",
       "      <td>21</td>\n",
       "    </tr>\n",
       "    <tr>\n",
       "      <td>7</td>\n",
       "      <td>1987</td>\n",
       "      <td>16</td>\n",
       "    </tr>\n",
       "    <tr>\n",
       "      <td>8</td>\n",
       "      <td>1988</td>\n",
       "      <td>15</td>\n",
       "    </tr>\n",
       "    <tr>\n",
       "      <td>9</td>\n",
       "      <td>1989</td>\n",
       "      <td>17</td>\n",
       "    </tr>\n",
       "    <tr>\n",
       "      <td>10</td>\n",
       "      <td>1990</td>\n",
       "      <td>16</td>\n",
       "    </tr>\n",
       "    <tr>\n",
       "      <td>11</td>\n",
       "      <td>1991</td>\n",
       "      <td>41</td>\n",
       "    </tr>\n",
       "    <tr>\n",
       "      <td>12</td>\n",
       "      <td>1992</td>\n",
       "      <td>43</td>\n",
       "    </tr>\n",
       "    <tr>\n",
       "      <td>13</td>\n",
       "      <td>1993</td>\n",
       "      <td>60</td>\n",
       "    </tr>\n",
       "    <tr>\n",
       "      <td>14</td>\n",
       "      <td>1994</td>\n",
       "      <td>121</td>\n",
       "    </tr>\n",
       "    <tr>\n",
       "      <td>15</td>\n",
       "      <td>1995</td>\n",
       "      <td>219</td>\n",
       "    </tr>\n",
       "    <tr>\n",
       "      <td>16</td>\n",
       "      <td>1996</td>\n",
       "      <td>263</td>\n",
       "    </tr>\n",
       "    <tr>\n",
       "      <td>17</td>\n",
       "      <td>1997</td>\n",
       "      <td>289</td>\n",
       "    </tr>\n",
       "    <tr>\n",
       "      <td>18</td>\n",
       "      <td>1998</td>\n",
       "      <td>379</td>\n",
       "    </tr>\n",
       "    <tr>\n",
       "      <td>19</td>\n",
       "      <td>1999</td>\n",
       "      <td>338</td>\n",
       "    </tr>\n",
       "    <tr>\n",
       "      <td>20</td>\n",
       "      <td>2000</td>\n",
       "      <td>350</td>\n",
       "    </tr>\n",
       "    <tr>\n",
       "      <td>21</td>\n",
       "      <td>2001</td>\n",
       "      <td>482</td>\n",
       "    </tr>\n",
       "    <tr>\n",
       "      <td>22</td>\n",
       "      <td>2002</td>\n",
       "      <td>829</td>\n",
       "    </tr>\n",
       "    <tr>\n",
       "      <td>23</td>\n",
       "      <td>2003</td>\n",
       "      <td>775</td>\n",
       "    </tr>\n",
       "    <tr>\n",
       "      <td>24</td>\n",
       "      <td>2004</td>\n",
       "      <td>762</td>\n",
       "    </tr>\n",
       "    <tr>\n",
       "      <td>25</td>\n",
       "      <td>2005</td>\n",
       "      <td>939</td>\n",
       "    </tr>\n",
       "    <tr>\n",
       "      <td>26</td>\n",
       "      <td>2006</td>\n",
       "      <td>1006</td>\n",
       "    </tr>\n",
       "    <tr>\n",
       "      <td>27</td>\n",
       "      <td>2007</td>\n",
       "      <td>1197</td>\n",
       "    </tr>\n",
       "    <tr>\n",
       "      <td>28</td>\n",
       "      <td>2008</td>\n",
       "      <td>1427</td>\n",
       "    </tr>\n",
       "    <tr>\n",
       "      <td>29</td>\n",
       "      <td>2009</td>\n",
       "      <td>1426</td>\n",
       "    </tr>\n",
       "    <tr>\n",
       "      <td>30</td>\n",
       "      <td>2010</td>\n",
       "      <td>1255</td>\n",
       "    </tr>\n",
       "    <tr>\n",
       "      <td>31</td>\n",
       "      <td>2011</td>\n",
       "      <td>1136</td>\n",
       "    </tr>\n",
       "    <tr>\n",
       "      <td>32</td>\n",
       "      <td>2012</td>\n",
       "      <td>653</td>\n",
       "    </tr>\n",
       "    <tr>\n",
       "      <td>33</td>\n",
       "      <td>2013</td>\n",
       "      <td>544</td>\n",
       "    </tr>\n",
       "    <tr>\n",
       "      <td>34</td>\n",
       "      <td>2014</td>\n",
       "      <td>581</td>\n",
       "    </tr>\n",
       "    <tr>\n",
       "      <td>35</td>\n",
       "      <td>2015</td>\n",
       "      <td>606</td>\n",
       "    </tr>\n",
       "    <tr>\n",
       "      <td>36</td>\n",
       "      <td>2016</td>\n",
       "      <td>502</td>\n",
       "    </tr>\n",
       "  </tbody>\n",
       "</table>\n",
       "</div>"
      ],
      "text/plain": [
       "    year  amount\n",
       "0   1980       9\n",
       "1   1981      46\n",
       "2   1982      36\n",
       "3   1983      17\n",
       "4   1984      14\n",
       "5   1985      14\n",
       "6   1986      21\n",
       "7   1987      16\n",
       "8   1988      15\n",
       "9   1989      17\n",
       "10  1990      16\n",
       "11  1991      41\n",
       "12  1992      43\n",
       "13  1993      60\n",
       "14  1994     121\n",
       "15  1995     219\n",
       "16  1996     263\n",
       "17  1997     289\n",
       "18  1998     379\n",
       "19  1999     338\n",
       "20  2000     350\n",
       "21  2001     482\n",
       "22  2002     829\n",
       "23  2003     775\n",
       "24  2004     762\n",
       "25  2005     939\n",
       "26  2006    1006\n",
       "27  2007    1197\n",
       "28  2008    1427\n",
       "29  2009    1426\n",
       "30  2010    1255\n",
       "31  2011    1136\n",
       "32  2012     653\n",
       "33  2013     544\n",
       "34  2014     581\n",
       "35  2015     606\n",
       "36  2016     502"
      ]
     },
     "execution_count": 12,
     "metadata": {},
     "output_type": "execute_result"
    }
   ],
   "source": [
    "amount_of_games = df.groupby('year_of_release')['name'].count().reset_index()\n",
    "amount_of_games.columns = ['year', 'amount']\n",
    "amount_of_games"
   ]
  },
  {
   "cell_type": "code",
   "execution_count": 13,
   "metadata": {},
   "outputs": [
    {
     "data": {
      "image/png": "[encoded data removed]",
      "text/plain": [
       "<Figure size 1440x576 with 1 Axes>"
      ]
     },
     "metadata": {
      "needs_background": "light"
     },
     "output_type": "display_data"
    }
   ],
   "source": [
    "plt.figure(figsize=(20,8))\n",
    "plt.bar(amount_of_games['year'], amount_of_games['amount'], label='Выпусков игр за год', color='y', alpha=0.8, width=0.8)\n",
    "plt.xlabel('Год')\n",
    "plt.ylabel('Количество релизов')\n",
    "plt.grid()\n",
    "plt.show()\n"
   ]
  },
  {
   "cell_type": "markdown",
   "metadata": {},
   "source": [
    "#### Вывод"
   ]
  },
  {
   "cell_type": "markdown",
   "metadata": {},
   "source": [
    "- до 1994 года игры почти не выпускались, после этого с каждым годом количество выпускаемых игр всё росло вплоть до 2008 года --->2 года плато и спад до 2012 года, после чего количество выпусков примерно одинаковое каждый год"
   ]
  },
  {
   "cell_type": "markdown",
   "metadata": {},
   "source": [
    "### Посмотрите, как менялись продажи по платформам. Выберите платформы с наибольшими суммарными продажами и постройте распределение по годам. За какой характерный срок появляются новые и исчезают старые платформы?"
   ]
  },
  {
   "cell_type": "markdown",
   "metadata": {},
   "source": [
    "- Создадим сводную таблицу с группировкой по общему количеству продаж и по платформам, построим график и увидим топ платформ по продажам"
   ]
  },
  {
   "cell_type": "code",
   "execution_count": 14,
   "metadata": {},
   "outputs": [
    {
     "data": {
      "image/png": "[encoded data removed]",
      "text/plain": [
       "<Figure size 1080x360 with 1 Axes>"
      ]
     },
     "metadata": {
      "needs_background": "light"
     },
     "output_type": "display_data"
    }
   ],
   "source": [
    "sales = df.pivot_table(index='platform', values='total_sales', aggfunc='sum').sort_values(\n",
    "    by='total_sales', ascending=False)\n",
    "\n",
    "plt.figure(figsize=(15,5))\n",
    "sns.barplot(x=sales.index,y=sales['total_sales'])\n",
    "plt.title(\"Продажи за всё время\")\n",
    "plt.xlabel(\"Платформа\")\n",
    "plt.ylabel(\"Продано\")\n",
    "plt.show()"
   ]
  },
  {
   "cell_type": "code",
   "execution_count": 15,
   "metadata": {
    "scrolled": true
   },
   "outputs": [
    {
     "data": {
      "text/html": [
       "<div>\n",
       "<style scoped>\n",
       "    .dataframe tbody tr th:only-of-type {\n",
       "        vertical-align: middle;\n",
       "    }\n",
       "\n",
       "    .dataframe tbody tr th {\n",
       "        vertical-align: top;\n",
       "    }\n",
       "\n",
       "    .dataframe thead th {\n",
       "        text-align: right;\n",
       "    }\n",
       "</style>\n",
       "<table border=\"1\" class=\"dataframe\">\n",
       "  <thead>\n",
       "    <tr style=\"text-align: right;\">\n",
       "      <th></th>\n",
       "      <th>total_sales</th>\n",
       "    </tr>\n",
       "    <tr>\n",
       "      <th>platform</th>\n",
       "      <th></th>\n",
       "    </tr>\n",
       "  </thead>\n",
       "  <tbody>\n",
       "    <tr>\n",
       "      <td>PS2</td>\n",
       "      <td>1,233.56</td>\n",
       "    </tr>\n",
       "    <tr>\n",
       "      <td>X360</td>\n",
       "      <td>961.24</td>\n",
       "    </tr>\n",
       "    <tr>\n",
       "      <td>PS3</td>\n",
       "      <td>931.34</td>\n",
       "    </tr>\n",
       "    <tr>\n",
       "      <td>Wii</td>\n",
       "      <td>891.18</td>\n",
       "    </tr>\n",
       "    <tr>\n",
       "      <td>DS</td>\n",
       "      <td>802.78</td>\n",
       "    </tr>\n",
       "    <tr>\n",
       "      <td>PS</td>\n",
       "      <td>727.58</td>\n",
       "    </tr>\n",
       "    <tr>\n",
       "      <td>PS4</td>\n",
       "      <td>314.14</td>\n",
       "    </tr>\n",
       "    <tr>\n",
       "      <td>GBA</td>\n",
       "      <td>312.88</td>\n",
       "    </tr>\n",
       "    <tr>\n",
       "      <td>PSP</td>\n",
       "      <td>289.53</td>\n",
       "    </tr>\n",
       "    <tr>\n",
       "      <td>3DS</td>\n",
       "      <td>257.81</td>\n",
       "    </tr>\n",
       "    <tr>\n",
       "      <td>PC</td>\n",
       "      <td>255.76</td>\n",
       "    </tr>\n",
       "    <tr>\n",
       "      <td>GB</td>\n",
       "      <td>254.43</td>\n",
       "    </tr>\n",
       "    <tr>\n",
       "      <td>XB</td>\n",
       "      <td>251.57</td>\n",
       "    </tr>\n",
       "    <tr>\n",
       "      <td>NES</td>\n",
       "      <td>251.05</td>\n",
       "    </tr>\n",
       "    <tr>\n",
       "      <td>N64</td>\n",
       "      <td>218.01</td>\n",
       "    </tr>\n",
       "    <tr>\n",
       "      <td>SNES</td>\n",
       "      <td>200.04</td>\n",
       "    </tr>\n",
       "    <tr>\n",
       "      <td>GC</td>\n",
       "      <td>196.73</td>\n",
       "    </tr>\n",
       "    <tr>\n",
       "      <td>XOne</td>\n",
       "      <td>159.32</td>\n",
       "    </tr>\n",
       "    <tr>\n",
       "      <td>2600</td>\n",
       "      <td>86.48</td>\n",
       "    </tr>\n",
       "    <tr>\n",
       "      <td>WiiU</td>\n",
       "      <td>82.19</td>\n",
       "    </tr>\n",
       "    <tr>\n",
       "      <td>PSV</td>\n",
       "      <td>53.81</td>\n",
       "    </tr>\n",
       "    <tr>\n",
       "      <td>SAT</td>\n",
       "      <td>33.59</td>\n",
       "    </tr>\n",
       "    <tr>\n",
       "      <td>GEN</td>\n",
       "      <td>28.35</td>\n",
       "    </tr>\n",
       "    <tr>\n",
       "      <td>DC</td>\n",
       "      <td>15.95</td>\n",
       "    </tr>\n",
       "    <tr>\n",
       "      <td>SCD</td>\n",
       "      <td>1.86</td>\n",
       "    </tr>\n",
       "    <tr>\n",
       "      <td>NG</td>\n",
       "      <td>1.44</td>\n",
       "    </tr>\n",
       "    <tr>\n",
       "      <td>WS</td>\n",
       "      <td>1.42</td>\n",
       "    </tr>\n",
       "    <tr>\n",
       "      <td>TG16</td>\n",
       "      <td>0.16</td>\n",
       "    </tr>\n",
       "    <tr>\n",
       "      <td>3DO</td>\n",
       "      <td>0.10</td>\n",
       "    </tr>\n",
       "    <tr>\n",
       "      <td>GG</td>\n",
       "      <td>0.04</td>\n",
       "    </tr>\n",
       "    <tr>\n",
       "      <td>PCFX</td>\n",
       "      <td>0.03</td>\n",
       "    </tr>\n",
       "  </tbody>\n",
       "</table>\n",
       "</div>"
      ],
      "text/plain": [
       "          total_sales\n",
       "platform             \n",
       "PS2          1,233.56\n",
       "X360           961.24\n",
       "PS3            931.34\n",
       "Wii            891.18\n",
       "DS             802.78\n",
       "PS             727.58\n",
       "PS4            314.14\n",
       "GBA            312.88\n",
       "PSP            289.53\n",
       "3DS            257.81\n",
       "PC             255.76\n",
       "GB             254.43\n",
       "XB             251.57\n",
       "NES            251.05\n",
       "N64            218.01\n",
       "SNES           200.04\n",
       "GC             196.73\n",
       "XOne           159.32\n",
       "2600            86.48\n",
       "WiiU            82.19\n",
       "PSV             53.81\n",
       "SAT             33.59\n",
       "GEN             28.35\n",
       "DC              15.95\n",
       "SCD              1.86\n",
       "NG               1.44\n",
       "WS               1.42\n",
       "TG16             0.16\n",
       "3DO              0.10\n",
       "GG               0.04\n",
       "PCFX             0.03"
      ]
     },
     "execution_count": 15,
     "metadata": {},
     "output_type": "execute_result"
    }
   ],
   "source": [
    "sales"
   ]
  },
  {
   "cell_type": "markdown",
   "metadata": {},
   "source": [
    "- После я решила построить тепловую карту, по которой видно распределение "
   ]
  },
  {
   "cell_type": "code",
   "execution_count": 16,
   "metadata": {},
   "outputs": [
    {
     "data": {
      "image/png": "[encoded data removed]",
      "text/plain": [
       "<Figure size 1440x720 with 2 Axes>"
      ]
     },
     "metadata": {
      "needs_background": "light"
     },
     "output_type": "display_data"
    }
   ],
   "source": [
    "sales_by_platforms=df.pivot_table(index=\"platform\",columns='year_of_release',values='total_sales',aggfunc=('sum'))\n",
    "plt.figure(figsize=(20,10))\n",
    "sns.heatmap(sales_by_platforms)\n",
    "plt.show()"
   ]
  },
  {
   "cell_type": "code",
   "execution_count": 17,
   "metadata": {},
   "outputs": [
    {
     "data": {
      "image/png": "[encoded data removed]",
      "text/plain": [
       "<Figure size 1152x576 with 1 Axes>"
      ]
     },
     "metadata": {
      "needs_background": "light"
     },
     "output_type": "display_data"
    }
   ],
   "source": [
    "df.pivot_table(index = 'year_of_release', columns = 'platform', values = 'total_sales', aggfunc = 'sum' ).plot(figsize=(16,8))\n",
    "plt.show() #ну и просто график распределения, по которому мне хуже видно"
   ]
  },
  {
   "cell_type": "markdown",
   "metadata": {},
   "source": [
    "#### Вывод"
   ]
  },
  {
   "cell_type": "markdown",
   "metadata": {},
   "source": [
    "- Топ-6 платформ по продажам: PS2,X360,PS3,Wii,DS,PS(взяла 6, т.к. между 6 и 7 местом большой разрыв)  \n",
    "- Платформы появляются-исчезают в срок примерно 10-12 лет(пик продаж обычно посередине)\n",
    "+из того,что я еще увидела:  \n",
    "- PS2,PS3, PS4 выходят в момент, когда продажи на платформе старой версии идут на спад(или скорее наоборот,продажи падают из-за выхода новой версии)(+примерна такая же ситуация у x-box и нинтендо)\n",
    "- DC или Sega Dreamcast так и не реализовала себя, т.к. почти параллельно ей вышла PS2, все версии повлияли и на остальные платформы\n",
    "- DS, она же Nintendo DS перевыпускалась после первого провала, перезапуск вышел удачный\n",
    "- ну и последнее - PC как игровая платформа запускался очень медленно, с небольшим пиком но при этом \"жизнь\" пк как платформы для игр больше всех"
   ]
  },
  {
   "cell_type": "markdown",
   "metadata": {},
   "source": [
    "### Возьмите данные за соответствующий актуальный период. Актуальный период определите самостоятельно в результате исследования предыдущих вопросов. Основной фактор — эти данные помогут построить прогноз на 2017 год.Не учитывайте в работе данные за предыдущие годы. Какие платформы лидируют по продажам, растут или падают? Выберите несколько потенциально прибыльных платформ."
   ]
  },
  {
   "cell_type": "markdown",
   "metadata": {},
   "source": [
    "- Как я писала в выводе 3.1.1 - на графике выделяются 3 периода. Для исследования возмем последний период(когда количество выпускаемых игр в год стабилизировалось) с 2012 года + для прогноза на 2017 надо исключить платформы, переставшие существовать в этот период(PSP,DS)  \n",
    "- Сделаем срез по заданным условиям и построим график"
   ]
  },
  {
   "cell_type": "code",
   "execution_count": 18,
   "metadata": {},
   "outputs": [
    {
     "data": {
      "image/png": "[encoded data removed]",
      "text/plain": [
       "<Figure size 720x360 with 1 Axes>"
      ]
     },
     "metadata": {
      "needs_background": "light"
     },
     "output_type": "display_data"
    }
   ],
   "source": [
    "actual_df=df.query('year_of_release>=2012 and platform != (\"PSP\",\"DS\")')\n",
    "actual_df.groupby('platform')['total_sales'].sum().sort_values(ascending=False).plot(figsize=(10,5),kind=\"bar\")\n",
    "plt.show()"
   ]
  },
  {
   "cell_type": "markdown",
   "metadata": {},
   "source": [
    "- и еще одну тепловую карту по этому срезу"
   ]
  },
  {
   "cell_type": "code",
   "execution_count": 19,
   "metadata": {},
   "outputs": [
    {
     "data": {
      "image/png": "[encoded data removed]",
      "text/plain": [
       "<Figure size 1080x504 with 2 Axes>"
      ]
     },
     "metadata": {
      "needs_background": "light"
     },
     "output_type": "display_data"
    }
   ],
   "source": [
    "actual_platforms=['3DS','PS3','PS4','X360','XOne','WiiU','PC','PSV','Wii']\n",
    "actual_platform=sales_by_platforms.query('platform in @actual_platforms') \n",
    "plt.figure(figsize=(15,7))\n",
    "sns.heatmap(actual_platform)\n",
    "plt.show()"
   ]
  },
  {
   "cell_type": "markdown",
   "metadata": {},
   "source": [
    "#### Вывод"
   ]
  },
  {
   "cell_type": "markdown",
   "metadata": {},
   "source": [
    "За актульный период:  \n",
    "-3DS,PS3,PSV,WiiU,X360 идут на спад  \n",
    "-Потенциально прибыльные - PS4,XOne  \n",
    "-PC-бессмертна"
   ]
  },
  {
   "cell_type": "markdown",
   "metadata": {},
   "source": [
    "### Постройте график «ящик с усами» по глобальным продажам игр в разбивке по платформам. Опишите результат."
   ]
  },
  {
   "cell_type": "markdown",
   "metadata": {},
   "source": [
    "- Сделаем срез из датасета с условием, что нам нужны только актуальные платформы и информация за актуальный период"
   ]
  },
  {
   "cell_type": "code",
   "execution_count": 20,
   "metadata": {},
   "outputs": [
    {
     "data": {
      "text/html": [
       "<div>\n",
       "<style scoped>\n",
       "    .dataframe tbody tr th:only-of-type {\n",
       "        vertical-align: middle;\n",
       "    }\n",
       "\n",
       "    .dataframe tbody tr th {\n",
       "        vertical-align: top;\n",
       "    }\n",
       "\n",
       "    .dataframe thead th {\n",
       "        text-align: right;\n",
       "    }\n",
       "</style>\n",
       "<table border=\"1\" class=\"dataframe\">\n",
       "  <thead>\n",
       "    <tr style=\"text-align: right;\">\n",
       "      <th></th>\n",
       "      <th>name</th>\n",
       "      <th>platform</th>\n",
       "      <th>year_of_release</th>\n",
       "      <th>genre</th>\n",
       "      <th>na_sales</th>\n",
       "      <th>eu_sales</th>\n",
       "      <th>jp_sales</th>\n",
       "      <th>other_sales</th>\n",
       "      <th>critic_score</th>\n",
       "      <th>user_score</th>\n",
       "      <th>rating</th>\n",
       "      <th>total_sales</th>\n",
       "    </tr>\n",
       "  </thead>\n",
       "  <tbody>\n",
       "    <tr>\n",
       "      <td>16</td>\n",
       "      <td>Grand Theft Auto V</td>\n",
       "      <td>PS3</td>\n",
       "      <td>2013</td>\n",
       "      <td>Action</td>\n",
       "      <td>7.02</td>\n",
       "      <td>9.09</td>\n",
       "      <td>0.98</td>\n",
       "      <td>3.96</td>\n",
       "      <td>97.00</td>\n",
       "      <td>8.20</td>\n",
       "      <td>M</td>\n",
       "      <td>21.05</td>\n",
       "    </tr>\n",
       "    <tr>\n",
       "      <td>23</td>\n",
       "      <td>Grand Theft Auto V</td>\n",
       "      <td>X360</td>\n",
       "      <td>2013</td>\n",
       "      <td>Action</td>\n",
       "      <td>9.66</td>\n",
       "      <td>5.14</td>\n",
       "      <td>0.06</td>\n",
       "      <td>1.41</td>\n",
       "      <td>97.00</td>\n",
       "      <td>8.10</td>\n",
       "      <td>M</td>\n",
       "      <td>16.27</td>\n",
       "    </tr>\n",
       "    <tr>\n",
       "      <td>31</td>\n",
       "      <td>Call of Duty: Black Ops 3</td>\n",
       "      <td>PS4</td>\n",
       "      <td>2015</td>\n",
       "      <td>Shooter</td>\n",
       "      <td>6.03</td>\n",
       "      <td>5.86</td>\n",
       "      <td>0.36</td>\n",
       "      <td>2.38</td>\n",
       "      <td>nan</td>\n",
       "      <td>nan</td>\n",
       "      <td>not_defined</td>\n",
       "      <td>14.63</td>\n",
       "    </tr>\n",
       "    <tr>\n",
       "      <td>33</td>\n",
       "      <td>Pokemon X/Pokemon Y</td>\n",
       "      <td>3DS</td>\n",
       "      <td>2013</td>\n",
       "      <td>Role-Playing</td>\n",
       "      <td>5.28</td>\n",
       "      <td>4.19</td>\n",
       "      <td>4.35</td>\n",
       "      <td>0.78</td>\n",
       "      <td>nan</td>\n",
       "      <td>nan</td>\n",
       "      <td>not_defined</td>\n",
       "      <td>14.60</td>\n",
       "    </tr>\n",
       "    <tr>\n",
       "      <td>34</td>\n",
       "      <td>Call of Duty: Black Ops II</td>\n",
       "      <td>PS3</td>\n",
       "      <td>2012</td>\n",
       "      <td>Shooter</td>\n",
       "      <td>4.99</td>\n",
       "      <td>5.73</td>\n",
       "      <td>0.65</td>\n",
       "      <td>2.42</td>\n",
       "      <td>83.00</td>\n",
       "      <td>5.30</td>\n",
       "      <td>M</td>\n",
       "      <td>13.79</td>\n",
       "    </tr>\n",
       "  </tbody>\n",
       "</table>\n",
       "</div>"
      ],
      "text/plain": [
       "                          name platform  year_of_release         genre  \\\n",
       "16          Grand Theft Auto V      PS3             2013        Action   \n",
       "23          Grand Theft Auto V     X360             2013        Action   \n",
       "31   Call of Duty: Black Ops 3      PS4             2015       Shooter   \n",
       "33         Pokemon X/Pokemon Y      3DS             2013  Role-Playing   \n",
       "34  Call of Duty: Black Ops II      PS3             2012       Shooter   \n",
       "\n",
       "    na_sales  eu_sales  jp_sales  other_sales  critic_score  user_score  \\\n",
       "16      7.02      9.09      0.98         3.96         97.00        8.20   \n",
       "23      9.66      5.14      0.06         1.41         97.00        8.10   \n",
       "31      6.03      5.86      0.36         2.38           nan         nan   \n",
       "33      5.28      4.19      4.35         0.78           nan         nan   \n",
       "34      4.99      5.73      0.65         2.42         83.00        5.30   \n",
       "\n",
       "         rating  total_sales  \n",
       "16            M        21.05  \n",
       "23            M        16.27  \n",
       "31  not_defined        14.63  \n",
       "33  not_defined        14.60  \n",
       "34            M        13.79  "
      ]
     },
     "execution_count": 20,
     "metadata": {},
     "output_type": "execute_result"
    }
   ],
   "source": [
    "actual_period = df.query('platform in @actual_platforms and year_of_release>=2012')\n",
    "actual_period.head()"
   ]
  },
  {
   "cell_type": "markdown",
   "metadata": {},
   "source": [
    "- по этому срезу построим график boxplot"
   ]
  },
  {
   "cell_type": "code",
   "execution_count": 21,
   "metadata": {},
   "outputs": [
    {
     "data": {
      "text/plain": [
       "<matplotlib.axes._subplots.AxesSubplot at 0x7f2ad53d6f50>"
      ]
     },
     "execution_count": 21,
     "metadata": {},
     "output_type": "execute_result"
    },
    {
     "data": {
      "image/png": "[encoded data removed]",
      "text/plain": [
       "<Figure size 1080x720 with 1 Axes>"
      ]
     },
     "metadata": {
      "needs_background": "light"
     },
     "output_type": "display_data"
    }
   ],
   "source": [
    "plt.figure(figsize=(15,10))\n",
    "plt.ylim(0,3)\n",
    "sns.boxplot(x='platform',y='total_sales',data=actual_period)"
   ]
  },
  {
   "cell_type": "markdown",
   "metadata": {},
   "source": [
    "#### Вывод"
   ]
  },
  {
   "cell_type": "markdown",
   "metadata": {},
   "source": [
    "- распределение скошенно вправо, следовательно медианы меньше среднего\n",
    "- если взять топ-5 платформ, то их \"ящики с усами\" схожи(медиана в районе 0.15-0.2)"
   ]
  },
  {
   "cell_type": "markdown",
   "metadata": {},
   "source": [
    "### Посмотрите, как влияют на продажи внутри одной популярной платформы отзывы пользователей и критиков. Постройте диаграмму рассеяния и посчитайте корреляцию между отзывами и продажами. Сформулируйте выводы. Соотнесите выводы с продажами игр на других платформах."
   ]
  },
  {
   "cell_type": "markdown",
   "metadata": {},
   "source": [
    "- исходя из графика в пункте 3.3 самой популярной платформой в актуальном периоде является ps4, по ней и сделаем рассчеты.\n",
    "- сделаем 2 среза суммарные продажи<-->оценки критиков и суммарные продажи<-->оценки пользователей и сделаем по ним диаграммы рассеяния\n",
    "- посчитаем корреляцию"
   ]
  },
  {
   "cell_type": "code",
   "execution_count": 22,
   "metadata": {},
   "outputs": [
    {
     "data": {
      "text/plain": [
       "0.406567902061781"
      ]
     },
     "execution_count": 22,
     "metadata": {},
     "output_type": "execute_result"
    },
    {
     "data": {
      "image/png": "[encoded data removed]",
      "text/plain": [
       "<Figure size 720x360 with 1 Axes>"
      ]
     },
     "metadata": {
      "needs_background": "light"
     },
     "output_type": "display_data"
    }
   ],
   "source": [
    "ps4_critic = actual_period.query('platform==\"PS4\"').sort_values(by='critic_score',ascending=True).plot(kind='scatter',x='critic_score',y='total_sales',figsize=(10,5))\n",
    "ps4_cor = actual_period.query('platform==\"PS4\"')\n",
    "ps4_cor['total_sales'].corr(ps4_cor['critic_score'])\n"
   ]
  },
  {
   "cell_type": "markdown",
   "metadata": {},
   "source": [
    "#### Вывод"
   ]
  },
  {
   "cell_type": "markdown",
   "metadata": {},
   "source": [
    "- Зависимость количества продаж от оценки критиков есть но слабая. Корреляция положительная ---> лучше отзыв-больше продаж"
   ]
  },
  {
   "cell_type": "code",
   "execution_count": 23,
   "metadata": {},
   "outputs": [
    {
     "data": {
      "text/plain": [
       "-0.031957110204556424"
      ]
     },
     "execution_count": 23,
     "metadata": {},
     "output_type": "execute_result"
    },
    {
     "data": {
      "image/png": "[encoded data removed]",
      "text/plain": [
       "<Figure size 720x360 with 1 Axes>"
      ]
     },
     "metadata": {
      "needs_background": "light"
     },
     "output_type": "display_data"
    }
   ],
   "source": [
    "ps4_users = actual_period.query('platform==\"PS4\"').sort_values(by='user_score',ascending=True).plot(kind='scatter',x='user_score',y='total_sales',figsize=(10,5))\n",
    "ps4_cor['total_sales'].corr(ps4_cor['user_score'])"
   ]
  },
  {
   "cell_type": "markdown",
   "metadata": {},
   "source": [
    "#### Вывод"
   ]
  },
  {
   "cell_type": "markdown",
   "metadata": {},
   "source": [
    "- зависимость продаж от оценки пользователей почти отсутствует(и почему-то отрицательная)"
   ]
  },
  {
   "cell_type": "markdown",
   "metadata": {},
   "source": [
    "### Посмотрите на общее распределение игр по жанрам. Что можно сказать о самых прибыльных жанрах? Выделяются ли жанры с высокими и низкими продажами?"
   ]
  },
  {
   "cell_type": "markdown",
   "metadata": {},
   "source": [
    "- отсортируем таблицу с актуальной информацией и построим график + используем метод count() и посмотрим количество игр по жанрам"
   ]
  },
  {
   "cell_type": "code",
   "execution_count": 24,
   "metadata": {},
   "outputs": [
    {
     "data": {
      "image/png": "[encoded data removed]",
      "text/plain": [
       "<Figure size 720x360 with 1 Axes>"
      ]
     },
     "metadata": {
      "needs_background": "light"
     },
     "output_type": "display_data"
    }
   ],
   "source": [
    "profitable_genre=actual_period.groupby('genre')['total_sales'].median().sort_values(ascending=False)\n",
    "profitable_genre.plot(y='genre',grid=True,figsize=(10,5),kind='bar')\n",
    "plt.show()"
   ]
  },
  {
   "cell_type": "code",
   "execution_count": 25,
   "metadata": {},
   "outputs": [
    {
     "data": {
      "image/png": "[encoded data removed]",
      "text/plain": [
       "<Figure size 720x360 with 1 Axes>"
      ]
     },
     "metadata": {
      "needs_background": "light"
     },
     "output_type": "display_data"
    }
   ],
   "source": [
    "count_genre=actual_period.groupby('genre')['total_sales'].count().sort_values(ascending=False)\n",
    "count_genre.plot(y='genre',grid=True,figsize=(10,5),kind='bar')\n",
    "plt.show()"
   ]
  },
  {
   "cell_type": "markdown",
   "metadata": {},
   "source": [
    "#### Вывод"
   ]
  },
  {
   "cell_type": "markdown",
   "metadata": {},
   "source": [
    "- Самые прибыльные игры жанра шутер(с приличным отрывом, примерно 30%)\n",
    "- Самый выпускаемый жанр - экшн(больше в 2 слишним раза соседнего жанра)\n",
    "- Платформеры третьи по прибыльности, при этом по количеству выпущенных игр этот жанр в конце(т.е. каждая игра приносила хороший доход компании)\n",
    "- Экшены наоборот при относительно небольшой прибыльности по количеству стоят первые(т.е. прибыль за каждую игру небольшая) "
   ]
  },
  {
   "cell_type": "markdown",
   "metadata": {},
   "source": [
    "## Составьте портрет пользователя каждого региона"
   ]
  },
  {
   "cell_type": "markdown",
   "metadata": {},
   "source": [
    "### Определите для пользователя каждого региона (NA, EU, JP) cамые популярные платформы (топ-5). Опишите различия в долях продаж."
   ]
  },
  {
   "cell_type": "code",
   "execution_count": 26,
   "metadata": {},
   "outputs": [
    {
     "data": {
      "text/html": [
       "<div>\n",
       "<style scoped>\n",
       "    .dataframe tbody tr th:only-of-type {\n",
       "        vertical-align: middle;\n",
       "    }\n",
       "\n",
       "    .dataframe tbody tr th {\n",
       "        vertical-align: top;\n",
       "    }\n",
       "\n",
       "    .dataframe thead th {\n",
       "        text-align: right;\n",
       "    }\n",
       "</style>\n",
       "<table border=\"1\" class=\"dataframe\">\n",
       "  <thead>\n",
       "    <tr style=\"text-align: right;\">\n",
       "      <th></th>\n",
       "      <th>platform</th>\n",
       "      <th>na_sales</th>\n",
       "      <th>total_sales</th>\n",
       "      <th>%</th>\n",
       "    </tr>\n",
       "  </thead>\n",
       "  <tbody>\n",
       "    <tr>\n",
       "      <td>0</td>\n",
       "      <td>X360</td>\n",
       "      <td>140.05</td>\n",
       "      <td>236.54</td>\n",
       "      <td>59.21</td>\n",
       "    </tr>\n",
       "    <tr>\n",
       "      <td>1</td>\n",
       "      <td>PS4</td>\n",
       "      <td>108.74</td>\n",
       "      <td>314.14</td>\n",
       "      <td>34.62</td>\n",
       "    </tr>\n",
       "    <tr>\n",
       "      <td>2</td>\n",
       "      <td>PS3</td>\n",
       "      <td>103.38</td>\n",
       "      <td>288.79</td>\n",
       "      <td>35.80</td>\n",
       "    </tr>\n",
       "    <tr>\n",
       "      <td>3</td>\n",
       "      <td>XOne</td>\n",
       "      <td>93.12</td>\n",
       "      <td>159.32</td>\n",
       "      <td>58.45</td>\n",
       "    </tr>\n",
       "    <tr>\n",
       "      <td>4</td>\n",
       "      <td>3DS</td>\n",
       "      <td>55.31</td>\n",
       "      <td>194.61</td>\n",
       "      <td>28.42</td>\n",
       "    </tr>\n",
       "  </tbody>\n",
       "</table>\n",
       "</div>"
      ],
      "text/plain": [
       "  platform  na_sales  total_sales     %\n",
       "0     X360    140.05       236.54 59.21\n",
       "1      PS4    108.74       314.14 34.62\n",
       "2      PS3    103.38       288.79 35.80\n",
       "3     XOne     93.12       159.32 58.45\n",
       "4      3DS     55.31       194.61 28.42"
      ]
     },
     "execution_count": 26,
     "metadata": {},
     "output_type": "execute_result"
    }
   ],
   "source": [
    "na_users_portrait=actual_period.pivot_table(index='platform',values=['na_sales','total_sales'],aggfunc=('sum'))\n",
    "na_users_portrait=na_users_portrait.sort_values(by='na_sales',ascending=False).head(5)\n",
    "na_users_portrait['%']=na_users_portrait['na_sales']/na_users_portrait['total_sales']*100\n",
    "na_users_portrait = na_users_portrait.reset_index()\n",
    "na_users_portrait\n"
   ]
  },
  {
   "cell_type": "markdown",
   "metadata": {},
   "source": [
    "#### Вывод"
   ]
  },
  {
   "cell_type": "markdown",
   "metadata": {},
   "source": [
    "- Исходя из таблицы, положение по продажам для Северной Америки ожидаемое, на первом месте Xbox360 и на 4-м XboxOne - занимают больше половины общих продаж, т.к. Microsoft, выпускающая иксбоксы - американская компания"
   ]
  },
  {
   "cell_type": "code",
   "execution_count": 27,
   "metadata": {
    "scrolled": true
   },
   "outputs": [
    {
     "data": {
      "text/html": [
       "<div>\n",
       "<style scoped>\n",
       "    .dataframe tbody tr th:only-of-type {\n",
       "        vertical-align: middle;\n",
       "    }\n",
       "\n",
       "    .dataframe tbody tr th {\n",
       "        vertical-align: top;\n",
       "    }\n",
       "\n",
       "    .dataframe thead th {\n",
       "        text-align: right;\n",
       "    }\n",
       "</style>\n",
       "<table border=\"1\" class=\"dataframe\">\n",
       "  <thead>\n",
       "    <tr style=\"text-align: right;\">\n",
       "      <th></th>\n",
       "      <th>platform</th>\n",
       "      <th>jp_sales</th>\n",
       "      <th>total_sales</th>\n",
       "      <th>%</th>\n",
       "    </tr>\n",
       "  </thead>\n",
       "  <tbody>\n",
       "    <tr>\n",
       "      <td>0</td>\n",
       "      <td>3DS</td>\n",
       "      <td>87.79</td>\n",
       "      <td>194.61</td>\n",
       "      <td>45.11</td>\n",
       "    </tr>\n",
       "    <tr>\n",
       "      <td>1</td>\n",
       "      <td>PS3</td>\n",
       "      <td>35.29</td>\n",
       "      <td>288.79</td>\n",
       "      <td>12.22</td>\n",
       "    </tr>\n",
       "    <tr>\n",
       "      <td>2</td>\n",
       "      <td>PSV</td>\n",
       "      <td>21.04</td>\n",
       "      <td>49.18</td>\n",
       "      <td>42.78</td>\n",
       "    </tr>\n",
       "    <tr>\n",
       "      <td>3</td>\n",
       "      <td>PS4</td>\n",
       "      <td>15.96</td>\n",
       "      <td>314.14</td>\n",
       "      <td>5.08</td>\n",
       "    </tr>\n",
       "    <tr>\n",
       "      <td>4</td>\n",
       "      <td>WiiU</td>\n",
       "      <td>13.01</td>\n",
       "      <td>82.19</td>\n",
       "      <td>15.83</td>\n",
       "    </tr>\n",
       "  </tbody>\n",
       "</table>\n",
       "</div>"
      ],
      "text/plain": [
       "  platform  jp_sales  total_sales     %\n",
       "0      3DS     87.79       194.61 45.11\n",
       "1      PS3     35.29       288.79 12.22\n",
       "2      PSV     21.04        49.18 42.78\n",
       "3      PS4     15.96       314.14  5.08\n",
       "4     WiiU     13.01        82.19 15.83"
      ]
     },
     "execution_count": 27,
     "metadata": {},
     "output_type": "execute_result"
    }
   ],
   "source": [
    "jp_users_portrait=actual_period.pivot_table(index='platform',values=['jp_sales','total_sales'],aggfunc=('sum'))\n",
    "jp_users_portrait=jp_users_portrait.sort_values(by='jp_sales',ascending=False).head(5)\n",
    "jp_users_portrait['%']=jp_users_portrait['jp_sales']/jp_users_portrait['total_sales']*100\n",
    "jp_users_portrait = jp_users_portrait.reset_index()\n",
    "jp_users_portrait"
   ]
  },
  {
   "cell_type": "markdown",
   "metadata": {},
   "source": [
    "#### Вывод"
   ]
  },
  {
   "cell_type": "markdown",
   "metadata": {},
   "source": [
    "- Следом за Северной Америкой я решила посмотреть статистику по Японии, ведь в топе создателей платформ находятся Нинтендо и Сони, локализующиеся в Японии. Как и ожидалось, здесь вся 5-ка - приставки японского производства. Что интересно - 3 из 5 приставок - это портативные приставки(в Северной америке - 1)и процент 3DS и PSV большой, что говорит о повышенной популярности портативных приставок в Японии"
   ]
  },
  {
   "cell_type": "code",
   "execution_count": 28,
   "metadata": {},
   "outputs": [
    {
     "data": {
      "text/html": [
       "<div>\n",
       "<style scoped>\n",
       "    .dataframe tbody tr th:only-of-type {\n",
       "        vertical-align: middle;\n",
       "    }\n",
       "\n",
       "    .dataframe tbody tr th {\n",
       "        vertical-align: top;\n",
       "    }\n",
       "\n",
       "    .dataframe thead th {\n",
       "        text-align: right;\n",
       "    }\n",
       "</style>\n",
       "<table border=\"1\" class=\"dataframe\">\n",
       "  <thead>\n",
       "    <tr style=\"text-align: right;\">\n",
       "      <th></th>\n",
       "      <th>platform</th>\n",
       "      <th>eu_sales</th>\n",
       "      <th>total_sales</th>\n",
       "      <th>%</th>\n",
       "    </tr>\n",
       "  </thead>\n",
       "  <tbody>\n",
       "    <tr>\n",
       "      <td>0</td>\n",
       "      <td>PS4</td>\n",
       "      <td>141.09</td>\n",
       "      <td>314.14</td>\n",
       "      <td>44.91</td>\n",
       "    </tr>\n",
       "    <tr>\n",
       "      <td>1</td>\n",
       "      <td>PS3</td>\n",
       "      <td>106.86</td>\n",
       "      <td>288.79</td>\n",
       "      <td>37.00</td>\n",
       "    </tr>\n",
       "    <tr>\n",
       "      <td>2</td>\n",
       "      <td>X360</td>\n",
       "      <td>74.52</td>\n",
       "      <td>236.54</td>\n",
       "      <td>31.50</td>\n",
       "    </tr>\n",
       "    <tr>\n",
       "      <td>3</td>\n",
       "      <td>XOne</td>\n",
       "      <td>51.59</td>\n",
       "      <td>159.32</td>\n",
       "      <td>32.38</td>\n",
       "    </tr>\n",
       "    <tr>\n",
       "      <td>4</td>\n",
       "      <td>3DS</td>\n",
       "      <td>42.64</td>\n",
       "      <td>194.61</td>\n",
       "      <td>21.91</td>\n",
       "    </tr>\n",
       "  </tbody>\n",
       "</table>\n",
       "</div>"
      ],
      "text/plain": [
       "  platform  eu_sales  total_sales     %\n",
       "0      PS4    141.09       314.14 44.91\n",
       "1      PS3    106.86       288.79 37.00\n",
       "2     X360     74.52       236.54 31.50\n",
       "3     XOne     51.59       159.32 32.38\n",
       "4      3DS     42.64       194.61 21.91"
      ]
     },
     "execution_count": 28,
     "metadata": {},
     "output_type": "execute_result"
    }
   ],
   "source": [
    "eu_users_portrait=actual_period.pivot_table(index='platform',values=['eu_sales','total_sales'],aggfunc=('sum'))\n",
    "eu_users_portrait=eu_users_portrait.sort_values(by='eu_sales',ascending=False).head(5)\n",
    "eu_users_portrait['%']=eu_users_portrait['eu_sales']/eu_users_portrait['total_sales']*100\n",
    "eu_users_portrait = eu_users_portrait.reset_index()\n",
    "eu_users_portrait"
   ]
  },
  {
   "cell_type": "markdown",
   "metadata": {},
   "source": [
    "#### Вывод"
   ]
  },
  {
   "cell_type": "markdown",
   "metadata": {},
   "source": [
    "- самой продаваемой приставкой в Европе является самая актуальная - Playstation_4(почти 45% от общих продаж), следом идет Playstation_3, 2 поколения Xbox и 3DS(портативная японская приставка)"
   ]
  },
  {
   "cell_type": "code",
   "execution_count": 29,
   "metadata": {},
   "outputs": [
    {
     "data": {
      "text/html": [
       "<div>\n",
       "<style scoped>\n",
       "    .dataframe tbody tr th:only-of-type {\n",
       "        vertical-align: middle;\n",
       "    }\n",
       "\n",
       "    .dataframe tbody tr th {\n",
       "        vertical-align: top;\n",
       "    }\n",
       "\n",
       "    .dataframe thead th {\n",
       "        text-align: right;\n",
       "    }\n",
       "</style>\n",
       "<table border=\"1\" class=\"dataframe\">\n",
       "  <thead>\n",
       "    <tr style=\"text-align: right;\">\n",
       "      <th></th>\n",
       "      <th>platform</th>\n",
       "      <th>other_sales</th>\n",
       "      <th>total_sales</th>\n",
       "      <th>%</th>\n",
       "    </tr>\n",
       "  </thead>\n",
       "  <tbody>\n",
       "    <tr>\n",
       "      <td>0</td>\n",
       "      <td>PS4</td>\n",
       "      <td>48.35</td>\n",
       "      <td>314.14</td>\n",
       "      <td>15.39</td>\n",
       "    </tr>\n",
       "    <tr>\n",
       "      <td>1</td>\n",
       "      <td>PS3</td>\n",
       "      <td>43.26</td>\n",
       "      <td>288.79</td>\n",
       "      <td>14.98</td>\n",
       "    </tr>\n",
       "    <tr>\n",
       "      <td>2</td>\n",
       "      <td>X360</td>\n",
       "      <td>20.40</td>\n",
       "      <td>236.54</td>\n",
       "      <td>8.62</td>\n",
       "    </tr>\n",
       "    <tr>\n",
       "      <td>3</td>\n",
       "      <td>XOne</td>\n",
       "      <td>14.27</td>\n",
       "      <td>159.32</td>\n",
       "      <td>8.96</td>\n",
       "    </tr>\n",
       "    <tr>\n",
       "      <td>4</td>\n",
       "      <td>3DS</td>\n",
       "      <td>8.87</td>\n",
       "      <td>194.61</td>\n",
       "      <td>4.56</td>\n",
       "    </tr>\n",
       "  </tbody>\n",
       "</table>\n",
       "</div>"
      ],
      "text/plain": [
       "  platform  other_sales  total_sales     %\n",
       "0      PS4        48.35       314.14 15.39\n",
       "1      PS3        43.26       288.79 14.98\n",
       "2     X360        20.40       236.54  8.62\n",
       "3     XOne        14.27       159.32  8.96\n",
       "4      3DS         8.87       194.61  4.56"
      ]
     },
     "execution_count": 29,
     "metadata": {},
     "output_type": "execute_result"
    }
   ],
   "source": [
    "other_users_portrait=actual_period.pivot_table(index='platform',values=['other_sales','total_sales'],aggfunc=('sum'))\n",
    "other_users_portrait=other_users_portrait.sort_values(by='other_sales',ascending=False).head(5)\n",
    "other_users_portrait['%']=other_users_portrait['other_sales']/other_users_portrait['total_sales']*100\n",
    "other_users_portrait = other_users_portrait.reset_index()\n",
    "other_users_portrait"
   ]
  },
  {
   "cell_type": "markdown",
   "metadata": {},
   "source": [
    "#### Вывод"
   ]
  },
  {
   "cell_type": "markdown",
   "metadata": {},
   "source": [
    "- Здесь ситуация как в Европе, только процент от общих продаж в разы меньше"
   ]
  },
  {
   "cell_type": "markdown",
   "metadata": {},
   "source": [
    "### Определите для пользователя каждого региона (NA, EU, JP) самые популярные жанры (топ-5). Поясните разницу."
   ]
  },
  {
   "cell_type": "code",
   "execution_count": 30,
   "metadata": {},
   "outputs": [
    {
     "data": {
      "text/html": [
       "<div>\n",
       "<style scoped>\n",
       "    .dataframe tbody tr th:only-of-type {\n",
       "        vertical-align: middle;\n",
       "    }\n",
       "\n",
       "    .dataframe tbody tr th {\n",
       "        vertical-align: top;\n",
       "    }\n",
       "\n",
       "    .dataframe thead th {\n",
       "        text-align: right;\n",
       "    }\n",
       "</style>\n",
       "<table border=\"1\" class=\"dataframe\">\n",
       "  <thead>\n",
       "    <tr style=\"text-align: right;\">\n",
       "      <th></th>\n",
       "      <th>genre</th>\n",
       "      <th>na_sales</th>\n",
       "    </tr>\n",
       "  </thead>\n",
       "  <tbody>\n",
       "    <tr>\n",
       "      <td>0</td>\n",
       "      <td>Action</td>\n",
       "      <td>177.00</td>\n",
       "    </tr>\n",
       "    <tr>\n",
       "      <td>1</td>\n",
       "      <td>Shooter</td>\n",
       "      <td>144.77</td>\n",
       "    </tr>\n",
       "    <tr>\n",
       "      <td>2</td>\n",
       "      <td>Sports</td>\n",
       "      <td>81.38</td>\n",
       "    </tr>\n",
       "    <tr>\n",
       "      <td>3</td>\n",
       "      <td>Role-Playing</td>\n",
       "      <td>60.65</td>\n",
       "    </tr>\n",
       "    <tr>\n",
       "      <td>4</td>\n",
       "      <td>Misc</td>\n",
       "      <td>38.13</td>\n",
       "    </tr>\n",
       "  </tbody>\n",
       "</table>\n",
       "</div>"
      ],
      "text/plain": [
       "          genre  na_sales\n",
       "0        Action    177.00\n",
       "1       Shooter    144.77\n",
       "2        Sports     81.38\n",
       "3  Role-Playing     60.65\n",
       "4          Misc     38.13"
      ]
     },
     "execution_count": 30,
     "metadata": {},
     "output_type": "execute_result"
    }
   ],
   "source": [
    "na_users_genre=actual_df.pivot_table(index='genre',values=['na_sales'],aggfunc=('sum'))\n",
    "na_users_genre=na_users_genre.sort_values(by='na_sales',ascending=False).head(5)\n",
    "na_users_genre = na_users_genre.reset_index()\n",
    "na_users_genre"
   ]
  },
  {
   "cell_type": "code",
   "execution_count": 31,
   "metadata": {},
   "outputs": [
    {
     "data": {
      "text/html": [
       "<div>\n",
       "<style scoped>\n",
       "    .dataframe tbody tr th:only-of-type {\n",
       "        vertical-align: middle;\n",
       "    }\n",
       "\n",
       "    .dataframe tbody tr th {\n",
       "        vertical-align: top;\n",
       "    }\n",
       "\n",
       "    .dataframe thead th {\n",
       "        text-align: right;\n",
       "    }\n",
       "</style>\n",
       "<table border=\"1\" class=\"dataframe\">\n",
       "  <thead>\n",
       "    <tr style=\"text-align: right;\">\n",
       "      <th></th>\n",
       "      <th>genre</th>\n",
       "      <th>jp_sales</th>\n",
       "    </tr>\n",
       "  </thead>\n",
       "  <tbody>\n",
       "    <tr>\n",
       "      <td>0</td>\n",
       "      <td>Role-Playing</td>\n",
       "      <td>59.12</td>\n",
       "    </tr>\n",
       "    <tr>\n",
       "      <td>1</td>\n",
       "      <td>Action</td>\n",
       "      <td>49.18</td>\n",
       "    </tr>\n",
       "    <tr>\n",
       "      <td>2</td>\n",
       "      <td>Misc</td>\n",
       "      <td>12.45</td>\n",
       "    </tr>\n",
       "    <tr>\n",
       "      <td>3</td>\n",
       "      <td>Simulation</td>\n",
       "      <td>10.35</td>\n",
       "    </tr>\n",
       "    <tr>\n",
       "      <td>4</td>\n",
       "      <td>Shooter</td>\n",
       "      <td>9.23</td>\n",
       "    </tr>\n",
       "  </tbody>\n",
       "</table>\n",
       "</div>"
      ],
      "text/plain": [
       "          genre  jp_sales\n",
       "0  Role-Playing     59.12\n",
       "1        Action     49.18\n",
       "2          Misc     12.45\n",
       "3    Simulation     10.35\n",
       "4       Shooter      9.23"
      ]
     },
     "execution_count": 31,
     "metadata": {},
     "output_type": "execute_result"
    }
   ],
   "source": [
    "jp_users_genre=actual_df.pivot_table(index='genre',values=['jp_sales'],aggfunc=('sum'))\n",
    "jp_users_genre=jp_users_genre.sort_values(by='jp_sales',ascending=False).head(5)\n",
    "jp_users_genre = jp_users_genre.reset_index()\n",
    "jp_users_genre"
   ]
  },
  {
   "cell_type": "code",
   "execution_count": 32,
   "metadata": {},
   "outputs": [
    {
     "data": {
      "text/html": [
       "<div>\n",
       "<style scoped>\n",
       "    .dataframe tbody tr th:only-of-type {\n",
       "        vertical-align: middle;\n",
       "    }\n",
       "\n",
       "    .dataframe tbody tr th {\n",
       "        vertical-align: top;\n",
       "    }\n",
       "\n",
       "    .dataframe thead th {\n",
       "        text-align: right;\n",
       "    }\n",
       "</style>\n",
       "<table border=\"1\" class=\"dataframe\">\n",
       "  <thead>\n",
       "    <tr style=\"text-align: right;\">\n",
       "      <th></th>\n",
       "      <th>genre</th>\n",
       "      <th>eu_sales</th>\n",
       "    </tr>\n",
       "  </thead>\n",
       "  <tbody>\n",
       "    <tr>\n",
       "      <td>0</td>\n",
       "      <td>Action</td>\n",
       "      <td>158.43</td>\n",
       "    </tr>\n",
       "    <tr>\n",
       "      <td>1</td>\n",
       "      <td>Shooter</td>\n",
       "      <td>113.47</td>\n",
       "    </tr>\n",
       "    <tr>\n",
       "      <td>2</td>\n",
       "      <td>Sports</td>\n",
       "      <td>68.84</td>\n",
       "    </tr>\n",
       "    <tr>\n",
       "      <td>3</td>\n",
       "      <td>Role-Playing</td>\n",
       "      <td>46.76</td>\n",
       "    </tr>\n",
       "    <tr>\n",
       "      <td>4</td>\n",
       "      <td>Racing</td>\n",
       "      <td>27.29</td>\n",
       "    </tr>\n",
       "  </tbody>\n",
       "</table>\n",
       "</div>"
      ],
      "text/plain": [
       "          genre  eu_sales\n",
       "0        Action    158.43\n",
       "1       Shooter    113.47\n",
       "2        Sports     68.84\n",
       "3  Role-Playing     46.76\n",
       "4        Racing     27.29"
      ]
     },
     "execution_count": 32,
     "metadata": {},
     "output_type": "execute_result"
    }
   ],
   "source": [
    "eu_users_genre=actual_df.pivot_table(index='genre',values=['eu_sales'],aggfunc=('sum'))\n",
    "eu_users_genre=eu_users_genre.sort_values(by='eu_sales',ascending=False).head(5)\n",
    "eu_users_genre = eu_users_genre.reset_index()\n",
    "eu_users_genre"
   ]
  },
  {
   "cell_type": "code",
   "execution_count": 33,
   "metadata": {},
   "outputs": [
    {
     "data": {
      "text/html": [
       "<div>\n",
       "<style scoped>\n",
       "    .dataframe tbody tr th:only-of-type {\n",
       "        vertical-align: middle;\n",
       "    }\n",
       "\n",
       "    .dataframe tbody tr th {\n",
       "        vertical-align: top;\n",
       "    }\n",
       "\n",
       "    .dataframe thead th {\n",
       "        text-align: right;\n",
       "    }\n",
       "</style>\n",
       "<table border=\"1\" class=\"dataframe\">\n",
       "  <thead>\n",
       "    <tr style=\"text-align: right;\">\n",
       "      <th></th>\n",
       "      <th>genre</th>\n",
       "      <th>other_sales</th>\n",
       "    </tr>\n",
       "  </thead>\n",
       "  <tbody>\n",
       "    <tr>\n",
       "      <td>0</td>\n",
       "      <td>Action</td>\n",
       "      <td>50.93</td>\n",
       "    </tr>\n",
       "    <tr>\n",
       "      <td>1</td>\n",
       "      <td>Shooter</td>\n",
       "      <td>37.26</td>\n",
       "    </tr>\n",
       "    <tr>\n",
       "      <td>2</td>\n",
       "      <td>Sports</td>\n",
       "      <td>22.35</td>\n",
       "    </tr>\n",
       "    <tr>\n",
       "      <td>3</td>\n",
       "      <td>Role-Playing</td>\n",
       "      <td>14.38</td>\n",
       "    </tr>\n",
       "    <tr>\n",
       "      <td>4</td>\n",
       "      <td>Misc</td>\n",
       "      <td>7.62</td>\n",
       "    </tr>\n",
       "  </tbody>\n",
       "</table>\n",
       "</div>"
      ],
      "text/plain": [
       "          genre  other_sales\n",
       "0        Action        50.93\n",
       "1       Shooter        37.26\n",
       "2        Sports        22.35\n",
       "3  Role-Playing        14.38\n",
       "4          Misc         7.62"
      ]
     },
     "execution_count": 33,
     "metadata": {},
     "output_type": "execute_result"
    }
   ],
   "source": [
    "other_users_genre=actual_df.pivot_table(index='genre',values=['other_sales'],aggfunc=('sum'))\n",
    "other_users_genre=other_users_genre.sort_values(by='other_sales',ascending=False).head(5)\n",
    "other_users_genre = other_users_genre.reset_index()\n",
    "other_users_genre"
   ]
  },
  {
   "cell_type": "markdown",
   "metadata": {},
   "source": [
    "#### Вывод"
   ]
  },
  {
   "cell_type": "markdown",
   "metadata": {},
   "source": [
    "- популярные жанры полностью совпадают в Северной Америке и категории \"другие\", почти полностью с ними схожа ситуация в Европе(на последнем месте вместо категории \"остальные\"(как я поняла)-гонки). При этом первые 3 места это - экшн,шутеры и спортивные игры. Ситуация отличается в Японии - там на первом месте ролевые игры, после - экшн, игры категории \"другие\", симуляторы и шутеры. Могу предположить, что такая разница идет от того, что в тот период больше ролевых игр было для портативных приставок чем для консолей + в Японии выделяются симуляторы, что по моему предположению вызвано популярностью в японской культуре жанра визуальных новелл(судя по википедии, на 2012 год Япония еще и в топе разработчиков визуальных новелл и их популярность в других странах только начала расти)"
   ]
  },
  {
   "cell_type": "markdown",
   "metadata": {},
   "source": [
    "### Влияет ли рейтинг ESRB на продажи в отдельном регионе?"
   ]
  },
  {
   "cell_type": "markdown",
   "metadata": {},
   "source": [
    "- Как и до этого создадим сводную таблицу по каждому столбцу и отсортируем  \n",
    "- для себя выведу рейтинги  \n",
    "  \n",
    "«EC» («Early childhood») — «Для детей младшего возраста»: Игра подходит для детей от 3 лет   \n",
    "«E» («Everyone») — «Для всех»: Содержание вполне подходит для возрастной категории от 6 лет.   \n",
    "«E10+» («Everyone 10 and older») — «Для всех от 10 лет и старше»  \n",
    "«T» («Teen») — «Подросткам»: Игра подходит для лиц от 13 лет.  \n",
    "«M» («Mature») — «Для взрослых»: Материалы игры не подходят для подростков младше 17 лет.  \n",
    "«AO» («Adults Only 18+») — «Только для взрослых»: Содержание игры только для взрослых старше 18 лет.  \n",
    "«RP» («Rating Pending») — «Рейтинг ожидается»: Продукт был отправлен в ESRB и ожидает присвоения рейтинга."
   ]
  },
  {
   "cell_type": "code",
   "execution_count": 34,
   "metadata": {},
   "outputs": [
    {
     "data": {
      "text/html": [
       "<div>\n",
       "<style scoped>\n",
       "    .dataframe tbody tr th:only-of-type {\n",
       "        vertical-align: middle;\n",
       "    }\n",
       "\n",
       "    .dataframe tbody tr th {\n",
       "        vertical-align: top;\n",
       "    }\n",
       "\n",
       "    .dataframe thead th {\n",
       "        text-align: right;\n",
       "    }\n",
       "</style>\n",
       "<table border=\"1\" class=\"dataframe\">\n",
       "  <thead>\n",
       "    <tr style=\"text-align: right;\">\n",
       "      <th></th>\n",
       "      <th>rating</th>\n",
       "      <th>na_sales</th>\n",
       "    </tr>\n",
       "  </thead>\n",
       "  <tbody>\n",
       "    <tr>\n",
       "      <td>0</td>\n",
       "      <td>M</td>\n",
       "      <td>231.57</td>\n",
       "    </tr>\n",
       "    <tr>\n",
       "      <td>1</td>\n",
       "      <td>E</td>\n",
       "      <td>113.44</td>\n",
       "    </tr>\n",
       "    <tr>\n",
       "      <td>2</td>\n",
       "      <td>not_defined</td>\n",
       "      <td>100.13</td>\n",
       "    </tr>\n",
       "    <tr>\n",
       "      <td>3</td>\n",
       "      <td>E10+</td>\n",
       "      <td>75.09</td>\n",
       "    </tr>\n",
       "    <tr>\n",
       "      <td>4</td>\n",
       "      <td>T</td>\n",
       "      <td>66.02</td>\n",
       "    </tr>\n",
       "  </tbody>\n",
       "</table>\n",
       "</div>"
      ],
      "text/plain": [
       "        rating  na_sales\n",
       "0            M    231.57\n",
       "1            E    113.44\n",
       "2  not_defined    100.13\n",
       "3         E10+     75.09\n",
       "4            T     66.02"
      ]
     },
     "execution_count": 34,
     "metadata": {},
     "output_type": "execute_result"
    }
   ],
   "source": [
    "na_ESRB=actual_df.pivot_table(index='rating',values=['na_sales'],aggfunc=('sum'))\n",
    "na_ESRB=na_ESRB.sort_values(by='na_sales',ascending=False)\n",
    "na_ESRB=na_ESRB.reset_index()\n",
    "na_ESRB"
   ]
  },
  {
   "cell_type": "code",
   "execution_count": 35,
   "metadata": {},
   "outputs": [
    {
     "data": {
      "text/html": [
       "<div>\n",
       "<style scoped>\n",
       "    .dataframe tbody tr th:only-of-type {\n",
       "        vertical-align: middle;\n",
       "    }\n",
       "\n",
       "    .dataframe tbody tr th {\n",
       "        vertical-align: top;\n",
       "    }\n",
       "\n",
       "    .dataframe thead th {\n",
       "        text-align: right;\n",
       "    }\n",
       "</style>\n",
       "<table border=\"1\" class=\"dataframe\">\n",
       "  <thead>\n",
       "    <tr style=\"text-align: right;\">\n",
       "      <th></th>\n",
       "      <th>rating</th>\n",
       "      <th>jp_sales</th>\n",
       "    </tr>\n",
       "  </thead>\n",
       "  <tbody>\n",
       "    <tr>\n",
       "      <td>0</td>\n",
       "      <td>not_defined</td>\n",
       "      <td>95.62</td>\n",
       "    </tr>\n",
       "    <tr>\n",
       "      <td>1</td>\n",
       "      <td>E</td>\n",
       "      <td>27.62</td>\n",
       "    </tr>\n",
       "    <tr>\n",
       "      <td>2</td>\n",
       "      <td>T</td>\n",
       "      <td>25.76</td>\n",
       "    </tr>\n",
       "    <tr>\n",
       "      <td>3</td>\n",
       "      <td>M</td>\n",
       "      <td>21.20</td>\n",
       "    </tr>\n",
       "    <tr>\n",
       "      <td>4</td>\n",
       "      <td>E10+</td>\n",
       "      <td>8.19</td>\n",
       "    </tr>\n",
       "  </tbody>\n",
       "</table>\n",
       "</div>"
      ],
      "text/plain": [
       "        rating  jp_sales\n",
       "0  not_defined     95.62\n",
       "1            E     27.62\n",
       "2            T     25.76\n",
       "3            M     21.20\n",
       "4         E10+      8.19"
      ]
     },
     "execution_count": 35,
     "metadata": {},
     "output_type": "execute_result"
    }
   ],
   "source": [
    "jp_ESRB=actual_df.pivot_table(index='rating',values=['jp_sales'],aggfunc=('sum'))\n",
    "jp_ESRB=jp_ESRB.sort_values(by='jp_sales',ascending=False)\n",
    "jp_ESRB=jp_ESRB.reset_index()\n",
    "jp_ESRB"
   ]
  },
  {
   "cell_type": "code",
   "execution_count": 36,
   "metadata": {},
   "outputs": [
    {
     "data": {
      "text/html": [
       "<div>\n",
       "<style scoped>\n",
       "    .dataframe tbody tr th:only-of-type {\n",
       "        vertical-align: middle;\n",
       "    }\n",
       "\n",
       "    .dataframe tbody tr th {\n",
       "        vertical-align: top;\n",
       "    }\n",
       "\n",
       "    .dataframe thead th {\n",
       "        text-align: right;\n",
       "    }\n",
       "</style>\n",
       "<table border=\"1\" class=\"dataframe\">\n",
       "  <thead>\n",
       "    <tr style=\"text-align: right;\">\n",
       "      <th></th>\n",
       "      <th>rating</th>\n",
       "      <th>eu_sales</th>\n",
       "    </tr>\n",
       "  </thead>\n",
       "  <tbody>\n",
       "    <tr>\n",
       "      <td>0</td>\n",
       "      <td>M</td>\n",
       "      <td>193.96</td>\n",
       "    </tr>\n",
       "    <tr>\n",
       "      <td>1</td>\n",
       "      <td>E</td>\n",
       "      <td>111.79</td>\n",
       "    </tr>\n",
       "    <tr>\n",
       "      <td>2</td>\n",
       "      <td>not_defined</td>\n",
       "      <td>89.32</td>\n",
       "    </tr>\n",
       "    <tr>\n",
       "      <td>3</td>\n",
       "      <td>E10+</td>\n",
       "      <td>54.84</td>\n",
       "    </tr>\n",
       "    <tr>\n",
       "      <td>4</td>\n",
       "      <td>T</td>\n",
       "      <td>52.96</td>\n",
       "    </tr>\n",
       "  </tbody>\n",
       "</table>\n",
       "</div>"
      ],
      "text/plain": [
       "        rating  eu_sales\n",
       "0            M    193.96\n",
       "1            E    111.79\n",
       "2  not_defined     89.32\n",
       "3         E10+     54.84\n",
       "4            T     52.96"
      ]
     },
     "execution_count": 36,
     "metadata": {},
     "output_type": "execute_result"
    }
   ],
   "source": [
    "eu_ESRB=actual_df.pivot_table(index='rating',values=['eu_sales'],aggfunc=('sum'))\n",
    "eu_ESRB=eu_ESRB.sort_values(by='eu_sales',ascending=False)\n",
    "eu_ESRB=eu_ESRB.reset_index()\n",
    "eu_ESRB"
   ]
  },
  {
   "cell_type": "code",
   "execution_count": 37,
   "metadata": {},
   "outputs": [
    {
     "data": {
      "text/html": [
       "<div>\n",
       "<style scoped>\n",
       "    .dataframe tbody tr th:only-of-type {\n",
       "        vertical-align: middle;\n",
       "    }\n",
       "\n",
       "    .dataframe tbody tr th {\n",
       "        vertical-align: top;\n",
       "    }\n",
       "\n",
       "    .dataframe thead th {\n",
       "        text-align: right;\n",
       "    }\n",
       "</style>\n",
       "<table border=\"1\" class=\"dataframe\">\n",
       "  <thead>\n",
       "    <tr style=\"text-align: right;\">\n",
       "      <th></th>\n",
       "      <th>rating</th>\n",
       "      <th>other_sales</th>\n",
       "    </tr>\n",
       "  </thead>\n",
       "  <tbody>\n",
       "    <tr>\n",
       "      <td>0</td>\n",
       "      <td>M</td>\n",
       "      <td>63.38</td>\n",
       "    </tr>\n",
       "    <tr>\n",
       "      <td>1</td>\n",
       "      <td>E</td>\n",
       "      <td>31.13</td>\n",
       "    </tr>\n",
       "    <tr>\n",
       "      <td>2</td>\n",
       "      <td>not_defined</td>\n",
       "      <td>26.70</td>\n",
       "    </tr>\n",
       "    <tr>\n",
       "      <td>3</td>\n",
       "      <td>T</td>\n",
       "      <td>17.94</td>\n",
       "    </tr>\n",
       "    <tr>\n",
       "      <td>4</td>\n",
       "      <td>E10+</td>\n",
       "      <td>16.13</td>\n",
       "    </tr>\n",
       "  </tbody>\n",
       "</table>\n",
       "</div>"
      ],
      "text/plain": [
       "        rating  other_sales\n",
       "0            M        63.38\n",
       "1            E        31.13\n",
       "2  not_defined        26.70\n",
       "3            T        17.94\n",
       "4         E10+        16.13"
      ]
     },
     "execution_count": 37,
     "metadata": {},
     "output_type": "execute_result"
    }
   ],
   "source": [
    "other_ESRB=actual_df.pivot_table(index='rating',values=['other_sales'],aggfunc=('sum'))\n",
    "other_ESRB=other_ESRB.sort_values(by='other_sales',ascending=False)\n",
    "other_ESRB=other_ESRB.reset_index()\n",
    "other_ESRB"
   ]
  },
  {
   "cell_type": "markdown",
   "metadata": {},
   "source": [
    "#### Вывод"
   ]
  },
  {
   "cell_type": "markdown",
   "metadata": {},
   "source": [
    "Во всех регионах кроме Японии первые 2 места по возрастному рейтингу занимают игры 17+ и 6+, в Японии  первые места у игр 6+ и 13+. Еще много игр с неопределенным рейтингом. Отличие Японии от других стран можно объяснить тем, что шутеры и экшены которые занимают лидирующие позиции в других регионах обычно имеют ретинг 17+ из-за жестоких сцен и сцен насилия. Итог - я считаю, что рейтинг не влияет на продажи игр"
   ]
  },
  {
   "cell_type": "markdown",
   "metadata": {},
   "source": [
    "##  Проверьте гипотезы"
   ]
  },
  {
   "cell_type": "markdown",
   "metadata": {},
   "source": [
    "### Средние пользовательские рейтинги платформ Xbox One и PC одинаковые"
   ]
  },
  {
   "cell_type": "markdown",
   "metadata": {},
   "source": [
    "Т.к. нулевая гипотеза должна быть со знаком равенства:  \n",
    "- H0 = \"Средние пользовательские рейтинги платформ Xbox One и PC равны\",   \n",
    "альтернативная при этом:\n",
    "- H1 = \"Средние пользовательские рейтинги платформ Xbox One и PC не равны\"  \n",
    "Критический уровень значимости = 0.05(т.к. нам не нужны суперточные цифры)"
   ]
  },
  {
   "cell_type": "markdown",
   "metadata": {},
   "source": [
    "- делаем срезы по платформам за весь период"
   ]
  },
  {
   "cell_type": "code",
   "execution_count": 38,
   "metadata": {},
   "outputs": [],
   "source": [
    "XOne = df.query(' platform == \"XOne\" ')['user_score'].dropna().to_list() #+удаляю строки с nan, т.к. тогда и в pvalue будет nan\n",
    "PC = df.query(' platform == \"PC\" ')['user_score'].dropna().to_list()"
   ]
  },
  {
   "cell_type": "code",
   "execution_count": 39,
   "metadata": {},
   "outputs": [
    {
     "name": "stdout",
     "output_type": "stream",
     "text": [
      "Дисперсия XOne = 1.8965188383045526 // Дисперсия PC = 2.346112819613175\n"
     ]
    }
   ],
   "source": [
    "print('Дисперсия XOne =', np.var(XOne), '// Дисперсия PC =', \\\n",
    "      np.var(PC))"
   ]
  },
  {
   "cell_type": "markdown",
   "metadata": {},
   "source": [
    "- Считаем р-значение, сравниваем с критическим уровнем значимости"
   ]
  },
  {
   "cell_type": "code",
   "execution_count": 40,
   "metadata": {},
   "outputs": [
    {
     "name": "stdout",
     "output_type": "stream",
     "text": [
      "p-значение: 4.5385802963771776e-06\n",
      "Отвергаем нулевую гипотезу\n"
     ]
    }
   ],
   "source": [
    "from scipy import stats as st\n",
    "\n",
    "alpha = 0.05\n",
    "\n",
    "end = st.ttest_ind(XOne, PC, equal_var = False)\n",
    "\n",
    "print('p-значение:', end.pvalue)\n",
    "\n",
    "if (end.pvalue < alpha):\n",
    "    print(\"Отвергаем нулевую гипотезу\")\n",
    "else:\n",
    "    print(\"Не получилось отвергнуть нулевую гипотезу\")"
   ]
  },
  {
   "cell_type": "markdown",
   "metadata": {},
   "source": [
    "  **Средние пользовательские рейтинги платформ Xbox One и PC не равны** "
   ]
  },
  {
   "cell_type": "markdown",
   "metadata": {},
   "source": [
    "### Средние пользовательские рейтинги жанров Action (англ. «действие», экшен-игры) и Sports (англ. «спортивные соревнования») разные."
   ]
  },
  {
   "cell_type": "markdown",
   "metadata": {},
   "source": [
    "- H0 = \"Средние пользовательские рейтинги жанров Action  и Sports  равны\",  \n",
    "- H1 = \"Средние пользовательские рейтинги жанров Action  и Sports не равны\"  \n",
    "Критический уровень значимости = 0.05"
   ]
  },
  {
   "cell_type": "code",
   "execution_count": 41,
   "metadata": {},
   "outputs": [],
   "source": [
    "Action = df.query(' genre == \"Action\" ')['user_score'].dropna().to_list() #делаем что и в предыдущем пункте\n",
    "Sports = df.query('genre == \"Sports\" ')['user_score'].dropna().to_list()"
   ]
  },
  {
   "cell_type": "code",
   "execution_count": 42,
   "metadata": {},
   "outputs": [
    {
     "name": "stdout",
     "output_type": "stream",
     "text": [
      "Дисперсия Action = 2.0263648741821716 // Дисперсия Sports = 2.6206293039045456\n"
     ]
    }
   ],
   "source": [
    "print('Дисперсия Action =', np.var(Action), '// Дисперсия Sports =', \\\n",
    "      np.var(Sports))"
   ]
  },
  {
   "cell_type": "code",
   "execution_count": 43,
   "metadata": {},
   "outputs": [
    {
     "name": "stdout",
     "output_type": "stream",
     "text": [
      "p-значение: 0.06480928064420527\n",
      "Не получилось отвергнуть нулевую гипотезу\n"
     ]
    }
   ],
   "source": [
    "from scipy import stats as st\n",
    "\n",
    "alpha = 0.05\n",
    "\n",
    "end = st.ttest_ind(Action, Sports, equal_var = True)\n",
    "\n",
    "print('p-значение:', end.pvalue)\n",
    "\n",
    "if (end.pvalue < alpha):\n",
    "    print(\"Отвергаем нулевую гипотезу\")\n",
    "else:\n",
    "    print(\"Не получилось отвергнуть нулевую гипотезу\")"
   ]
  },
  {
   "cell_type": "markdown",
   "metadata": {},
   "source": [
    "**Оставляем нулевую гипотезу ---> Cредние пользовательские рейтинги жанров Action и Sports равны**"
   ]
  },
  {
   "cell_type": "markdown",
   "metadata": {},
   "source": [
    "## Общий вывод"
   ]
  },
  {
   "cell_type": "markdown",
   "metadata": {},
   "source": [
    "Был проведен анализ исторических данных  о продажах игр, оценках пользователей и экспертов, жанрах и платформах. По результатам проведенной **предобработки** данных были изменены названия столбцов, приведены к нужным типы данных и обработаны пропуски. После этого провели **исследовательский анализ** по результатам которого выяснили:\n",
    "- самые популярные платформы на данный момент - PS3,PS4,X360,3DS,XOne\n",
    "- самые прибыльные игры жанра шутер\n",
    "- самый выпускаемый жанр - экшн\n",
    "- портрет пользователя почти везде схож кроме Японии\n",
    "- рейтинг ESRB не влияет на продажи игр\n",
    "- самой перспективной в будущие годы будет приставка Playstation_4(рядом с ней будет Xbox_one) и можно предпологать в районе 2019-2020 года выпуск новых версий этих приставок  \n",
    "Были проверены 2 гипотезы, по результатам проверки:\n",
    "- Средние пользовательские рейтинги платформ Xbox One и PC не равны\n",
    "- Cредние пользовательские рейтинги жанров Action и Sports равны  \n",
    "\n",
    "\n",
    "**Рекламную кампанию надо планировать с упором на Playstation_4 и Xbox_one**"
   ]
  },
  {
   "cell_type": "code",
   "execution_count": null,
   "metadata": {},
   "outputs": [],
   "source": []
  }
 ],
 "metadata": {
  "ExecuteTimeLog": [
   {
    "duration": 1473,
    "start_time": "2022-02-06T07:08:22.707Z"
   },
   {
    "duration": 48,
    "start_time": "2022-02-06T07:30:42.463Z"
   },
   {
    "duration": 62,
    "start_time": "2022-02-06T07:32:04.478Z"
   },
   {
    "duration": 9734,
    "start_time": "2022-02-06T07:41:01.446Z"
   },
   {
    "duration": 20,
    "start_time": "2022-02-06T07:42:23.737Z"
   },
   {
    "duration": 1464,
    "start_time": "2022-02-06T07:42:36.653Z"
   },
   {
    "duration": 53,
    "start_time": "2022-02-06T07:42:38.120Z"
   },
   {
    "duration": 19,
    "start_time": "2022-02-06T07:42:38.176Z"
   },
   {
    "duration": 12,
    "start_time": "2022-02-06T07:42:38.198Z"
   },
   {
    "duration": 13,
    "start_time": "2022-02-06T07:46:58.103Z"
   },
   {
    "duration": 490,
    "start_time": "2022-02-06T07:47:52.502Z"
   },
   {
    "duration": 1509,
    "start_time": "2022-02-06T07:48:06.363Z"
   },
   {
    "duration": 53,
    "start_time": "2022-02-06T07:48:07.876Z"
   },
   {
    "duration": 18,
    "start_time": "2022-02-06T07:48:07.961Z"
   },
   {
    "duration": 8,
    "start_time": "2022-02-06T07:48:07.981Z"
   },
   {
    "duration": 473,
    "start_time": "2022-02-06T07:48:07.992Z"
   },
   {
    "duration": -1669,
    "start_time": "2022-02-06T07:48:10.137Z"
   },
   {
    "duration": 25,
    "start_time": "2022-02-06T07:48:20.412Z"
   },
   {
    "duration": 28,
    "start_time": "2022-02-06T07:48:29.130Z"
   },
   {
    "duration": 5,
    "start_time": "2022-02-06T08:14:21.992Z"
   },
   {
    "duration": 4,
    "start_time": "2022-02-06T08:17:05.000Z"
   },
   {
    "duration": 5,
    "start_time": "2022-02-06T08:17:18.498Z"
   },
   {
    "duration": 5,
    "start_time": "2022-02-06T08:17:39.665Z"
   },
   {
    "duration": 5,
    "start_time": "2022-02-06T08:18:02.043Z"
   },
   {
    "duration": 5,
    "start_time": "2022-02-06T08:19:17.066Z"
   },
   {
    "duration": 4,
    "start_time": "2022-02-06T08:19:17.889Z"
   },
   {
    "duration": 5,
    "start_time": "2022-02-06T08:19:18.954Z"
   },
   {
    "duration": 5,
    "start_time": "2022-02-06T08:19:21.297Z"
   },
   {
    "duration": 5,
    "start_time": "2022-02-06T08:19:37.435Z"
   },
   {
    "duration": 5,
    "start_time": "2022-02-06T08:19:50.202Z"
   },
   {
    "duration": 1971,
    "start_time": "2022-02-06T08:20:27.474Z"
   },
   {
    "duration": 50,
    "start_time": "2022-02-06T08:20:29.448Z"
   },
   {
    "duration": 18,
    "start_time": "2022-02-06T08:20:29.502Z"
   },
   {
    "duration": 38,
    "start_time": "2022-02-06T08:20:29.523Z"
   },
   {
    "duration": 5,
    "start_time": "2022-02-06T08:20:29.563Z"
   },
   {
    "duration": 5,
    "start_time": "2022-02-06T08:20:29.571Z"
   },
   {
    "duration": 7,
    "start_time": "2022-02-06T08:20:29.578Z"
   },
   {
    "duration": 5,
    "start_time": "2022-02-06T08:20:29.588Z"
   },
   {
    "duration": 5,
    "start_time": "2022-02-06T08:20:29.595Z"
   },
   {
    "duration": 4,
    "start_time": "2022-02-06T08:20:29.603Z"
   },
   {
    "duration": 53,
    "start_time": "2022-02-06T08:20:29.610Z"
   },
   {
    "duration": 7,
    "start_time": "2022-02-06T08:20:29.665Z"
   },
   {
    "duration": 6,
    "start_time": "2022-02-06T08:20:29.675Z"
   },
   {
    "duration": 7,
    "start_time": "2022-02-06T08:20:29.683Z"
   },
   {
    "duration": 5,
    "start_time": "2022-02-06T08:20:29.692Z"
   },
   {
    "duration": 70,
    "start_time": "2022-02-06T08:20:29.700Z"
   },
   {
    "duration": 5,
    "start_time": "2022-02-06T08:24:35.543Z"
   },
   {
    "duration": 7,
    "start_time": "2022-02-06T08:28:25.218Z"
   },
   {
    "duration": 7,
    "start_time": "2022-02-06T08:28:30.039Z"
   },
   {
    "duration": 8,
    "start_time": "2022-02-06T08:29:15.249Z"
   },
   {
    "duration": 18,
    "start_time": "2022-02-06T08:29:27.993Z"
   },
   {
    "duration": 11,
    "start_time": "2022-02-06T08:29:51.618Z"
   },
   {
    "duration": 11,
    "start_time": "2022-02-06T08:30:09.578Z"
   },
   {
    "duration": 9,
    "start_time": "2022-02-06T08:30:28.811Z"
   },
   {
    "duration": 8,
    "start_time": "2022-02-06T08:30:44.473Z"
   },
   {
    "duration": 8,
    "start_time": "2022-02-06T08:31:02.170Z"
   },
   {
    "duration": 9,
    "start_time": "2022-02-06T08:31:15.585Z"
   },
   {
    "duration": 9,
    "start_time": "2022-02-06T08:31:29.057Z"
   },
   {
    "duration": 9,
    "start_time": "2022-02-06T08:31:40.786Z"
   },
   {
    "duration": 10,
    "start_time": "2022-02-06T08:31:59.378Z"
   },
   {
    "duration": 19,
    "start_time": "2022-02-06T08:37:02.339Z"
   },
   {
    "duration": 51,
    "start_time": "2022-02-06T08:38:21.673Z"
   },
   {
    "duration": 7,
    "start_time": "2022-02-06T08:39:33.915Z"
   },
   {
    "duration": 9,
    "start_time": "2022-02-06T08:40:46.315Z"
   },
   {
    "duration": 1499,
    "start_time": "2022-02-06T08:46:48.275Z"
   },
   {
    "duration": 49,
    "start_time": "2022-02-06T08:46:49.777Z"
   },
   {
    "duration": 44,
    "start_time": "2022-02-06T08:46:49.830Z"
   },
   {
    "duration": 8,
    "start_time": "2022-02-06T08:46:49.877Z"
   },
   {
    "duration": 13,
    "start_time": "2022-02-06T08:46:49.888Z"
   },
   {
    "duration": 10,
    "start_time": "2022-02-06T08:46:49.903Z"
   },
   {
    "duration": 17,
    "start_time": "2022-02-06T08:47:35.316Z"
   },
   {
    "duration": 44,
    "start_time": "2022-02-06T08:49:58.021Z"
   },
   {
    "duration": 23,
    "start_time": "2022-02-06T08:50:05.031Z"
   },
   {
    "duration": 19,
    "start_time": "2022-02-06T08:58:15.976Z"
   },
   {
    "duration": 13,
    "start_time": "2022-02-06T08:58:32.440Z"
   },
   {
    "duration": 105,
    "start_time": "2022-02-06T09:00:01.753Z"
   },
   {
    "duration": 23,
    "start_time": "2022-02-06T09:01:25.465Z"
   },
   {
    "duration": 896,
    "start_time": "2022-02-06T09:05:35.474Z"
   },
   {
    "duration": 843,
    "start_time": "2022-02-06T09:05:53.250Z"
   },
   {
    "duration": 471,
    "start_time": "2022-02-06T09:10:37.497Z"
   },
   {
    "duration": 349,
    "start_time": "2022-02-06T09:13:48.737Z"
   },
   {
    "duration": 21,
    "start_time": "2022-02-06T09:13:53.298Z"
   },
   {
    "duration": 469,
    "start_time": "2022-02-06T09:13:56.252Z"
   },
   {
    "duration": 307,
    "start_time": "2022-02-06T09:18:48.014Z"
   },
   {
    "duration": 1566,
    "start_time": "2022-02-06T09:19:02.373Z"
   },
   {
    "duration": 51,
    "start_time": "2022-02-06T09:19:03.942Z"
   },
   {
    "duration": 19,
    "start_time": "2022-02-06T09:19:03.996Z"
   },
   {
    "duration": 9,
    "start_time": "2022-02-06T09:19:04.017Z"
   },
   {
    "duration": 38,
    "start_time": "2022-02-06T09:19:04.028Z"
   },
   {
    "duration": 9,
    "start_time": "2022-02-06T09:19:04.068Z"
   },
   {
    "duration": 13,
    "start_time": "2022-02-06T09:19:04.079Z"
   },
   {
    "duration": 23,
    "start_time": "2022-02-06T09:19:04.094Z"
   },
   {
    "duration": 51,
    "start_time": "2022-02-06T09:19:04.121Z"
   },
   {
    "duration": 12,
    "start_time": "2022-02-06T09:19:04.175Z"
   },
   {
    "duration": 22,
    "start_time": "2022-02-06T09:19:04.190Z"
   },
   {
    "duration": 57,
    "start_time": "2022-02-06T09:19:04.215Z"
   },
   {
    "duration": 479,
    "start_time": "2022-02-06T09:19:04.274Z"
   },
   {
    "duration": 878,
    "start_time": "2022-02-06T09:19:04.755Z"
   },
   {
    "duration": 472,
    "start_time": "2022-02-06T09:19:20.897Z"
   },
   {
    "duration": 475,
    "start_time": "2022-02-06T09:19:25.449Z"
   },
   {
    "duration": 534,
    "start_time": "2022-02-06T09:19:33.569Z"
   },
   {
    "duration": 622,
    "start_time": "2022-02-06T09:19:43.589Z"
   },
   {
    "duration": 687,
    "start_time": "2022-02-06T09:19:56.144Z"
   },
   {
    "duration": 620,
    "start_time": "2022-02-06T09:20:00.242Z"
   },
   {
    "duration": 946,
    "start_time": "2022-02-06T09:24:54.170Z"
   },
   {
    "duration": 349,
    "start_time": "2022-02-06T09:26:26.042Z"
   },
   {
    "duration": 20,
    "start_time": "2022-02-06T09:27:04.307Z"
   },
   {
    "duration": 763,
    "start_time": "2022-02-06T09:27:41.427Z"
   },
   {
    "duration": 616,
    "start_time": "2022-02-06T09:28:21.506Z"
   },
   {
    "duration": 2492,
    "start_time": "2022-02-06T09:29:56.012Z"
   },
   {
    "duration": 642,
    "start_time": "2022-02-06T09:37:42.333Z"
   },
   {
    "duration": 18,
    "start_time": "2022-02-06T09:38:13.244Z"
   },
   {
    "duration": 651,
    "start_time": "2022-02-06T09:43:30.951Z"
   },
   {
    "duration": 1541,
    "start_time": "2022-02-06T09:51:37.434Z"
   },
   {
    "duration": 388,
    "start_time": "2022-02-06T09:53:17.232Z"
   },
   {
    "duration": 640,
    "start_time": "2022-02-06T09:53:25.561Z"
   },
   {
    "duration": 1868,
    "start_time": "2022-02-06T09:53:48.194Z"
   },
   {
    "duration": 1135,
    "start_time": "2022-02-06T09:54:00.473Z"
   },
   {
    "duration": 321,
    "start_time": "2022-02-06T09:54:28.706Z"
   },
   {
    "duration": 961,
    "start_time": "2022-02-06T09:54:40.074Z"
   },
   {
    "duration": 1063,
    "start_time": "2022-02-06T09:54:50.617Z"
   },
   {
    "duration": 798,
    "start_time": "2022-02-06T09:55:54.114Z"
   },
   {
    "duration": 11,
    "start_time": "2022-02-06T09:59:39.668Z"
   },
   {
    "duration": 346,
    "start_time": "2022-02-06T12:56:29.958Z"
   },
   {
    "duration": 332,
    "start_time": "2022-02-06T12:56:58.838Z"
   },
   {
    "duration": 370,
    "start_time": "2022-02-06T12:57:35.582Z"
   },
   {
    "duration": 346,
    "start_time": "2022-02-06T12:57:48.758Z"
   },
   {
    "duration": 319,
    "start_time": "2022-02-06T12:58:34.301Z"
   },
   {
    "duration": 539,
    "start_time": "2022-02-06T13:03:22.306Z"
   },
   {
    "duration": 327,
    "start_time": "2022-02-06T13:05:24.423Z"
   },
   {
    "duration": 436,
    "start_time": "2022-02-06T13:05:32.415Z"
   },
   {
    "duration": 473,
    "start_time": "2022-02-06T13:05:54.129Z"
   },
   {
    "duration": 357,
    "start_time": "2022-02-06T13:06:06.439Z"
   },
   {
    "duration": 573,
    "start_time": "2022-02-06T13:07:12.120Z"
   },
   {
    "duration": 1006,
    "start_time": "2022-02-06T13:07:23.079Z"
   },
   {
    "duration": 343,
    "start_time": "2022-02-06T13:15:01.569Z"
   },
   {
    "duration": 327,
    "start_time": "2022-02-06T13:15:31.481Z"
   },
   {
    "duration": 1040,
    "start_time": "2022-02-06T13:15:42.257Z"
   },
   {
    "duration": 1049,
    "start_time": "2022-02-06T13:35:11.134Z"
   },
   {
    "duration": 1766,
    "start_time": "2022-02-06T13:35:33.210Z"
   },
   {
    "duration": 49,
    "start_time": "2022-02-06T13:35:34.979Z"
   },
   {
    "duration": 40,
    "start_time": "2022-02-06T13:35:35.032Z"
   },
   {
    "duration": 12,
    "start_time": "2022-02-06T13:35:35.076Z"
   },
   {
    "duration": 14,
    "start_time": "2022-02-06T13:35:35.092Z"
   },
   {
    "duration": 10,
    "start_time": "2022-02-06T13:35:35.108Z"
   },
   {
    "duration": 46,
    "start_time": "2022-02-06T13:35:35.120Z"
   },
   {
    "duration": 27,
    "start_time": "2022-02-06T13:35:35.169Z"
   },
   {
    "duration": 16,
    "start_time": "2022-02-06T13:35:35.200Z"
   },
   {
    "duration": 47,
    "start_time": "2022-02-06T13:35:35.219Z"
   },
   {
    "duration": 21,
    "start_time": "2022-02-06T13:35:35.268Z"
   },
   {
    "duration": 19,
    "start_time": "2022-02-06T13:35:35.292Z"
   },
   {
    "duration": 647,
    "start_time": "2022-02-06T13:35:35.313Z"
   },
   {
    "duration": 645,
    "start_time": "2022-02-06T13:35:35.962Z"
   },
   {
    "duration": 10,
    "start_time": "2022-02-06T13:35:36.609Z"
   },
   {
    "duration": 1268,
    "start_time": "2022-02-06T13:35:36.622Z"
   },
   {
    "duration": 934,
    "start_time": "2022-02-06T13:35:37.893Z"
   },
   {
    "duration": 398,
    "start_time": "2022-02-06T13:35:38.830Z"
   },
   {
    "duration": 908,
    "start_time": "2022-02-06T13:35:39.230Z"
   },
   {
    "duration": 2795,
    "start_time": "2022-02-06T13:35:40.141Z"
   },
   {
    "duration": 451,
    "start_time": "2022-02-06T13:36:16.038Z"
   },
   {
    "duration": 1561,
    "start_time": "2022-02-06T13:36:30.020Z"
   },
   {
    "duration": 49,
    "start_time": "2022-02-06T13:36:31.583Z"
   },
   {
    "duration": 38,
    "start_time": "2022-02-06T13:36:31.635Z"
   },
   {
    "duration": 8,
    "start_time": "2022-02-06T13:36:31.677Z"
   },
   {
    "duration": 13,
    "start_time": "2022-02-06T13:36:31.687Z"
   },
   {
    "duration": 10,
    "start_time": "2022-02-06T13:36:31.702Z"
   },
   {
    "duration": 47,
    "start_time": "2022-02-06T13:36:31.714Z"
   },
   {
    "duration": 24,
    "start_time": "2022-02-06T13:36:31.763Z"
   },
   {
    "duration": 17,
    "start_time": "2022-02-06T13:36:31.790Z"
   },
   {
    "duration": 50,
    "start_time": "2022-02-06T13:36:31.810Z"
   },
   {
    "duration": 20,
    "start_time": "2022-02-06T13:36:31.863Z"
   },
   {
    "duration": 19,
    "start_time": "2022-02-06T13:36:31.886Z"
   },
   {
    "duration": 646,
    "start_time": "2022-02-06T13:36:31.907Z"
   },
   {
    "duration": 639,
    "start_time": "2022-02-06T13:36:32.559Z"
   },
   {
    "duration": 9,
    "start_time": "2022-02-06T13:36:33.201Z"
   },
   {
    "duration": 1304,
    "start_time": "2022-02-06T13:36:33.213Z"
   },
   {
    "duration": 831,
    "start_time": "2022-02-06T13:36:34.519Z"
   },
   {
    "duration": 379,
    "start_time": "2022-02-06T13:36:35.360Z"
   },
   {
    "duration": 857,
    "start_time": "2022-02-06T13:36:35.742Z"
   },
   {
    "duration": 480,
    "start_time": "2022-02-06T13:36:36.601Z"
   },
   {
    "duration": 9,
    "start_time": "2022-02-06T13:37:13.899Z"
   },
   {
    "duration": 22,
    "start_time": "2022-02-06T13:38:41.476Z"
   },
   {
    "duration": 777,
    "start_time": "2022-02-06T13:40:59.971Z"
   },
   {
    "duration": 1166,
    "start_time": "2022-02-06T13:41:08.035Z"
   },
   {
    "duration": 593,
    "start_time": "2022-02-06T13:45:02.917Z"
   },
   {
    "duration": 451,
    "start_time": "2022-02-06T14:38:58.650Z"
   },
   {
    "duration": 459,
    "start_time": "2022-02-06T14:39:01.146Z"
   },
   {
    "duration": 1425,
    "start_time": "2022-02-06T14:40:34.322Z"
   },
   {
    "duration": 628,
    "start_time": "2022-02-06T14:42:24.100Z"
   },
   {
    "duration": 679,
    "start_time": "2022-02-06T14:43:03.171Z"
   },
   {
    "duration": 697,
    "start_time": "2022-02-06T14:44:42.171Z"
   },
   {
    "duration": 718,
    "start_time": "2022-02-06T14:45:18.027Z"
   },
   {
    "duration": 492,
    "start_time": "2022-02-06T14:48:29.782Z"
   },
   {
    "duration": 470,
    "start_time": "2022-02-06T14:49:04.909Z"
   },
   {
    "duration": 428,
    "start_time": "2022-02-06T14:49:19.085Z"
   },
   {
    "duration": 101,
    "start_time": "2022-02-06T14:50:50.269Z"
   },
   {
    "duration": 465,
    "start_time": "2022-02-06T14:51:29.157Z"
   },
   {
    "duration": 453,
    "start_time": "2022-02-06T14:52:36.511Z"
   },
   {
    "duration": 1828,
    "start_time": "2022-02-06T15:06:18.357Z"
   },
   {
    "duration": 52,
    "start_time": "2022-02-06T15:06:20.188Z"
   },
   {
    "duration": 30,
    "start_time": "2022-02-06T15:06:20.243Z"
   },
   {
    "duration": 18,
    "start_time": "2022-02-06T15:06:20.276Z"
   },
   {
    "duration": 19,
    "start_time": "2022-02-06T15:06:20.297Z"
   },
   {
    "duration": 45,
    "start_time": "2022-02-06T15:06:20.319Z"
   },
   {
    "duration": 20,
    "start_time": "2022-02-06T15:06:20.367Z"
   },
   {
    "duration": 27,
    "start_time": "2022-02-06T15:06:20.393Z"
   },
   {
    "duration": 47,
    "start_time": "2022-02-06T15:06:20.425Z"
   },
   {
    "duration": 20,
    "start_time": "2022-02-06T15:06:20.475Z"
   },
   {
    "duration": 28,
    "start_time": "2022-02-06T15:06:20.498Z"
   },
   {
    "duration": 31,
    "start_time": "2022-02-06T15:06:20.560Z"
   },
   {
    "duration": 805,
    "start_time": "2022-02-06T15:06:20.594Z"
   },
   {
    "duration": 734,
    "start_time": "2022-02-06T15:06:21.402Z"
   },
   {
    "duration": 9,
    "start_time": "2022-02-06T15:06:22.139Z"
   },
   {
    "duration": 1342,
    "start_time": "2022-02-06T15:06:22.159Z"
   },
   {
    "duration": 903,
    "start_time": "2022-02-06T15:06:23.505Z"
   },
   {
    "duration": 326,
    "start_time": "2022-02-06T15:06:24.411Z"
   },
   {
    "duration": 845,
    "start_time": "2022-02-06T15:06:24.740Z"
   },
   {
    "duration": 29,
    "start_time": "2022-02-06T15:06:25.588Z"
   },
   {
    "duration": 631,
    "start_time": "2022-02-06T15:06:25.619Z"
   },
   {
    "duration": 492,
    "start_time": "2022-02-06T15:06:26.253Z"
   },
   {
    "duration": 869,
    "start_time": "2022-02-06T15:06:26.751Z"
   },
   {
    "duration": 440,
    "start_time": "2022-02-06T15:06:38.166Z"
   },
   {
    "duration": 313,
    "start_time": "2022-02-06T15:15:29.295Z"
   },
   {
    "duration": 645,
    "start_time": "2022-02-06T15:15:44.518Z"
   },
   {
    "duration": 374,
    "start_time": "2022-02-06T15:16:01.279Z"
   },
   {
    "duration": 425,
    "start_time": "2022-02-06T15:16:18.512Z"
   },
   {
    "duration": 354,
    "start_time": "2022-02-06T15:16:24.542Z"
   },
   {
    "duration": 3030,
    "start_time": "2022-02-06T16:03:52.827Z"
   },
   {
    "duration": 23,
    "start_time": "2022-02-06T16:04:11.931Z"
   },
   {
    "duration": 38,
    "start_time": "2022-02-06T16:04:50.186Z"
   },
   {
    "duration": 196,
    "start_time": "2022-02-06T16:07:41.181Z"
   },
   {
    "duration": 163,
    "start_time": "2022-02-06T16:08:06.420Z"
   },
   {
    "duration": 25,
    "start_time": "2022-02-06T16:08:15.900Z"
   },
   {
    "duration": 146,
    "start_time": "2022-02-06T16:08:17.075Z"
   },
   {
    "duration": 26,
    "start_time": "2022-02-06T16:15:44.526Z"
   },
   {
    "duration": 37,
    "start_time": "2022-02-06T16:23:54.583Z"
   },
   {
    "duration": 26,
    "start_time": "2022-02-06T16:31:32.057Z"
   },
   {
    "duration": 106,
    "start_time": "2022-02-06T16:33:03.865Z"
   },
   {
    "duration": 19,
    "start_time": "2022-02-06T16:36:28.603Z"
   },
   {
    "duration": 22,
    "start_time": "2022-02-06T16:36:46.332Z"
   },
   {
    "duration": 22,
    "start_time": "2022-02-06T16:37:43.819Z"
   },
   {
    "duration": 327,
    "start_time": "2022-02-06T16:39:05.549Z"
   },
   {
    "duration": 23,
    "start_time": "2022-02-06T16:39:13.837Z"
   },
   {
    "duration": 22,
    "start_time": "2022-02-06T16:40:09.285Z"
   },
   {
    "duration": 1598,
    "start_time": "2022-02-06T16:40:36.777Z"
   },
   {
    "duration": 94,
    "start_time": "2022-02-06T16:40:38.378Z"
   },
   {
    "duration": 28,
    "start_time": "2022-02-06T16:40:38.476Z"
   },
   {
    "duration": 9,
    "start_time": "2022-02-06T16:40:38.508Z"
   },
   {
    "duration": 47,
    "start_time": "2022-02-06T16:40:38.520Z"
   },
   {
    "duration": 10,
    "start_time": "2022-02-06T16:40:38.570Z"
   },
   {
    "duration": 14,
    "start_time": "2022-02-06T16:40:38.583Z"
   },
   {
    "duration": 60,
    "start_time": "2022-02-06T16:40:38.600Z"
   },
   {
    "duration": 25,
    "start_time": "2022-02-06T16:40:38.663Z"
   },
   {
    "duration": 14,
    "start_time": "2022-02-06T16:40:38.692Z"
   },
   {
    "duration": 53,
    "start_time": "2022-02-06T16:40:38.708Z"
   },
   {
    "duration": 20,
    "start_time": "2022-02-06T16:40:38.763Z"
   },
   {
    "duration": 663,
    "start_time": "2022-02-06T16:40:38.786Z"
   },
   {
    "duration": 681,
    "start_time": "2022-02-06T16:40:39.452Z"
   },
   {
    "duration": 25,
    "start_time": "2022-02-06T16:40:40.137Z"
   },
   {
    "duration": 1382,
    "start_time": "2022-02-06T16:40:40.164Z"
   },
   {
    "duration": 956,
    "start_time": "2022-02-06T16:40:41.549Z"
   },
   {
    "duration": 335,
    "start_time": "2022-02-06T16:40:42.508Z"
   },
   {
    "duration": 1254,
    "start_time": "2022-02-06T16:40:42.846Z"
   },
   {
    "duration": 25,
    "start_time": "2022-02-06T16:40:44.103Z"
   },
   {
    "duration": 663,
    "start_time": "2022-02-06T16:40:44.131Z"
   },
   {
    "duration": 531,
    "start_time": "2022-02-06T16:40:44.797Z"
   },
   {
    "duration": 472,
    "start_time": "2022-02-06T16:40:45.332Z"
   },
   {
    "duration": 372,
    "start_time": "2022-02-06T16:40:45.807Z"
   },
   {
    "duration": 369,
    "start_time": "2022-02-06T16:40:46.181Z"
   },
   {
    "duration": 28,
    "start_time": "2022-02-06T16:40:46.559Z"
   },
   {
    "duration": 28,
    "start_time": "2022-02-06T16:40:46.589Z"
   },
   {
    "duration": 58,
    "start_time": "2022-02-06T16:40:46.620Z"
   },
   {
    "duration": 29,
    "start_time": "2022-02-06T16:40:46.681Z"
   },
   {
    "duration": 49,
    "start_time": "2022-02-06T16:40:46.712Z"
   },
   {
    "duration": 22,
    "start_time": "2022-02-06T16:40:46.764Z"
   },
   {
    "duration": 22,
    "start_time": "2022-02-06T16:40:46.788Z"
   },
   {
    "duration": 57,
    "start_time": "2022-02-06T16:40:46.812Z"
   },
   {
    "duration": 23,
    "start_time": "2022-02-06T17:01:50.843Z"
   },
   {
    "duration": 20,
    "start_time": "2022-02-06T17:06:47.340Z"
   },
   {
    "duration": 1565,
    "start_time": "2022-02-06T17:08:51.964Z"
   },
   {
    "duration": 52,
    "start_time": "2022-02-06T17:08:53.532Z"
   },
   {
    "duration": 20,
    "start_time": "2022-02-06T17:08:53.588Z"
   },
   {
    "duration": 9,
    "start_time": "2022-02-06T17:08:53.612Z"
   },
   {
    "duration": 46,
    "start_time": "2022-02-06T17:08:53.623Z"
   },
   {
    "duration": 8,
    "start_time": "2022-02-06T17:08:53.672Z"
   },
   {
    "duration": 13,
    "start_time": "2022-02-06T17:08:53.683Z"
   },
   {
    "duration": 21,
    "start_time": "2022-02-06T17:08:53.700Z"
   },
   {
    "duration": 51,
    "start_time": "2022-02-06T17:08:53.725Z"
   },
   {
    "duration": 10,
    "start_time": "2022-02-06T17:08:53.779Z"
   },
   {
    "duration": 21,
    "start_time": "2022-02-06T17:08:53.792Z"
   },
   {
    "duration": 53,
    "start_time": "2022-02-06T17:08:53.815Z"
   },
   {
    "duration": 642,
    "start_time": "2022-02-06T17:08:53.870Z"
   },
   {
    "duration": 628,
    "start_time": "2022-02-06T17:08:54.514Z"
   },
   {
    "duration": 14,
    "start_time": "2022-02-06T17:08:55.145Z"
   },
   {
    "duration": 1315,
    "start_time": "2022-02-06T17:08:55.161Z"
   },
   {
    "duration": 887,
    "start_time": "2022-02-06T17:08:56.479Z"
   },
   {
    "duration": 313,
    "start_time": "2022-02-06T17:08:57.369Z"
   },
   {
    "duration": 899,
    "start_time": "2022-02-06T17:08:57.685Z"
   },
   {
    "duration": 23,
    "start_time": "2022-02-06T17:08:58.587Z"
   },
   {
    "duration": 622,
    "start_time": "2022-02-06T17:08:58.612Z"
   },
   {
    "duration": 479,
    "start_time": "2022-02-06T17:08:59.236Z"
   },
   {
    "duration": 478,
    "start_time": "2022-02-06T17:08:59.720Z"
   },
   {
    "duration": 355,
    "start_time": "2022-02-06T17:09:00.200Z"
   },
   {
    "duration": 365,
    "start_time": "2022-02-06T17:09:00.560Z"
   },
   {
    "duration": 40,
    "start_time": "2022-02-06T17:09:00.928Z"
   },
   {
    "duration": 26,
    "start_time": "2022-02-06T17:09:00.971Z"
   },
   {
    "duration": 27,
    "start_time": "2022-02-06T17:09:01.000Z"
   },
   {
    "duration": 28,
    "start_time": "2022-02-06T17:09:01.059Z"
   },
   {
    "duration": 22,
    "start_time": "2022-02-06T17:09:01.090Z"
   },
   {
    "duration": 53,
    "start_time": "2022-02-06T17:09:01.114Z"
   },
   {
    "duration": 24,
    "start_time": "2022-02-06T17:09:01.170Z"
   },
   {
    "duration": 27,
    "start_time": "2022-02-06T17:09:01.197Z"
   },
   {
    "duration": 51,
    "start_time": "2022-02-06T17:09:01.227Z"
   },
   {
    "duration": 21,
    "start_time": "2022-02-06T17:09:01.280Z"
   },
   {
    "duration": 17,
    "start_time": "2022-02-06T17:09:38.772Z"
   },
   {
    "duration": 16,
    "start_time": "2022-02-06T17:09:46.323Z"
   },
   {
    "duration": 22,
    "start_time": "2022-02-06T17:10:52.970Z"
   },
   {
    "duration": 22,
    "start_time": "2022-02-06T17:10:58.345Z"
   },
   {
    "duration": 21,
    "start_time": "2022-02-06T17:11:44.636Z"
   },
   {
    "duration": 22,
    "start_time": "2022-02-06T17:13:03.859Z"
   },
   {
    "duration": 1469,
    "start_time": "2022-02-06T17:14:19.093Z"
   },
   {
    "duration": 53,
    "start_time": "2022-02-06T17:14:20.565Z"
   },
   {
    "duration": 40,
    "start_time": "2022-02-06T17:14:20.620Z"
   },
   {
    "duration": 8,
    "start_time": "2022-02-06T17:14:20.663Z"
   },
   {
    "duration": 13,
    "start_time": "2022-02-06T17:14:20.673Z"
   },
   {
    "duration": 10,
    "start_time": "2022-02-06T17:14:20.688Z"
   },
   {
    "duration": 12,
    "start_time": "2022-02-06T17:14:20.700Z"
   },
   {
    "duration": 61,
    "start_time": "2022-02-06T17:14:20.716Z"
   },
   {
    "duration": 16,
    "start_time": "2022-02-06T17:14:20.780Z"
   },
   {
    "duration": 11,
    "start_time": "2022-02-06T17:14:20.798Z"
   },
   {
    "duration": 52,
    "start_time": "2022-02-06T17:14:20.812Z"
   },
   {
    "duration": 19,
    "start_time": "2022-02-06T17:14:20.867Z"
   },
   {
    "duration": 635,
    "start_time": "2022-02-06T17:14:20.888Z"
   },
   {
    "duration": 620,
    "start_time": "2022-02-06T17:14:21.525Z"
   },
   {
    "duration": 18,
    "start_time": "2022-02-06T17:14:22.147Z"
   },
   {
    "duration": 1275,
    "start_time": "2022-02-06T17:14:22.168Z"
   },
   {
    "duration": 872,
    "start_time": "2022-02-06T17:14:23.445Z"
   },
   {
    "duration": 312,
    "start_time": "2022-02-06T17:14:24.320Z"
   },
   {
    "duration": 838,
    "start_time": "2022-02-06T17:14:24.634Z"
   },
   {
    "duration": 21,
    "start_time": "2022-02-06T17:14:25.475Z"
   },
   {
    "duration": 630,
    "start_time": "2022-02-06T17:14:25.498Z"
   },
   {
    "duration": 473,
    "start_time": "2022-02-06T17:14:26.131Z"
   },
   {
    "duration": 485,
    "start_time": "2022-02-06T17:14:26.608Z"
   },
   {
    "duration": 367,
    "start_time": "2022-02-06T17:14:27.096Z"
   },
   {
    "duration": 367,
    "start_time": "2022-02-06T17:14:27.465Z"
   },
   {
    "duration": 45,
    "start_time": "2022-02-06T17:14:27.835Z"
   },
   {
    "duration": 26,
    "start_time": "2022-02-06T17:14:27.883Z"
   },
   {
    "duration": 54,
    "start_time": "2022-02-06T17:14:27.912Z"
   },
   {
    "duration": 25,
    "start_time": "2022-02-06T17:14:27.969Z"
   },
   {
    "duration": 19,
    "start_time": "2022-02-06T17:14:27.996Z"
   },
   {
    "duration": 46,
    "start_time": "2022-02-06T17:14:28.017Z"
   },
   {
    "duration": 23,
    "start_time": "2022-02-06T17:14:28.066Z"
   },
   {
    "duration": 20,
    "start_time": "2022-02-06T17:14:28.092Z"
   },
   {
    "duration": 62,
    "start_time": "2022-02-06T17:14:28.115Z"
   },
   {
    "duration": 21,
    "start_time": "2022-02-06T17:14:28.179Z"
   },
   {
    "duration": 20,
    "start_time": "2022-02-06T17:14:28.202Z"
   },
   {
    "duration": 50,
    "start_time": "2022-02-06T17:14:28.225Z"
   },
   {
    "duration": 1481,
    "start_time": "2022-02-06T17:15:51.395Z"
   },
   {
    "duration": 50,
    "start_time": "2022-02-06T17:15:52.878Z"
   },
   {
    "duration": 35,
    "start_time": "2022-02-06T17:15:52.931Z"
   },
   {
    "duration": 9,
    "start_time": "2022-02-06T17:15:52.969Z"
   },
   {
    "duration": 12,
    "start_time": "2022-02-06T17:15:52.980Z"
   },
   {
    "duration": 9,
    "start_time": "2022-02-06T17:15:52.995Z"
   },
   {
    "duration": 13,
    "start_time": "2022-02-06T17:15:53.007Z"
   },
   {
    "duration": 23,
    "start_time": "2022-02-06T17:15:53.059Z"
   },
   {
    "duration": 18,
    "start_time": "2022-02-06T17:15:53.086Z"
   },
   {
    "duration": 10,
    "start_time": "2022-02-06T17:15:53.107Z"
   },
   {
    "duration": 59,
    "start_time": "2022-02-06T17:15:53.120Z"
   },
   {
    "duration": 22,
    "start_time": "2022-02-06T17:15:53.182Z"
   },
   {
    "duration": 633,
    "start_time": "2022-02-06T17:15:53.207Z"
   },
   {
    "duration": 639,
    "start_time": "2022-02-06T17:15:53.843Z"
   },
   {
    "duration": 10,
    "start_time": "2022-02-06T17:15:54.484Z"
   },
   {
    "duration": 1297,
    "start_time": "2022-02-06T17:15:54.497Z"
   },
   {
    "duration": 907,
    "start_time": "2022-02-06T17:15:55.796Z"
   },
   {
    "duration": 318,
    "start_time": "2022-02-06T17:15:56.705Z"
   },
   {
    "duration": 863,
    "start_time": "2022-02-06T17:15:57.025Z"
   },
   {
    "duration": 27,
    "start_time": "2022-02-06T17:15:57.891Z"
   },
   {
    "duration": 693,
    "start_time": "2022-02-06T17:15:57.921Z"
   },
   {
    "duration": 486,
    "start_time": "2022-02-06T17:15:58.616Z"
   },
   {
    "duration": 512,
    "start_time": "2022-02-06T17:15:59.106Z"
   },
   {
    "duration": 349,
    "start_time": "2022-02-06T17:15:59.620Z"
   },
   {
    "duration": 363,
    "start_time": "2022-02-06T17:15:59.971Z"
   },
   {
    "duration": 36,
    "start_time": "2022-02-06T17:16:00.337Z"
   },
   {
    "duration": 28,
    "start_time": "2022-02-06T17:16:00.378Z"
   },
   {
    "duration": 53,
    "start_time": "2022-02-06T17:16:00.408Z"
   },
   {
    "duration": 25,
    "start_time": "2022-02-06T17:16:00.463Z"
   },
   {
    "duration": 25,
    "start_time": "2022-02-06T17:16:00.491Z"
   },
   {
    "duration": 48,
    "start_time": "2022-02-06T17:16:00.519Z"
   },
   {
    "duration": 23,
    "start_time": "2022-02-06T17:16:00.570Z"
   },
   {
    "duration": 26,
    "start_time": "2022-02-06T17:16:00.596Z"
   },
   {
    "duration": 52,
    "start_time": "2022-02-06T17:16:00.625Z"
   },
   {
    "duration": 21,
    "start_time": "2022-02-06T17:16:00.680Z"
   },
   {
    "duration": 20,
    "start_time": "2022-02-06T17:16:00.704Z"
   },
   {
    "duration": 22,
    "start_time": "2022-02-06T17:16:00.760Z"
   },
   {
    "duration": 1629,
    "start_time": "2022-02-06T17:16:45.138Z"
   },
   {
    "duration": 49,
    "start_time": "2022-02-06T17:16:46.769Z"
   },
   {
    "duration": 39,
    "start_time": "2022-02-06T17:16:46.821Z"
   },
   {
    "duration": 7,
    "start_time": "2022-02-06T17:16:46.863Z"
   },
   {
    "duration": 13,
    "start_time": "2022-02-06T17:16:46.873Z"
   },
   {
    "duration": 8,
    "start_time": "2022-02-06T17:16:46.888Z"
   },
   {
    "duration": 13,
    "start_time": "2022-02-06T17:16:46.899Z"
   },
   {
    "duration": 61,
    "start_time": "2022-02-06T17:16:46.914Z"
   },
   {
    "duration": 17,
    "start_time": "2022-02-06T17:16:46.979Z"
   },
   {
    "duration": 14,
    "start_time": "2022-02-06T17:16:46.999Z"
   },
   {
    "duration": 55,
    "start_time": "2022-02-06T17:16:47.016Z"
   },
   {
    "duration": 21,
    "start_time": "2022-02-06T17:16:47.074Z"
   },
   {
    "duration": 663,
    "start_time": "2022-02-06T17:16:47.098Z"
   },
   {
    "duration": 651,
    "start_time": "2022-02-06T17:16:47.763Z"
   },
   {
    "duration": 10,
    "start_time": "2022-02-06T17:16:48.417Z"
   },
   {
    "duration": 1310,
    "start_time": "2022-02-06T17:16:48.429Z"
   },
   {
    "duration": 883,
    "start_time": "2022-02-06T17:16:49.741Z"
   },
   {
    "duration": 311,
    "start_time": "2022-02-06T17:16:50.626Z"
   },
   {
    "duration": 872,
    "start_time": "2022-02-06T17:16:50.940Z"
   },
   {
    "duration": 23,
    "start_time": "2022-02-06T17:16:51.815Z"
   },
   {
    "duration": 626,
    "start_time": "2022-02-06T17:16:51.860Z"
   },
   {
    "duration": 456,
    "start_time": "2022-02-06T17:16:52.488Z"
   },
   {
    "duration": 467,
    "start_time": "2022-02-06T17:16:52.947Z"
   },
   {
    "duration": 363,
    "start_time": "2022-02-06T17:16:53.416Z"
   },
   {
    "duration": 369,
    "start_time": "2022-02-06T17:16:53.781Z"
   },
   {
    "duration": 26,
    "start_time": "2022-02-06T17:16:54.159Z"
   },
   {
    "duration": 25,
    "start_time": "2022-02-06T17:16:54.190Z"
   },
   {
    "duration": 51,
    "start_time": "2022-02-06T17:16:54.217Z"
   },
   {
    "duration": 25,
    "start_time": "2022-02-06T17:16:54.270Z"
   },
   {
    "duration": 21,
    "start_time": "2022-02-06T17:16:54.298Z"
   },
   {
    "duration": 55,
    "start_time": "2022-02-06T17:16:54.321Z"
   },
   {
    "duration": 22,
    "start_time": "2022-02-06T17:16:54.378Z"
   },
   {
    "duration": 21,
    "start_time": "2022-02-06T17:16:54.403Z"
   },
   {
    "duration": 21,
    "start_time": "2022-02-06T17:16:54.458Z"
   },
   {
    "duration": 20,
    "start_time": "2022-02-06T17:16:54.481Z"
   },
   {
    "duration": 20,
    "start_time": "2022-02-06T17:16:54.503Z"
   },
   {
    "duration": 50,
    "start_time": "2022-02-06T17:16:54.525Z"
   },
   {
    "duration": 1195,
    "start_time": "2022-02-07T16:23:27.566Z"
   },
   {
    "duration": 35,
    "start_time": "2022-02-07T16:23:28.763Z"
   },
   {
    "duration": 11,
    "start_time": "2022-02-07T16:23:28.800Z"
   },
   {
    "duration": 7,
    "start_time": "2022-02-07T16:23:28.813Z"
   },
   {
    "duration": 7,
    "start_time": "2022-02-07T16:23:28.822Z"
   },
   {
    "duration": 5,
    "start_time": "2022-02-07T16:23:28.831Z"
   },
   {
    "duration": 9,
    "start_time": "2022-02-07T16:23:28.838Z"
   },
   {
    "duration": 46,
    "start_time": "2022-02-07T16:23:28.848Z"
   },
   {
    "duration": 11,
    "start_time": "2022-02-07T16:23:28.897Z"
   },
   {
    "duration": 7,
    "start_time": "2022-02-07T16:23:28.910Z"
   },
   {
    "duration": 12,
    "start_time": "2022-02-07T16:23:28.919Z"
   },
   {
    "duration": 12,
    "start_time": "2022-02-07T16:23:28.932Z"
   },
   {
    "duration": 397,
    "start_time": "2022-02-07T16:23:28.945Z"
   },
   {
    "duration": 378,
    "start_time": "2022-02-07T16:23:29.343Z"
   },
   {
    "duration": 6,
    "start_time": "2022-02-07T16:23:29.723Z"
   },
   {
    "duration": 880,
    "start_time": "2022-02-07T16:23:29.730Z"
   },
   {
    "duration": 583,
    "start_time": "2022-02-07T16:23:30.611Z"
   },
   {
    "duration": 192,
    "start_time": "2022-02-07T16:23:31.195Z"
   },
   {
    "duration": 537,
    "start_time": "2022-02-07T16:23:31.389Z"
   },
   {
    "duration": 15,
    "start_time": "2022-02-07T16:23:31.928Z"
   },
   {
    "duration": 373,
    "start_time": "2022-02-07T16:23:31.945Z"
   },
   {
    "duration": 294,
    "start_time": "2022-02-07T16:23:32.320Z"
   },
   {
    "duration": 310,
    "start_time": "2022-02-07T16:23:32.615Z"
   },
   {
    "duration": 194,
    "start_time": "2022-02-07T16:23:32.927Z"
   },
   {
    "duration": 210,
    "start_time": "2022-02-07T16:23:33.123Z"
   },
   {
    "duration": 13,
    "start_time": "2022-02-07T16:23:33.335Z"
   },
   {
    "duration": 31,
    "start_time": "2022-02-07T16:23:33.351Z"
   },
   {
    "duration": 39,
    "start_time": "2022-02-07T16:23:33.385Z"
   },
   {
    "duration": 22,
    "start_time": "2022-02-07T16:23:33.425Z"
   },
   {
    "duration": 47,
    "start_time": "2022-02-07T16:23:33.448Z"
   },
   {
    "duration": 51,
    "start_time": "2022-02-07T16:23:33.497Z"
   },
   {
    "duration": 35,
    "start_time": "2022-02-07T16:23:33.550Z"
   },
   {
    "duration": 21,
    "start_time": "2022-02-07T16:23:33.587Z"
   },
   {
    "duration": 25,
    "start_time": "2022-02-07T16:23:33.610Z"
   },
   {
    "duration": 51,
    "start_time": "2022-02-07T16:23:33.636Z"
   },
   {
    "duration": 21,
    "start_time": "2022-02-07T16:23:33.689Z"
   },
   {
    "duration": 33,
    "start_time": "2022-02-07T16:23:33.712Z"
   },
   {
    "duration": 2,
    "start_time": "2022-02-07T16:34:13.616Z"
   },
   {
    "duration": 2,
    "start_time": "2022-02-07T16:34:16.149Z"
   },
   {
    "duration": 9,
    "start_time": "2022-02-07T16:38:38.212Z"
   },
   {
    "duration": 551,
    "start_time": "2022-02-07T16:39:52.159Z"
   },
   {
    "duration": 9,
    "start_time": "2022-02-07T16:40:02.599Z"
   },
   {
    "duration": 5,
    "start_time": "2022-02-07T16:42:45.429Z"
   },
   {
    "duration": 4,
    "start_time": "2022-02-07T16:48:05.351Z"
   },
   {
    "duration": 4,
    "start_time": "2022-02-07T16:50:42.735Z"
   },
   {
    "duration": 1213,
    "start_time": "2022-02-07T16:51:04.654Z"
   },
   {
    "duration": 38,
    "start_time": "2022-02-07T16:51:05.868Z"
   },
   {
    "duration": 10,
    "start_time": "2022-02-07T16:51:05.908Z"
   },
   {
    "duration": 6,
    "start_time": "2022-02-07T16:51:05.920Z"
   },
   {
    "duration": 7,
    "start_time": "2022-02-07T16:51:05.927Z"
   },
   {
    "duration": 5,
    "start_time": "2022-02-07T16:51:05.936Z"
   },
   {
    "duration": 43,
    "start_time": "2022-02-07T16:51:05.943Z"
   },
   {
    "duration": 14,
    "start_time": "2022-02-07T16:51:05.988Z"
   },
   {
    "duration": 14,
    "start_time": "2022-02-07T16:51:06.005Z"
   },
   {
    "duration": 7,
    "start_time": "2022-02-07T16:51:06.021Z"
   },
   {
    "duration": 12,
    "start_time": "2022-02-07T16:51:06.029Z"
   },
   {
    "duration": 43,
    "start_time": "2022-02-07T16:51:06.042Z"
   },
   {
    "duration": 360,
    "start_time": "2022-02-07T16:51:06.086Z"
   },
   {
    "duration": 385,
    "start_time": "2022-02-07T16:51:06.447Z"
   },
   {
    "duration": 6,
    "start_time": "2022-02-07T16:51:06.834Z"
   },
   {
    "duration": 861,
    "start_time": "2022-02-07T16:51:06.842Z"
   },
   {
    "duration": 570,
    "start_time": "2022-02-07T16:51:07.705Z"
   },
   {
    "duration": 179,
    "start_time": "2022-02-07T16:51:08.284Z"
   },
   {
    "duration": 583,
    "start_time": "2022-02-07T16:51:08.465Z"
   },
   {
    "duration": 24,
    "start_time": "2022-02-07T16:51:09.050Z"
   },
   {
    "duration": 377,
    "start_time": "2022-02-07T16:51:09.075Z"
   },
   {
    "duration": 348,
    "start_time": "2022-02-07T16:51:09.454Z"
   },
   {
    "duration": 315,
    "start_time": "2022-02-07T16:51:09.806Z"
   },
   {
    "duration": 207,
    "start_time": "2022-02-07T16:51:10.123Z"
   },
   {
    "duration": 216,
    "start_time": "2022-02-07T16:51:10.332Z"
   },
   {
    "duration": 29,
    "start_time": "2022-02-07T16:51:10.550Z"
   },
   {
    "duration": 36,
    "start_time": "2022-02-07T16:51:10.580Z"
   },
   {
    "duration": 39,
    "start_time": "2022-02-07T16:51:10.617Z"
   },
   {
    "duration": 37,
    "start_time": "2022-02-07T16:51:10.658Z"
   },
   {
    "duration": 420,
    "start_time": "2022-02-07T16:51:10.697Z"
   },
   {
    "duration": 5,
    "start_time": "2022-02-07T16:51:11.114Z"
   },
   {
    "duration": 4,
    "start_time": "2022-02-07T16:51:11.116Z"
   },
   {
    "duration": 3,
    "start_time": "2022-02-07T16:51:11.118Z"
   },
   {
    "duration": 2,
    "start_time": "2022-02-07T16:51:11.120Z"
   },
   {
    "duration": 1,
    "start_time": "2022-02-07T16:51:11.122Z"
   },
   {
    "duration": -1,
    "start_time": "2022-02-07T16:51:11.125Z"
   },
   {
    "duration": -1,
    "start_time": "2022-02-07T16:51:11.127Z"
   },
   {
    "duration": -2,
    "start_time": "2022-02-07T16:51:11.129Z"
   },
   {
    "duration": -2,
    "start_time": "2022-02-07T16:51:11.131Z"
   },
   {
    "duration": -3,
    "start_time": "2022-02-07T16:51:11.133Z"
   },
   {
    "duration": -3,
    "start_time": "2022-02-07T16:51:11.135Z"
   },
   {
    "duration": 1145,
    "start_time": "2022-02-07T16:52:28.005Z"
   },
   {
    "duration": 36,
    "start_time": "2022-02-07T16:52:29.152Z"
   },
   {
    "duration": 11,
    "start_time": "2022-02-07T16:52:29.190Z"
   },
   {
    "duration": 5,
    "start_time": "2022-02-07T16:52:29.203Z"
   },
   {
    "duration": 8,
    "start_time": "2022-02-07T16:52:29.209Z"
   },
   {
    "duration": 8,
    "start_time": "2022-02-07T16:52:29.219Z"
   },
   {
    "duration": 10,
    "start_time": "2022-02-07T16:52:29.228Z"
   },
   {
    "duration": 44,
    "start_time": "2022-02-07T16:52:29.239Z"
   },
   {
    "duration": 16,
    "start_time": "2022-02-07T16:52:29.287Z"
   },
   {
    "duration": 9,
    "start_time": "2022-02-07T16:52:29.305Z"
   },
   {
    "duration": 14,
    "start_time": "2022-02-07T16:52:29.315Z"
   },
   {
    "duration": 57,
    "start_time": "2022-02-07T16:52:29.330Z"
   },
   {
    "duration": 371,
    "start_time": "2022-02-07T16:52:29.389Z"
   },
   {
    "duration": 387,
    "start_time": "2022-02-07T16:52:29.762Z"
   },
   {
    "duration": 7,
    "start_time": "2022-02-07T16:52:30.151Z"
   },
   {
    "duration": 876,
    "start_time": "2022-02-07T16:52:30.160Z"
   },
   {
    "duration": 569,
    "start_time": "2022-02-07T16:52:31.038Z"
   },
   {
    "duration": 192,
    "start_time": "2022-02-07T16:52:31.609Z"
   },
   {
    "duration": 554,
    "start_time": "2022-02-07T16:52:31.802Z"
   },
   {
    "duration": 29,
    "start_time": "2022-02-07T16:52:32.358Z"
   },
   {
    "duration": 366,
    "start_time": "2022-02-07T16:52:32.389Z"
   },
   {
    "duration": 345,
    "start_time": "2022-02-07T16:52:32.757Z"
   },
   {
    "duration": 292,
    "start_time": "2022-02-07T16:52:33.104Z"
   },
   {
    "duration": 215,
    "start_time": "2022-02-07T16:52:33.398Z"
   },
   {
    "duration": 209,
    "start_time": "2022-02-07T16:52:33.615Z"
   },
   {
    "duration": 16,
    "start_time": "2022-02-07T16:52:33.825Z"
   },
   {
    "duration": 32,
    "start_time": "2022-02-07T16:52:33.844Z"
   },
   {
    "duration": 18,
    "start_time": "2022-02-07T16:52:33.882Z"
   },
   {
    "duration": 15,
    "start_time": "2022-02-07T16:52:33.902Z"
   },
   {
    "duration": 403,
    "start_time": "2022-02-07T16:52:33.918Z"
   },
   {
    "duration": 2,
    "start_time": "2022-02-07T16:52:34.321Z"
   },
   {
    "duration": -1,
    "start_time": "2022-02-07T16:52:34.325Z"
   },
   {
    "duration": -2,
    "start_time": "2022-02-07T16:52:34.327Z"
   },
   {
    "duration": -4,
    "start_time": "2022-02-07T16:52:34.330Z"
   },
   {
    "duration": -5,
    "start_time": "2022-02-07T16:52:34.332Z"
   },
   {
    "duration": -7,
    "start_time": "2022-02-07T16:52:34.335Z"
   },
   {
    "duration": -8,
    "start_time": "2022-02-07T16:52:34.337Z"
   },
   {
    "duration": -10,
    "start_time": "2022-02-07T16:52:34.340Z"
   },
   {
    "duration": -11,
    "start_time": "2022-02-07T16:52:34.342Z"
   },
   {
    "duration": -18,
    "start_time": "2022-02-07T16:52:34.350Z"
   },
   {
    "duration": -19,
    "start_time": "2022-02-07T16:52:34.352Z"
   },
   {
    "duration": 1189,
    "start_time": "2022-02-07T16:53:51.867Z"
   },
   {
    "duration": 36,
    "start_time": "2022-02-07T16:53:53.058Z"
   },
   {
    "duration": 10,
    "start_time": "2022-02-07T16:53:53.096Z"
   },
   {
    "duration": 6,
    "start_time": "2022-02-07T16:53:53.107Z"
   },
   {
    "duration": 8,
    "start_time": "2022-02-07T16:53:53.114Z"
   },
   {
    "duration": 6,
    "start_time": "2022-02-07T16:53:53.124Z"
   },
   {
    "duration": 10,
    "start_time": "2022-02-07T16:53:53.132Z"
   },
   {
    "duration": 49,
    "start_time": "2022-02-07T16:53:53.145Z"
   },
   {
    "duration": 12,
    "start_time": "2022-02-07T16:53:53.196Z"
   },
   {
    "duration": 10,
    "start_time": "2022-02-07T16:53:53.209Z"
   },
   {
    "duration": 14,
    "start_time": "2022-02-07T16:53:53.220Z"
   },
   {
    "duration": 12,
    "start_time": "2022-02-07T16:53:53.236Z"
   },
   {
    "duration": 435,
    "start_time": "2022-02-07T16:53:53.272Z"
   },
   {
    "duration": 422,
    "start_time": "2022-02-07T16:53:53.709Z"
   },
   {
    "duration": 7,
    "start_time": "2022-02-07T16:53:54.132Z"
   },
   {
    "duration": 1075,
    "start_time": "2022-02-07T16:53:54.141Z"
   },
   {
    "duration": 666,
    "start_time": "2022-02-07T16:53:55.219Z"
   },
   {
    "duration": 207,
    "start_time": "2022-02-07T16:53:55.888Z"
   },
   {
    "duration": 581,
    "start_time": "2022-02-07T16:53:56.097Z"
   },
   {
    "duration": 21,
    "start_time": "2022-02-07T16:53:56.680Z"
   },
   {
    "duration": 409,
    "start_time": "2022-02-07T16:53:56.702Z"
   },
   {
    "duration": 306,
    "start_time": "2022-02-07T16:53:57.112Z"
   },
   {
    "duration": 295,
    "start_time": "2022-02-07T16:53:57.422Z"
   },
   {
    "duration": 222,
    "start_time": "2022-02-07T16:53:57.720Z"
   },
   {
    "duration": 250,
    "start_time": "2022-02-07T16:53:57.944Z"
   },
   {
    "duration": 26,
    "start_time": "2022-02-07T16:53:58.197Z"
   },
   {
    "duration": 21,
    "start_time": "2022-02-07T16:53:58.225Z"
   },
   {
    "duration": 45,
    "start_time": "2022-02-07T16:53:58.247Z"
   },
   {
    "duration": 16,
    "start_time": "2022-02-07T16:53:58.294Z"
   },
   {
    "duration": 516,
    "start_time": "2022-02-07T16:53:58.312Z"
   },
   {
    "duration": 9,
    "start_time": "2022-02-07T16:53:58.822Z"
   },
   {
    "duration": 7,
    "start_time": "2022-02-07T16:53:58.825Z"
   },
   {
    "duration": 1,
    "start_time": "2022-02-07T16:53:58.832Z"
   },
   {
    "duration": -5,
    "start_time": "2022-02-07T16:53:58.839Z"
   },
   {
    "duration": -6,
    "start_time": "2022-02-07T16:53:58.841Z"
   },
   {
    "duration": -7,
    "start_time": "2022-02-07T16:53:58.843Z"
   },
   {
    "duration": -8,
    "start_time": "2022-02-07T16:53:58.845Z"
   },
   {
    "duration": -8,
    "start_time": "2022-02-07T16:53:58.847Z"
   },
   {
    "duration": -9,
    "start_time": "2022-02-07T16:53:58.849Z"
   },
   {
    "duration": -10,
    "start_time": "2022-02-07T16:53:58.851Z"
   },
   {
    "duration": -10,
    "start_time": "2022-02-07T16:53:58.853Z"
   },
   {
    "duration": 1224,
    "start_time": "2022-02-07T16:55:01.244Z"
   },
   {
    "duration": 36,
    "start_time": "2022-02-07T16:55:02.470Z"
   },
   {
    "duration": 10,
    "start_time": "2022-02-07T16:55:02.508Z"
   },
   {
    "duration": 7,
    "start_time": "2022-02-07T16:55:02.520Z"
   },
   {
    "duration": 9,
    "start_time": "2022-02-07T16:55:02.528Z"
   },
   {
    "duration": 40,
    "start_time": "2022-02-07T16:55:02.539Z"
   },
   {
    "duration": 10,
    "start_time": "2022-02-07T16:55:02.581Z"
   },
   {
    "duration": 14,
    "start_time": "2022-02-07T16:55:02.593Z"
   },
   {
    "duration": 11,
    "start_time": "2022-02-07T16:55:02.609Z"
   },
   {
    "duration": 7,
    "start_time": "2022-02-07T16:55:02.621Z"
   },
   {
    "duration": 11,
    "start_time": "2022-02-07T16:55:02.630Z"
   },
   {
    "duration": 45,
    "start_time": "2022-02-07T16:55:02.643Z"
   },
   {
    "duration": 370,
    "start_time": "2022-02-07T16:55:02.689Z"
   },
   {
    "duration": 391,
    "start_time": "2022-02-07T16:55:03.061Z"
   },
   {
    "duration": 7,
    "start_time": "2022-02-07T16:55:03.454Z"
   },
   {
    "duration": 835,
    "start_time": "2022-02-07T16:55:03.471Z"
   },
   {
    "duration": 584,
    "start_time": "2022-02-07T16:55:04.308Z"
   },
   {
    "duration": 205,
    "start_time": "2022-02-07T16:55:04.894Z"
   },
   {
    "duration": 540,
    "start_time": "2022-02-07T16:55:05.101Z"
   },
   {
    "duration": 16,
    "start_time": "2022-02-07T16:55:05.643Z"
   },
   {
    "duration": 380,
    "start_time": "2022-02-07T16:55:05.672Z"
   },
   {
    "duration": 362,
    "start_time": "2022-02-07T16:55:06.054Z"
   },
   {
    "duration": 302,
    "start_time": "2022-02-07T16:55:06.419Z"
   },
   {
    "duration": 213,
    "start_time": "2022-02-07T16:55:06.723Z"
   },
   {
    "duration": 224,
    "start_time": "2022-02-07T16:55:06.937Z"
   },
   {
    "duration": 26,
    "start_time": "2022-02-07T16:55:07.163Z"
   },
   {
    "duration": 17,
    "start_time": "2022-02-07T16:55:07.191Z"
   },
   {
    "duration": 14,
    "start_time": "2022-02-07T16:55:07.210Z"
   },
   {
    "duration": 14,
    "start_time": "2022-02-07T16:55:07.226Z"
   },
   {
    "duration": 52,
    "start_time": "2022-02-07T16:55:07.241Z"
   },
   {
    "duration": 13,
    "start_time": "2022-02-07T16:55:07.294Z"
   },
   {
    "duration": 12,
    "start_time": "2022-02-07T16:55:07.308Z"
   },
   {
    "duration": 11,
    "start_time": "2022-02-07T16:55:07.322Z"
   },
   {
    "duration": 43,
    "start_time": "2022-02-07T16:55:07.335Z"
   },
   {
    "duration": 15,
    "start_time": "2022-02-07T16:55:07.381Z"
   },
   {
    "duration": 15,
    "start_time": "2022-02-07T16:55:07.398Z"
   },
   {
    "duration": 12,
    "start_time": "2022-02-07T16:55:07.414Z"
   },
   {
    "duration": 7,
    "start_time": "2022-02-07T16:55:07.427Z"
   },
   {
    "duration": 4,
    "start_time": "2022-02-07T16:55:07.436Z"
   },
   {
    "duration": 36,
    "start_time": "2022-02-07T16:55:07.441Z"
   },
   {
    "duration": 8,
    "start_time": "2022-02-07T16:55:07.479Z"
   },
   {
    "duration": 5,
    "start_time": "2022-02-07T16:57:43.817Z"
   },
   {
    "duration": 11,
    "start_time": "2022-02-07T16:59:10.034Z"
   },
   {
    "duration": 4,
    "start_time": "2022-02-07T16:59:20.954Z"
   },
   {
    "duration": 6,
    "start_time": "2022-02-07T16:59:45.370Z"
   },
   {
    "duration": 13,
    "start_time": "2022-02-07T17:10:56.822Z"
   },
   {
    "duration": 13,
    "start_time": "2022-02-07T17:17:09.296Z"
   },
   {
    "duration": 9,
    "start_time": "2022-02-07T17:18:25.225Z"
   },
   {
    "duration": 4,
    "start_time": "2022-02-07T17:18:40.463Z"
   },
   {
    "duration": 6,
    "start_time": "2022-02-07T17:20:09.941Z"
   },
   {
    "duration": 1204,
    "start_time": "2022-02-07T17:52:43.551Z"
   },
   {
    "duration": 37,
    "start_time": "2022-02-07T17:52:44.756Z"
   },
   {
    "duration": 12,
    "start_time": "2022-02-07T17:52:44.795Z"
   },
   {
    "duration": 8,
    "start_time": "2022-02-07T17:52:44.808Z"
   },
   {
    "duration": 8,
    "start_time": "2022-02-07T17:52:44.817Z"
   },
   {
    "duration": 7,
    "start_time": "2022-02-07T17:52:44.826Z"
   },
   {
    "duration": 9,
    "start_time": "2022-02-07T17:52:44.835Z"
   },
   {
    "duration": 21,
    "start_time": "2022-02-07T17:52:44.871Z"
   },
   {
    "duration": 13,
    "start_time": "2022-02-07T17:52:44.895Z"
   },
   {
    "duration": 9,
    "start_time": "2022-02-07T17:52:44.910Z"
   },
   {
    "duration": 13,
    "start_time": "2022-02-07T17:52:44.921Z"
   },
   {
    "duration": 53,
    "start_time": "2022-02-07T17:52:44.936Z"
   },
   {
    "duration": 358,
    "start_time": "2022-02-07T17:52:44.990Z"
   },
   {
    "duration": 379,
    "start_time": "2022-02-07T17:52:45.350Z"
   },
   {
    "duration": 6,
    "start_time": "2022-02-07T17:52:45.731Z"
   },
   {
    "duration": 847,
    "start_time": "2022-02-07T17:52:45.738Z"
   },
   {
    "duration": 564,
    "start_time": "2022-02-07T17:52:46.587Z"
   },
   {
    "duration": 200,
    "start_time": "2022-02-07T17:52:47.153Z"
   },
   {
    "duration": 577,
    "start_time": "2022-02-07T17:52:47.355Z"
   },
   {
    "duration": 15,
    "start_time": "2022-02-07T17:52:47.934Z"
   },
   {
    "duration": 384,
    "start_time": "2022-02-07T17:52:47.950Z"
   },
   {
    "duration": 355,
    "start_time": "2022-02-07T17:52:48.336Z"
   },
   {
    "duration": 323,
    "start_time": "2022-02-07T17:52:48.695Z"
   },
   {
    "duration": 227,
    "start_time": "2022-02-07T17:52:49.020Z"
   },
   {
    "duration": 215,
    "start_time": "2022-02-07T17:52:49.248Z"
   },
   {
    "duration": 25,
    "start_time": "2022-02-07T17:52:49.465Z"
   },
   {
    "duration": 14,
    "start_time": "2022-02-07T17:52:49.492Z"
   },
   {
    "duration": 16,
    "start_time": "2022-02-07T17:52:49.507Z"
   },
   {
    "duration": 14,
    "start_time": "2022-02-07T17:52:49.525Z"
   },
   {
    "duration": 35,
    "start_time": "2022-02-07T17:52:49.541Z"
   },
   {
    "duration": 17,
    "start_time": "2022-02-07T17:52:49.578Z"
   },
   {
    "duration": 13,
    "start_time": "2022-02-07T17:52:49.596Z"
   },
   {
    "duration": 12,
    "start_time": "2022-02-07T17:52:49.610Z"
   },
   {
    "duration": 11,
    "start_time": "2022-02-07T17:52:49.624Z"
   },
   {
    "duration": 48,
    "start_time": "2022-02-07T17:52:49.637Z"
   },
   {
    "duration": 13,
    "start_time": "2022-02-07T17:52:49.687Z"
   },
   {
    "duration": 15,
    "start_time": "2022-02-07T17:52:49.701Z"
   },
   {
    "duration": 9,
    "start_time": "2022-02-07T17:52:49.717Z"
   },
   {
    "duration": 3,
    "start_time": "2022-02-07T17:52:49.728Z"
   },
   {
    "duration": 383,
    "start_time": "2022-02-07T17:52:49.732Z"
   },
   {
    "duration": -155,
    "start_time": "2022-02-07T17:52:50.271Z"
   },
   {
    "duration": -157,
    "start_time": "2022-02-07T17:52:50.274Z"
   },
   {
    "duration": -158,
    "start_time": "2022-02-07T17:52:50.276Z"
   },
   {
    "duration": 1231,
    "start_time": "2022-02-07T17:53:27.152Z"
   },
   {
    "duration": 30,
    "start_time": "2022-02-07T17:53:28.386Z"
   },
   {
    "duration": 11,
    "start_time": "2022-02-07T17:53:28.420Z"
   },
   {
    "duration": 6,
    "start_time": "2022-02-07T17:53:28.432Z"
   },
   {
    "duration": 34,
    "start_time": "2022-02-07T17:53:28.440Z"
   },
   {
    "duration": 7,
    "start_time": "2022-02-07T17:53:28.476Z"
   },
   {
    "duration": 10,
    "start_time": "2022-02-07T17:53:28.484Z"
   },
   {
    "duration": 18,
    "start_time": "2022-02-07T17:53:28.497Z"
   },
   {
    "duration": 10,
    "start_time": "2022-02-07T17:53:28.516Z"
   },
   {
    "duration": 7,
    "start_time": "2022-02-07T17:53:28.528Z"
   },
   {
    "duration": 41,
    "start_time": "2022-02-07T17:53:28.536Z"
   },
   {
    "duration": 15,
    "start_time": "2022-02-07T17:53:28.579Z"
   },
   {
    "duration": 372,
    "start_time": "2022-02-07T17:53:28.596Z"
   },
   {
    "duration": 379,
    "start_time": "2022-02-07T17:53:28.972Z"
   },
   {
    "duration": 5,
    "start_time": "2022-02-07T17:53:29.353Z"
   },
   {
    "duration": 840,
    "start_time": "2022-02-07T17:53:29.360Z"
   },
   {
    "duration": 565,
    "start_time": "2022-02-07T17:53:30.202Z"
   },
   {
    "duration": 203,
    "start_time": "2022-02-07T17:53:30.769Z"
   },
   {
    "duration": 559,
    "start_time": "2022-02-07T17:53:30.974Z"
   },
   {
    "duration": 17,
    "start_time": "2022-02-07T17:53:31.535Z"
   },
   {
    "duration": 420,
    "start_time": "2022-02-07T17:53:31.554Z"
   },
   {
    "duration": 332,
    "start_time": "2022-02-07T17:53:31.976Z"
   },
   {
    "duration": 304,
    "start_time": "2022-02-07T17:53:32.310Z"
   },
   {
    "duration": 216,
    "start_time": "2022-02-07T17:53:32.615Z"
   },
   {
    "duration": 216,
    "start_time": "2022-02-07T17:53:32.833Z"
   },
   {
    "duration": 35,
    "start_time": "2022-02-07T17:53:33.052Z"
   },
   {
    "duration": 15,
    "start_time": "2022-02-07T17:53:33.089Z"
   },
   {
    "duration": 14,
    "start_time": "2022-02-07T17:53:33.106Z"
   },
   {
    "duration": 14,
    "start_time": "2022-02-07T17:53:33.122Z"
   },
   {
    "duration": 13,
    "start_time": "2022-02-07T17:53:33.138Z"
   },
   {
    "duration": 23,
    "start_time": "2022-02-07T17:53:33.171Z"
   },
   {
    "duration": 13,
    "start_time": "2022-02-07T17:53:33.196Z"
   },
   {
    "duration": 12,
    "start_time": "2022-02-07T17:53:33.210Z"
   },
   {
    "duration": 12,
    "start_time": "2022-02-07T17:53:33.223Z"
   },
   {
    "duration": 49,
    "start_time": "2022-02-07T17:53:33.236Z"
   },
   {
    "duration": 14,
    "start_time": "2022-02-07T17:53:33.287Z"
   },
   {
    "duration": 13,
    "start_time": "2022-02-07T17:53:33.303Z"
   },
   {
    "duration": 10,
    "start_time": "2022-02-07T17:53:33.318Z"
   },
   {
    "duration": 4,
    "start_time": "2022-02-07T17:53:33.330Z"
   },
   {
    "duration": 5,
    "start_time": "2022-02-07T17:53:33.336Z"
   },
   {
    "duration": 13,
    "start_time": "2022-02-07T17:53:33.376Z"
   },
   {
    "duration": 4,
    "start_time": "2022-02-07T17:53:33.390Z"
   },
   {
    "duration": 392,
    "start_time": "2022-02-07T17:53:33.395Z"
   },
   {
    "duration": 1254,
    "start_time": "2022-02-07T17:53:49.858Z"
   },
   {
    "duration": 33,
    "start_time": "2022-02-07T17:53:51.114Z"
   },
   {
    "duration": 39,
    "start_time": "2022-02-07T17:53:51.149Z"
   },
   {
    "duration": 6,
    "start_time": "2022-02-07T17:53:51.189Z"
   },
   {
    "duration": 9,
    "start_time": "2022-02-07T17:53:51.196Z"
   },
   {
    "duration": 15,
    "start_time": "2022-02-07T17:53:51.206Z"
   },
   {
    "duration": 17,
    "start_time": "2022-02-07T17:53:51.222Z"
   },
   {
    "duration": 17,
    "start_time": "2022-02-07T17:53:51.241Z"
   },
   {
    "duration": 29,
    "start_time": "2022-02-07T17:53:51.260Z"
   },
   {
    "duration": 11,
    "start_time": "2022-02-07T17:53:51.290Z"
   },
   {
    "duration": 19,
    "start_time": "2022-02-07T17:53:51.302Z"
   },
   {
    "duration": 17,
    "start_time": "2022-02-07T17:53:51.323Z"
   },
   {
    "duration": 400,
    "start_time": "2022-02-07T17:53:51.342Z"
   },
   {
    "duration": 389,
    "start_time": "2022-02-07T17:53:51.743Z"
   },
   {
    "duration": 6,
    "start_time": "2022-02-07T17:53:52.134Z"
   },
   {
    "duration": 863,
    "start_time": "2022-02-07T17:53:52.142Z"
   },
   {
    "duration": 614,
    "start_time": "2022-02-07T17:53:53.007Z"
   },
   {
    "duration": 218,
    "start_time": "2022-02-07T17:53:53.625Z"
   },
   {
    "duration": 716,
    "start_time": "2022-02-07T17:53:53.845Z"
   },
   {
    "duration": 29,
    "start_time": "2022-02-07T17:53:54.563Z"
   },
   {
    "duration": 461,
    "start_time": "2022-02-07T17:53:54.594Z"
   },
   {
    "duration": 360,
    "start_time": "2022-02-07T17:53:55.057Z"
   },
   {
    "duration": 337,
    "start_time": "2022-02-07T17:53:55.421Z"
   },
   {
    "duration": 267,
    "start_time": "2022-02-07T17:53:55.760Z"
   },
   {
    "duration": 278,
    "start_time": "2022-02-07T17:53:56.029Z"
   },
   {
    "duration": 21,
    "start_time": "2022-02-07T17:53:56.310Z"
   },
   {
    "duration": 125,
    "start_time": "2022-02-07T17:53:56.332Z"
   },
   {
    "duration": 46,
    "start_time": "2022-02-07T17:53:56.459Z"
   },
   {
    "duration": 28,
    "start_time": "2022-02-07T17:53:56.508Z"
   },
   {
    "duration": 18,
    "start_time": "2022-02-07T17:53:56.538Z"
   },
   {
    "duration": 26,
    "start_time": "2022-02-07T17:53:56.558Z"
   },
   {
    "duration": 19,
    "start_time": "2022-02-07T17:53:56.586Z"
   },
   {
    "duration": 24,
    "start_time": "2022-02-07T17:53:56.607Z"
   },
   {
    "duration": 17,
    "start_time": "2022-02-07T17:53:56.633Z"
   },
   {
    "duration": 50,
    "start_time": "2022-02-07T17:53:56.651Z"
   },
   {
    "duration": 23,
    "start_time": "2022-02-07T17:53:56.703Z"
   },
   {
    "duration": 20,
    "start_time": "2022-02-07T17:53:56.728Z"
   },
   {
    "duration": 32,
    "start_time": "2022-02-07T17:53:56.750Z"
   },
   {
    "duration": 6,
    "start_time": "2022-02-07T17:53:56.785Z"
   },
   {
    "duration": 28,
    "start_time": "2022-02-07T17:53:56.794Z"
   },
   {
    "duration": 24,
    "start_time": "2022-02-07T17:53:56.824Z"
   },
   {
    "duration": 19,
    "start_time": "2022-02-07T17:53:56.852Z"
   },
   {
    "duration": 16,
    "start_time": "2022-02-07T17:53:56.877Z"
   }
  ],
  "kernelspec": {
   "display_name": "Python 3 (ipykernel)",
   "language": "python",
   "name": "python3"
  },
  "language_info": {
   "codemirror_mode": {
    "name": "ipython",
    "version": 3
   },
   "file_extension": ".py",
   "mimetype": "text/x-python",
   "name": "python",
   "nbconvert_exporter": "python",
   "pygments_lexer": "ipython3",
   "version": "3.9.7"
  },
  "toc": {
   "base_numbering": 1,
   "nav_menu": {},
   "number_sections": true,
   "sideBar": true,
   "skip_h1_title": true,
   "title_cell": "Table of Contents",
   "title_sidebar": "Contents",
   "toc_cell": false,
   "toc_position": {
    "height": "calc(100% - 180px)",
    "left": "10px",
    "top": "150px",
    "width": "262.391px"
   },
   "toc_section_display": true,
   "toc_window_display": true
  }
 },
 "nbformat": 4,
 "nbformat_minor": 2
}
