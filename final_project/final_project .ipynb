{
 "cells": [
  {
   "cell_type": "markdown",
   "metadata": {
    "toc": true
   },
   "source": [
    "<h1>Содержание<span class=\"tocSkip\"></span></h1>\n",
    "<div class=\"toc\"><ul class=\"toc-item\"><li><span><a href=\"#Изучение-данных-из-файлов\" data-toc-modified-id=\"Изучение-данных-из-файлов-1\"><span class=\"toc-item-num\">1&nbsp;&nbsp;</span>Изучение данных из файлов</a></span><ul class=\"toc-item\"><li><span><a href=\"#Вывод\" data-toc-modified-id=\"Вывод-1.1\"><span class=\"toc-item-num\">1.1&nbsp;&nbsp;</span>Вывод</a></span></li></ul></li><li><span><a href=\"#Предобработка-данных\" data-toc-modified-id=\"Предобработка-данных-2\"><span class=\"toc-item-num\">2&nbsp;&nbsp;</span>Предобработка данных</a></span><ul class=\"toc-item\"><li><span><a href=\"#Замена-типа-данных\" data-toc-modified-id=\"Замена-типа-данных-2.1\"><span class=\"toc-item-num\">2.1&nbsp;&nbsp;</span>Замена типа данных</a></span></li><li><span><a href=\"#Обработка-пропусков\" data-toc-modified-id=\"Обработка-пропусков-2.2\"><span class=\"toc-item-num\">2.2&nbsp;&nbsp;</span>Обработка пропусков</a></span></li><li><span><a href=\"#Обработка-дубликатов\" data-toc-modified-id=\"Обработка-дубликатов-2.3\"><span class=\"toc-item-num\">2.3&nbsp;&nbsp;</span>Обработка дубликатов</a></span></li><li><span><a href=\"#Вывод\" data-toc-modified-id=\"Вывод-2.4\"><span class=\"toc-item-num\">2.4&nbsp;&nbsp;</span>Вывод</a></span></li></ul></li><li><span><a href=\"#Анализ-данных(EDA)\" data-toc-modified-id=\"Анализ-данных(EDA)-3\"><span class=\"toc-item-num\">3&nbsp;&nbsp;</span>Анализ данных(EDA)</a></span><ul class=\"toc-item\"><li><span><a href=\"#Анализ-метрик,-связанных-с-с-пользователями-и-событиями\" data-toc-modified-id=\"Анализ-метрик,-связанных-с-с-пользователями-и-событиями-3.1\"><span class=\"toc-item-num\">3.1&nbsp;&nbsp;</span>Анализ метрик, связанных с с пользователями и событиями</a></span></li><li><span><a href=\"#Анализ-временнЫх-метрик\" data-toc-modified-id=\"Анализ-временнЫх-метрик-3.2\"><span class=\"toc-item-num\">3.2&nbsp;&nbsp;</span>Анализ временнЫх метрик</a></span></li><li><span><a href=\"#Анализ-источников-трафика\" data-toc-modified-id=\"Анализ-источников-трафика-3.3\"><span class=\"toc-item-num\">3.3&nbsp;&nbsp;</span>Анализ источников трафика</a></span></li><li><span><a href=\"#Вывод\" data-toc-modified-id=\"Вывод-3.4\"><span class=\"toc-item-num\">3.4&nbsp;&nbsp;</span>Вывод</a></span></li></ul></li><li><span><a href=\"#Проверка-гипотезы-№1\" data-toc-modified-id=\"Проверка-гипотезы-№1-4\"><span class=\"toc-item-num\">4&nbsp;&nbsp;</span>Проверка гипотезы №1</a></span><ul class=\"toc-item\"><li><span><a href=\"#Вывод\" data-toc-modified-id=\"Вывод-4.1\"><span class=\"toc-item-num\">4.1&nbsp;&nbsp;</span>Вывод</a></span></li></ul></li><li><span><a href=\"#Проверка-гипотезы-№2\" data-toc-modified-id=\"Проверка-гипотезы-№2-5\"><span class=\"toc-item-num\">5&nbsp;&nbsp;</span>Проверка гипотезы №2</a></span><ul class=\"toc-item\"><li><span><a href=\"#Вывод\" data-toc-modified-id=\"Вывод-5.1\"><span class=\"toc-item-num\">5.1&nbsp;&nbsp;</span>Вывод</a></span></li></ul></li><li><span><a href=\"#Общий-вывод\" data-toc-modified-id=\"Общий-вывод-6\"><span class=\"toc-item-num\">6&nbsp;&nbsp;</span>Общий вывод</a></span><ul class=\"toc-item\"><li><span><a href=\"#Рекомендации:\" data-toc-modified-id=\"Рекомендации:-6.1\"><span class=\"toc-item-num\">6.1&nbsp;&nbsp;</span>Рекомендации:</a></span></li></ul></li><li><span><a href=\"#Tableau-DashBoard\" data-toc-modified-id=\"Tableau-DashBoard-7\"><span class=\"toc-item-num\">7&nbsp;&nbsp;</span>Tableau DashBoard</a></span></li></ul></div>"
   ]
  },
  {
   "cell_type": "markdown",
   "metadata": {},
   "source": [
    "# Выпускной проект на тему:\"Анализ поведения игроков в зависимости от источника перехода\"\n",
    "Ссылка на презентацию:https://disk.yandex.ru/i/CaoXwolEEPt-gg\n",
    "Ссылка на дашборд: https://public.tableau.com/app/profile/tatiana1692/viz/TMinko_project_final/Dashboard1?publish=yes"
   ]
  },
  {
   "cell_type": "markdown",
   "metadata": {},
   "source": [
    "**Цель проекта:** выбор наиболее перспективного канала привлечения, возможно предложить изменения в монетизационную политику, если на то будут основания   \n",
    "**Задача:** \n",
    "Проанализируйте поведения игроков в зависимости от источника перехода.\n",
    "\n",
    "- Проведите исследовательский анализ данных;\n",
    "- Проанализируйте влияние источника перехода в игру на поведение пользователя;\n",
    "- Проверьте статистические гипотезы\n",
    "    1. *Проверьте гипотезу: время завершения уровня различается в зависимости способа прохождения:*\n",
    "        - *через реализацию проекта,*\n",
    "        - *через победу над первым игроком.*\n",
    "    2. *Сформулируйте собственную статистическую гипотезу. Дополните её нулевой и альтернативной гипотезами. Проверьте гипотезу с помощью статистического теста.*  \n",
    "    \n",
    "    \n",
    " **Описание датасетов:**\n",
    "\n",
    "Основной датасет содержит данные о событиях, совершенных в мобильной игре «Космические братья». В ней пользователи строят свою космическую программу и пытаются преуспеть в нелёгком деле колонизации галактики.\n",
    "\n",
    "Основная монетизация игры — только планируется. Но предполагается, что в приложении будет происходить показ рекламы на экране с выбором типа объекта для постройки.\n",
    "\n",
    "В датасете представлены данные по игре пользователей на первом уровне. Завершение первого уровня требует от игрока выполнения одного из двух условий:\n",
    "\n",
    "- Победа над первым врагом\n",
    "- Реализация проекта - разработка орбитальной сборки спутников\n",
    "\n",
    "В датасете содержатся данные первых пользователей приложения — когорты пользователей, которые начали пользоваться приложением в период с 4 по 10 мая включительно.\n",
    "\n",
    "Датасет *game_actions.csv*:\n",
    "\n",
    "- `event_datetime` — время события;\n",
    "- `event` — одно из трёх событий:\n",
    "    1. `building` — объект построен,\n",
    "    2. `finished_stage_1` — первый уровень завершён,\n",
    "    3. `project` — проект завершён;\n",
    "- `building_type` — один из трёх типов здания:\n",
    "    1. `assembly_shop` — сборочный цех,\n",
    "    2. `spaceport` — космопорт,\n",
    "    3. `research_center` — исследовательский центр;\n",
    "- `user_id` — идентификатор пользователя;\n",
    "- `project_type` — тип реализованного проекта;\n",
    "\n",
    "Помимо основного датасета есть два датасета с информацией о рекламных активностях. Они также помогут в решении задачи.\n",
    "\n",
    "Датасет *ad_cost.csv*:\n",
    "\n",
    "- `day` - день, в который был совершен клик по объявлению\n",
    "- `source` - источник трафика\n",
    "- `cost` - стоимость кликов\n",
    "\n",
    "Датасет user_source.csv содержит колонки:\n",
    "\n",
    "- `user_id` - идентификатор пользователя\n",
    "- `source` - источников, с которого пришёл пользователь, установивший приложение\n",
    "\n",
    "По итогам исследования подготовьте презентацию. Для создания презентации используйте любой удобный инструмент, но отправить презентацию нужно **обязательно** в формате **pdf,** прикрепив ссылку на файл в основном проекте.    "
   ]
  },
  {
   "cell_type": "markdown",
   "metadata": {},
   "source": [
    "## Изучение данных из файлов"
   ]
  },
  {
   "cell_type": "code",
   "execution_count": 1,
   "metadata": {},
   "outputs": [],
   "source": [
    "import pandas as pd\n",
    "import numpy as np\n",
    "import datetime as dt\n",
    "import seaborn as sns\n",
    "import matplotlib.pyplot as plt\n",
    "from plotly import graph_objects as go\n",
    "import plotly.express as px\n",
    "from scipy import stats as st\n",
    "\n",
    "pd.set_option('display.float_format', '{:,.2f}'.format)\n",
    "pd.set_option('display.max_columns', None)\n",
    "pd.options.display.max_colwidth = 150    \n",
    "pd.set_option('display.float_format', '{:,.2f}'.format)"
   ]
  },
  {
   "cell_type": "code",
   "execution_count": 2,
   "metadata": {},
   "outputs": [],
   "source": [
    "game_actions =  pd.read_csv('/datasets/game_actions.csv', sep=',')\n",
    "user_source =  pd.read_csv('/datasets/user_source.csv', sep=',')\n",
    "ad_costs =  pd.read_csv('/datasets/ad_costs.csv', sep=',')"
   ]
  },
  {
   "cell_type": "code",
   "execution_count": 3,
   "metadata": {},
   "outputs": [],
   "source": [
    "def basic_information(x):\n",
    "    display(x.head(10)),\n",
    "    x.info(),\n",
    "    display(x.describe()),\n",
    "    display(x.value_counts()),\n",
    "    print('Дубликатов',x.duplicated().sum()),\n",
    "    x.columns = x.columns.str.lower()  \n",
    "    print('*'*50)"
   ]
  },
  {
   "cell_type": "code",
   "execution_count": 4,
   "metadata": {
    "scrolled": false
   },
   "outputs": [
    {
     "data": {
      "text/html": [
       "<div>\n",
       "<style scoped>\n",
       "    .dataframe tbody tr th:only-of-type {\n",
       "        vertical-align: middle;\n",
       "    }\n",
       "\n",
       "    .dataframe tbody tr th {\n",
       "        vertical-align: top;\n",
       "    }\n",
       "\n",
       "    .dataframe thead th {\n",
       "        text-align: right;\n",
       "    }\n",
       "</style>\n",
       "<table border=\"1\" class=\"dataframe\">\n",
       "  <thead>\n",
       "    <tr style=\"text-align: right;\">\n",
       "      <th></th>\n",
       "      <th>event_datetime</th>\n",
       "      <th>event</th>\n",
       "      <th>building_type</th>\n",
       "      <th>user_id</th>\n",
       "      <th>project_type</th>\n",
       "    </tr>\n",
       "  </thead>\n",
       "  <tbody>\n",
       "    <tr>\n",
       "      <th>0</th>\n",
       "      <td>2020-05-04 00:00:01</td>\n",
       "      <td>building</td>\n",
       "      <td>assembly_shop</td>\n",
       "      <td>55e92310-cb8e-4754-b622-597e124b03de</td>\n",
       "      <td>NaN</td>\n",
       "    </tr>\n",
       "    <tr>\n",
       "      <th>1</th>\n",
       "      <td>2020-05-04 00:00:03</td>\n",
       "      <td>building</td>\n",
       "      <td>assembly_shop</td>\n",
       "      <td>c07b1c10-f477-44dc-81dc-ec82254b1347</td>\n",
       "      <td>NaN</td>\n",
       "    </tr>\n",
       "    <tr>\n",
       "      <th>2</th>\n",
       "      <td>2020-05-04 00:00:16</td>\n",
       "      <td>building</td>\n",
       "      <td>assembly_shop</td>\n",
       "      <td>6edd42cc-e753-4ff6-a947-2107cd560710</td>\n",
       "      <td>NaN</td>\n",
       "    </tr>\n",
       "    <tr>\n",
       "      <th>3</th>\n",
       "      <td>2020-05-04 00:00:16</td>\n",
       "      <td>building</td>\n",
       "      <td>assembly_shop</td>\n",
       "      <td>92c69003-d60a-444a-827f-8cc51bf6bf4c</td>\n",
       "      <td>NaN</td>\n",
       "    </tr>\n",
       "    <tr>\n",
       "      <th>4</th>\n",
       "      <td>2020-05-04 00:00:35</td>\n",
       "      <td>building</td>\n",
       "      <td>assembly_shop</td>\n",
       "      <td>cdc6bb92-0ccb-4490-9866-ef142f09139d</td>\n",
       "      <td>NaN</td>\n",
       "    </tr>\n",
       "    <tr>\n",
       "      <th>5</th>\n",
       "      <td>2020-05-04 00:00:36</td>\n",
       "      <td>building</td>\n",
       "      <td>assembly_shop</td>\n",
       "      <td>06c592ca-902d-42bb-bac3-75ce84cca159</td>\n",
       "      <td>NaN</td>\n",
       "    </tr>\n",
       "    <tr>\n",
       "      <th>6</th>\n",
       "      <td>2020-05-04 00:00:36</td>\n",
       "      <td>building</td>\n",
       "      <td>assembly_shop</td>\n",
       "      <td>4fe0f101-694b-4e31-9740-d1d87f7208ea</td>\n",
       "      <td>NaN</td>\n",
       "    </tr>\n",
       "    <tr>\n",
       "      <th>7</th>\n",
       "      <td>2020-05-04 00:00:38</td>\n",
       "      <td>building</td>\n",
       "      <td>assembly_shop</td>\n",
       "      <td>beb8ca15-33a9-465d-b47b-89aa96f89c9a</td>\n",
       "      <td>NaN</td>\n",
       "    </tr>\n",
       "    <tr>\n",
       "      <th>8</th>\n",
       "      <td>2020-05-04 00:00:44</td>\n",
       "      <td>building</td>\n",
       "      <td>assembly_shop</td>\n",
       "      <td>65a92713-5969-48b1-8945-bfefa5063887</td>\n",
       "      <td>NaN</td>\n",
       "    </tr>\n",
       "    <tr>\n",
       "      <th>9</th>\n",
       "      <td>2020-05-04 00:01:33</td>\n",
       "      <td>building</td>\n",
       "      <td>assembly_shop</td>\n",
       "      <td>fa352362-d258-472c-b295-2796ccc39fa3</td>\n",
       "      <td>NaN</td>\n",
       "    </tr>\n",
       "  </tbody>\n",
       "</table>\n",
       "</div>"
      ],
      "text/plain": [
       "        event_datetime     event  building_type  \\\n",
       "0  2020-05-04 00:00:01  building  assembly_shop   \n",
       "1  2020-05-04 00:00:03  building  assembly_shop   \n",
       "2  2020-05-04 00:00:16  building  assembly_shop   \n",
       "3  2020-05-04 00:00:16  building  assembly_shop   \n",
       "4  2020-05-04 00:00:35  building  assembly_shop   \n",
       "5  2020-05-04 00:00:36  building  assembly_shop   \n",
       "6  2020-05-04 00:00:36  building  assembly_shop   \n",
       "7  2020-05-04 00:00:38  building  assembly_shop   \n",
       "8  2020-05-04 00:00:44  building  assembly_shop   \n",
       "9  2020-05-04 00:01:33  building  assembly_shop   \n",
       "\n",
       "                                user_id project_type  \n",
       "0  55e92310-cb8e-4754-b622-597e124b03de          NaN  \n",
       "1  c07b1c10-f477-44dc-81dc-ec82254b1347          NaN  \n",
       "2  6edd42cc-e753-4ff6-a947-2107cd560710          NaN  \n",
       "3  92c69003-d60a-444a-827f-8cc51bf6bf4c          NaN  \n",
       "4  cdc6bb92-0ccb-4490-9866-ef142f09139d          NaN  \n",
       "5  06c592ca-902d-42bb-bac3-75ce84cca159          NaN  \n",
       "6  4fe0f101-694b-4e31-9740-d1d87f7208ea          NaN  \n",
       "7  beb8ca15-33a9-465d-b47b-89aa96f89c9a          NaN  \n",
       "8  65a92713-5969-48b1-8945-bfefa5063887          NaN  \n",
       "9  fa352362-d258-472c-b295-2796ccc39fa3          NaN  "
      ]
     },
     "metadata": {},
     "output_type": "display_data"
    },
    {
     "name": "stdout",
     "output_type": "stream",
     "text": [
      "<class 'pandas.core.frame.DataFrame'>\n",
      "RangeIndex: 135640 entries, 0 to 135639\n",
      "Data columns (total 5 columns):\n",
      " #   Column          Non-Null Count   Dtype \n",
      "---  ------          --------------   ----- \n",
      " 0   event_datetime  135640 non-null  object\n",
      " 1   event           135640 non-null  object\n",
      " 2   building_type   127957 non-null  object\n",
      " 3   user_id         135640 non-null  object\n",
      " 4   project_type    1866 non-null    object\n",
      "dtypes: object(5)\n",
      "memory usage: 5.2+ MB\n"
     ]
    },
    {
     "data": {
      "text/html": [
       "<div>\n",
       "<style scoped>\n",
       "    .dataframe tbody tr th:only-of-type {\n",
       "        vertical-align: middle;\n",
       "    }\n",
       "\n",
       "    .dataframe tbody tr th {\n",
       "        vertical-align: top;\n",
       "    }\n",
       "\n",
       "    .dataframe thead th {\n",
       "        text-align: right;\n",
       "    }\n",
       "</style>\n",
       "<table border=\"1\" class=\"dataframe\">\n",
       "  <thead>\n",
       "    <tr style=\"text-align: right;\">\n",
       "      <th></th>\n",
       "      <th>event_datetime</th>\n",
       "      <th>event</th>\n",
       "      <th>building_type</th>\n",
       "      <th>user_id</th>\n",
       "      <th>project_type</th>\n",
       "    </tr>\n",
       "  </thead>\n",
       "  <tbody>\n",
       "    <tr>\n",
       "      <th>count</th>\n",
       "      <td>135640</td>\n",
       "      <td>135640</td>\n",
       "      <td>127957</td>\n",
       "      <td>135640</td>\n",
       "      <td>1866</td>\n",
       "    </tr>\n",
       "    <tr>\n",
       "      <th>unique</th>\n",
       "      <td>128790</td>\n",
       "      <td>3</td>\n",
       "      <td>3</td>\n",
       "      <td>13576</td>\n",
       "      <td>1</td>\n",
       "    </tr>\n",
       "    <tr>\n",
       "      <th>top</th>\n",
       "      <td>2020-05-10 03:08:18</td>\n",
       "      <td>building</td>\n",
       "      <td>spaceport</td>\n",
       "      <td>bf542075-e3a2-4e79-82d8-3838e86d2a25</td>\n",
       "      <td>satellite_orbital_assembly</td>\n",
       "    </tr>\n",
       "    <tr>\n",
       "      <th>freq</th>\n",
       "      <td>4</td>\n",
       "      <td>127957</td>\n",
       "      <td>59325</td>\n",
       "      <td>22</td>\n",
       "      <td>1866</td>\n",
       "    </tr>\n",
       "  </tbody>\n",
       "</table>\n",
       "</div>"
      ],
      "text/plain": [
       "             event_datetime     event building_type  \\\n",
       "count                135640    135640        127957   \n",
       "unique               128790         3             3   \n",
       "top     2020-05-10 03:08:18  building     spaceport   \n",
       "freq                      4    127957         59325   \n",
       "\n",
       "                                     user_id                project_type  \n",
       "count                                 135640                        1866  \n",
       "unique                                 13576                           1  \n",
       "top     bf542075-e3a2-4e79-82d8-3838e86d2a25  satellite_orbital_assembly  \n",
       "freq                                      22                        1866  "
      ]
     },
     "metadata": {},
     "output_type": "display_data"
    },
    {
     "data": {
      "text/plain": [
       "Series([], dtype: int64)"
      ]
     },
     "metadata": {},
     "output_type": "display_data"
    },
    {
     "name": "stdout",
     "output_type": "stream",
     "text": [
      "Дубликатов 1\n",
      "**************************************************\n"
     ]
    }
   ],
   "source": [
    "basic_information(game_actions)"
   ]
  },
  {
   "cell_type": "code",
   "execution_count": 5,
   "metadata": {
    "scrolled": false
   },
   "outputs": [
    {
     "data": {
      "text/html": [
       "<div>\n",
       "<style scoped>\n",
       "    .dataframe tbody tr th:only-of-type {\n",
       "        vertical-align: middle;\n",
       "    }\n",
       "\n",
       "    .dataframe tbody tr th {\n",
       "        vertical-align: top;\n",
       "    }\n",
       "\n",
       "    .dataframe thead th {\n",
       "        text-align: right;\n",
       "    }\n",
       "</style>\n",
       "<table border=\"1\" class=\"dataframe\">\n",
       "  <thead>\n",
       "    <tr style=\"text-align: right;\">\n",
       "      <th></th>\n",
       "      <th>user_id</th>\n",
       "      <th>source</th>\n",
       "    </tr>\n",
       "  </thead>\n",
       "  <tbody>\n",
       "    <tr>\n",
       "      <th>0</th>\n",
       "      <td>0001f83c-c6ac-4621-b7f0-8a28b283ac30</td>\n",
       "      <td>facebook_ads</td>\n",
       "    </tr>\n",
       "    <tr>\n",
       "      <th>1</th>\n",
       "      <td>00151b4f-ba38-44a8-a650-d7cf130a0105</td>\n",
       "      <td>yandex_direct</td>\n",
       "    </tr>\n",
       "    <tr>\n",
       "      <th>2</th>\n",
       "      <td>001aaea6-3d14-43f1-8ca8-7f48820f17aa</td>\n",
       "      <td>youtube_channel_reklama</td>\n",
       "    </tr>\n",
       "    <tr>\n",
       "      <th>3</th>\n",
       "      <td>001d39dc-366c-4021-9604-6a3b9ff01e25</td>\n",
       "      <td>instagram_new_adverts</td>\n",
       "    </tr>\n",
       "    <tr>\n",
       "      <th>4</th>\n",
       "      <td>002f508f-67b6-479f-814b-b05f00d4e995</td>\n",
       "      <td>facebook_ads</td>\n",
       "    </tr>\n",
       "    <tr>\n",
       "      <th>5</th>\n",
       "      <td>003b80c6-4164-4157-bb2a-03d0181d39c4</td>\n",
       "      <td>yandex_direct</td>\n",
       "    </tr>\n",
       "    <tr>\n",
       "      <th>6</th>\n",
       "      <td>003ee7e8-6356-4286-a715-62f22a18d2a1</td>\n",
       "      <td>instagram_new_adverts</td>\n",
       "    </tr>\n",
       "    <tr>\n",
       "      <th>7</th>\n",
       "      <td>004074f8-251a-4776-922c-8348dca1a2f6</td>\n",
       "      <td>facebook_ads</td>\n",
       "    </tr>\n",
       "    <tr>\n",
       "      <th>8</th>\n",
       "      <td>00440efd-aa50-4b4b-aae8-ffcd1782729d</td>\n",
       "      <td>facebook_ads</td>\n",
       "    </tr>\n",
       "    <tr>\n",
       "      <th>9</th>\n",
       "      <td>00464e5e-28ed-4be6-bf44-517ef7b3937b</td>\n",
       "      <td>yandex_direct</td>\n",
       "    </tr>\n",
       "  </tbody>\n",
       "</table>\n",
       "</div>"
      ],
      "text/plain": [
       "                                user_id                   source\n",
       "0  0001f83c-c6ac-4621-b7f0-8a28b283ac30             facebook_ads\n",
       "1  00151b4f-ba38-44a8-a650-d7cf130a0105            yandex_direct\n",
       "2  001aaea6-3d14-43f1-8ca8-7f48820f17aa  youtube_channel_reklama\n",
       "3  001d39dc-366c-4021-9604-6a3b9ff01e25    instagram_new_adverts\n",
       "4  002f508f-67b6-479f-814b-b05f00d4e995             facebook_ads\n",
       "5  003b80c6-4164-4157-bb2a-03d0181d39c4            yandex_direct\n",
       "6  003ee7e8-6356-4286-a715-62f22a18d2a1    instagram_new_adverts\n",
       "7  004074f8-251a-4776-922c-8348dca1a2f6             facebook_ads\n",
       "8  00440efd-aa50-4b4b-aae8-ffcd1782729d             facebook_ads\n",
       "9  00464e5e-28ed-4be6-bf44-517ef7b3937b            yandex_direct"
      ]
     },
     "metadata": {},
     "output_type": "display_data"
    },
    {
     "name": "stdout",
     "output_type": "stream",
     "text": [
      "<class 'pandas.core.frame.DataFrame'>\n",
      "RangeIndex: 13576 entries, 0 to 13575\n",
      "Data columns (total 2 columns):\n",
      " #   Column   Non-Null Count  Dtype \n",
      "---  ------   --------------  ----- \n",
      " 0   user_id  13576 non-null  object\n",
      " 1   source   13576 non-null  object\n",
      "dtypes: object(2)\n",
      "memory usage: 212.2+ KB\n"
     ]
    },
    {
     "data": {
      "text/html": [
       "<div>\n",
       "<style scoped>\n",
       "    .dataframe tbody tr th:only-of-type {\n",
       "        vertical-align: middle;\n",
       "    }\n",
       "\n",
       "    .dataframe tbody tr th {\n",
       "        vertical-align: top;\n",
       "    }\n",
       "\n",
       "    .dataframe thead th {\n",
       "        text-align: right;\n",
       "    }\n",
       "</style>\n",
       "<table border=\"1\" class=\"dataframe\">\n",
       "  <thead>\n",
       "    <tr style=\"text-align: right;\">\n",
       "      <th></th>\n",
       "      <th>user_id</th>\n",
       "      <th>source</th>\n",
       "    </tr>\n",
       "  </thead>\n",
       "  <tbody>\n",
       "    <tr>\n",
       "      <th>count</th>\n",
       "      <td>13576</td>\n",
       "      <td>13576</td>\n",
       "    </tr>\n",
       "    <tr>\n",
       "      <th>unique</th>\n",
       "      <td>13576</td>\n",
       "      <td>4</td>\n",
       "    </tr>\n",
       "    <tr>\n",
       "      <th>top</th>\n",
       "      <td>2bd22ade-dcf3-4b6f-ab98-3f8e35214a8f</td>\n",
       "      <td>yandex_direct</td>\n",
       "    </tr>\n",
       "    <tr>\n",
       "      <th>freq</th>\n",
       "      <td>1</td>\n",
       "      <td>4817</td>\n",
       "    </tr>\n",
       "  </tbody>\n",
       "</table>\n",
       "</div>"
      ],
      "text/plain": [
       "                                     user_id         source\n",
       "count                                  13576          13576\n",
       "unique                                 13576              4\n",
       "top     2bd22ade-dcf3-4b6f-ab98-3f8e35214a8f  yandex_direct\n",
       "freq                                       1           4817"
      ]
     },
     "metadata": {},
     "output_type": "display_data"
    },
    {
     "data": {
      "text/plain": [
       "user_id                               source                 \n",
       "0001f83c-c6ac-4621-b7f0-8a28b283ac30  facebook_ads               1\n",
       "a9ff93bd-0b96-4e89-bef7-c29326643faf  youtube_channel_reklama    1\n",
       "aa08dc9a-f199-483d-aa43-2781abb889fc  instagram_new_adverts      1\n",
       "aa0d0a62-0ba5-4d87-9467-4eb39d6b2d17  facebook_ads               1\n",
       "aa122ae2-5e98-4d93-96dc-fdcf7016398e  facebook_ads               1\n",
       "                                                                ..\n",
       "53c5f5cc-975b-4be6-9a60-2a8fe0fc226f  instagram_new_adverts      1\n",
       "53d146cf-1b2a-4038-8326-7900b021f418  yandex_direct              1\n",
       "53d59f09-9745-4bdd-b6e5-56f98a5228d4  instagram_new_adverts      1\n",
       "53d8dfd2-d601-461b-a4fd-890be5b45d27  yandex_direct              1\n",
       "ffff69cc-fec1-4fd3-9f98-93be1112a6b8  facebook_ads               1\n",
       "Length: 13576, dtype: int64"
      ]
     },
     "metadata": {},
     "output_type": "display_data"
    },
    {
     "name": "stdout",
     "output_type": "stream",
     "text": [
      "Дубликатов 0\n",
      "**************************************************\n"
     ]
    }
   ],
   "source": [
    "basic_information(user_source)"
   ]
  },
  {
   "cell_type": "code",
   "execution_count": 6,
   "metadata": {
    "scrolled": false
   },
   "outputs": [
    {
     "data": {
      "text/html": [
       "<div>\n",
       "<style scoped>\n",
       "    .dataframe tbody tr th:only-of-type {\n",
       "        vertical-align: middle;\n",
       "    }\n",
       "\n",
       "    .dataframe tbody tr th {\n",
       "        vertical-align: top;\n",
       "    }\n",
       "\n",
       "    .dataframe thead th {\n",
       "        text-align: right;\n",
       "    }\n",
       "</style>\n",
       "<table border=\"1\" class=\"dataframe\">\n",
       "  <thead>\n",
       "    <tr style=\"text-align: right;\">\n",
       "      <th></th>\n",
       "      <th>source</th>\n",
       "      <th>day</th>\n",
       "      <th>cost</th>\n",
       "    </tr>\n",
       "  </thead>\n",
       "  <tbody>\n",
       "    <tr>\n",
       "      <th>0</th>\n",
       "      <td>facebook_ads</td>\n",
       "      <td>2020-05-03</td>\n",
       "      <td>935.88</td>\n",
       "    </tr>\n",
       "    <tr>\n",
       "      <th>1</th>\n",
       "      <td>facebook_ads</td>\n",
       "      <td>2020-05-04</td>\n",
       "      <td>548.35</td>\n",
       "    </tr>\n",
       "    <tr>\n",
       "      <th>2</th>\n",
       "      <td>facebook_ads</td>\n",
       "      <td>2020-05-05</td>\n",
       "      <td>260.19</td>\n",
       "    </tr>\n",
       "    <tr>\n",
       "      <th>3</th>\n",
       "      <td>facebook_ads</td>\n",
       "      <td>2020-05-06</td>\n",
       "      <td>177.98</td>\n",
       "    </tr>\n",
       "    <tr>\n",
       "      <th>4</th>\n",
       "      <td>facebook_ads</td>\n",
       "      <td>2020-05-07</td>\n",
       "      <td>111.77</td>\n",
       "    </tr>\n",
       "    <tr>\n",
       "      <th>5</th>\n",
       "      <td>facebook_ads</td>\n",
       "      <td>2020-05-08</td>\n",
       "      <td>68.01</td>\n",
       "    </tr>\n",
       "    <tr>\n",
       "      <th>6</th>\n",
       "      <td>facebook_ads</td>\n",
       "      <td>2020-05-09</td>\n",
       "      <td>38.72</td>\n",
       "    </tr>\n",
       "    <tr>\n",
       "      <th>7</th>\n",
       "      <td>instagram_new_adverts</td>\n",
       "      <td>2020-05-03</td>\n",
       "      <td>943.20</td>\n",
       "    </tr>\n",
       "    <tr>\n",
       "      <th>8</th>\n",
       "      <td>instagram_new_adverts</td>\n",
       "      <td>2020-05-04</td>\n",
       "      <td>502.93</td>\n",
       "    </tr>\n",
       "    <tr>\n",
       "      <th>9</th>\n",
       "      <td>instagram_new_adverts</td>\n",
       "      <td>2020-05-05</td>\n",
       "      <td>313.97</td>\n",
       "    </tr>\n",
       "  </tbody>\n",
       "</table>\n",
       "</div>"
      ],
      "text/plain": [
       "                  source         day   cost\n",
       "0           facebook_ads  2020-05-03 935.88\n",
       "1           facebook_ads  2020-05-04 548.35\n",
       "2           facebook_ads  2020-05-05 260.19\n",
       "3           facebook_ads  2020-05-06 177.98\n",
       "4           facebook_ads  2020-05-07 111.77\n",
       "5           facebook_ads  2020-05-08  68.01\n",
       "6           facebook_ads  2020-05-09  38.72\n",
       "7  instagram_new_adverts  2020-05-03 943.20\n",
       "8  instagram_new_adverts  2020-05-04 502.93\n",
       "9  instagram_new_adverts  2020-05-05 313.97"
      ]
     },
     "metadata": {},
     "output_type": "display_data"
    },
    {
     "name": "stdout",
     "output_type": "stream",
     "text": [
      "<class 'pandas.core.frame.DataFrame'>\n",
      "RangeIndex: 28 entries, 0 to 27\n",
      "Data columns (total 3 columns):\n",
      " #   Column  Non-Null Count  Dtype  \n",
      "---  ------  --------------  -----  \n",
      " 0   source  28 non-null     object \n",
      " 1   day     28 non-null     object \n",
      " 2   cost    28 non-null     float64\n",
      "dtypes: float64(1), object(2)\n",
      "memory usage: 800.0+ bytes\n"
     ]
    },
    {
     "data": {
      "text/html": [
       "<div>\n",
       "<style scoped>\n",
       "    .dataframe tbody tr th:only-of-type {\n",
       "        vertical-align: middle;\n",
       "    }\n",
       "\n",
       "    .dataframe tbody tr th {\n",
       "        vertical-align: top;\n",
       "    }\n",
       "\n",
       "    .dataframe thead th {\n",
       "        text-align: right;\n",
       "    }\n",
       "</style>\n",
       "<table border=\"1\" class=\"dataframe\">\n",
       "  <thead>\n",
       "    <tr style=\"text-align: right;\">\n",
       "      <th></th>\n",
       "      <th>cost</th>\n",
       "    </tr>\n",
       "  </thead>\n",
       "  <tbody>\n",
       "    <tr>\n",
       "      <th>count</th>\n",
       "      <td>28.00</td>\n",
       "    </tr>\n",
       "    <tr>\n",
       "      <th>mean</th>\n",
       "      <td>271.56</td>\n",
       "    </tr>\n",
       "    <tr>\n",
       "      <th>std</th>\n",
       "      <td>286.87</td>\n",
       "    </tr>\n",
       "    <tr>\n",
       "      <th>min</th>\n",
       "      <td>23.31</td>\n",
       "    </tr>\n",
       "    <tr>\n",
       "      <th>25%</th>\n",
       "      <td>66.75</td>\n",
       "    </tr>\n",
       "    <tr>\n",
       "      <th>50%</th>\n",
       "      <td>160.06</td>\n",
       "    </tr>\n",
       "    <tr>\n",
       "      <th>75%</th>\n",
       "      <td>349.03</td>\n",
       "    </tr>\n",
       "    <tr>\n",
       "      <th>max</th>\n",
       "      <td>969.14</td>\n",
       "    </tr>\n",
       "  </tbody>\n",
       "</table>\n",
       "</div>"
      ],
      "text/plain": [
       "        cost\n",
       "count  28.00\n",
       "mean  271.56\n",
       "std   286.87\n",
       "min    23.31\n",
       "25%    66.75\n",
       "50%   160.06\n",
       "75%   349.03\n",
       "max   969.14"
      ]
     },
     "metadata": {},
     "output_type": "display_data"
    },
    {
     "data": {
      "text/plain": [
       "source                   day         cost  \n",
       "facebook_ads             2020-05-03  935.88    1\n",
       "                         2020-05-04  548.35    1\n",
       "youtube_channel_reklama  2020-05-08  40.22     1\n",
       "                         2020-05-07  55.74     1\n",
       "                         2020-05-06  88.51     1\n",
       "                         2020-05-05  147.04    1\n",
       "                         2020-05-04  259.07    1\n",
       "                         2020-05-03  454.22    1\n",
       "yandex_direct            2020-05-09  42.78     1\n",
       "                         2020-05-08  62.96     1\n",
       "                         2020-05-07  114.43    1\n",
       "                         2020-05-06  180.92    1\n",
       "                         2020-05-05  308.23    1\n",
       "                         2020-05-04  554.65    1\n",
       "                         2020-05-03  969.14    1\n",
       "instagram_new_adverts    2020-05-09  46.78     1\n",
       "                         2020-05-08  71.58     1\n",
       "                         2020-05-07  109.92    1\n",
       "                         2020-05-06  173.07    1\n",
       "                         2020-05-05  313.97    1\n",
       "                         2020-05-04  502.93    1\n",
       "                         2020-05-03  943.20    1\n",
       "facebook_ads             2020-05-09  38.72     1\n",
       "                         2020-05-08  68.01     1\n",
       "                         2020-05-07  111.77    1\n",
       "                         2020-05-06  177.98    1\n",
       "                         2020-05-05  260.19    1\n",
       "youtube_channel_reklama  2020-05-09  23.31     1\n",
       "dtype: int64"
      ]
     },
     "metadata": {},
     "output_type": "display_data"
    },
    {
     "name": "stdout",
     "output_type": "stream",
     "text": [
      "Дубликатов 0\n",
      "**************************************************\n"
     ]
    }
   ],
   "source": [
    "basic_information(ad_costs)"
   ]
  },
  {
   "cell_type": "markdown",
   "metadata": {},
   "source": [
    "### Вывод  \n",
    "На первый взгляд вижу следующие проблемы:  \n",
    "- пропуски в типе проекта(скорее всего связаны с тем, что эти пользователи прошли уровень путем пвп)  \n",
    "- с названиями столбцов всё в порядке  \n",
    "- неправильный тип данных у дат  \n",
    "- в первом датафрейме обнаружился один дубликат"
   ]
  },
  {
   "cell_type": "markdown",
   "metadata": {},
   "source": [
    "## Предобработка данных"
   ]
  },
  {
   "cell_type": "markdown",
   "metadata": {},
   "source": [
    "### Замена типа данных"
   ]
  },
  {
   "cell_type": "code",
   "execution_count": 7,
   "metadata": {},
   "outputs": [
    {
     "name": "stdout",
     "output_type": "stream",
     "text": [
      "datetime64[ns]\n",
      "datetime64[ns]\n"
     ]
    }
   ],
   "source": [
    "game_actions['event_datetime'] = pd.to_datetime(game_actions['event_datetime'])\n",
    "ad_costs['day'] = pd.to_datetime(ad_costs['day'])\n",
    "\n",
    "print(game_actions['event_datetime'].dtypes)\n",
    "print(ad_costs['day'].dtypes)\n"
   ]
  },
  {
   "cell_type": "markdown",
   "metadata": {},
   "source": [
    "### Обработка пропусков"
   ]
  },
  {
   "cell_type": "code",
   "execution_count": 8,
   "metadata": {},
   "outputs": [
    {
     "data": {
      "text/plain": [
       "event_datetime         0\n",
       "event                  0\n",
       "building_type       7683\n",
       "user_id                0\n",
       "project_type      133774\n",
       "dtype: int64"
      ]
     },
     "execution_count": 8,
     "metadata": {},
     "output_type": "execute_result"
    }
   ],
   "source": [
    "game_actions.isna().sum()"
   ]
  },
  {
   "cell_type": "code",
   "execution_count": 9,
   "metadata": {},
   "outputs": [
    {
     "data": {
      "text/plain": [
       "spaceport          59325\n",
       "assembly_shop      54494\n",
       "research_center    14138\n",
       "Name: building_type, dtype: int64"
      ]
     },
     "execution_count": 9,
     "metadata": {},
     "output_type": "execute_result"
    }
   ],
   "source": [
    "game_actions['building_type'].value_counts()"
   ]
  },
  {
   "cell_type": "code",
   "execution_count": 10,
   "metadata": {},
   "outputs": [
    {
     "data": {
      "text/plain": [
       "satellite_orbital_assembly    1866\n",
       "Name: project_type, dtype: int64"
      ]
     },
     "execution_count": 10,
     "metadata": {},
     "output_type": "execute_result"
    }
   ],
   "source": [
    "game_actions['project_type'].value_counts()"
   ]
  },
  {
   "cell_type": "code",
   "execution_count": 11,
   "metadata": {},
   "outputs": [
    {
     "data": {
      "text/plain": [
       "array([nan, 'satellite_orbital_assembly'], dtype=object)"
      ]
     },
     "execution_count": 11,
     "metadata": {},
     "output_type": "execute_result"
    }
   ],
   "source": [
    "game_actions['project_type'].unique()"
   ]
  },
  {
   "cell_type": "markdown",
   "metadata": {},
   "source": [
    "Начну с колонки project_type. По условиям задачи у нас существует 2 типа реализации проекта - победа над первым врагом\n",
    "либо разработка орбитальной сборки спутников. Из этого можно сделать вывод, что пропущенные значения в данном столбце - это как раз победа над врагом, заменим здесь nan на \"victory in pvp\"(при этом надо не забыть учесть только тех, кто прошел уровень)"
   ]
  },
  {
   "cell_type": "code",
   "execution_count": 12,
   "metadata": {},
   "outputs": [],
   "source": [
    "game_actions.loc[game_actions['project_type'].isna() & (game_actions['event'] == 'finished_stage_1'),\n",
    "                                                                                  'project_type'] = 'victory_in_pvp'"
   ]
  },
  {
   "cell_type": "code",
   "execution_count": 13,
   "metadata": {},
   "outputs": [
    {
     "data": {
      "text/plain": [
       "127957"
      ]
     },
     "execution_count": 13,
     "metadata": {},
     "output_type": "execute_result"
    }
   ],
   "source": [
    "game_actions['project_type'].isna().sum()"
   ]
  },
  {
   "cell_type": "markdown",
   "metadata": {},
   "source": [
    "Остальные игроки, как понимаю, не завершили уровень(поменяем здесь nan на \"level_is not_passed\")"
   ]
  },
  {
   "cell_type": "code",
   "execution_count": 14,
   "metadata": {},
   "outputs": [],
   "source": [
    "game_actions.loc[game_actions['project_type'].isna(), 'project_type'] = 'level_is_not_passed'"
   ]
  },
  {
   "cell_type": "code",
   "execution_count": 15,
   "metadata": {},
   "outputs": [
    {
     "data": {
      "text/plain": [
       "0"
      ]
     },
     "execution_count": 15,
     "metadata": {},
     "output_type": "execute_result"
    }
   ],
   "source": [
    "game_actions['project_type'].isna().sum()"
   ]
  },
  {
   "cell_type": "code",
   "execution_count": 16,
   "metadata": {},
   "outputs": [
    {
     "data": {
      "text/plain": [
       "level_is_not_passed           127957\n",
       "victory_in_pvp                  5817\n",
       "satellite_orbital_assembly      1866\n",
       "Name: project_type, dtype: int64"
      ]
     },
     "execution_count": 16,
     "metadata": {},
     "output_type": "execute_result"
    }
   ],
   "source": [
    "game_actions['project_type'].value_counts()"
   ]
  },
  {
   "cell_type": "markdown",
   "metadata": {},
   "source": [
    "Теперь займемся другой колонкой - building_type. "
   ]
  },
  {
   "cell_type": "code",
   "execution_count": 17,
   "metadata": {},
   "outputs": [
    {
     "data": {
      "text/plain": [
       "array(['finished_stage_1', 'project'], dtype=object)"
      ]
     },
     "execution_count": 17,
     "metadata": {},
     "output_type": "execute_result"
    }
   ],
   "source": [
    "game_actions[game_actions['building_type'].isna()]['event'].unique() \n",
    "#на всякий случай посмотрим, какое событие стоит в графе событий напротив пропущенных значений"
   ]
  },
  {
   "cell_type": "code",
   "execution_count": 18,
   "metadata": {},
   "outputs": [],
   "source": [
    "#game_actions.tail(30)"
   ]
  },
  {
   "cell_type": "markdown",
   "metadata": {},
   "source": [
    "Отсюда можно сделать вывод, что пропуски в колонке building_type - это те, кто перешли на следующий уровень(выполнив одно из 2 условий). Т.е. тут либо если игрок победил в пвп - постройки не было вовсе, либо проект завершен полностью, в обоих случаях постройка уже не ведется, поэтому поменяю nan на without_buildings"
   ]
  },
  {
   "cell_type": "code",
   "execution_count": 19,
   "metadata": {},
   "outputs": [],
   "source": [
    "game_actions['building_type'] = game_actions['building_type'].fillna('without_buildings')"
   ]
  },
  {
   "cell_type": "code",
   "execution_count": 20,
   "metadata": {},
   "outputs": [
    {
     "data": {
      "text/plain": [
       "event_datetime    0\n",
       "event             0\n",
       "building_type     0\n",
       "user_id           0\n",
       "project_type      0\n",
       "dtype: int64"
      ]
     },
     "execution_count": 20,
     "metadata": {},
     "output_type": "execute_result"
    }
   ],
   "source": [
    "game_actions.isna().sum()"
   ]
  },
  {
   "cell_type": "markdown",
   "metadata": {},
   "source": [
    "Пропуски заполнены"
   ]
  },
  {
   "cell_type": "markdown",
   "metadata": {},
   "source": [
    "### Обработка дубликатов"
   ]
  },
  {
   "cell_type": "code",
   "execution_count": 21,
   "metadata": {},
   "outputs": [
    {
     "data": {
      "text/html": [
       "<div>\n",
       "<style scoped>\n",
       "    .dataframe tbody tr th:only-of-type {\n",
       "        vertical-align: middle;\n",
       "    }\n",
       "\n",
       "    .dataframe tbody tr th {\n",
       "        vertical-align: top;\n",
       "    }\n",
       "\n",
       "    .dataframe thead th {\n",
       "        text-align: right;\n",
       "    }\n",
       "</style>\n",
       "<table border=\"1\" class=\"dataframe\">\n",
       "  <thead>\n",
       "    <tr style=\"text-align: right;\">\n",
       "      <th></th>\n",
       "      <th>event_datetime</th>\n",
       "      <th>event</th>\n",
       "      <th>building_type</th>\n",
       "      <th>user_id</th>\n",
       "      <th>project_type</th>\n",
       "    </tr>\n",
       "  </thead>\n",
       "  <tbody>\n",
       "    <tr>\n",
       "      <th>74891</th>\n",
       "      <td>2020-05-10 18:41:56</td>\n",
       "      <td>building</td>\n",
       "      <td>research_center</td>\n",
       "      <td>c9af55d2-b0ae-4bb4-b3d5-f32aa9ac03af</td>\n",
       "      <td>level_is_not_passed</td>\n",
       "    </tr>\n",
       "  </tbody>\n",
       "</table>\n",
       "</div>"
      ],
      "text/plain": [
       "           event_datetime     event    building_type  \\\n",
       "74891 2020-05-10 18:41:56  building  research_center   \n",
       "\n",
       "                                    user_id         project_type  \n",
       "74891  c9af55d2-b0ae-4bb4-b3d5-f32aa9ac03af  level_is_not_passed  "
      ]
     },
     "execution_count": 21,
     "metadata": {},
     "output_type": "execute_result"
    }
   ],
   "source": [
    "game_actions[game_actions.duplicated()==True].sort_values(by=['building_type','event_datetime','user_id']).head() \n",
    "#посмотрим на дубль"
   ]
  },
  {
   "cell_type": "code",
   "execution_count": 22,
   "metadata": {},
   "outputs": [],
   "source": [
    "game_actions = game_actions.drop_duplicates()"
   ]
  },
  {
   "cell_type": "code",
   "execution_count": 23,
   "metadata": {},
   "outputs": [
    {
     "name": "stdout",
     "output_type": "stream",
     "text": [
      "Дубликатов 0\n"
     ]
    }
   ],
   "source": [
    "print('Дубликатов',game_actions.duplicated().sum())"
   ]
  },
  {
   "cell_type": "markdown",
   "metadata": {},
   "source": [
    "### Вывод  \n",
    "Данные готовы к исследованию"
   ]
  },
  {
   "cell_type": "markdown",
   "metadata": {},
   "source": [
    "## Анализ данных(EDA)"
   ]
  },
  {
   "cell_type": "markdown",
   "metadata": {},
   "source": [
    "### Анализ метрик, связанных с с пользователями и событиями"
   ]
  },
  {
   "cell_type": "code",
   "execution_count": 24,
   "metadata": {},
   "outputs": [
    {
     "name": "stdout",
     "output_type": "stream",
     "text": [
      "Количествово пользователей = 13576\n",
      "Количествово событий = 135639\n"
     ]
    }
   ],
   "source": [
    "print(\"Количествово пользователей =\", game_actions['user_id'].nunique())\n",
    "print(\"Количествово событий =\", game_actions['event'].count())"
   ]
  },
  {
   "cell_type": "code",
   "execution_count": 25,
   "metadata": {},
   "outputs": [
    {
     "name": "stdout",
     "output_type": "stream",
     "text": [
      "Среднее количество событий на пользователя - 10.0\n"
     ]
    }
   ],
   "source": [
    "med_event = game_actions.groupby('user_id')['user_id'].count()\n",
    "print(\"Среднее количество событий на пользователя -\", med_event.median())"
   ]
  },
  {
   "cell_type": "markdown",
   "metadata": {},
   "source": [
    "Теперь посчитаем количество событий по группам"
   ]
  },
  {
   "cell_type": "code",
   "execution_count": 26,
   "metadata": {},
   "outputs": [
    {
     "data": {
      "text/html": [
       "<div>\n",
       "<style scoped>\n",
       "    .dataframe tbody tr th:only-of-type {\n",
       "        vertical-align: middle;\n",
       "    }\n",
       "\n",
       "    .dataframe tbody tr th {\n",
       "        vertical-align: top;\n",
       "    }\n",
       "\n",
       "    .dataframe thead th {\n",
       "        text-align: right;\n",
       "    }\n",
       "</style>\n",
       "<table border=\"1\" class=\"dataframe\">\n",
       "  <thead>\n",
       "    <tr style=\"text-align: right;\">\n",
       "      <th></th>\n",
       "      <th>event</th>\n",
       "      <th>count</th>\n",
       "    </tr>\n",
       "  </thead>\n",
       "  <tbody>\n",
       "    <tr>\n",
       "      <th>0</th>\n",
       "      <td>building</td>\n",
       "      <td>127956</td>\n",
       "    </tr>\n",
       "    <tr>\n",
       "      <th>1</th>\n",
       "      <td>finished_stage_1</td>\n",
       "      <td>5817</td>\n",
       "    </tr>\n",
       "    <tr>\n",
       "      <th>2</th>\n",
       "      <td>project</td>\n",
       "      <td>1866</td>\n",
       "    </tr>\n",
       "  </tbody>\n",
       "</table>\n",
       "</div>"
      ],
      "text/plain": [
       "              event   count\n",
       "0          building  127956\n",
       "1  finished_stage_1    5817\n",
       "2           project    1866"
      ]
     },
     "execution_count": 26,
     "metadata": {},
     "output_type": "execute_result"
    }
   ],
   "source": [
    "events = game_actions.groupby('event').agg({'building_type':'count'}).reset_index().rename(columns={'building_type':'count'})\n",
    "events"
   ]
  },
  {
   "cell_type": "code",
   "execution_count": 27,
   "metadata": {
    "scrolled": true
   },
   "outputs": [
    {
     "data": {
      "image/png": "[encoded data removed]",
      "text/plain": [
       "<Figure size 432x288 with 1 Axes>"
      ]
     },
     "metadata": {},
     "output_type": "display_data"
    }
   ],
   "source": [
    "fig, ax = plt.subplots()\n",
    "ax.pie(events['count'],\n",
    "       labels=events['event'],\n",
    "       autopct='%1.1f%%',\n",
    "       shadow=True,\n",
    "       wedgeprops={'lw':1, 'ls':'--','edgecolor':\"k\"}, rotatelabels=True)\n",
    "ax.axis(\"equal\")\n",
    "plt.title(\"Соотношение событий\")\n",
    "plt.show()"
   ]
  },
  {
   "cell_type": "markdown",
   "metadata": {},
   "source": [
    "Получается, уровень прошли только 5.7%"
   ]
  },
  {
   "cell_type": "code",
   "execution_count": 28,
   "metadata": {},
   "outputs": [],
   "source": [
    "builds = (game_actions[game_actions['building_type'] != 'without_buildings']\n",
    "          .groupby('building_type')\n",
    "          .agg({'event':'count'})\n",
    "          .reset_index()\n",
    "          .rename(columns={'event':'count'}))"
   ]
  },
  {
   "cell_type": "code",
   "execution_count": 29,
   "metadata": {
    "scrolled": false
   },
   "outputs": [
    {
     "data": {
      "image/png": "[encoded data removed]",
      "text/plain": [
       "<Figure size 432x288 with 1 Axes>"
      ]
     },
     "metadata": {},
     "output_type": "display_data"
    }
   ],
   "source": [
    "fig, ax = plt.subplots()\n",
    "ax.pie(builds['count'],\n",
    "       labels=builds['building_type'],\n",
    "       autopct='%1.1f%%',\n",
    "       shadow=True,\n",
    "       wedgeprops={'lw':1, 'ls':'--','edgecolor':\"k\"})\n",
    "ax.axis(\"equal\")\n",
    "plt.title(\"Соотношение построек\")\n",
    "plt.show()"
   ]
  },
  {
   "cell_type": "markdown",
   "metadata": {},
   "source": [
    "Типы зданий распределены следующим образом: `assembly_shop` — сборочный цех - 42.6%, `spaceport` — космопорт - 46.4%, `research_center` — исследовательский центр - 11%"
   ]
  },
  {
   "cell_type": "markdown",
   "metadata": {},
   "source": [
    "Далее посмотрю распределение событий в зависимости от времени."
   ]
  },
  {
   "cell_type": "markdown",
   "metadata": {},
   "source": [
    "### Анализ временнЫх метрик"
   ]
  },
  {
   "cell_type": "code",
   "execution_count": 30,
   "metadata": {
    "scrolled": false
   },
   "outputs": [
    {
     "data": {
      "image/png": "[encoded data removed]",
      "text/plain": [
       "<Figure size 1080x1080 with 1 Axes>"
      ]
     },
     "metadata": {
      "needs_background": "light"
     },
     "output_type": "display_data"
    }
   ],
   "source": [
    "plt.figure(figsize=(15,15))\n",
    "ax = sns.countplot(y=game_actions['event_datetime'].dt.strftime('%Y-%m-%d'), hue='event', data=game_actions, dodge=False)\n",
    "ax.set_title('Распределение событий во времени')\n",
    "plt.show()"
   ]
  },
  {
   "cell_type": "markdown",
   "metadata": {},
   "source": [
    "По графику видно, что как и говорилось в условии пользователи начали \"включаться\" в процесс игры с 4 по 10 мая, поток в начале большой, через несколько дней видно по графику начали появляться те, кто прошел уровень, но интересно, что с увеличением этой группы в течение  месяца группа просто играющих резко сократилась. Теперь хотелось бы посмотреть сколько по времени занимает прохождение уровня."
   ]
  },
  {
   "cell_type": "markdown",
   "metadata": {},
   "source": [
    "Далее рассчитаем время прохождения уровня"
   ]
  },
  {
   "cell_type": "code",
   "execution_count": 31,
   "metadata": {},
   "outputs": [
    {
     "data": {
      "text/html": [
       "<div>\n",
       "<style scoped>\n",
       "    .dataframe tbody tr th:only-of-type {\n",
       "        vertical-align: middle;\n",
       "    }\n",
       "\n",
       "    .dataframe tbody tr th {\n",
       "        vertical-align: top;\n",
       "    }\n",
       "\n",
       "    .dataframe thead th {\n",
       "        text-align: right;\n",
       "    }\n",
       "</style>\n",
       "<table border=\"1\" class=\"dataframe\">\n",
       "  <thead>\n",
       "    <tr style=\"text-align: right;\">\n",
       "      <th></th>\n",
       "      <th>user_id</th>\n",
       "      <th>event_datetime</th>\n",
       "      <th>event_datetime</th>\n",
       "      <th>level_time</th>\n",
       "    </tr>\n",
       "  </thead>\n",
       "  <tbody>\n",
       "    <tr>\n",
       "      <th>91</th>\n",
       "      <td>03990bc0-47b6-44ce-9f8b-3afb1a97d0e7</td>\n",
       "      <td>2020-05-07 16:40:32</td>\n",
       "      <td>2020-05-08 02:19:33</td>\n",
       "      <td>0 days 09:39:01</td>\n",
       "    </tr>\n",
       "    <tr>\n",
       "      <th>4687</th>\n",
       "      <td>ced7b368-818f-48f6-9461-2346de0892c5</td>\n",
       "      <td>2020-05-04 00:13:21</td>\n",
       "      <td>2020-05-04 19:47:29</td>\n",
       "      <td>0 days 19:34:08</td>\n",
       "    </tr>\n",
       "    <tr>\n",
       "      <th>4547</th>\n",
       "      <td>c8180f71-68dc-4fd5-ba6e-ba5f5d0d28f7</td>\n",
       "      <td>2020-05-08 16:08:29</td>\n",
       "      <td>2020-05-09 11:52:33</td>\n",
       "      <td>0 days 19:44:04</td>\n",
       "    </tr>\n",
       "    <tr>\n",
       "      <th>825</th>\n",
       "      <td>2204ae7f-892b-494d-bd58-28816ff35eb5</td>\n",
       "      <td>2020-05-07 02:25:27</td>\n",
       "      <td>2020-05-08 01:02:51</td>\n",
       "      <td>0 days 22:37:24</td>\n",
       "    </tr>\n",
       "    <tr>\n",
       "      <th>1032</th>\n",
       "      <td>2ab1cc5a-413a-408e-ba76-01de8e12bead</td>\n",
       "      <td>2020-05-05 13:25:04</td>\n",
       "      <td>2020-05-06 13:43:12</td>\n",
       "      <td>1 days 00:18:08</td>\n",
       "    </tr>\n",
       "    <tr>\n",
       "      <th>689</th>\n",
       "      <td>1c472a67-3aac-43f1-994f-4afbbb564918</td>\n",
       "      <td>2020-05-08 03:52:35</td>\n",
       "      <td>2020-05-09 05:23:00</td>\n",
       "      <td>1 days 01:30:25</td>\n",
       "    </tr>\n",
       "    <tr>\n",
       "      <th>2002</th>\n",
       "      <td>56758e22-1604-47ed-9cd2-b2cc73eea47f</td>\n",
       "      <td>2020-05-06 10:22:51</td>\n",
       "      <td>2020-05-07 12:48:56</td>\n",
       "      <td>1 days 02:26:05</td>\n",
       "    </tr>\n",
       "    <tr>\n",
       "      <th>2556</th>\n",
       "      <td>70db22b3-c2f4-43bc-94ea-51c8d2904a29</td>\n",
       "      <td>2020-05-04 13:41:55</td>\n",
       "      <td>2020-05-05 18:54:37</td>\n",
       "      <td>1 days 05:12:42</td>\n",
       "    </tr>\n",
       "    <tr>\n",
       "      <th>841</th>\n",
       "      <td>22b2aade-2741-4cd7-aafa-8da404e7b730</td>\n",
       "      <td>2020-05-07 10:30:52</td>\n",
       "      <td>2020-05-08 17:16:15</td>\n",
       "      <td>1 days 06:45:23</td>\n",
       "    </tr>\n",
       "    <tr>\n",
       "      <th>2531</th>\n",
       "      <td>6ff3138b-b242-4ec3-b50f-8d6f999c0848</td>\n",
       "      <td>2020-05-09 18:23:09</td>\n",
       "      <td>2020-05-11 02:52:22</td>\n",
       "      <td>1 days 08:29:13</td>\n",
       "    </tr>\n",
       "  </tbody>\n",
       "</table>\n",
       "</div>"
      ],
      "text/plain": [
       "                                   user_id      event_datetime  \\\n",
       "91    03990bc0-47b6-44ce-9f8b-3afb1a97d0e7 2020-05-07 16:40:32   \n",
       "4687  ced7b368-818f-48f6-9461-2346de0892c5 2020-05-04 00:13:21   \n",
       "4547  c8180f71-68dc-4fd5-ba6e-ba5f5d0d28f7 2020-05-08 16:08:29   \n",
       "825   2204ae7f-892b-494d-bd58-28816ff35eb5 2020-05-07 02:25:27   \n",
       "1032  2ab1cc5a-413a-408e-ba76-01de8e12bead 2020-05-05 13:25:04   \n",
       "689   1c472a67-3aac-43f1-994f-4afbbb564918 2020-05-08 03:52:35   \n",
       "2002  56758e22-1604-47ed-9cd2-b2cc73eea47f 2020-05-06 10:22:51   \n",
       "2556  70db22b3-c2f4-43bc-94ea-51c8d2904a29 2020-05-04 13:41:55   \n",
       "841   22b2aade-2741-4cd7-aafa-8da404e7b730 2020-05-07 10:30:52   \n",
       "2531  6ff3138b-b242-4ec3-b50f-8d6f999c0848 2020-05-09 18:23:09   \n",
       "\n",
       "          event_datetime      level_time  \n",
       "91   2020-05-08 02:19:33 0 days 09:39:01  \n",
       "4687 2020-05-04 19:47:29 0 days 19:34:08  \n",
       "4547 2020-05-09 11:52:33 0 days 19:44:04  \n",
       "825  2020-05-08 01:02:51 0 days 22:37:24  \n",
       "1032 2020-05-06 13:43:12 1 days 00:18:08  \n",
       "689  2020-05-09 05:23:00 1 days 01:30:25  \n",
       "2002 2020-05-07 12:48:56 1 days 02:26:05  \n",
       "2556 2020-05-05 18:54:37 1 days 05:12:42  \n",
       "841  2020-05-08 17:16:15 1 days 06:45:23  \n",
       "2531 2020-05-11 02:52:22 1 days 08:29:13  "
      ]
     },
     "execution_count": 31,
     "metadata": {},
     "output_type": "execute_result"
    }
   ],
   "source": [
    "past_players = game_actions[game_actions['project_type'] != 'level_is_not_passed']['user_id']\n",
    "passed_time = (game_actions\n",
    "              .query('user_id in @past_players')\n",
    "              .groupby('user_id')\n",
    "              .agg({'event_datetime':['min','max']}))\n",
    "passed_time['level_time'] = passed_time[('event_datetime', 'max')] - passed_time[('event_datetime', 'min')]\n",
    "passed_time.columns = passed_time.columns.droplevel(1)\n",
    "passed_time = passed_time.reset_index().sort_values(by='level_time')\n",
    "passed_time.head(10)"
   ]
  },
  {
   "cell_type": "code",
   "execution_count": 32,
   "metadata": {},
   "outputs": [
    {
     "data": {
      "text/html": [
       "<div>\n",
       "<style scoped>\n",
       "    .dataframe tbody tr th:only-of-type {\n",
       "        vertical-align: middle;\n",
       "    }\n",
       "\n",
       "    .dataframe tbody tr th {\n",
       "        vertical-align: top;\n",
       "    }\n",
       "\n",
       "    .dataframe thead th {\n",
       "        text-align: right;\n",
       "    }\n",
       "</style>\n",
       "<table border=\"1\" class=\"dataframe\">\n",
       "  <thead>\n",
       "    <tr style=\"text-align: right;\">\n",
       "      <th></th>\n",
       "      <th>user_id</th>\n",
       "      <th>event_datetime</th>\n",
       "      <th>event_datetime</th>\n",
       "      <th>level_time</th>\n",
       "    </tr>\n",
       "  </thead>\n",
       "  <tbody>\n",
       "    <tr>\n",
       "      <th>4809</th>\n",
       "      <td>d477dde8-7c22-4f23-9c4f-4ec31a1aa4c8</td>\n",
       "      <td>2020-05-07 02:18:19</td>\n",
       "      <td>2020-06-04 17:56:14</td>\n",
       "      <td>28 days 15:37:55</td>\n",
       "    </tr>\n",
       "    <tr>\n",
       "      <th>3585</th>\n",
       "      <td>9df154c3-fb77-4f8a-a281-0457c0b11cec</td>\n",
       "      <td>2020-05-05 03:15:52</td>\n",
       "      <td>2020-06-02 20:53:20</td>\n",
       "      <td>28 days 17:37:28</td>\n",
       "    </tr>\n",
       "    <tr>\n",
       "      <th>1886</th>\n",
       "      <td>515c1952-99aa-4bca-a7ea-d0449eb5385a</td>\n",
       "      <td>2020-05-07 07:28:50</td>\n",
       "      <td>2020-06-05 02:25:12</td>\n",
       "      <td>28 days 18:56:22</td>\n",
       "    </tr>\n",
       "    <tr>\n",
       "      <th>3659</th>\n",
       "      <td>a140e0d5-434a-4c7a-ab96-c364afcc646b</td>\n",
       "      <td>2020-05-06 03:52:37</td>\n",
       "      <td>2020-06-04 05:12:50</td>\n",
       "      <td>29 days 01:20:13</td>\n",
       "    </tr>\n",
       "    <tr>\n",
       "      <th>3073</th>\n",
       "      <td>865e64e0-7844-4734-a66c-d2f1e1ec4284</td>\n",
       "      <td>2020-05-04 05:49:00</td>\n",
       "      <td>2020-06-02 09:02:43</td>\n",
       "      <td>29 days 03:13:43</td>\n",
       "    </tr>\n",
       "    <tr>\n",
       "      <th>1205</th>\n",
       "      <td>32572adb-900f-4b5d-a453-1eb1e6d88d8b</td>\n",
       "      <td>2020-05-07 05:43:45</td>\n",
       "      <td>2020-06-05 12:12:27</td>\n",
       "      <td>29 days 06:28:42</td>\n",
       "    </tr>\n",
       "    <tr>\n",
       "      <th>3753</th>\n",
       "      <td>a4f54b34-299f-495f-b29f-745465741366</td>\n",
       "      <td>2020-05-04 05:00:48</td>\n",
       "      <td>2020-06-03 12:47:09</td>\n",
       "      <td>30 days 07:46:21</td>\n",
       "    </tr>\n",
       "    <tr>\n",
       "      <th>5497</th>\n",
       "      <td>f21d179f-1c4b-437e-b9c6-ab1976907195</td>\n",
       "      <td>2020-05-06 02:56:25</td>\n",
       "      <td>2020-06-05 12:32:49</td>\n",
       "      <td>30 days 09:36:24</td>\n",
       "    </tr>\n",
       "    <tr>\n",
       "      <th>843</th>\n",
       "      <td>22cce310-fe10-41a2-941b-9c3d63327fea</td>\n",
       "      <td>2020-05-04 18:38:25</td>\n",
       "      <td>2020-06-04 15:50:38</td>\n",
       "      <td>30 days 21:12:13</td>\n",
       "    </tr>\n",
       "    <tr>\n",
       "      <th>603</th>\n",
       "      <td>18fc6a86-00e7-4f3e-96da-bdb6d550415c</td>\n",
       "      <td>2020-05-04 08:45:09</td>\n",
       "      <td>2020-06-04 06:44:02</td>\n",
       "      <td>30 days 21:58:53</td>\n",
       "    </tr>\n",
       "  </tbody>\n",
       "</table>\n",
       "</div>"
      ],
      "text/plain": [
       "                                   user_id      event_datetime  \\\n",
       "4809  d477dde8-7c22-4f23-9c4f-4ec31a1aa4c8 2020-05-07 02:18:19   \n",
       "3585  9df154c3-fb77-4f8a-a281-0457c0b11cec 2020-05-05 03:15:52   \n",
       "1886  515c1952-99aa-4bca-a7ea-d0449eb5385a 2020-05-07 07:28:50   \n",
       "3659  a140e0d5-434a-4c7a-ab96-c364afcc646b 2020-05-06 03:52:37   \n",
       "3073  865e64e0-7844-4734-a66c-d2f1e1ec4284 2020-05-04 05:49:00   \n",
       "1205  32572adb-900f-4b5d-a453-1eb1e6d88d8b 2020-05-07 05:43:45   \n",
       "3753  a4f54b34-299f-495f-b29f-745465741366 2020-05-04 05:00:48   \n",
       "5497  f21d179f-1c4b-437e-b9c6-ab1976907195 2020-05-06 02:56:25   \n",
       "843   22cce310-fe10-41a2-941b-9c3d63327fea 2020-05-04 18:38:25   \n",
       "603   18fc6a86-00e7-4f3e-96da-bdb6d550415c 2020-05-04 08:45:09   \n",
       "\n",
       "          event_datetime       level_time  \n",
       "4809 2020-06-04 17:56:14 28 days 15:37:55  \n",
       "3585 2020-06-02 20:53:20 28 days 17:37:28  \n",
       "1886 2020-06-05 02:25:12 28 days 18:56:22  \n",
       "3659 2020-06-04 05:12:50 29 days 01:20:13  \n",
       "3073 2020-06-02 09:02:43 29 days 03:13:43  \n",
       "1205 2020-06-05 12:12:27 29 days 06:28:42  \n",
       "3753 2020-06-03 12:47:09 30 days 07:46:21  \n",
       "5497 2020-06-05 12:32:49 30 days 09:36:24  \n",
       "843  2020-06-04 15:50:38 30 days 21:12:13  \n",
       "603  2020-06-04 06:44:02 30 days 21:58:53  "
      ]
     },
     "execution_count": 32,
     "metadata": {},
     "output_type": "execute_result"
    }
   ],
   "source": [
    "passed_time.tail(10)"
   ]
  },
  {
   "cell_type": "markdown",
   "metadata": {},
   "source": [
    "Самое быстрое прохождение - 9ч39мин, после - 19ч34м,19ч44м,22ч37м,1д18ч... Предела по времени нет(т.к. большая часть уровень еще не прошла)"
   ]
  },
  {
   "cell_type": "markdown",
   "metadata": {},
   "source": [
    "### Анализ источников трафика"
   ]
  },
  {
   "cell_type": "code",
   "execution_count": 33,
   "metadata": {},
   "outputs": [
    {
     "data": {
      "text/html": [
       "<div>\n",
       "<style scoped>\n",
       "    .dataframe tbody tr th:only-of-type {\n",
       "        vertical-align: middle;\n",
       "    }\n",
       "\n",
       "    .dataframe tbody tr th {\n",
       "        vertical-align: top;\n",
       "    }\n",
       "\n",
       "    .dataframe thead th {\n",
       "        text-align: right;\n",
       "    }\n",
       "</style>\n",
       "<table border=\"1\" class=\"dataframe\">\n",
       "  <thead>\n",
       "    <tr style=\"text-align: right;\">\n",
       "      <th></th>\n",
       "      <th>event_datetime</th>\n",
       "      <th>event</th>\n",
       "      <th>building_type</th>\n",
       "      <th>user_id</th>\n",
       "      <th>project_type</th>\n",
       "    </tr>\n",
       "  </thead>\n",
       "  <tbody>\n",
       "    <tr>\n",
       "      <th>0</th>\n",
       "      <td>2020-05-04 00:00:01</td>\n",
       "      <td>building</td>\n",
       "      <td>assembly_shop</td>\n",
       "      <td>55e92310-cb8e-4754-b622-597e124b03de</td>\n",
       "      <td>level_is_not_passed</td>\n",
       "    </tr>\n",
       "    <tr>\n",
       "      <th>1</th>\n",
       "      <td>2020-05-04 00:00:03</td>\n",
       "      <td>building</td>\n",
       "      <td>assembly_shop</td>\n",
       "      <td>c07b1c10-f477-44dc-81dc-ec82254b1347</td>\n",
       "      <td>level_is_not_passed</td>\n",
       "    </tr>\n",
       "    <tr>\n",
       "      <th>2</th>\n",
       "      <td>2020-05-04 00:00:16</td>\n",
       "      <td>building</td>\n",
       "      <td>assembly_shop</td>\n",
       "      <td>6edd42cc-e753-4ff6-a947-2107cd560710</td>\n",
       "      <td>level_is_not_passed</td>\n",
       "    </tr>\n",
       "    <tr>\n",
       "      <th>3</th>\n",
       "      <td>2020-05-04 00:00:16</td>\n",
       "      <td>building</td>\n",
       "      <td>assembly_shop</td>\n",
       "      <td>92c69003-d60a-444a-827f-8cc51bf6bf4c</td>\n",
       "      <td>level_is_not_passed</td>\n",
       "    </tr>\n",
       "    <tr>\n",
       "      <th>4</th>\n",
       "      <td>2020-05-04 00:00:35</td>\n",
       "      <td>building</td>\n",
       "      <td>assembly_shop</td>\n",
       "      <td>cdc6bb92-0ccb-4490-9866-ef142f09139d</td>\n",
       "      <td>level_is_not_passed</td>\n",
       "    </tr>\n",
       "    <tr>\n",
       "      <th>...</th>\n",
       "      <td>...</td>\n",
       "      <td>...</td>\n",
       "      <td>...</td>\n",
       "      <td>...</td>\n",
       "      <td>...</td>\n",
       "    </tr>\n",
       "    <tr>\n",
       "      <th>135635</th>\n",
       "      <td>2020-06-05 00:08:06</td>\n",
       "      <td>building</td>\n",
       "      <td>research_center</td>\n",
       "      <td>f21d179f-1c4b-437e-b9c6-ab1976907195</td>\n",
       "      <td>level_is_not_passed</td>\n",
       "    </tr>\n",
       "    <tr>\n",
       "      <th>135636</th>\n",
       "      <td>2020-06-05 02:25:12</td>\n",
       "      <td>finished_stage_1</td>\n",
       "      <td>without_buildings</td>\n",
       "      <td>515c1952-99aa-4bca-a7ea-d0449eb5385a</td>\n",
       "      <td>victory_in_pvp</td>\n",
       "    </tr>\n",
       "    <tr>\n",
       "      <th>135637</th>\n",
       "      <td>2020-06-05 08:57:52</td>\n",
       "      <td>building</td>\n",
       "      <td>research_center</td>\n",
       "      <td>ed3e7d02-8a96-4be7-9998-e9813ff9c316</td>\n",
       "      <td>level_is_not_passed</td>\n",
       "    </tr>\n",
       "    <tr>\n",
       "      <th>135638</th>\n",
       "      <td>2020-06-05 12:12:27</td>\n",
       "      <td>finished_stage_1</td>\n",
       "      <td>without_buildings</td>\n",
       "      <td>32572adb-900f-4b5d-a453-1eb1e6d88d8b</td>\n",
       "      <td>victory_in_pvp</td>\n",
       "    </tr>\n",
       "    <tr>\n",
       "      <th>135639</th>\n",
       "      <td>2020-06-05 12:32:49</td>\n",
       "      <td>finished_stage_1</td>\n",
       "      <td>without_buildings</td>\n",
       "      <td>f21d179f-1c4b-437e-b9c6-ab1976907195</td>\n",
       "      <td>victory_in_pvp</td>\n",
       "    </tr>\n",
       "  </tbody>\n",
       "</table>\n",
       "<p>135639 rows × 5 columns</p>\n",
       "</div>"
      ],
      "text/plain": [
       "            event_datetime             event      building_type  \\\n",
       "0      2020-05-04 00:00:01          building      assembly_shop   \n",
       "1      2020-05-04 00:00:03          building      assembly_shop   \n",
       "2      2020-05-04 00:00:16          building      assembly_shop   \n",
       "3      2020-05-04 00:00:16          building      assembly_shop   \n",
       "4      2020-05-04 00:00:35          building      assembly_shop   \n",
       "...                    ...               ...                ...   \n",
       "135635 2020-06-05 00:08:06          building    research_center   \n",
       "135636 2020-06-05 02:25:12  finished_stage_1  without_buildings   \n",
       "135637 2020-06-05 08:57:52          building    research_center   \n",
       "135638 2020-06-05 12:12:27  finished_stage_1  without_buildings   \n",
       "135639 2020-06-05 12:32:49  finished_stage_1  without_buildings   \n",
       "\n",
       "                                     user_id         project_type  \n",
       "0       55e92310-cb8e-4754-b622-597e124b03de  level_is_not_passed  \n",
       "1       c07b1c10-f477-44dc-81dc-ec82254b1347  level_is_not_passed  \n",
       "2       6edd42cc-e753-4ff6-a947-2107cd560710  level_is_not_passed  \n",
       "3       92c69003-d60a-444a-827f-8cc51bf6bf4c  level_is_not_passed  \n",
       "4       cdc6bb92-0ccb-4490-9866-ef142f09139d  level_is_not_passed  \n",
       "...                                      ...                  ...  \n",
       "135635  f21d179f-1c4b-437e-b9c6-ab1976907195  level_is_not_passed  \n",
       "135636  515c1952-99aa-4bca-a7ea-d0449eb5385a       victory_in_pvp  \n",
       "135637  ed3e7d02-8a96-4be7-9998-e9813ff9c316  level_is_not_passed  \n",
       "135638  32572adb-900f-4b5d-a453-1eb1e6d88d8b       victory_in_pvp  \n",
       "135639  f21d179f-1c4b-437e-b9c6-ab1976907195       victory_in_pvp  \n",
       "\n",
       "[135639 rows x 5 columns]"
      ]
     },
     "execution_count": 33,
     "metadata": {},
     "output_type": "execute_result"
    }
   ],
   "source": [
    "game_actions"
   ]
  },
  {
   "cell_type": "code",
   "execution_count": 34,
   "metadata": {},
   "outputs": [
    {
     "data": {
      "text/plain": [
       "yandex_direct              4817\n",
       "instagram_new_adverts      3347\n",
       "facebook_ads               2726\n",
       "youtube_channel_reklama    2686\n",
       "Name: source, dtype: int64"
      ]
     },
     "execution_count": 34,
     "metadata": {},
     "output_type": "execute_result"
    }
   ],
   "source": [
    "user_source['source'].value_counts()"
   ]
  },
  {
   "cell_type": "code",
   "execution_count": 35,
   "metadata": {},
   "outputs": [
    {
     "data": {
      "image/png": "[encoded data removed]",
      "text/plain": [
       "<Figure size 432x288 with 1 Axes>"
      ]
     },
     "metadata": {
      "needs_background": "light"
     },
     "output_type": "display_data"
    }
   ],
   "source": [
    "user_source[\"source\"].value_counts().plot.bar(rot=15, grid=True)\n",
    "plt.title(\"Соотношение количества событий из разных источников\")\n",
    "plt.show()\n"
   ]
  },
  {
   "cell_type": "markdown",
   "metadata": {},
   "source": [
    "Всего 4 источника трафика - Я.Директ, Instagram, Facebook, Youtube. Большая часть пришла из Директа, меньшая - из Youtube. Теперь посмотрим распределение суммарной стоимости кликов по источникам."
   ]
  },
  {
   "cell_type": "code",
   "execution_count": 36,
   "metadata": {},
   "outputs": [
    {
     "data": {
      "text/html": [
       "<div>\n",
       "<style scoped>\n",
       "    .dataframe tbody tr th:only-of-type {\n",
       "        vertical-align: middle;\n",
       "    }\n",
       "\n",
       "    .dataframe tbody tr th {\n",
       "        vertical-align: top;\n",
       "    }\n",
       "\n",
       "    .dataframe thead th {\n",
       "        text-align: right;\n",
       "    }\n",
       "</style>\n",
       "<table border=\"1\" class=\"dataframe\">\n",
       "  <thead>\n",
       "    <tr style=\"text-align: right;\">\n",
       "      <th></th>\n",
       "      <th>source</th>\n",
       "      <th>users</th>\n",
       "    </tr>\n",
       "  </thead>\n",
       "  <tbody>\n",
       "    <tr>\n",
       "      <th>0</th>\n",
       "      <td>facebook_ads</td>\n",
       "      <td>2726</td>\n",
       "    </tr>\n",
       "    <tr>\n",
       "      <th>1</th>\n",
       "      <td>instagram_new_adverts</td>\n",
       "      <td>3347</td>\n",
       "    </tr>\n",
       "    <tr>\n",
       "      <th>2</th>\n",
       "      <td>yandex_direct</td>\n",
       "      <td>4817</td>\n",
       "    </tr>\n",
       "    <tr>\n",
       "      <th>3</th>\n",
       "      <td>youtube_channel_reklama</td>\n",
       "      <td>2686</td>\n",
       "    </tr>\n",
       "  </tbody>\n",
       "</table>\n",
       "</div>"
      ],
      "text/plain": [
       "                    source  users\n",
       "0             facebook_ads   2726\n",
       "1    instagram_new_adverts   3347\n",
       "2            yandex_direct   4817\n",
       "3  youtube_channel_reklama   2686"
      ]
     },
     "execution_count": 36,
     "metadata": {},
     "output_type": "execute_result"
    }
   ],
   "source": [
    "users_and_sources = (user_source\n",
    "              .groupby('source')\n",
    "              .agg({'user_id':'nunique'})\n",
    "              .rename(columns={'user_id':'users'})\n",
    "              .round({'users': 2})\n",
    "              .reset_index())\n",
    "users_and_sources"
   ]
  },
  {
   "cell_type": "code",
   "execution_count": 37,
   "metadata": {},
   "outputs": [
    {
     "data": {
      "text/html": [
       "<div>\n",
       "<style scoped>\n",
       "    .dataframe tbody tr th:only-of-type {\n",
       "        vertical-align: middle;\n",
       "    }\n",
       "\n",
       "    .dataframe tbody tr th {\n",
       "        vertical-align: top;\n",
       "    }\n",
       "\n",
       "    .dataframe thead th {\n",
       "        text-align: right;\n",
       "    }\n",
       "</style>\n",
       "<table border=\"1\" class=\"dataframe\">\n",
       "  <thead>\n",
       "    <tr style=\"text-align: right;\">\n",
       "      <th></th>\n",
       "      <th>source</th>\n",
       "      <th>day</th>\n",
       "      <th>cost</th>\n",
       "    </tr>\n",
       "  </thead>\n",
       "  <tbody>\n",
       "    <tr>\n",
       "      <th>0</th>\n",
       "      <td>facebook_ads</td>\n",
       "      <td>2020-05-03</td>\n",
       "      <td>935.88</td>\n",
       "    </tr>\n",
       "    <tr>\n",
       "      <th>1</th>\n",
       "      <td>facebook_ads</td>\n",
       "      <td>2020-05-04</td>\n",
       "      <td>548.35</td>\n",
       "    </tr>\n",
       "    <tr>\n",
       "      <th>2</th>\n",
       "      <td>facebook_ads</td>\n",
       "      <td>2020-05-05</td>\n",
       "      <td>260.19</td>\n",
       "    </tr>\n",
       "    <tr>\n",
       "      <th>3</th>\n",
       "      <td>facebook_ads</td>\n",
       "      <td>2020-05-06</td>\n",
       "      <td>177.98</td>\n",
       "    </tr>\n",
       "    <tr>\n",
       "      <th>4</th>\n",
       "      <td>facebook_ads</td>\n",
       "      <td>2020-05-07</td>\n",
       "      <td>111.77</td>\n",
       "    </tr>\n",
       "  </tbody>\n",
       "</table>\n",
       "</div>"
      ],
      "text/plain": [
       "         source        day   cost\n",
       "0  facebook_ads 2020-05-03 935.88\n",
       "1  facebook_ads 2020-05-04 548.35\n",
       "2  facebook_ads 2020-05-05 260.19\n",
       "3  facebook_ads 2020-05-06 177.98\n",
       "4  facebook_ads 2020-05-07 111.77"
      ]
     },
     "execution_count": 37,
     "metadata": {},
     "output_type": "execute_result"
    }
   ],
   "source": [
    "traffic_sources = (ad_costs\n",
    "       .groupby('source')\n",
    "       .agg({'cost':'sum'})         \n",
    "       .reset_index()\n",
    "       .rename(columns={'cost':'sum'}))\n",
    "ad_costs.head()"
   ]
  },
  {
   "cell_type": "code",
   "execution_count": 38,
   "metadata": {},
   "outputs": [
    {
     "data": {
      "text/html": [
       "<div>\n",
       "<style scoped>\n",
       "    .dataframe tbody tr th:only-of-type {\n",
       "        vertical-align: middle;\n",
       "    }\n",
       "\n",
       "    .dataframe tbody tr th {\n",
       "        vertical-align: top;\n",
       "    }\n",
       "\n",
       "    .dataframe thead th {\n",
       "        text-align: right;\n",
       "    }\n",
       "</style>\n",
       "<table border=\"1\" class=\"dataframe\">\n",
       "  <thead>\n",
       "    <tr style=\"text-align: right;\">\n",
       "      <th></th>\n",
       "      <th>source</th>\n",
       "      <th>sum</th>\n",
       "    </tr>\n",
       "  </thead>\n",
       "  <tbody>\n",
       "    <tr>\n",
       "      <th>0</th>\n",
       "      <td>facebook_ads</td>\n",
       "      <td>2,140.90</td>\n",
       "    </tr>\n",
       "    <tr>\n",
       "      <th>1</th>\n",
       "      <td>instagram_new_adverts</td>\n",
       "      <td>2,161.44</td>\n",
       "    </tr>\n",
       "    <tr>\n",
       "      <th>2</th>\n",
       "      <td>yandex_direct</td>\n",
       "      <td>2,233.11</td>\n",
       "    </tr>\n",
       "    <tr>\n",
       "      <th>3</th>\n",
       "      <td>youtube_channel_reklama</td>\n",
       "      <td>1,068.12</td>\n",
       "    </tr>\n",
       "  </tbody>\n",
       "</table>\n",
       "</div>"
      ],
      "text/plain": [
       "                    source      sum\n",
       "0             facebook_ads 2,140.90\n",
       "1    instagram_new_adverts 2,161.44\n",
       "2            yandex_direct 2,233.11\n",
       "3  youtube_channel_reklama 1,068.12"
      ]
     },
     "execution_count": 38,
     "metadata": {},
     "output_type": "execute_result"
    }
   ],
   "source": [
    "traffic_sources"
   ]
  },
  {
   "cell_type": "code",
   "execution_count": 39,
   "metadata": {},
   "outputs": [
    {
     "data": {
      "image/png": "[encoded data removed]",
      "text/plain": [
       "<Figure size 432x288 with 1 Axes>"
      ]
     },
     "metadata": {},
     "output_type": "display_data"
    }
   ],
   "source": [
    "fig, ax = plt.subplots()\n",
    "ax.pie(traffic_sources['sum'], labels=traffic_sources['source'], autopct='%1.1f%%', shadow=True, wedgeprops={'lw':1, 'ls':'--','edgecolor':\"k\"})\n",
    "ax.axis(\"equal\")\n",
    "plt.title(\"Соотношение стоимости кликов в зависимости от источника\")\n",
    "plt.show()"
   ]
  },
  {
   "cell_type": "code",
   "execution_count": 40,
   "metadata": {},
   "outputs": [
    {
     "data": {
      "image/png": "[encoded data removed]",
      "text/plain": [
       "<Figure size 432x288 with 1 Axes>"
      ]
     },
     "metadata": {},
     "output_type": "display_data"
    }
   ],
   "source": [
    "counting_clicks = traffic_sources[['source','sum']].merge(users_and_sources, how='left', on='source')\n",
    "counting_clicks['one_click'] = counting_clicks['sum']/counting_clicks['users']\n",
    "counting_clicks\n",
    "#traffic_sources users_and_sources\n",
    "\n",
    "fig, ax = plt.subplots()\n",
    "ax.pie(counting_clicks['one_click'], labels=counting_clicks['source'], autopct='%1.1f%%', shadow=True, wedgeprops={'lw':1, 'ls':'--','edgecolor':\"k\"})\n",
    "ax.axis(\"equal\")\n",
    "plt.title(\"Соотношение стоимости кликов в зависимости от источника\")\n",
    "plt.show()"
   ]
  },
  {
   "cell_type": "code",
   "execution_count": 41,
   "metadata": {},
   "outputs": [
    {
     "data": {
      "text/html": [
       "<div>\n",
       "<style scoped>\n",
       "    .dataframe tbody tr th:only-of-type {\n",
       "        vertical-align: middle;\n",
       "    }\n",
       "\n",
       "    .dataframe tbody tr th {\n",
       "        vertical-align: top;\n",
       "    }\n",
       "\n",
       "    .dataframe thead th {\n",
       "        text-align: right;\n",
       "    }\n",
       "</style>\n",
       "<table border=\"1\" class=\"dataframe\">\n",
       "  <thead>\n",
       "    <tr style=\"text-align: right;\">\n",
       "      <th></th>\n",
       "      <th>source</th>\n",
       "      <th>sum</th>\n",
       "      <th>users</th>\n",
       "      <th>one_click</th>\n",
       "    </tr>\n",
       "  </thead>\n",
       "  <tbody>\n",
       "    <tr>\n",
       "      <th>0</th>\n",
       "      <td>facebook_ads</td>\n",
       "      <td>2,140.90</td>\n",
       "      <td>2726</td>\n",
       "      <td>0.79</td>\n",
       "    </tr>\n",
       "    <tr>\n",
       "      <th>1</th>\n",
       "      <td>instagram_new_adverts</td>\n",
       "      <td>2,161.44</td>\n",
       "      <td>3347</td>\n",
       "      <td>0.65</td>\n",
       "    </tr>\n",
       "    <tr>\n",
       "      <th>2</th>\n",
       "      <td>yandex_direct</td>\n",
       "      <td>2,233.11</td>\n",
       "      <td>4817</td>\n",
       "      <td>0.46</td>\n",
       "    </tr>\n",
       "    <tr>\n",
       "      <th>3</th>\n",
       "      <td>youtube_channel_reklama</td>\n",
       "      <td>1,068.12</td>\n",
       "      <td>2686</td>\n",
       "      <td>0.40</td>\n",
       "    </tr>\n",
       "  </tbody>\n",
       "</table>\n",
       "</div>"
      ],
      "text/plain": [
       "                    source      sum  users  one_click\n",
       "0             facebook_ads 2,140.90   2726       0.79\n",
       "1    instagram_new_adverts 2,161.44   3347       0.65\n",
       "2            yandex_direct 2,233.11   4817       0.46\n",
       "3  youtube_channel_reklama 1,068.12   2686       0.40"
      ]
     },
     "execution_count": 41,
     "metadata": {},
     "output_type": "execute_result"
    }
   ],
   "source": [
    "counting_clicks"
   ]
  },
  {
   "cell_type": "markdown",
   "metadata": {},
   "source": [
    "Я заодно решила посмотреть и среднюю цену клика по источникам. Из этой информации можно сделать вывод, что реклама на фейсбуке(0.79) будет самая дорогая, при этом инстаграм приносит больше посетителей(3347) а ютуб почти столько же(2686, у фейсбука - 2726), у ютуба реклама самая дешевая(0.40), но и поток оттуда довольно низкий. Реклама у Директа - 0.46, поток оттуда самый большой(4817). Инстаграм по стоимости за клик второй - 0.65."
   ]
  },
  {
   "cell_type": "markdown",
   "metadata": {},
   "source": [
    "### Вывод  \n",
    "- Количествово пользователей = 13576  \n",
    "- Количествово событий = 949473  \n",
    "- Среднее количество событий на пользователя - 10.0  \n",
    "- Типы зданий распределены следующим образом: assembly_shop — сборочный цех - 42.6%, spaceport — космопорт - 46.4%, research_center — исследовательский центр - 11%  \n",
    "- Самое быстрое прохождение - 9ч39мин  \n",
    "- Всего 4 источника трафика - Я.Директ, Instagram, Facebook, Youtube. Большая часть пришла из Директа, меньшая - из Youtube. Теперь посмотрим распределение суммарной стоимости кликов по источникам  \n",
    "- Реклама на фейсбуке(178) будет дороже чем для ютуба(88,5) и инстаграмма(173) при этом инстаграм приносит больше посетителей(3347) а ютуб почти столько же(2686, у фейсбука - 2726), у ютуба реклама недорогая, но и поток оттуда довольно низкий  \n",
    "- Самая большая стоимость вышла у Директа - 180.9, но и поток оттуда самый большой(4817)"
   ]
  },
  {
   "cell_type": "markdown",
   "metadata": {},
   "source": [
    "## Проверка гипотезы №1\n",
    "Время завершения уровня различается в зависимости способа прохождения:  \n",
    "\n",
    "- через реализацию проекта,\n",
    "- через победу над первым игроком.  \n",
    " \n",
    "Отталкиваясь от этого сформулируем нулевую и альтернативную гипотезы: \n",
    " \n",
    "H0: Время завершения уровня yt различается независимо от способа прохождения:\n",
    "\n",
    "- через реализацию проекта\n",
    "- через победу над первым игроком\n",
    "\n",
    "\n",
    "H1: Время завершения уровня различается в зависимости от способа прохождения:\n",
    "\n",
    "- через реализацию проекта\n",
    "- через победу над первым игроком\n",
    "\n",
    "Критический уровень значимости = 0.05"
   ]
  },
  {
   "cell_type": "markdown",
   "metadata": {},
   "source": [
    "Для рассчетов будем использовать выведенную ранее таблицу passed_time, где уже посчитано время прохождения уровня"
   ]
  },
  {
   "cell_type": "code",
   "execution_count": 42,
   "metadata": {},
   "outputs": [],
   "source": [
    "passed_time_2 = passed_time.copy()"
   ]
  },
  {
   "cell_type": "code",
   "execution_count": 43,
   "metadata": {},
   "outputs": [
    {
     "data": {
      "image/png": "[encoded data removed]",
      "text/plain": [
       "<Figure size 360x360 with 1 Axes>"
      ]
     },
     "metadata": {
      "needs_background": "light"
     },
     "output_type": "display_data"
    },
    {
     "data": {
      "text/html": [
       "<div>\n",
       "<style scoped>\n",
       "    .dataframe tbody tr th:only-of-type {\n",
       "        vertical-align: middle;\n",
       "    }\n",
       "\n",
       "    .dataframe tbody tr th {\n",
       "        vertical-align: top;\n",
       "    }\n",
       "\n",
       "    .dataframe thead th {\n",
       "        text-align: right;\n",
       "    }\n",
       "</style>\n",
       "<table border=\"1\" class=\"dataframe\">\n",
       "  <thead>\n",
       "    <tr style=\"text-align: right;\">\n",
       "      <th></th>\n",
       "      <th>user_id</th>\n",
       "      <th>event_datetime</th>\n",
       "      <th>event_datetime</th>\n",
       "      <th>level_time</th>\n",
       "      <th>time_in_h</th>\n",
       "    </tr>\n",
       "  </thead>\n",
       "  <tbody>\n",
       "    <tr>\n",
       "      <th>91</th>\n",
       "      <td>03990bc0-47b6-44ce-9f8b-3afb1a97d0e7</td>\n",
       "      <td>2020-05-07 16:40:32</td>\n",
       "      <td>2020-05-08 02:19:33</td>\n",
       "      <td>0 days 09:39:01</td>\n",
       "      <td>9.65</td>\n",
       "    </tr>\n",
       "    <tr>\n",
       "      <th>4687</th>\n",
       "      <td>ced7b368-818f-48f6-9461-2346de0892c5</td>\n",
       "      <td>2020-05-04 00:13:21</td>\n",
       "      <td>2020-05-04 19:47:29</td>\n",
       "      <td>0 days 19:34:08</td>\n",
       "      <td>19.57</td>\n",
       "    </tr>\n",
       "    <tr>\n",
       "      <th>4547</th>\n",
       "      <td>c8180f71-68dc-4fd5-ba6e-ba5f5d0d28f7</td>\n",
       "      <td>2020-05-08 16:08:29</td>\n",
       "      <td>2020-05-09 11:52:33</td>\n",
       "      <td>0 days 19:44:04</td>\n",
       "      <td>19.73</td>\n",
       "    </tr>\n",
       "    <tr>\n",
       "      <th>825</th>\n",
       "      <td>2204ae7f-892b-494d-bd58-28816ff35eb5</td>\n",
       "      <td>2020-05-07 02:25:27</td>\n",
       "      <td>2020-05-08 01:02:51</td>\n",
       "      <td>0 days 22:37:24</td>\n",
       "      <td>22.62</td>\n",
       "    </tr>\n",
       "    <tr>\n",
       "      <th>1032</th>\n",
       "      <td>2ab1cc5a-413a-408e-ba76-01de8e12bead</td>\n",
       "      <td>2020-05-05 13:25:04</td>\n",
       "      <td>2020-05-06 13:43:12</td>\n",
       "      <td>1 days 00:18:08</td>\n",
       "      <td>24.30</td>\n",
       "    </tr>\n",
       "  </tbody>\n",
       "</table>\n",
       "</div>"
      ],
      "text/plain": [
       "                                   user_id      event_datetime  \\\n",
       "91    03990bc0-47b6-44ce-9f8b-3afb1a97d0e7 2020-05-07 16:40:32   \n",
       "4687  ced7b368-818f-48f6-9461-2346de0892c5 2020-05-04 00:13:21   \n",
       "4547  c8180f71-68dc-4fd5-ba6e-ba5f5d0d28f7 2020-05-08 16:08:29   \n",
       "825   2204ae7f-892b-494d-bd58-28816ff35eb5 2020-05-07 02:25:27   \n",
       "1032  2ab1cc5a-413a-408e-ba76-01de8e12bead 2020-05-05 13:25:04   \n",
       "\n",
       "          event_datetime      level_time  time_in_h  \n",
       "91   2020-05-08 02:19:33 0 days 09:39:01       9.65  \n",
       "4687 2020-05-04 19:47:29 0 days 19:34:08      19.57  \n",
       "4547 2020-05-09 11:52:33 0 days 19:44:04      19.73  \n",
       "825  2020-05-08 01:02:51 0 days 22:37:24      22.62  \n",
       "1032 2020-05-06 13:43:12 1 days 00:18:08      24.30  "
      ]
     },
     "execution_count": 43,
     "metadata": {},
     "output_type": "execute_result"
    }
   ],
   "source": [
    "passed_time_2['time_in_h'] = passed_time['level_time'] / np.timedelta64(1, 'h') #переводим затраченное время в часы\n",
    "sns.displot(passed_time_2['time_in_h'])\n",
    "plt.title(\"Распределение времени прохождения уровня в часах\")\n",
    "plt.show()\n",
    "passed_time_2.head()"
   ]
  },
  {
   "cell_type": "markdown",
   "metadata": {},
   "source": [
    "Построим боксплот и посмотрим точнее наличие выбросов"
   ]
  },
  {
   "cell_type": "code",
   "execution_count": 44,
   "metadata": {},
   "outputs": [
    {
     "data": {
      "image/png": "[encoded data removed]",
      "text/plain": [
       "<Figure size 432x288 with 1 Axes>"
      ]
     },
     "metadata": {
      "needs_background": "light"
     },
     "output_type": "display_data"
    }
   ],
   "source": [
    "sns.boxplot(x=passed_time_2['time_in_h'])\n",
    "plt.title(\"Распределение времени прохождения уровня в часах\")\n",
    "plt.show()"
   ]
  },
  {
   "cell_type": "code",
   "execution_count": 45,
   "metadata": {},
   "outputs": [
    {
     "data": {
      "text/plain": [
       "count   5,817.00\n",
       "mean      284.63\n",
       "std        97.63\n",
       "min         9.65\n",
       "25%       221.22\n",
       "50%       277.48\n",
       "75%       341.25\n",
       "max       741.98\n",
       "Name: time_in_h, dtype: float64"
      ]
     },
     "execution_count": 45,
     "metadata": {},
     "output_type": "execute_result"
    }
   ],
   "source": [
    "passed_time_2['time_in_h'].describe()"
   ]
  },
  {
   "cell_type": "code",
   "execution_count": 46,
   "metadata": {},
   "outputs": [],
   "source": [
    "passed_time_2 = passed_time_2[passed_time_2['time_in_h'] < 580] #517\n",
    "passed_time_2 = passed_time_2[passed_time_2['time_in_h'] > 10] #43"
   ]
  },
  {
   "cell_type": "code",
   "execution_count": 47,
   "metadata": {
    "scrolled": false
   },
   "outputs": [
    {
     "data": {
      "image/png": "[encoded data removed]",
      "text/plain": [
       "<Figure size 432x288 with 1 Axes>"
      ]
     },
     "metadata": {
      "needs_background": "light"
     },
     "output_type": "display_data"
    },
    {
     "data": {
      "image/png": "[encoded data removed]",
      "text/plain": [
       "<Figure size 360x360 with 1 Axes>"
      ]
     },
     "metadata": {
      "needs_background": "light"
     },
     "output_type": "display_data"
    },
    {
     "data": {
      "text/plain": [
       "count   5,781.00\n",
       "mean      282.50\n",
       "std        93.67\n",
       "min        19.57\n",
       "25%       220.91\n",
       "50%       276.92\n",
       "75%       339.93\n",
       "max       577.72\n",
       "Name: time_in_h, dtype: float64"
      ]
     },
     "execution_count": 47,
     "metadata": {},
     "output_type": "execute_result"
    }
   ],
   "source": [
    "sns.boxplot(x=passed_time_2['time_in_h'])\n",
    "plt.title(\"Распределение времени прохождения уровня в часах\")      \n",
    "plt.show()\n",
    "sns.displot(passed_time_2['time_in_h'])\n",
    "plt.title(\"Распределение времени прохождения уровня в часах\")\n",
    "plt.show()\n",
    "passed_time_2['time_in_h'].describe()"
   ]
  },
  {
   "cell_type": "markdown",
   "metadata": {},
   "source": [
    "Я не буду избавляться от всех выбросов, т.к. плотность событий около \"усов\" довольно высокая, поэтому я возьму на себя смелость и отрублю, как считаю правильным.(а так я считала через IQR = Q3 - Q1,верхний = Q3 + 1.5 * IQR,нижний = Q1 – 1.5 * IQR). Далее для проверки гипотез создам новые переменные и уберу тех, кто не прошел уровень(чтобы убрать nan`ы)"
   ]
  },
  {
   "cell_type": "code",
   "execution_count": 48,
   "metadata": {},
   "outputs": [],
   "source": [
    "passed_users = game_actions[(game_actions['project_type'] != 'level_is_not_passed')][['user_id', 'project_type']]\n",
    "project = game_actions[game_actions['project_type'] == 'satellite_orbital_assembly'][['user_id', 'project_type']]\n",
    "finished_stage_1  = passed_users[~passed_users.isin(project['user_id'].unique())].dropna()\n",
    "\n",
    "project_time = passed_time_2[['user_id', 'time_in_h']].merge(project, how='left', on='user_id').dropna()\n",
    "pvp_time = passed_time_2[['user_id', 'time_in_h']].merge(finished_stage_1, how='left', on='user_id').dropna()\n",
    "\n",
    "passing_the_battle = pvp_time['time_in_h']\n",
    "passing_the_project = project_time['time_in_h']\n"
   ]
  },
  {
   "cell_type": "code",
   "execution_count": 49,
   "metadata": {},
   "outputs": [
    {
     "name": "stdout",
     "output_type": "stream",
     "text": [
      "p-значение: 1.4033639707375194e-101\n",
      "Отвергаем нулевую гипотезу\n"
     ]
    }
   ],
   "source": [
    "alpha = 0.05\n",
    "\n",
    "end = st.ttest_ind(passing_the_battle, passing_the_project)\n",
    "\n",
    "print('p-значение:', end.pvalue)\n",
    "\n",
    "if (end.pvalue < alpha):\n",
    "    print(\"Отвергаем нулевую гипотезу\")\n",
    "else:\n",
    "    print(\"Не получилось отвергнуть нулевую гипотезу\")"
   ]
  },
  {
   "cell_type": "markdown",
   "metadata": {},
   "source": [
    "если у нас сейчас получается что есть влияние на быстроту прохождения уровня, я заодно и ее посчитаю в этом пункте"
   ]
  },
  {
   "cell_type": "code",
   "execution_count": 50,
   "metadata": {},
   "outputs": [
    {
     "name": "stdout",
     "output_type": "stream",
     "text": [
      "Среднее время прохождения уровня через бой - time_in_h   264.77\n",
      "dtype: float64\n",
      "Среднее время прохождения уровня через строительство - time_in_h   320.20\n",
      "dtype: float64\n"
     ]
    }
   ],
   "source": [
    "print('Среднее время прохождения уровня через бой -', pvp_time.mean())\n",
    "print('Среднее время прохождения уровня через строительство -', project_time.mean())"
   ]
  },
  {
   "cell_type": "code",
   "execution_count": 71,
   "metadata": {},
   "outputs": [
    {
     "data": {
      "image/png": "[encoded data removed]",
      "text/plain": [
       "<Figure size 525.5x360 with 1 Axes>"
      ]
     },
     "metadata": {
      "needs_background": "light"
     },
     "output_type": "display_data"
    }
   ],
   "source": [
    "distribution_of_strategies = game_actions[['user_id','project_type']].merge(passed_time_2, how='left', on='user_id').dropna()\n",
    "distribution_of_strategies  = distribution_of_strategies.drop(columns='event_datetime') \n",
    "distribution_of_strategies = distribution_of_strategies.query('project_type!=\"level_is_not_passed\"')\n",
    "#понимаю, что это можно было вместить не в 100500 строк, но это максимум,на что был способен мозг после работы....   \n",
    "sns.displot(x='time_in_h',\n",
    "            hue='project_type',\n",
    "            kind=\"kde\",\n",
    "            fill=True,\n",
    "            data=distribution_of_strategies);"
   ]
  },
  {
   "cell_type": "markdown",
   "metadata": {},
   "source": [
    "Получается, пока часть игроков ждала окончания постройки, остальная часть вовсю проходила уровень через пвп"
   ]
  },
  {
   "cell_type": "markdown",
   "metadata": {},
   "source": [
    "### Вывод\n",
    "Способ прохождения игры влияет на время прохождения уровня. "
   ]
  },
  {
   "cell_type": "markdown",
   "metadata": {},
   "source": [
    "## Проверка гипотезы №2"
   ]
  },
  {
   "cell_type": "markdown",
   "metadata": {},
   "source": [
    "- H0 - источник трафика не влияет на способ прохождения  \n",
    "- H1 - источник трафика влияет на способ прохождения уровня  \n",
    "- Критический уровень значимости = 0.05"
   ]
  },
  {
   "cell_type": "code",
   "execution_count": 52,
   "metadata": {},
   "outputs": [
    {
     "data": {
      "text/html": [
       "<div>\n",
       "<style scoped>\n",
       "    .dataframe tbody tr th:only-of-type {\n",
       "        vertical-align: middle;\n",
       "    }\n",
       "\n",
       "    .dataframe tbody tr th {\n",
       "        vertical-align: top;\n",
       "    }\n",
       "\n",
       "    .dataframe thead th {\n",
       "        text-align: right;\n",
       "    }\n",
       "</style>\n",
       "<table border=\"1\" class=\"dataframe\">\n",
       "  <thead>\n",
       "    <tr style=\"text-align: right;\">\n",
       "      <th></th>\n",
       "      <th>event_datetime</th>\n",
       "      <th>event</th>\n",
       "      <th>building_type</th>\n",
       "      <th>user_id</th>\n",
       "      <th>project_type</th>\n",
       "      <th>source</th>\n",
       "    </tr>\n",
       "  </thead>\n",
       "  <tbody>\n",
       "    <tr>\n",
       "      <th>0</th>\n",
       "      <td>2020-05-04 00:00:01</td>\n",
       "      <td>building</td>\n",
       "      <td>assembly_shop</td>\n",
       "      <td>55e92310-cb8e-4754-b622-597e124b03de</td>\n",
       "      <td>level_is_not_passed</td>\n",
       "      <td>youtube_channel_reklama</td>\n",
       "    </tr>\n",
       "    <tr>\n",
       "      <th>1</th>\n",
       "      <td>2020-05-05 05:20:15</td>\n",
       "      <td>building</td>\n",
       "      <td>assembly_shop</td>\n",
       "      <td>55e92310-cb8e-4754-b622-597e124b03de</td>\n",
       "      <td>level_is_not_passed</td>\n",
       "      <td>youtube_channel_reklama</td>\n",
       "    </tr>\n",
       "    <tr>\n",
       "      <th>2</th>\n",
       "      <td>2020-05-05 19:24:02</td>\n",
       "      <td>building</td>\n",
       "      <td>assembly_shop</td>\n",
       "      <td>55e92310-cb8e-4754-b622-597e124b03de</td>\n",
       "      <td>level_is_not_passed</td>\n",
       "      <td>youtube_channel_reklama</td>\n",
       "    </tr>\n",
       "    <tr>\n",
       "      <th>3</th>\n",
       "      <td>2020-05-05 20:59:19</td>\n",
       "      <td>building</td>\n",
       "      <td>assembly_shop</td>\n",
       "      <td>55e92310-cb8e-4754-b622-597e124b03de</td>\n",
       "      <td>level_is_not_passed</td>\n",
       "      <td>youtube_channel_reklama</td>\n",
       "    </tr>\n",
       "    <tr>\n",
       "      <th>4</th>\n",
       "      <td>2020-05-06 00:52:56</td>\n",
       "      <td>building</td>\n",
       "      <td>assembly_shop</td>\n",
       "      <td>55e92310-cb8e-4754-b622-597e124b03de</td>\n",
       "      <td>level_is_not_passed</td>\n",
       "      <td>youtube_channel_reklama</td>\n",
       "    </tr>\n",
       "    <tr>\n",
       "      <th>...</th>\n",
       "      <td>...</td>\n",
       "      <td>...</td>\n",
       "      <td>...</td>\n",
       "      <td>...</td>\n",
       "      <td>...</td>\n",
       "      <td>...</td>\n",
       "    </tr>\n",
       "    <tr>\n",
       "      <th>135634</th>\n",
       "      <td>2020-05-13 23:56:39</td>\n",
       "      <td>building</td>\n",
       "      <td>spaceport</td>\n",
       "      <td>cafd1b8b-507b-49ae-abf0-89fe863a8b03</td>\n",
       "      <td>level_is_not_passed</td>\n",
       "      <td>facebook_ads</td>\n",
       "    </tr>\n",
       "    <tr>\n",
       "      <th>135635</th>\n",
       "      <td>2020-05-18 00:23:28</td>\n",
       "      <td>building</td>\n",
       "      <td>spaceport</td>\n",
       "      <td>cafd1b8b-507b-49ae-abf0-89fe863a8b03</td>\n",
       "      <td>level_is_not_passed</td>\n",
       "      <td>facebook_ads</td>\n",
       "    </tr>\n",
       "    <tr>\n",
       "      <th>135636</th>\n",
       "      <td>2020-05-10 23:59:52</td>\n",
       "      <td>building</td>\n",
       "      <td>assembly_shop</td>\n",
       "      <td>bdc53e19-462a-4dc3-8b55-b4a34278af6a</td>\n",
       "      <td>level_is_not_passed</td>\n",
       "      <td>youtube_channel_reklama</td>\n",
       "    </tr>\n",
       "    <tr>\n",
       "      <th>135637</th>\n",
       "      <td>2020-05-13 08:11:19</td>\n",
       "      <td>building</td>\n",
       "      <td>spaceport</td>\n",
       "      <td>bdc53e19-462a-4dc3-8b55-b4a34278af6a</td>\n",
       "      <td>level_is_not_passed</td>\n",
       "      <td>youtube_channel_reklama</td>\n",
       "    </tr>\n",
       "    <tr>\n",
       "      <th>135638</th>\n",
       "      <td>2020-05-18 11:11:11</td>\n",
       "      <td>building</td>\n",
       "      <td>spaceport</td>\n",
       "      <td>bdc53e19-462a-4dc3-8b55-b4a34278af6a</td>\n",
       "      <td>level_is_not_passed</td>\n",
       "      <td>youtube_channel_reklama</td>\n",
       "    </tr>\n",
       "  </tbody>\n",
       "</table>\n",
       "<p>135639 rows × 6 columns</p>\n",
       "</div>"
      ],
      "text/plain": [
       "            event_datetime     event  building_type  \\\n",
       "0      2020-05-04 00:00:01  building  assembly_shop   \n",
       "1      2020-05-05 05:20:15  building  assembly_shop   \n",
       "2      2020-05-05 19:24:02  building  assembly_shop   \n",
       "3      2020-05-05 20:59:19  building  assembly_shop   \n",
       "4      2020-05-06 00:52:56  building  assembly_shop   \n",
       "...                    ...       ...            ...   \n",
       "135634 2020-05-13 23:56:39  building      spaceport   \n",
       "135635 2020-05-18 00:23:28  building      spaceport   \n",
       "135636 2020-05-10 23:59:52  building  assembly_shop   \n",
       "135637 2020-05-13 08:11:19  building      spaceport   \n",
       "135638 2020-05-18 11:11:11  building      spaceport   \n",
       "\n",
       "                                     user_id         project_type  \\\n",
       "0       55e92310-cb8e-4754-b622-597e124b03de  level_is_not_passed   \n",
       "1       55e92310-cb8e-4754-b622-597e124b03de  level_is_not_passed   \n",
       "2       55e92310-cb8e-4754-b622-597e124b03de  level_is_not_passed   \n",
       "3       55e92310-cb8e-4754-b622-597e124b03de  level_is_not_passed   \n",
       "4       55e92310-cb8e-4754-b622-597e124b03de  level_is_not_passed   \n",
       "...                                      ...                  ...   \n",
       "135634  cafd1b8b-507b-49ae-abf0-89fe863a8b03  level_is_not_passed   \n",
       "135635  cafd1b8b-507b-49ae-abf0-89fe863a8b03  level_is_not_passed   \n",
       "135636  bdc53e19-462a-4dc3-8b55-b4a34278af6a  level_is_not_passed   \n",
       "135637  bdc53e19-462a-4dc3-8b55-b4a34278af6a  level_is_not_passed   \n",
       "135638  bdc53e19-462a-4dc3-8b55-b4a34278af6a  level_is_not_passed   \n",
       "\n",
       "                         source  \n",
       "0       youtube_channel_reklama  \n",
       "1       youtube_channel_reklama  \n",
       "2       youtube_channel_reklama  \n",
       "3       youtube_channel_reklama  \n",
       "4       youtube_channel_reklama  \n",
       "...                         ...  \n",
       "135634             facebook_ads  \n",
       "135635             facebook_ads  \n",
       "135636  youtube_channel_reklama  \n",
       "135637  youtube_channel_reklama  \n",
       "135638  youtube_channel_reklama  \n",
       "\n",
       "[135639 rows x 6 columns]"
      ]
     },
     "execution_count": 52,
     "metadata": {},
     "output_type": "execute_result"
    }
   ],
   "source": [
    "game_actions = pd.merge(game_actions, user_source, on='user_id') # для дальнейшей работы нам понадобится объединенная таблица\n",
    "game_actions"
   ]
  },
  {
   "cell_type": "markdown",
   "metadata": {},
   "source": [
    "Так как другую более логичную гипотезу я не придумала, придется разгребать эту. В зависимости от источников будет большой разброс данных, поэтому разделим всех на группы прошедших уровень через строительство и через битву и протестируем тестом(масло масляное) Уилкоксона-Манна-Уитни(а так, методология схожа с предыдущим тестом)"
   ]
  },
  {
   "cell_type": "code",
   "execution_count": 53,
   "metadata": {},
   "outputs": [
    {
     "name": "stderr",
     "output_type": "stream",
     "text": [
      "/tmp/ipykernel_743/499565256.py:5: SettingWithCopyWarning: \n",
      "A value is trying to be set on a copy of a slice from a DataFrame.\n",
      "Try using .loc[row_indexer,col_indexer] = value instead\n",
      "\n",
      "See the caveats in the documentation: https://pandas.pydata.org/pandas-docs/stable/user_guide/indexing.html#returning-a-view-versus-a-copy\n",
      "  project2['test_id'] = 0\n"
     ]
    }
   ],
   "source": [
    "passed_users2 = game_actions.loc[(game_actions['project_type'] != 'level_is_not_passed')] \n",
    "project2 = game_actions.loc[game_actions['project_type'] == 'satellite_orbital_assembly']\n",
    "finished_stage = passed_users2[~passed_users2.isin(project2['user_id'].unique())].dropna()\n",
    "finished_stage['test_id'] = 1\n",
    "project2['test_id'] = 0\n",
    "\n",
    "\n",
    "table= pd.concat([project2, finished_stage])\n",
    "\n",
    "\n",
    "instagram_new_adverts = table[table['source'] == 'instagram_new_adverts']['test_id']\n",
    "facebook_ads = table[table['source'] == 'facebook_ads']['test_id']\n",
    "youtube_channel_reklama = table[table['source'] == 'youtube_channel_reklama']['test_id'] \n",
    "yandex_direct = table[table['source'] == 'yandex_direct']['test_id']"
   ]
  },
  {
   "cell_type": "code",
   "execution_count": 54,
   "metadata": {},
   "outputs": [],
   "source": [
    "alpha_2 = .05 / 6 #используем поправку Бонферрони, во избежание ложноположительных результатов"
   ]
  },
  {
   "cell_type": "code",
   "execution_count": 55,
   "metadata": {},
   "outputs": [],
   "source": [
    "def test_mw(H0, H1, title):\n",
    "    print(title)\n",
    "\n",
    "    results = st.mannwhitneyu(H0, H1)\n",
    "\n",
    "    print('p-значение: ', results.pvalue)\n",
    "\n",
    "    if results.pvalue < alpha_2:\n",
    "        print('Отвергаем нулевую гипотезу: разница статистически значима')\n",
    "    else:\n",
    "        print(\n",
    "            'Не получилось отвергнуть нулевую гипотезу, вывод о различии сделать нельзя'\n",
    "        )"
   ]
  },
  {
   "cell_type": "code",
   "execution_count": 56,
   "metadata": {},
   "outputs": [
    {
     "name": "stdout",
     "output_type": "stream",
     "text": [
      "instagram_new_adverts/facebook_ads\n",
      "p-значение:  0.40919319567631285\n",
      "Не получилось отвергнуть нулевую гипотезу, вывод о различии сделать нельзя\n",
      "instagram_new_adverts/youtube_channel_reklama\n",
      "p-значение:  0.9001181567908461\n",
      "Не получилось отвергнуть нулевую гипотезу, вывод о различии сделать нельзя\n",
      "instagram_new_adverts/yandex_direct\n",
      "p-значение:  0.18426828022587327\n",
      "Не получилось отвергнуть нулевую гипотезу, вывод о различии сделать нельзя\n",
      "facebook_ads/youtube_channel_reklama\n",
      "p-значение:  0.5079689382321106\n",
      "Не получилось отвергнуть нулевую гипотезу, вывод о различии сделать нельзя\n",
      "facebook_ads/yandex_direct\n",
      "p-значение:  0.033959962425478496\n",
      "Не получилось отвергнуть нулевую гипотезу, вывод о различии сделать нельзя\n",
      "youtube_channel_reklama/yandex_direct\n",
      "p-значение:  0.17008753269777588\n",
      "Не получилось отвергнуть нулевую гипотезу, вывод о различии сделать нельзя\n"
     ]
    }
   ],
   "source": [
    "test_mw(instagram_new_adverts, facebook_ads, 'instagram_new_adverts/facebook_ads')\n",
    "test_mw(instagram_new_adverts, youtube_channel_reklama, 'instagram_new_adverts/youtube_channel_reklama')\n",
    "test_mw(instagram_new_adverts, yandex_direct, 'instagram_new_adverts/yandex_direct')\n",
    "test_mw(facebook_ads, youtube_channel_reklama, 'facebook_ads/youtube_channel_reklama')\n",
    "test_mw(facebook_ads, yandex_direct, 'facebook_ads/yandex_direct')\n",
    "test_mw(youtube_channel_reklama, yandex_direct, 'youtube_channel_reklama/yandex_direct')"
   ]
  },
  {
   "cell_type": "markdown",
   "metadata": {},
   "source": [
    "Распределение у нас нормальное, теперь посмотрим распределение между способами прохождения уровня."
   ]
  },
  {
   "cell_type": "code",
   "execution_count": 57,
   "metadata": {},
   "outputs": [
    {
     "name": "stdout",
     "output_type": "stream",
     "text": [
      "instagram_new_adverts\n",
      "1    990\n",
      "0    476\n",
      "Name: test_id, dtype: int64\n",
      "facebook_ads\n",
      "1    759\n",
      "0    391\n",
      "Name: test_id, dtype: int64\n",
      "youtube_channel_reklama\n",
      "1    780\n",
      "0    379\n",
      "Name: test_id, dtype: int64\n",
      "yandex_direct\n",
      "1    1422\n",
      "0     620\n",
      "Name: test_id, dtype: int64\n"
     ]
    }
   ],
   "source": [
    "print('instagram_new_adverts')\n",
    "print(instagram_new_adverts.value_counts())\n",
    "print('facebook_ads')\n",
    "print(facebook_ads.value_counts())\n",
    "print('youtube_channel_reklama')\n",
    "print(youtube_channel_reklama.value_counts())\n",
    "print('yandex_direct')\n",
    "print(yandex_direct.value_counts())"
   ]
  },
  {
   "cell_type": "code",
   "execution_count": 68,
   "metadata": {},
   "outputs": [
    {
     "data": {
      "image/png": "[encoded data removed]",
      "text/plain": [
       "<Figure size 527.125x360 with 1 Axes>"
      ]
     },
     "metadata": {
      "needs_background": "light"
     },
     "output_type": "display_data"
    }
   ],
   "source": [
    "game_actions_win = game_actions.query('project_type!=\"level_is_not_passed\"')\n",
    "sns.displot(x='project_type',\n",
    "            hue='source',\n",
    "            multiple='dodge',\n",
    "            data=game_actions_win);"
   ]
  },
  {
   "cell_type": "markdown",
   "metadata": {},
   "source": [
    "По графику мы видем совмещение, по которому понятно, откуда приходит больше игроков и что  путем пвп прохождений первого уровня больше"
   ]
  },
  {
   "cell_type": "markdown",
   "metadata": {},
   "source": [
    "### Вывод\n",
    "Способ прохождения игры не зависит от источника трафика"
   ]
  },
  {
   "cell_type": "markdown",
   "metadata": {},
   "source": [
    "## Общий вывод"
   ]
  },
  {
   "cell_type": "markdown",
   "metadata": {},
   "source": [
    "<div class=\"alert alert-info\" style=\"background:#80cbc4;color:#01579b\">\n",
    "    Был проведен анализ данных о событиях, совершенных в мобильной игре «Космические братья». В результате предобработки ыл изменен тип данных у стобцов с датами, обработаны пропуски путем замены их на новые значения, обработаны дубликаты, после этого данные были готовы к анализу. </div> \n",
    "\n",
    "После этого был проведен исследовательский наализ, по результатам которого было выявлено следующее:  \n",
    "- Количество пользователей = 13576  \n",
    "- Количество событий = 949473  \n",
    "- Среднее количество событий на пользователя - 10.0   \n",
    "- Типы зданий распределены следующим образом: assembly_shop — сборочный цех - 42.6%, spaceport — космопорт - 46.4%, research_center — исследовательский центр - 11%  \n",
    "- Самое быстрое прохождение - 9ч39мин  \n",
    "- Всего 4 источника трафика - Я.Директ, Instagram, Facebook, Youtube. Большая часть пришла из Директа, меньшая - из Youtube.  \n",
    "- Реклама на фейсбуке(0.79) будет самая дорогая, при этом инстаграм приносит больше посетителей(3347) а ютуб почти столько же(2686, у фейсбука - 2726), у ютуба реклама самая дешевая(0.40), но и поток оттуда довольно низкий. Реклама у Директа - 0.46, поток оттуда самый большой(4817). Инстаграм по стоимости за клик второй - 0.65.\n",
    "___\n",
    "\n",
    "Далее были проверены 2 гипотезы, в результате проверки первой была отвергнута нулевая гипотеза, что означало, что способ прохождения игры влияет на время прохождения уровня.  \n",
    "    После этого я еще подсчитала среднее время прохождения уровня через бой -  264.77  и среднее время прохождения уровня через строительство -  320.20, из чего следует, что путем пвп уровень проходится быстрее.  \n",
    "    Также была выдвинута собственная гипотеза, в результате проверки которой было выяснено, что способ прохождения игры не зависит от источника трафика.\n",
    "   "
   ]
  },
  {
   "cell_type": "markdown",
   "metadata": {},
   "source": [
    "### Рекомендации:     \n",
    "\n",
    "- я считаю, что в данной ситуации можно уменьшить финансирование рекламы на фэйсбуке, при этом нужно вложиться больше в рекламу на Youtube,т.к. реклама там по сравнению с тем же фэйсбуком дешевле, а людей приводит столько же  \n",
    "- менять что-то еще не вижу смысла, т.к. траты и приток пользователей распределен довольно равномерно\n",
    "- необходимо как-то привлечь пользователей к постройке зданий, либо сделать процесс более простым, либо укоротить его по времени, это для того, чтобы в будущем показ рекламы приносил больше доходов\n",
    "- еще можно добавить рекламу допустим перед или после боя "
   ]
  },
  {
   "cell_type": "markdown",
   "metadata": {},
   "source": [
    "## Tableau DashBoard\n",
    "теперь запишу данные для работы в дашборде"
   ]
  },
  {
   "cell_type": "code",
   "execution_count": null,
   "metadata": {},
   "outputs": [],
   "source": [
    "passed_time_2 = passed_time_2.drop(columns='event_datetime') \n",
    "tableau_project = game_actions.merge(passed_time_2, how='left', on='user_id').dropna()\n",
    "tableau_project.head()"
   ]
  },
  {
   "cell_type": "code",
   "execution_count": null,
   "metadata": {},
   "outputs": [],
   "source": [
    "tableau_project[['event_datetime', 'event', 'building_type', 'user_id', 'project_type', 'source']].to_csv('tableau_project.csv', index = False)"
   ]
  },
  {
   "cell_type": "code",
   "execution_count": null,
   "metadata": {},
   "outputs": [],
   "source": [
    "pd.read_csv('tableau_project.csv')"
   ]
  },
  {
   "cell_type": "code",
   "execution_count": null,
   "metadata": {},
   "outputs": [],
   "source": []
  }
 ],
 "metadata": {
  "ExecuteTimeLog": [
   {
    "duration": 584,
    "start_time": "2022-05-31T16:03:11.308Z"
   },
   {
    "duration": 3,
    "start_time": "2022-05-31T16:04:22.799Z"
   },
   {
    "duration": 678,
    "start_time": "2022-05-31T16:05:38.816Z"
   },
   {
    "duration": 4,
    "start_time": "2022-05-31T16:05:57.366Z"
   },
   {
    "duration": 720,
    "start_time": "2022-05-31T16:06:07.024Z"
   },
   {
    "duration": 67,
    "start_time": "2022-05-31T16:06:19.742Z"
   },
   {
    "duration": 31,
    "start_time": "2022-05-31T16:06:36.088Z"
   },
   {
    "duration": 134,
    "start_time": "2022-05-31T16:30:48.647Z"
   },
   {
    "duration": 456,
    "start_time": "2022-05-31T16:31:14.385Z"
   },
   {
    "duration": 279,
    "start_time": "2022-05-31T16:31:14.843Z"
   },
   {
    "duration": 3,
    "start_time": "2022-05-31T16:31:15.124Z"
   },
   {
    "duration": 543,
    "start_time": "2022-05-31T16:31:15.130Z"
   },
   {
    "duration": 67,
    "start_time": "2022-05-31T16:31:15.675Z"
   },
   {
    "duration": 32,
    "start_time": "2022-05-31T16:31:15.744Z"
   },
   {
    "duration": 132,
    "start_time": "2022-05-31T16:31:15.778Z"
   },
   {
    "duration": 446,
    "start_time": "2022-05-31T16:31:35.750Z"
   },
   {
    "duration": 279,
    "start_time": "2022-05-31T16:31:36.198Z"
   },
   {
    "duration": 5,
    "start_time": "2022-05-31T16:31:36.479Z"
   },
   {
    "duration": 660,
    "start_time": "2022-05-31T16:31:36.487Z"
   },
   {
    "duration": 86,
    "start_time": "2022-05-31T16:31:37.149Z"
   },
   {
    "duration": 31,
    "start_time": "2022-05-31T16:31:37.236Z"
   },
   {
    "duration": 144,
    "start_time": "2022-05-31T16:31:37.270Z"
   },
   {
    "duration": 18,
    "start_time": "2022-05-31T16:32:43.309Z"
   },
   {
    "duration": 25,
    "start_time": "2022-05-31T16:33:03.095Z"
   },
   {
    "duration": 20,
    "start_time": "2022-05-31T16:33:12.304Z"
   },
   {
    "duration": 22,
    "start_time": "2022-05-31T16:34:37.145Z"
   },
   {
    "duration": 18,
    "start_time": "2022-05-31T16:35:07.815Z"
   },
   {
    "duration": 20,
    "start_time": "2022-05-31T16:35:21.425Z"
   },
   {
    "duration": 94,
    "start_time": "2022-05-31T16:36:36.313Z"
   },
   {
    "duration": 50,
    "start_time": "2022-05-31T16:37:31.429Z"
   },
   {
    "duration": 7,
    "start_time": "2022-05-31T16:37:53.505Z"
   },
   {
    "duration": 6,
    "start_time": "2022-05-31T16:43:47.354Z"
   },
   {
    "duration": 24,
    "start_time": "2022-05-31T16:44:16.107Z"
   },
   {
    "duration": 18,
    "start_time": "2022-05-31T16:44:49.619Z"
   },
   {
    "duration": 12,
    "start_time": "2022-05-31T16:46:57.819Z"
   },
   {
    "duration": 31,
    "start_time": "2022-05-31T16:48:57.662Z"
   },
   {
    "duration": 12,
    "start_time": "2022-05-31T16:52:18.030Z"
   },
   {
    "duration": 27,
    "start_time": "2022-05-31T16:52:40.807Z"
   },
   {
    "duration": 27,
    "start_time": "2022-05-31T17:08:55.695Z"
   },
   {
    "duration": 26,
    "start_time": "2022-05-31T17:09:07.514Z"
   },
   {
    "duration": 17,
    "start_time": "2022-05-31T17:09:14.402Z"
   },
   {
    "duration": 18,
    "start_time": "2022-05-31T17:09:16.416Z"
   },
   {
    "duration": 18,
    "start_time": "2022-05-31T17:09:20.824Z"
   },
   {
    "duration": 18,
    "start_time": "2022-05-31T17:13:53.297Z"
   },
   {
    "duration": 9,
    "start_time": "2022-05-31T17:14:14.081Z"
   },
   {
    "duration": 13,
    "start_time": "2022-05-31T17:19:34.003Z"
   },
   {
    "duration": 12,
    "start_time": "2022-05-31T17:20:21.690Z"
   },
   {
    "duration": 12,
    "start_time": "2022-05-31T17:20:46.642Z"
   },
   {
    "duration": 9,
    "start_time": "2022-05-31T17:21:24.771Z"
   },
   {
    "duration": 33,
    "start_time": "2022-05-31T17:22:00.355Z"
   },
   {
    "duration": 23,
    "start_time": "2022-05-31T17:24:35.134Z"
   },
   {
    "duration": 16,
    "start_time": "2022-05-31T17:29:20.157Z"
   },
   {
    "duration": 16,
    "start_time": "2022-05-31T17:29:36.061Z"
   },
   {
    "duration": 372,
    "start_time": "2022-05-31T17:31:26.959Z"
   },
   {
    "duration": 433,
    "start_time": "2022-05-31T17:32:10.654Z"
   },
   {
    "duration": 13,
    "start_time": "2022-05-31T17:33:28.190Z"
   },
   {
    "duration": 14,
    "start_time": "2022-05-31T17:33:34.758Z"
   },
   {
    "duration": 1789,
    "start_time": "2022-05-31T17:36:47.601Z"
   },
   {
    "duration": 336,
    "start_time": "2022-05-31T17:36:49.392Z"
   },
   {
    "duration": 5,
    "start_time": "2022-05-31T17:36:49.729Z"
   },
   {
    "duration": 654,
    "start_time": "2022-05-31T17:36:49.736Z"
   },
   {
    "duration": 87,
    "start_time": "2022-05-31T17:36:50.393Z"
   },
   {
    "duration": 57,
    "start_time": "2022-05-31T17:36:50.484Z"
   },
   {
    "duration": 239,
    "start_time": "2022-05-31T17:36:50.543Z"
   },
   {
    "duration": 0,
    "start_time": "2022-05-31T17:36:50.785Z"
   },
   {
    "duration": 0,
    "start_time": "2022-05-31T17:36:50.786Z"
   },
   {
    "duration": 0,
    "start_time": "2022-05-31T17:36:50.788Z"
   },
   {
    "duration": 0,
    "start_time": "2022-05-31T17:36:50.789Z"
   },
   {
    "duration": 0,
    "start_time": "2022-05-31T17:36:50.791Z"
   },
   {
    "duration": 0,
    "start_time": "2022-05-31T17:36:50.792Z"
   },
   {
    "duration": 0,
    "start_time": "2022-05-31T17:36:50.793Z"
   },
   {
    "duration": 0,
    "start_time": "2022-05-31T17:36:50.795Z"
   },
   {
    "duration": 0,
    "start_time": "2022-05-31T17:36:50.796Z"
   },
   {
    "duration": 0,
    "start_time": "2022-05-31T17:36:50.797Z"
   },
   {
    "duration": 0,
    "start_time": "2022-05-31T17:36:50.799Z"
   },
   {
    "duration": 16,
    "start_time": "2022-05-31T17:37:20.334Z"
   },
   {
    "duration": 48,
    "start_time": "2022-05-31T17:37:25.623Z"
   },
   {
    "duration": 11,
    "start_time": "2022-05-31T17:39:26.823Z"
   },
   {
    "duration": 1395,
    "start_time": "2022-05-31T17:39:44.152Z"
   },
   {
    "duration": 286,
    "start_time": "2022-05-31T17:39:45.549Z"
   },
   {
    "duration": 4,
    "start_time": "2022-05-31T17:39:45.837Z"
   },
   {
    "duration": 532,
    "start_time": "2022-05-31T17:39:45.844Z"
   },
   {
    "duration": 88,
    "start_time": "2022-05-31T17:39:46.379Z"
   },
   {
    "duration": 62,
    "start_time": "2022-05-31T17:39:46.469Z"
   },
   {
    "duration": 194,
    "start_time": "2022-05-31T17:39:46.534Z"
   },
   {
    "duration": 0,
    "start_time": "2022-05-31T17:39:46.731Z"
   },
   {
    "duration": 0,
    "start_time": "2022-05-31T17:39:46.732Z"
   },
   {
    "duration": 0,
    "start_time": "2022-05-31T17:39:46.733Z"
   },
   {
    "duration": 0,
    "start_time": "2022-05-31T17:39:46.734Z"
   },
   {
    "duration": 0,
    "start_time": "2022-05-31T17:39:46.736Z"
   },
   {
    "duration": 0,
    "start_time": "2022-05-31T17:39:46.737Z"
   },
   {
    "duration": 1,
    "start_time": "2022-05-31T17:39:46.738Z"
   },
   {
    "duration": 0,
    "start_time": "2022-05-31T17:39:46.740Z"
   },
   {
    "duration": 0,
    "start_time": "2022-05-31T17:39:46.743Z"
   },
   {
    "duration": 0,
    "start_time": "2022-05-31T17:39:46.744Z"
   },
   {
    "duration": 0,
    "start_time": "2022-05-31T17:39:46.746Z"
   },
   {
    "duration": 30,
    "start_time": "2022-05-31T17:40:25.568Z"
   },
   {
    "duration": 1591,
    "start_time": "2022-05-31T17:40:58.150Z"
   },
   {
    "duration": 399,
    "start_time": "2022-05-31T17:40:59.744Z"
   },
   {
    "duration": 8,
    "start_time": "2022-05-31T17:41:00.146Z"
   },
   {
    "duration": 688,
    "start_time": "2022-05-31T17:41:00.156Z"
   },
   {
    "duration": 61,
    "start_time": "2022-05-31T17:41:00.846Z"
   },
   {
    "duration": 50,
    "start_time": "2022-05-31T17:41:00.909Z"
   },
   {
    "duration": 229,
    "start_time": "2022-05-31T17:41:00.961Z"
   },
   {
    "duration": 0,
    "start_time": "2022-05-31T17:41:01.194Z"
   },
   {
    "duration": 0,
    "start_time": "2022-05-31T17:41:01.195Z"
   },
   {
    "duration": 0,
    "start_time": "2022-05-31T17:41:01.198Z"
   },
   {
    "duration": 0,
    "start_time": "2022-05-31T17:41:01.202Z"
   },
   {
    "duration": 0,
    "start_time": "2022-05-31T17:41:01.204Z"
   },
   {
    "duration": 0,
    "start_time": "2022-05-31T17:41:01.205Z"
   },
   {
    "duration": 0,
    "start_time": "2022-05-31T17:41:01.226Z"
   },
   {
    "duration": 0,
    "start_time": "2022-05-31T17:41:01.227Z"
   },
   {
    "duration": 0,
    "start_time": "2022-05-31T17:41:01.229Z"
   },
   {
    "duration": 0,
    "start_time": "2022-05-31T17:41:01.231Z"
   },
   {
    "duration": 0,
    "start_time": "2022-05-31T17:41:01.233Z"
   },
   {
    "duration": 35,
    "start_time": "2022-05-31T17:41:14.698Z"
   },
   {
    "duration": 121,
    "start_time": "2022-05-31T17:41:16.392Z"
   },
   {
    "duration": 35,
    "start_time": "2022-05-31T17:41:17.760Z"
   },
   {
    "duration": 26,
    "start_time": "2022-05-31T17:41:19.520Z"
   },
   {
    "duration": 27,
    "start_time": "2022-05-31T17:41:23.318Z"
   },
   {
    "duration": 1411,
    "start_time": "2022-05-31T17:41:41.108Z"
   },
   {
    "duration": 375,
    "start_time": "2022-05-31T17:41:42.522Z"
   },
   {
    "duration": 4,
    "start_time": "2022-05-31T17:41:42.900Z"
   },
   {
    "duration": 729,
    "start_time": "2022-05-31T17:41:42.907Z"
   },
   {
    "duration": 96,
    "start_time": "2022-05-31T17:41:43.639Z"
   },
   {
    "duration": 44,
    "start_time": "2022-05-31T17:41:43.737Z"
   },
   {
    "duration": 205,
    "start_time": "2022-05-31T17:41:43.783Z"
   },
   {
    "duration": 0,
    "start_time": "2022-05-31T17:41:43.992Z"
   },
   {
    "duration": 0,
    "start_time": "2022-05-31T17:41:43.994Z"
   },
   {
    "duration": 0,
    "start_time": "2022-05-31T17:41:43.995Z"
   },
   {
    "duration": 0,
    "start_time": "2022-05-31T17:41:43.997Z"
   },
   {
    "duration": 1,
    "start_time": "2022-05-31T17:41:43.998Z"
   },
   {
    "duration": 0,
    "start_time": "2022-05-31T17:41:44.000Z"
   },
   {
    "duration": 0,
    "start_time": "2022-05-31T17:41:44.001Z"
   },
   {
    "duration": 0,
    "start_time": "2022-05-31T17:41:44.002Z"
   },
   {
    "duration": 0,
    "start_time": "2022-05-31T17:41:44.004Z"
   },
   {
    "duration": 0,
    "start_time": "2022-05-31T17:41:44.026Z"
   },
   {
    "duration": 0,
    "start_time": "2022-05-31T17:41:44.027Z"
   },
   {
    "duration": 29,
    "start_time": "2022-05-31T17:43:20.424Z"
   },
   {
    "duration": 116,
    "start_time": "2022-05-31T17:43:24.455Z"
   },
   {
    "duration": 45,
    "start_time": "2022-05-31T17:43:26.374Z"
   },
   {
    "duration": 25,
    "start_time": "2022-05-31T17:43:27.618Z"
   },
   {
    "duration": 18,
    "start_time": "2022-05-31T17:43:28.709Z"
   },
   {
    "duration": 18,
    "start_time": "2022-05-31T17:43:31.398Z"
   },
   {
    "duration": 26,
    "start_time": "2022-05-31T17:43:45.135Z"
   },
   {
    "duration": 13,
    "start_time": "2022-05-31T17:43:48.543Z"
   },
   {
    "duration": 15,
    "start_time": "2022-05-31T17:43:51.515Z"
   },
   {
    "duration": 10,
    "start_time": "2022-05-31T17:43:52.765Z"
   },
   {
    "duration": 25,
    "start_time": "2022-05-31T17:43:53.486Z"
   },
   {
    "duration": 14,
    "start_time": "2022-05-31T17:43:56.087Z"
   },
   {
    "duration": 34,
    "start_time": "2022-05-31T17:43:57.022Z"
   },
   {
    "duration": 5,
    "start_time": "2022-05-31T17:44:55.471Z"
   },
   {
    "duration": 6,
    "start_time": "2022-05-31T17:45:18.158Z"
   },
   {
    "duration": 39,
    "start_time": "2022-05-31T17:45:31.873Z"
   },
   {
    "duration": 15,
    "start_time": "2022-05-31T17:49:38.144Z"
   },
   {
    "duration": 4,
    "start_time": "2022-05-31T17:53:06.315Z"
   },
   {
    "duration": 20,
    "start_time": "2022-05-31T17:53:53.937Z"
   },
   {
    "duration": 49,
    "start_time": "2022-05-31T17:54:17.641Z"
   },
   {
    "duration": 13,
    "start_time": "2022-05-31T17:56:04.481Z"
   },
   {
    "duration": 85,
    "start_time": "2022-05-31T17:58:16.985Z"
   },
   {
    "duration": 63,
    "start_time": "2022-05-31T17:59:02.225Z"
   },
   {
    "duration": 69,
    "start_time": "2022-05-31T17:59:18.321Z"
   },
   {
    "duration": 94,
    "start_time": "2022-05-31T17:59:29.880Z"
   },
   {
    "duration": 63,
    "start_time": "2022-05-31T17:59:38.242Z"
   },
   {
    "duration": 55,
    "start_time": "2022-05-31T18:00:00.304Z"
   },
   {
    "duration": 1303,
    "start_time": "2022-06-01T16:20:43.832Z"
   },
   {
    "duration": 798,
    "start_time": "2022-06-01T16:20:45.138Z"
   },
   {
    "duration": 4,
    "start_time": "2022-06-01T16:20:45.938Z"
   },
   {
    "duration": 453,
    "start_time": "2022-06-01T16:20:45.943Z"
   },
   {
    "duration": 62,
    "start_time": "2022-06-01T16:20:46.398Z"
   },
   {
    "duration": 35,
    "start_time": "2022-06-01T16:20:46.462Z"
   },
   {
    "duration": 70,
    "start_time": "2022-06-01T16:20:46.499Z"
   },
   {
    "duration": 25,
    "start_time": "2022-06-01T16:20:46.572Z"
   },
   {
    "duration": 37,
    "start_time": "2022-06-01T16:20:46.599Z"
   },
   {
    "duration": 11,
    "start_time": "2022-06-01T16:20:46.644Z"
   },
   {
    "duration": 18,
    "start_time": "2022-06-01T16:20:46.657Z"
   },
   {
    "duration": 24,
    "start_time": "2022-06-01T16:20:46.677Z"
   },
   {
    "duration": 11,
    "start_time": "2022-06-01T16:20:46.702Z"
   },
   {
    "duration": 11,
    "start_time": "2022-06-01T16:20:46.726Z"
   },
   {
    "duration": 15,
    "start_time": "2022-06-01T16:20:46.739Z"
   },
   {
    "duration": 15,
    "start_time": "2022-06-01T16:20:46.756Z"
   },
   {
    "duration": 15,
    "start_time": "2022-06-01T16:20:46.773Z"
   },
   {
    "duration": 3,
    "start_time": "2022-06-01T16:20:46.789Z"
   },
   {
    "duration": 39,
    "start_time": "2022-06-01T16:20:46.794Z"
   },
   {
    "duration": 26,
    "start_time": "2022-06-01T16:20:46.835Z"
   },
   {
    "duration": 75,
    "start_time": "2022-06-01T16:20:46.863Z"
   },
   {
    "duration": 65,
    "start_time": "2022-06-01T16:20:46.939Z"
   },
   {
    "duration": 75,
    "start_time": "2022-06-01T16:20:47.006Z"
   },
   {
    "duration": 42,
    "start_time": "2022-06-01T16:27:25.416Z"
   },
   {
    "duration": 137,
    "start_time": "2022-06-01T16:28:13.471Z"
   },
   {
    "duration": 281,
    "start_time": "2022-06-01T16:29:21.865Z"
   },
   {
    "duration": 254,
    "start_time": "2022-06-01T16:29:56.994Z"
   },
   {
    "duration": 169,
    "start_time": "2022-06-01T16:30:07.849Z"
   },
   {
    "duration": 171,
    "start_time": "2022-06-01T16:30:40.880Z"
   },
   {
    "duration": 113,
    "start_time": "2022-06-01T16:50:56.547Z"
   },
   {
    "duration": 9,
    "start_time": "2022-06-01T17:04:58.054Z"
   },
   {
    "duration": 143,
    "start_time": "2022-06-01T17:05:20.358Z"
   },
   {
    "duration": 9,
    "start_time": "2022-06-01T17:08:23.240Z"
   },
   {
    "duration": 1125,
    "start_time": "2022-06-01T17:08:52.991Z"
   },
   {
    "duration": 245,
    "start_time": "2022-06-01T17:08:54.118Z"
   },
   {
    "duration": 3,
    "start_time": "2022-06-01T17:08:54.365Z"
   },
   {
    "duration": 414,
    "start_time": "2022-06-01T17:08:54.370Z"
   },
   {
    "duration": 63,
    "start_time": "2022-06-01T17:08:54.786Z"
   },
   {
    "duration": 29,
    "start_time": "2022-06-01T17:08:54.850Z"
   },
   {
    "duration": 53,
    "start_time": "2022-06-01T17:08:54.880Z"
   },
   {
    "duration": 23,
    "start_time": "2022-06-01T17:08:54.934Z"
   },
   {
    "duration": 14,
    "start_time": "2022-06-01T17:08:54.958Z"
   },
   {
    "duration": 13,
    "start_time": "2022-06-01T17:08:54.973Z"
   },
   {
    "duration": 11,
    "start_time": "2022-06-01T17:08:54.988Z"
   },
   {
    "duration": 37,
    "start_time": "2022-06-01T17:08:55.001Z"
   },
   {
    "duration": 8,
    "start_time": "2022-06-01T17:08:55.041Z"
   },
   {
    "duration": 11,
    "start_time": "2022-06-01T17:08:55.052Z"
   },
   {
    "duration": 12,
    "start_time": "2022-06-01T17:08:55.064Z"
   },
   {
    "duration": 14,
    "start_time": "2022-06-01T17:08:55.077Z"
   },
   {
    "duration": 42,
    "start_time": "2022-06-01T17:08:55.093Z"
   },
   {
    "duration": 10,
    "start_time": "2022-06-01T17:08:55.137Z"
   },
   {
    "duration": 24,
    "start_time": "2022-06-01T17:08:55.148Z"
   },
   {
    "duration": 40,
    "start_time": "2022-06-01T17:08:55.173Z"
   },
   {
    "duration": 70,
    "start_time": "2022-06-01T17:08:55.215Z"
   },
   {
    "duration": 69,
    "start_time": "2022-06-01T17:08:55.286Z"
   },
   {
    "duration": 54,
    "start_time": "2022-06-01T17:08:55.357Z"
   },
   {
    "duration": 53,
    "start_time": "2022-06-01T17:08:55.413Z"
   },
   {
    "duration": 135,
    "start_time": "2022-06-01T17:08:55.468Z"
   },
   {
    "duration": 289,
    "start_time": "2022-06-01T17:08:55.605Z"
   },
   {
    "duration": 163,
    "start_time": "2022-06-01T17:08:55.896Z"
   },
   {
    "duration": 145,
    "start_time": "2022-06-01T17:08:56.061Z"
   },
   {
    "duration": 18825,
    "start_time": "2022-06-01T17:08:56.207Z"
   },
   {
    "duration": 19436,
    "start_time": "2022-06-01T17:09:54.410Z"
   },
   {
    "duration": 363,
    "start_time": "2022-06-01T17:12:31.841Z"
   },
   {
    "duration": 1097,
    "start_time": "2022-06-01T17:27:53.033Z"
   },
   {
    "duration": 242,
    "start_time": "2022-06-01T17:27:54.132Z"
   },
   {
    "duration": 58,
    "start_time": "2022-06-01T17:27:54.376Z"
   },
   {
    "duration": 259,
    "start_time": "2022-06-01T17:27:54.436Z"
   },
   {
    "duration": 74,
    "start_time": "2022-06-01T17:27:54.697Z"
   },
   {
    "duration": 55,
    "start_time": "2022-06-01T17:27:54.773Z"
   },
   {
    "duration": 14,
    "start_time": "2022-06-01T17:27:54.830Z"
   },
   {
    "duration": 24,
    "start_time": "2022-06-01T17:27:54.845Z"
   },
   {
    "duration": 15,
    "start_time": "2022-06-01T17:27:54.870Z"
   },
   {
    "duration": 41,
    "start_time": "2022-06-01T17:27:54.886Z"
   },
   {
    "duration": 11,
    "start_time": "2022-06-01T17:27:54.929Z"
   },
   {
    "duration": 23,
    "start_time": "2022-06-01T17:27:54.941Z"
   },
   {
    "duration": 7,
    "start_time": "2022-06-01T17:27:54.966Z"
   },
   {
    "duration": 9,
    "start_time": "2022-06-01T17:27:54.976Z"
   },
   {
    "duration": 9,
    "start_time": "2022-06-01T17:27:54.986Z"
   },
   {
    "duration": 41,
    "start_time": "2022-06-01T17:27:54.997Z"
   },
   {
    "duration": 14,
    "start_time": "2022-06-01T17:27:55.039Z"
   },
   {
    "duration": 2,
    "start_time": "2022-06-01T17:27:55.055Z"
   },
   {
    "duration": 13,
    "start_time": "2022-06-01T17:27:55.058Z"
   },
   {
    "duration": 25,
    "start_time": "2022-06-01T17:27:55.073Z"
   },
   {
    "duration": 80,
    "start_time": "2022-06-01T17:27:55.099Z"
   },
   {
    "duration": 66,
    "start_time": "2022-06-01T17:27:55.181Z"
   },
   {
    "duration": 82,
    "start_time": "2022-06-01T17:27:55.249Z"
   },
   {
    "duration": 41,
    "start_time": "2022-06-01T17:27:55.332Z"
   },
   {
    "duration": 148,
    "start_time": "2022-06-01T17:27:55.375Z"
   },
   {
    "duration": 291,
    "start_time": "2022-06-01T17:27:55.527Z"
   },
   {
    "duration": 166,
    "start_time": "2022-06-01T17:27:55.820Z"
   },
   {
    "duration": 136,
    "start_time": "2022-06-01T17:27:56.000Z"
   },
   {
    "duration": 19276,
    "start_time": "2022-06-01T17:27:56.138Z"
   },
   {
    "duration": 19777,
    "start_time": "2022-06-01T17:31:42.780Z"
   },
   {
    "duration": 20279,
    "start_time": "2022-06-01T17:32:10.294Z"
   },
   {
    "duration": 19770,
    "start_time": "2022-06-01T17:33:11.733Z"
   },
   {
    "duration": 20868,
    "start_time": "2022-06-01T17:40:25.093Z"
   },
   {
    "duration": 115,
    "start_time": "2022-06-01T17:47:09.513Z"
   },
   {
    "duration": 1072,
    "start_time": "2022-06-01T17:47:32.971Z"
   },
   {
    "duration": 276,
    "start_time": "2022-06-01T17:47:34.045Z"
   },
   {
    "duration": 4,
    "start_time": "2022-06-01T17:47:34.322Z"
   },
   {
    "duration": 466,
    "start_time": "2022-06-01T17:47:34.328Z"
   },
   {
    "duration": 63,
    "start_time": "2022-06-01T17:47:34.797Z"
   },
   {
    "duration": 29,
    "start_time": "2022-06-01T17:47:34.862Z"
   },
   {
    "duration": 57,
    "start_time": "2022-06-01T17:47:34.893Z"
   },
   {
    "duration": 25,
    "start_time": "2022-06-01T17:47:34.952Z"
   },
   {
    "duration": 16,
    "start_time": "2022-06-01T17:47:34.979Z"
   },
   {
    "duration": 39,
    "start_time": "2022-06-01T17:47:34.997Z"
   },
   {
    "duration": 13,
    "start_time": "2022-06-01T17:47:35.038Z"
   },
   {
    "duration": 28,
    "start_time": "2022-06-01T17:47:35.054Z"
   },
   {
    "duration": 9,
    "start_time": "2022-06-01T17:47:35.084Z"
   },
   {
    "duration": 12,
    "start_time": "2022-06-01T17:47:35.095Z"
   },
   {
    "duration": 24,
    "start_time": "2022-06-01T17:47:35.109Z"
   },
   {
    "duration": 17,
    "start_time": "2022-06-01T17:47:35.135Z"
   },
   {
    "duration": 15,
    "start_time": "2022-06-01T17:47:35.154Z"
   },
   {
    "duration": 10,
    "start_time": "2022-06-01T17:47:35.170Z"
   },
   {
    "duration": 13,
    "start_time": "2022-06-01T17:47:35.182Z"
   },
   {
    "duration": 44,
    "start_time": "2022-06-01T17:47:35.197Z"
   },
   {
    "duration": 85,
    "start_time": "2022-06-01T17:47:35.242Z"
   },
   {
    "duration": 67,
    "start_time": "2022-06-01T17:47:35.329Z"
   },
   {
    "duration": 72,
    "start_time": "2022-06-01T17:47:35.398Z"
   },
   {
    "duration": 44,
    "start_time": "2022-06-01T17:47:35.471Z"
   },
   {
    "duration": 144,
    "start_time": "2022-06-01T17:47:35.526Z"
   },
   {
    "duration": 307,
    "start_time": "2022-06-01T17:47:35.672Z"
   },
   {
    "duration": 180,
    "start_time": "2022-06-01T17:47:35.980Z"
   },
   {
    "duration": 145,
    "start_time": "2022-06-01T17:47:36.162Z"
   },
   {
    "duration": 19539,
    "start_time": "2022-06-01T17:47:36.309Z"
   },
   {
    "duration": 156,
    "start_time": "2022-06-01T17:47:55.850Z"
   },
   {
    "duration": 8070,
    "start_time": "2022-06-01T17:48:30.483Z"
   },
   {
    "duration": 10520,
    "start_time": "2022-06-01T17:49:40.316Z"
   },
   {
    "duration": 23457,
    "start_time": "2022-06-01T17:50:17.723Z"
   },
   {
    "duration": 22211,
    "start_time": "2022-06-01T17:52:01.054Z"
   },
   {
    "duration": 423,
    "start_time": "2022-06-01T17:59:18.584Z"
   },
   {
    "duration": 1146,
    "start_time": "2022-06-01T17:59:42.108Z"
   },
   {
    "duration": 614,
    "start_time": "2022-06-01T17:59:43.255Z"
   },
   {
    "duration": 4,
    "start_time": "2022-06-01T17:59:43.870Z"
   },
   {
    "duration": 490,
    "start_time": "2022-06-01T17:59:43.876Z"
   },
   {
    "duration": 71,
    "start_time": "2022-06-01T17:59:44.368Z"
   },
   {
    "duration": 36,
    "start_time": "2022-06-01T17:59:44.441Z"
   },
   {
    "duration": 58,
    "start_time": "2022-06-01T17:59:44.478Z"
   },
   {
    "duration": 23,
    "start_time": "2022-06-01T17:59:44.537Z"
   },
   {
    "duration": 39,
    "start_time": "2022-06-01T17:59:44.562Z"
   },
   {
    "duration": 14,
    "start_time": "2022-06-01T17:59:44.603Z"
   },
   {
    "duration": 15,
    "start_time": "2022-06-01T17:59:44.619Z"
   },
   {
    "duration": 25,
    "start_time": "2022-06-01T17:59:44.635Z"
   },
   {
    "duration": 10,
    "start_time": "2022-06-01T17:59:44.663Z"
   },
   {
    "duration": 13,
    "start_time": "2022-06-01T17:59:44.674Z"
   },
   {
    "duration": 13,
    "start_time": "2022-06-01T17:59:44.688Z"
   },
   {
    "duration": 38,
    "start_time": "2022-06-01T17:59:44.703Z"
   },
   {
    "duration": 16,
    "start_time": "2022-06-01T17:59:44.743Z"
   },
   {
    "duration": 3,
    "start_time": "2022-06-01T17:59:44.761Z"
   },
   {
    "duration": 13,
    "start_time": "2022-06-01T17:59:44.765Z"
   },
   {
    "duration": 53,
    "start_time": "2022-06-01T17:59:44.779Z"
   },
   {
    "duration": 68,
    "start_time": "2022-06-01T17:59:44.833Z"
   },
   {
    "duration": 78,
    "start_time": "2022-06-01T17:59:44.902Z"
   },
   {
    "duration": 73,
    "start_time": "2022-06-01T17:59:44.982Z"
   },
   {
    "duration": 47,
    "start_time": "2022-06-01T17:59:45.057Z"
   },
   {
    "duration": 148,
    "start_time": "2022-06-01T17:59:45.106Z"
   },
   {
    "duration": 314,
    "start_time": "2022-06-01T17:59:45.255Z"
   },
   {
    "duration": 192,
    "start_time": "2022-06-01T17:59:45.571Z"
   },
   {
    "duration": 155,
    "start_time": "2022-06-01T17:59:45.766Z"
   },
   {
    "duration": 20514,
    "start_time": "2022-06-01T17:59:45.923Z"
   },
   {
    "duration": 248,
    "start_time": "2022-06-01T18:00:06.439Z"
   },
   {
    "duration": 190,
    "start_time": "2022-06-01T18:04:32.857Z"
   },
   {
    "duration": 10,
    "start_time": "2022-06-01T18:04:35.969Z"
   },
   {
    "duration": 188,
    "start_time": "2022-06-01T18:09:21.826Z"
   },
   {
    "duration": 10,
    "start_time": "2022-06-01T18:09:26.658Z"
   },
   {
    "duration": 185,
    "start_time": "2022-06-01T18:17:13.651Z"
   },
   {
    "duration": 1238,
    "start_time": "2022-06-01T18:17:51.824Z"
   },
   {
    "duration": 291,
    "start_time": "2022-06-01T18:17:53.064Z"
   },
   {
    "duration": 4,
    "start_time": "2022-06-01T18:17:53.357Z"
   },
   {
    "duration": 477,
    "start_time": "2022-06-01T18:17:53.362Z"
   },
   {
    "duration": 94,
    "start_time": "2022-06-01T18:17:53.841Z"
   },
   {
    "duration": 41,
    "start_time": "2022-06-01T18:17:53.937Z"
   },
   {
    "duration": 63,
    "start_time": "2022-06-01T18:17:53.981Z"
   },
   {
    "duration": 42,
    "start_time": "2022-06-01T18:17:54.046Z"
   },
   {
    "duration": 39,
    "start_time": "2022-06-01T18:17:54.089Z"
   },
   {
    "duration": 24,
    "start_time": "2022-06-01T18:17:54.131Z"
   },
   {
    "duration": 18,
    "start_time": "2022-06-01T18:17:54.157Z"
   },
   {
    "duration": 27,
    "start_time": "2022-06-01T18:17:54.177Z"
   },
   {
    "duration": 32,
    "start_time": "2022-06-01T18:17:54.205Z"
   },
   {
    "duration": 18,
    "start_time": "2022-06-01T18:17:54.240Z"
   },
   {
    "duration": 11,
    "start_time": "2022-06-01T18:17:54.264Z"
   },
   {
    "duration": 21,
    "start_time": "2022-06-01T18:17:54.277Z"
   },
   {
    "duration": 18,
    "start_time": "2022-06-01T18:17:54.326Z"
   },
   {
    "duration": 4,
    "start_time": "2022-06-01T18:17:54.347Z"
   },
   {
    "duration": 12,
    "start_time": "2022-06-01T18:17:54.353Z"
   },
   {
    "duration": 27,
    "start_time": "2022-06-01T18:17:54.367Z"
   },
   {
    "duration": 103,
    "start_time": "2022-06-01T18:17:54.397Z"
   },
   {
    "duration": 85,
    "start_time": "2022-06-01T18:17:54.502Z"
   },
   {
    "duration": 73,
    "start_time": "2022-06-01T18:17:54.589Z"
   },
   {
    "duration": 46,
    "start_time": "2022-06-01T18:17:54.663Z"
   },
   {
    "duration": 185,
    "start_time": "2022-06-01T18:17:54.726Z"
   },
   {
    "duration": 320,
    "start_time": "2022-06-01T18:17:54.913Z"
   },
   {
    "duration": 198,
    "start_time": "2022-06-01T18:17:55.235Z"
   },
   {
    "duration": 158,
    "start_time": "2022-06-01T18:17:55.434Z"
   },
   {
    "duration": 639,
    "start_time": "2022-06-01T18:17:55.594Z"
   },
   {
    "duration": 22026,
    "start_time": "2022-06-01T18:17:56.235Z"
   },
   {
    "duration": 423,
    "start_time": "2022-06-01T18:18:18.263Z"
   },
   {
    "duration": 0,
    "start_time": "2022-06-01T18:18:18.689Z"
   },
   {
    "duration": 220,
    "start_time": "2022-06-01T18:19:17.142Z"
   },
   {
    "duration": 13,
    "start_time": "2022-06-01T18:19:18.922Z"
   },
   {
    "duration": 152,
    "start_time": "2022-06-01T18:21:26.434Z"
   },
   {
    "duration": 603,
    "start_time": "2022-06-01T18:22:35.461Z"
   },
   {
    "duration": 152,
    "start_time": "2022-06-01T18:22:51.785Z"
   },
   {
    "duration": 107,
    "start_time": "2022-06-01T18:23:08.126Z"
   },
   {
    "duration": 73,
    "start_time": "2022-06-01T18:23:18.718Z"
   },
   {
    "duration": 5,
    "start_time": "2022-06-01T18:24:46.910Z"
   },
   {
    "duration": 171,
    "start_time": "2022-06-01T18:25:01.504Z"
   },
   {
    "duration": 127,
    "start_time": "2022-06-01T18:25:12.663Z"
   },
   {
    "duration": 161,
    "start_time": "2022-06-01T18:26:00.582Z"
   },
   {
    "duration": 130,
    "start_time": "2022-06-01T18:26:15.339Z"
   },
   {
    "duration": 1502,
    "start_time": "2022-06-02T16:37:02.953Z"
   },
   {
    "duration": 650,
    "start_time": "2022-06-02T16:37:04.458Z"
   },
   {
    "duration": 5,
    "start_time": "2022-06-02T16:37:05.109Z"
   },
   {
    "duration": 549,
    "start_time": "2022-06-02T16:37:05.115Z"
   },
   {
    "duration": 97,
    "start_time": "2022-06-02T16:37:05.668Z"
   },
   {
    "duration": 69,
    "start_time": "2022-06-02T16:37:05.768Z"
   },
   {
    "duration": 46,
    "start_time": "2022-06-02T16:37:05.839Z"
   },
   {
    "duration": 43,
    "start_time": "2022-06-02T16:37:05.887Z"
   },
   {
    "duration": 14,
    "start_time": "2022-06-02T16:37:05.932Z"
   },
   {
    "duration": 20,
    "start_time": "2022-06-02T16:37:05.948Z"
   },
   {
    "duration": 13,
    "start_time": "2022-06-02T16:37:05.970Z"
   },
   {
    "duration": 41,
    "start_time": "2022-06-02T16:37:05.985Z"
   },
   {
    "duration": 10,
    "start_time": "2022-06-02T16:37:06.028Z"
   },
   {
    "duration": 20,
    "start_time": "2022-06-02T16:37:06.041Z"
   },
   {
    "duration": 11,
    "start_time": "2022-06-02T16:37:06.063Z"
   },
   {
    "duration": 15,
    "start_time": "2022-06-02T16:37:06.076Z"
   },
   {
    "duration": 39,
    "start_time": "2022-06-02T16:37:06.093Z"
   },
   {
    "duration": 2,
    "start_time": "2022-06-02T16:37:06.134Z"
   },
   {
    "duration": 12,
    "start_time": "2022-06-02T16:37:06.138Z"
   },
   {
    "duration": 39,
    "start_time": "2022-06-02T16:37:06.152Z"
   },
   {
    "duration": 86,
    "start_time": "2022-06-02T16:37:06.193Z"
   },
   {
    "duration": 85,
    "start_time": "2022-06-02T16:37:06.281Z"
   },
   {
    "duration": 93,
    "start_time": "2022-06-02T16:37:06.369Z"
   },
   {
    "duration": 64,
    "start_time": "2022-06-02T16:37:06.463Z"
   },
   {
    "duration": 149,
    "start_time": "2022-06-02T16:37:06.529Z"
   },
   {
    "duration": 330,
    "start_time": "2022-06-02T16:37:06.680Z"
   },
   {
    "duration": 192,
    "start_time": "2022-06-02T16:37:07.014Z"
   },
   {
    "duration": 166,
    "start_time": "2022-06-02T16:37:07.208Z"
   },
   {
    "duration": 105,
    "start_time": "2022-06-02T16:37:07.376Z"
   },
   {
    "duration": 245,
    "start_time": "2022-06-02T16:37:07.483Z"
   },
   {
    "duration": 21677,
    "start_time": "2022-06-02T16:37:07.730Z"
   },
   {
    "duration": 240,
    "start_time": "2022-06-02T16:37:29.409Z"
   },
   {
    "duration": 10,
    "start_time": "2022-06-02T16:37:29.651Z"
   },
   {
    "duration": 202,
    "start_time": "2022-06-02T16:42:35.937Z"
   },
   {
    "duration": 113,
    "start_time": "2022-06-02T16:43:09.920Z"
   },
   {
    "duration": 26,
    "start_time": "2022-06-02T16:55:16.522Z"
   },
   {
    "duration": 90,
    "start_time": "2022-06-02T16:55:45.842Z"
   },
   {
    "duration": 57,
    "start_time": "2022-06-02T16:56:06.833Z"
   },
   {
    "duration": 144,
    "start_time": "2022-06-02T16:58:44.209Z"
   },
   {
    "duration": 288,
    "start_time": "2022-06-02T17:01:34.322Z"
   },
   {
    "duration": 30,
    "start_time": "2022-06-02T17:03:01.482Z"
   },
   {
    "duration": 1346,
    "start_time": "2022-06-02T17:04:14.958Z"
   },
   {
    "duration": 286,
    "start_time": "2022-06-02T17:04:16.306Z"
   },
   {
    "duration": 4,
    "start_time": "2022-06-02T17:04:16.593Z"
   },
   {
    "duration": 528,
    "start_time": "2022-06-02T17:04:16.600Z"
   },
   {
    "duration": 58,
    "start_time": "2022-06-02T17:04:17.130Z"
   },
   {
    "duration": 65,
    "start_time": "2022-06-02T17:04:17.190Z"
   },
   {
    "duration": 72,
    "start_time": "2022-06-02T17:04:17.257Z"
   },
   {
    "duration": 37,
    "start_time": "2022-06-02T17:04:17.331Z"
   },
   {
    "duration": 24,
    "start_time": "2022-06-02T17:04:17.370Z"
   },
   {
    "duration": 39,
    "start_time": "2022-06-02T17:04:17.398Z"
   },
   {
    "duration": 14,
    "start_time": "2022-06-02T17:04:17.440Z"
   },
   {
    "duration": 19,
    "start_time": "2022-06-02T17:04:17.456Z"
   },
   {
    "duration": 18,
    "start_time": "2022-06-02T17:04:17.477Z"
   },
   {
    "duration": 35,
    "start_time": "2022-06-02T17:04:17.497Z"
   },
   {
    "duration": 13,
    "start_time": "2022-06-02T17:04:17.534Z"
   },
   {
    "duration": 19,
    "start_time": "2022-06-02T17:04:17.549Z"
   },
   {
    "duration": 15,
    "start_time": "2022-06-02T17:04:17.570Z"
   },
   {
    "duration": 3,
    "start_time": "2022-06-02T17:04:17.587Z"
   },
   {
    "duration": 37,
    "start_time": "2022-06-02T17:04:17.592Z"
   },
   {
    "duration": 34,
    "start_time": "2022-06-02T17:04:17.631Z"
   },
   {
    "duration": 99,
    "start_time": "2022-06-02T17:04:17.666Z"
   },
   {
    "duration": 98,
    "start_time": "2022-06-02T17:04:17.767Z"
   },
   {
    "duration": 74,
    "start_time": "2022-06-02T17:04:17.867Z"
   },
   {
    "duration": 52,
    "start_time": "2022-06-02T17:04:17.944Z"
   },
   {
    "duration": 166,
    "start_time": "2022-06-02T17:04:17.998Z"
   },
   {
    "duration": 344,
    "start_time": "2022-06-02T17:04:18.167Z"
   },
   {
    "duration": 199,
    "start_time": "2022-06-02T17:04:18.513Z"
   },
   {
    "duration": 160,
    "start_time": "2022-06-02T17:04:18.715Z"
   },
   {
    "duration": 108,
    "start_time": "2022-06-02T17:04:18.877Z"
   },
   {
    "duration": 257,
    "start_time": "2022-06-02T17:04:18.987Z"
   },
   {
    "duration": 232,
    "start_time": "2022-06-02T17:04:19.246Z"
   },
   {
    "duration": 117,
    "start_time": "2022-06-02T17:04:19.480Z"
   },
   {
    "duration": 20433,
    "start_time": "2022-06-02T17:04:19.600Z"
   },
   {
    "duration": 253,
    "start_time": "2022-06-02T17:04:40.036Z"
   },
   {
    "duration": 11,
    "start_time": "2022-06-02T17:04:40.291Z"
   },
   {
    "duration": 36,
    "start_time": "2022-06-02T17:04:40.304Z"
   },
   {
    "duration": 77,
    "start_time": "2022-06-02T17:04:40.342Z"
   },
   {
    "duration": 123,
    "start_time": "2022-06-02T17:04:40.426Z"
   },
   {
    "duration": 19,
    "start_time": "2022-06-02T17:18:11.343Z"
   },
   {
    "duration": 18,
    "start_time": "2022-06-02T17:18:26.039Z"
   },
   {
    "duration": 614,
    "start_time": "2022-06-02T17:18:41.487Z"
   },
   {
    "duration": 1354,
    "start_time": "2022-06-02T17:19:19.447Z"
   },
   {
    "duration": 7,
    "start_time": "2022-06-02T17:34:21.693Z"
   },
   {
    "duration": 16,
    "start_time": "2022-06-02T17:34:47.708Z"
   },
   {
    "duration": 6,
    "start_time": "2022-06-02T17:35:10.461Z"
   },
   {
    "duration": 675,
    "start_time": "2022-06-02T17:51:31.799Z"
   },
   {
    "duration": 583,
    "start_time": "2022-06-02T17:51:46.352Z"
   },
   {
    "duration": 1244,
    "start_time": "2022-06-02T17:52:27.812Z"
   },
   {
    "duration": 296,
    "start_time": "2022-06-02T17:52:29.058Z"
   },
   {
    "duration": 4,
    "start_time": "2022-06-02T17:52:29.357Z"
   },
   {
    "duration": 507,
    "start_time": "2022-06-02T17:52:29.363Z"
   },
   {
    "duration": 66,
    "start_time": "2022-06-02T17:52:29.872Z"
   },
   {
    "duration": 30,
    "start_time": "2022-06-02T17:52:29.940Z"
   },
   {
    "duration": 66,
    "start_time": "2022-06-02T17:52:29.972Z"
   },
   {
    "duration": 23,
    "start_time": "2022-06-02T17:52:30.040Z"
   },
   {
    "duration": 17,
    "start_time": "2022-06-02T17:52:30.065Z"
   },
   {
    "duration": 21,
    "start_time": "2022-06-02T17:52:30.084Z"
   },
   {
    "duration": 25,
    "start_time": "2022-06-02T17:52:30.106Z"
   },
   {
    "duration": 26,
    "start_time": "2022-06-02T17:52:30.133Z"
   },
   {
    "duration": 15,
    "start_time": "2022-06-02T17:52:30.161Z"
   },
   {
    "duration": 22,
    "start_time": "2022-06-02T17:52:30.180Z"
   },
   {
    "duration": 13,
    "start_time": "2022-06-02T17:52:30.204Z"
   },
   {
    "duration": 29,
    "start_time": "2022-06-02T17:52:30.218Z"
   },
   {
    "duration": 26,
    "start_time": "2022-06-02T17:52:30.249Z"
   },
   {
    "duration": 17,
    "start_time": "2022-06-02T17:52:30.278Z"
   },
   {
    "duration": 19,
    "start_time": "2022-06-02T17:52:30.297Z"
   },
   {
    "duration": 30,
    "start_time": "2022-06-02T17:52:30.318Z"
   },
   {
    "duration": 79,
    "start_time": "2022-06-02T17:52:30.350Z"
   },
   {
    "duration": 76,
    "start_time": "2022-06-02T17:52:30.431Z"
   },
   {
    "duration": 78,
    "start_time": "2022-06-02T17:52:30.509Z"
   },
   {
    "duration": 60,
    "start_time": "2022-06-02T17:52:30.589Z"
   },
   {
    "duration": 165,
    "start_time": "2022-06-02T17:52:30.651Z"
   },
   {
    "duration": 325,
    "start_time": "2022-06-02T17:52:30.818Z"
   },
   {
    "duration": 170,
    "start_time": "2022-06-02T17:52:31.145Z"
   },
   {
    "duration": 153,
    "start_time": "2022-06-02T17:52:31.317Z"
   },
   {
    "duration": 97,
    "start_time": "2022-06-02T17:52:31.472Z"
   },
   {
    "duration": 220,
    "start_time": "2022-06-02T17:52:31.571Z"
   },
   {
    "duration": 211,
    "start_time": "2022-06-02T17:52:31.793Z"
   },
   {
    "duration": 110,
    "start_time": "2022-06-02T17:52:32.006Z"
   },
   {
    "duration": 19534,
    "start_time": "2022-06-02T17:52:32.125Z"
   },
   {
    "duration": 225,
    "start_time": "2022-06-02T17:52:51.660Z"
   },
   {
    "duration": 9,
    "start_time": "2022-06-02T17:52:51.887Z"
   },
   {
    "duration": 33,
    "start_time": "2022-06-02T17:52:51.897Z"
   },
   {
    "duration": 58,
    "start_time": "2022-06-02T17:52:51.931Z"
   },
   {
    "duration": 7,
    "start_time": "2022-06-02T17:52:51.990Z"
   },
   {
    "duration": 244,
    "start_time": "2022-06-02T17:52:51.999Z"
   },
   {
    "duration": 11,
    "start_time": "2022-06-02T17:53:32.012Z"
   },
   {
    "duration": 7,
    "start_time": "2022-06-02T17:53:43.849Z"
   },
   {
    "duration": 76,
    "start_time": "2022-06-02T17:54:54.833Z"
   },
   {
    "duration": 410,
    "start_time": "2022-06-02T17:55:06.858Z"
   },
   {
    "duration": 685,
    "start_time": "2022-06-02T17:55:30.147Z"
   },
   {
    "duration": 8,
    "start_time": "2022-06-02T17:56:03.193Z"
   },
   {
    "duration": 154,
    "start_time": "2022-06-02T17:56:45.707Z"
   },
   {
    "duration": 103,
    "start_time": "2022-06-02T17:57:47.355Z"
   },
   {
    "duration": 32,
    "start_time": "2022-06-02T17:58:18.244Z"
   },
   {
    "duration": 7,
    "start_time": "2022-06-02T17:58:20.722Z"
   },
   {
    "duration": 16,
    "start_time": "2022-06-02T17:58:42.275Z"
   },
   {
    "duration": 96,
    "start_time": "2022-06-02T17:58:46.148Z"
   },
   {
    "duration": 1237,
    "start_time": "2022-06-02T17:59:33.107Z"
   },
   {
    "duration": 255,
    "start_time": "2022-06-02T17:59:34.346Z"
   },
   {
    "duration": 4,
    "start_time": "2022-06-02T17:59:34.604Z"
   },
   {
    "duration": 454,
    "start_time": "2022-06-02T17:59:34.610Z"
   },
   {
    "duration": 69,
    "start_time": "2022-06-02T17:59:35.067Z"
   },
   {
    "duration": 28,
    "start_time": "2022-06-02T17:59:35.138Z"
   },
   {
    "duration": 60,
    "start_time": "2022-06-02T17:59:35.167Z"
   },
   {
    "duration": 23,
    "start_time": "2022-06-02T17:59:35.229Z"
   },
   {
    "duration": 18,
    "start_time": "2022-06-02T17:59:35.253Z"
   },
   {
    "duration": 17,
    "start_time": "2022-06-02T17:59:35.272Z"
   },
   {
    "duration": 16,
    "start_time": "2022-06-02T17:59:35.290Z"
   },
   {
    "duration": 29,
    "start_time": "2022-06-02T17:59:35.307Z"
   },
   {
    "duration": 9,
    "start_time": "2022-06-02T17:59:35.337Z"
   },
   {
    "duration": 11,
    "start_time": "2022-06-02T17:59:35.348Z"
   },
   {
    "duration": 7,
    "start_time": "2022-06-02T17:59:35.361Z"
   },
   {
    "duration": 14,
    "start_time": "2022-06-02T17:59:35.369Z"
   },
   {
    "duration": 13,
    "start_time": "2022-06-02T17:59:35.385Z"
   },
   {
    "duration": 28,
    "start_time": "2022-06-02T17:59:35.399Z"
   },
   {
    "duration": 11,
    "start_time": "2022-06-02T17:59:35.429Z"
   },
   {
    "duration": 23,
    "start_time": "2022-06-02T17:59:35.442Z"
   },
   {
    "duration": 81,
    "start_time": "2022-06-02T17:59:35.467Z"
   },
   {
    "duration": 86,
    "start_time": "2022-06-02T17:59:35.549Z"
   },
   {
    "duration": 73,
    "start_time": "2022-06-02T17:59:35.638Z"
   },
   {
    "duration": 70,
    "start_time": "2022-06-02T17:59:35.713Z"
   },
   {
    "duration": 156,
    "start_time": "2022-06-02T17:59:35.785Z"
   },
   {
    "duration": 318,
    "start_time": "2022-06-02T17:59:35.942Z"
   },
   {
    "duration": 173,
    "start_time": "2022-06-02T17:59:36.262Z"
   },
   {
    "duration": 145,
    "start_time": "2022-06-02T17:59:36.437Z"
   },
   {
    "duration": 98,
    "start_time": "2022-06-02T17:59:36.584Z"
   },
   {
    "duration": 212,
    "start_time": "2022-06-02T17:59:36.684Z"
   },
   {
    "duration": 214,
    "start_time": "2022-06-02T17:59:36.898Z"
   },
   {
    "duration": 150,
    "start_time": "2022-06-02T17:59:37.114Z"
   },
   {
    "duration": 19130,
    "start_time": "2022-06-02T17:59:37.265Z"
   },
   {
    "duration": 227,
    "start_time": "2022-06-02T17:59:56.397Z"
   },
   {
    "duration": 12,
    "start_time": "2022-06-02T17:59:56.626Z"
   },
   {
    "duration": 17,
    "start_time": "2022-06-02T17:59:56.639Z"
   },
   {
    "duration": 79,
    "start_time": "2022-06-02T17:59:56.658Z"
   },
   {
    "duration": 1,
    "start_time": "2022-06-02T18:02:21.081Z"
   },
   {
    "duration": 0,
    "start_time": "2022-06-02T18:02:21.083Z"
   },
   {
    "duration": 0,
    "start_time": "2022-06-02T18:02:21.084Z"
   },
   {
    "duration": 0,
    "start_time": "2022-06-02T18:02:21.085Z"
   },
   {
    "duration": 0,
    "start_time": "2022-06-02T18:02:21.087Z"
   },
   {
    "duration": 0,
    "start_time": "2022-06-02T18:02:21.088Z"
   },
   {
    "duration": 67,
    "start_time": "2022-06-02T18:02:23.283Z"
   },
   {
    "duration": 7,
    "start_time": "2022-06-02T18:02:25.028Z"
   },
   {
    "duration": 114,
    "start_time": "2022-06-02T18:02:26.483Z"
   },
   {
    "duration": 792,
    "start_time": "2022-06-02T18:06:23.605Z"
   },
   {
    "duration": 56,
    "start_time": "2022-06-02T18:06:37.294Z"
   },
   {
    "duration": 523,
    "start_time": "2022-06-02T18:07:05.691Z"
   },
   {
    "duration": 525,
    "start_time": "2022-06-02T18:08:51.771Z"
   },
   {
    "duration": 237,
    "start_time": "2022-06-02T18:09:56.761Z"
   },
   {
    "duration": 204,
    "start_time": "2022-06-02T18:10:02.486Z"
   },
   {
    "duration": 264,
    "start_time": "2022-06-02T18:10:07.758Z"
   },
   {
    "duration": 209,
    "start_time": "2022-06-02T18:10:30.320Z"
   },
   {
    "duration": 66,
    "start_time": "2022-06-02T18:15:43.059Z"
   },
   {
    "duration": 60,
    "start_time": "2022-06-02T18:16:00.155Z"
   },
   {
    "duration": 600,
    "start_time": "2022-06-02T18:16:57.463Z"
   },
   {
    "duration": 97,
    "start_time": "2022-06-02T18:17:00.373Z"
   },
   {
    "duration": 126,
    "start_time": "2022-06-02T18:17:03.747Z"
   },
   {
    "duration": 90,
    "start_time": "2022-06-02T18:20:13.995Z"
   },
   {
    "duration": 254,
    "start_time": "2022-06-02T18:27:20.020Z"
   },
   {
    "duration": 265,
    "start_time": "2022-06-02T18:27:52.243Z"
   },
   {
    "duration": 632,
    "start_time": "2022-06-02T18:28:19.762Z"
   },
   {
    "duration": 297,
    "start_time": "2022-06-02T18:28:42.302Z"
   },
   {
    "duration": 187,
    "start_time": "2022-06-02T18:28:52.589Z"
   },
   {
    "duration": 130,
    "start_time": "2022-06-02T18:29:13.006Z"
   },
   {
    "duration": 11,
    "start_time": "2022-06-02T18:30:39.014Z"
   },
   {
    "duration": 327,
    "start_time": "2022-06-02T18:30:42.327Z"
   },
   {
    "duration": 139,
    "start_time": "2022-06-02T18:30:44.485Z"
   },
   {
    "duration": 258,
    "start_time": "2022-06-02T18:31:18.883Z"
   },
   {
    "duration": 46,
    "start_time": "2022-06-02T18:32:09.286Z"
   },
   {
    "duration": 104,
    "start_time": "2022-06-02T18:32:12.766Z"
   },
   {
    "duration": 264,
    "start_time": "2022-06-02T18:32:16.967Z"
   },
   {
    "duration": 286,
    "start_time": "2022-06-02T18:32:20.414Z"
   },
   {
    "duration": 88,
    "start_time": "2022-06-04T07:39:34.393Z"
   },
   {
    "duration": 1363,
    "start_time": "2022-06-04T07:39:42.647Z"
   },
   {
    "duration": 1055,
    "start_time": "2022-06-04T07:39:44.012Z"
   },
   {
    "duration": 5,
    "start_time": "2022-06-04T07:39:45.069Z"
   },
   {
    "duration": 530,
    "start_time": "2022-06-04T07:39:45.076Z"
   },
   {
    "duration": 78,
    "start_time": "2022-06-04T07:39:45.607Z"
   },
   {
    "duration": 58,
    "start_time": "2022-06-04T07:39:45.686Z"
   },
   {
    "duration": 42,
    "start_time": "2022-06-04T07:39:45.746Z"
   },
   {
    "duration": 25,
    "start_time": "2022-06-04T07:39:45.790Z"
   },
   {
    "duration": 67,
    "start_time": "2022-06-04T07:39:45.816Z"
   },
   {
    "duration": 12,
    "start_time": "2022-06-04T07:39:45.885Z"
   },
   {
    "duration": 13,
    "start_time": "2022-06-04T07:39:45.898Z"
   },
   {
    "duration": 19,
    "start_time": "2022-06-04T07:39:45.913Z"
   },
   {
    "duration": 35,
    "start_time": "2022-06-04T07:39:45.940Z"
   },
   {
    "duration": 17,
    "start_time": "2022-06-04T07:39:45.977Z"
   },
   {
    "duration": 8,
    "start_time": "2022-06-04T07:39:45.996Z"
   },
   {
    "duration": 16,
    "start_time": "2022-06-04T07:39:46.005Z"
   },
   {
    "duration": 18,
    "start_time": "2022-06-04T07:39:46.022Z"
   },
   {
    "duration": 2,
    "start_time": "2022-06-04T07:39:46.041Z"
   },
   {
    "duration": 28,
    "start_time": "2022-06-04T07:39:46.044Z"
   },
   {
    "duration": 26,
    "start_time": "2022-06-04T07:39:46.074Z"
   },
   {
    "duration": 67,
    "start_time": "2022-06-04T07:39:46.101Z"
   },
   {
    "duration": 66,
    "start_time": "2022-06-04T07:39:46.170Z"
   },
   {
    "duration": 55,
    "start_time": "2022-06-04T07:39:46.242Z"
   },
   {
    "duration": 52,
    "start_time": "2022-06-04T07:39:46.299Z"
   },
   {
    "duration": 154,
    "start_time": "2022-06-04T07:39:46.352Z"
   },
   {
    "duration": 289,
    "start_time": "2022-06-04T07:39:46.508Z"
   },
   {
    "duration": 187,
    "start_time": "2022-06-04T07:39:46.798Z"
   },
   {
    "duration": 184,
    "start_time": "2022-06-04T07:39:46.989Z"
   },
   {
    "duration": 107,
    "start_time": "2022-06-04T07:39:47.175Z"
   },
   {
    "duration": 199,
    "start_time": "2022-06-04T07:39:47.284Z"
   },
   {
    "duration": 241,
    "start_time": "2022-06-04T07:39:47.484Z"
   },
   {
    "duration": 118,
    "start_time": "2022-06-04T07:39:47.726Z"
   },
   {
    "duration": 21464,
    "start_time": "2022-06-04T07:39:47.846Z"
   },
   {
    "duration": 235,
    "start_time": "2022-06-04T07:40:09.311Z"
   },
   {
    "duration": 11,
    "start_time": "2022-06-04T07:40:09.550Z"
   },
   {
    "duration": 28,
    "start_time": "2022-06-04T07:40:09.563Z"
   },
   {
    "duration": 79,
    "start_time": "2022-06-04T07:40:09.593Z"
   },
   {
    "duration": 235,
    "start_time": "2022-06-04T07:40:09.674Z"
   },
   {
    "duration": 274,
    "start_time": "2022-06-04T07:40:09.910Z"
   },
   {
    "duration": 272,
    "start_time": "2022-06-04T07:40:10.185Z"
   },
   {
    "duration": 81,
    "start_time": "2022-06-04T07:40:10.458Z"
   },
   {
    "duration": 7,
    "start_time": "2022-06-04T07:40:10.548Z"
   },
   {
    "duration": 132,
    "start_time": "2022-06-04T07:40:10.557Z"
   },
   {
    "duration": 100,
    "start_time": "2022-06-04T07:40:10.691Z"
   },
   {
    "duration": 144,
    "start_time": "2022-06-04T07:40:10.792Z"
   },
   {
    "duration": 123,
    "start_time": "2022-06-04T07:40:37.917Z"
   },
   {
    "duration": 144,
    "start_time": "2022-06-04T07:40:50.361Z"
   },
   {
    "duration": 253,
    "start_time": "2022-06-04T07:41:32.599Z"
   },
   {
    "duration": 169,
    "start_time": "2022-06-04T07:42:13.591Z"
   },
   {
    "duration": 142,
    "start_time": "2022-06-04T07:43:20.021Z"
   },
   {
    "duration": 116,
    "start_time": "2022-06-04T07:43:29.364Z"
   },
   {
    "duration": 141,
    "start_time": "2022-06-04T07:44:01.085Z"
   },
   {
    "duration": 144,
    "start_time": "2022-06-04T07:44:07.006Z"
   },
   {
    "duration": 62,
    "start_time": "2022-06-04T07:49:54.214Z"
   },
   {
    "duration": 19,
    "start_time": "2022-06-04T08:28:38.911Z"
   },
   {
    "duration": 137,
    "start_time": "2022-06-04T08:29:56.844Z"
   },
   {
    "duration": 66,
    "start_time": "2022-06-04T08:30:24.541Z"
   },
   {
    "duration": 3,
    "start_time": "2022-06-04T08:36:03.695Z"
   },
   {
    "duration": 210,
    "start_time": "2022-06-04T08:36:28.191Z"
   },
   {
    "duration": 434,
    "start_time": "2022-06-04T08:37:59.490Z"
   },
   {
    "duration": 424,
    "start_time": "2022-06-04T08:38:36.194Z"
   },
   {
    "duration": 360,
    "start_time": "2022-06-04T08:39:25.735Z"
   },
   {
    "duration": 393,
    "start_time": "2022-06-04T08:41:01.305Z"
   },
   {
    "duration": 654,
    "start_time": "2022-06-04T08:42:00.110Z"
   },
   {
    "duration": 759,
    "start_time": "2022-06-04T08:42:08.339Z"
   },
   {
    "duration": 384,
    "start_time": "2022-06-04T08:42:22.110Z"
   },
   {
    "duration": 1279,
    "start_time": "2022-06-04T08:42:39.292Z"
   },
   {
    "duration": 306,
    "start_time": "2022-06-04T08:42:40.573Z"
   },
   {
    "duration": 5,
    "start_time": "2022-06-04T08:42:40.881Z"
   },
   {
    "duration": 526,
    "start_time": "2022-06-04T08:42:40.887Z"
   },
   {
    "duration": 74,
    "start_time": "2022-06-04T08:42:41.416Z"
   },
   {
    "duration": 54,
    "start_time": "2022-06-04T08:42:41.492Z"
   },
   {
    "duration": 35,
    "start_time": "2022-06-04T08:42:41.549Z"
   },
   {
    "duration": 24,
    "start_time": "2022-06-04T08:42:41.585Z"
   },
   {
    "duration": 26,
    "start_time": "2022-06-04T08:42:41.628Z"
   },
   {
    "duration": 14,
    "start_time": "2022-06-04T08:42:41.656Z"
   },
   {
    "duration": 19,
    "start_time": "2022-06-04T08:42:41.671Z"
   },
   {
    "duration": 37,
    "start_time": "2022-06-04T08:42:41.692Z"
   },
   {
    "duration": 16,
    "start_time": "2022-06-04T08:42:41.735Z"
   },
   {
    "duration": 12,
    "start_time": "2022-06-04T08:42:41.755Z"
   },
   {
    "duration": 10,
    "start_time": "2022-06-04T08:42:41.769Z"
   },
   {
    "duration": 15,
    "start_time": "2022-06-04T08:42:41.781Z"
   },
   {
    "duration": 38,
    "start_time": "2022-06-04T08:42:41.798Z"
   },
   {
    "duration": 21,
    "start_time": "2022-06-04T08:42:41.838Z"
   },
   {
    "duration": 13,
    "start_time": "2022-06-04T08:42:41.861Z"
   },
   {
    "duration": 25,
    "start_time": "2022-06-04T08:42:41.876Z"
   },
   {
    "duration": 72,
    "start_time": "2022-06-04T08:42:41.903Z"
   },
   {
    "duration": 83,
    "start_time": "2022-06-04T08:42:41.977Z"
   },
   {
    "duration": 58,
    "start_time": "2022-06-04T08:42:42.062Z"
   },
   {
    "duration": 50,
    "start_time": "2022-06-04T08:42:42.136Z"
   },
   {
    "duration": 152,
    "start_time": "2022-06-04T08:42:42.187Z"
   },
   {
    "duration": 283,
    "start_time": "2022-06-04T08:42:42.340Z"
   },
   {
    "duration": 235,
    "start_time": "2022-06-04T08:42:42.628Z"
   },
   {
    "duration": 157,
    "start_time": "2022-06-04T08:42:42.865Z"
   },
   {
    "duration": 142,
    "start_time": "2022-06-04T08:42:43.028Z"
   },
   {
    "duration": 212,
    "start_time": "2022-06-04T08:42:43.172Z"
   },
   {
    "duration": 212,
    "start_time": "2022-06-04T08:42:43.386Z"
   },
   {
    "duration": 124,
    "start_time": "2022-06-04T08:42:43.599Z"
   },
   {
    "duration": 20329,
    "start_time": "2022-06-04T08:42:43.728Z"
   },
   {
    "duration": 256,
    "start_time": "2022-06-04T08:43:04.059Z"
   },
   {
    "duration": 20,
    "start_time": "2022-06-04T08:43:04.317Z"
   },
   {
    "duration": 26,
    "start_time": "2022-06-04T08:43:04.349Z"
   },
   {
    "duration": 100,
    "start_time": "2022-06-04T08:43:04.376Z"
   },
   {
    "duration": 285,
    "start_time": "2022-06-04T08:43:04.478Z"
   },
   {
    "duration": 277,
    "start_time": "2022-06-04T08:43:04.765Z"
   },
   {
    "duration": 310,
    "start_time": "2022-06-04T08:43:05.044Z"
   },
   {
    "duration": 86,
    "start_time": "2022-06-04T08:43:05.359Z"
   },
   {
    "duration": 7,
    "start_time": "2022-06-04T08:43:05.448Z"
   },
   {
    "duration": 136,
    "start_time": "2022-06-04T08:43:05.457Z"
   },
   {
    "duration": 108,
    "start_time": "2022-06-04T08:43:05.596Z"
   },
   {
    "duration": 149,
    "start_time": "2022-06-04T08:43:05.705Z"
   },
   {
    "duration": 3,
    "start_time": "2022-06-04T08:43:05.856Z"
   },
   {
    "duration": 380,
    "start_time": "2022-06-04T08:43:05.860Z"
   },
   {
    "duration": 137,
    "start_time": "2022-06-04T08:43:06.246Z"
   },
   {
    "duration": 119,
    "start_time": "2022-06-04T08:43:30.624Z"
   },
   {
    "duration": 113,
    "start_time": "2022-06-04T08:44:01.890Z"
   },
   {
    "duration": 135,
    "start_time": "2022-06-04T08:44:11.327Z"
   },
   {
    "duration": 376,
    "start_time": "2022-06-04T08:44:58.943Z"
   },
   {
    "duration": 141,
    "start_time": "2022-06-04T08:45:13.299Z"
   },
   {
    "duration": 222,
    "start_time": "2022-06-04T08:50:12.759Z"
   },
   {
    "duration": 11,
    "start_time": "2022-06-04T08:54:48.057Z"
   },
   {
    "duration": 93,
    "start_time": "2022-06-04T08:55:03.390Z"
   },
   {
    "duration": 10,
    "start_time": "2022-06-04T08:55:52.302Z"
   },
   {
    "duration": 9,
    "start_time": "2022-06-04T08:56:44.094Z"
   },
   {
    "duration": 129,
    "start_time": "2022-06-04T09:07:51.064Z"
   },
   {
    "duration": 135,
    "start_time": "2022-06-04T09:08:01.222Z"
   },
   {
    "duration": 78,
    "start_time": "2022-06-04T09:08:14.896Z"
   },
   {
    "duration": 6,
    "start_time": "2022-06-04T14:21:40.090Z"
   },
   {
    "duration": 7,
    "start_time": "2022-06-04T14:21:45.623Z"
   },
   {
    "duration": 127,
    "start_time": "2022-06-04T14:34:08.101Z"
   },
   {
    "duration": 8,
    "start_time": "2022-06-04T14:48:25.645Z"
   },
   {
    "duration": 24,
    "start_time": "2022-06-04T15:00:10.552Z"
   },
   {
    "duration": 1452,
    "start_time": "2022-06-04T15:00:31.967Z"
   },
   {
    "duration": 350,
    "start_time": "2022-06-04T15:00:33.421Z"
   },
   {
    "duration": 4,
    "start_time": "2022-06-04T15:00:33.778Z"
   },
   {
    "duration": 675,
    "start_time": "2022-06-04T15:00:33.783Z"
   },
   {
    "duration": 81,
    "start_time": "2022-06-04T15:00:34.462Z"
   },
   {
    "duration": 36,
    "start_time": "2022-06-04T15:00:34.545Z"
   },
   {
    "duration": 94,
    "start_time": "2022-06-04T15:00:34.583Z"
   },
   {
    "duration": 70,
    "start_time": "2022-06-04T15:00:34.679Z"
   },
   {
    "duration": 42,
    "start_time": "2022-06-04T15:00:34.757Z"
   },
   {
    "duration": 34,
    "start_time": "2022-06-04T15:00:34.801Z"
   },
   {
    "duration": 71,
    "start_time": "2022-06-04T15:00:34.836Z"
   },
   {
    "duration": 36,
    "start_time": "2022-06-04T15:00:34.909Z"
   },
   {
    "duration": 51,
    "start_time": "2022-06-04T15:00:34.948Z"
   },
   {
    "duration": 14,
    "start_time": "2022-06-04T15:00:35.002Z"
   },
   {
    "duration": 21,
    "start_time": "2022-06-04T15:00:35.017Z"
   },
   {
    "duration": 55,
    "start_time": "2022-06-04T15:00:35.040Z"
   },
   {
    "duration": 22,
    "start_time": "2022-06-04T15:00:35.096Z"
   },
   {
    "duration": 14,
    "start_time": "2022-06-04T15:00:35.120Z"
   },
   {
    "duration": 57,
    "start_time": "2022-06-04T15:00:35.136Z"
   },
   {
    "duration": 30,
    "start_time": "2022-06-04T15:00:35.195Z"
   },
   {
    "duration": 125,
    "start_time": "2022-06-04T15:00:35.227Z"
   },
   {
    "duration": 84,
    "start_time": "2022-06-04T15:00:35.354Z"
   },
   {
    "duration": 78,
    "start_time": "2022-06-04T15:00:35.440Z"
   },
   {
    "duration": 75,
    "start_time": "2022-06-04T15:00:35.520Z"
   },
   {
    "duration": 183,
    "start_time": "2022-06-04T15:00:35.597Z"
   },
   {
    "duration": 362,
    "start_time": "2022-06-04T15:00:35.782Z"
   },
   {
    "duration": 248,
    "start_time": "2022-06-04T15:00:36.147Z"
   },
   {
    "duration": 206,
    "start_time": "2022-06-04T15:00:36.397Z"
   },
   {
    "duration": 136,
    "start_time": "2022-06-04T15:00:36.605Z"
   },
   {
    "duration": 251,
    "start_time": "2022-06-04T15:00:36.742Z"
   },
   {
    "duration": 311,
    "start_time": "2022-06-04T15:00:36.995Z"
   },
   {
    "duration": 139,
    "start_time": "2022-06-04T15:00:37.308Z"
   },
   {
    "duration": 24825,
    "start_time": "2022-06-04T15:00:37.449Z"
   },
   {
    "duration": 302,
    "start_time": "2022-06-04T15:01:02.275Z"
   },
   {
    "duration": 10,
    "start_time": "2022-06-04T15:01:02.580Z"
   },
   {
    "duration": 27,
    "start_time": "2022-06-04T15:01:02.592Z"
   },
   {
    "duration": 135,
    "start_time": "2022-06-04T15:01:02.621Z"
   },
   {
    "duration": 296,
    "start_time": "2022-06-04T15:01:02.759Z"
   },
   {
    "duration": 319,
    "start_time": "2022-06-04T15:01:03.066Z"
   },
   {
    "duration": 336,
    "start_time": "2022-06-04T15:01:03.387Z"
   },
   {
    "duration": 95,
    "start_time": "2022-06-04T15:01:03.731Z"
   },
   {
    "duration": 9,
    "start_time": "2022-06-04T15:01:03.830Z"
   },
   {
    "duration": 171,
    "start_time": "2022-06-04T15:01:03.840Z"
   },
   {
    "duration": 113,
    "start_time": "2022-06-04T15:01:04.013Z"
   },
   {
    "duration": 154,
    "start_time": "2022-06-04T15:01:04.128Z"
   },
   {
    "duration": 4,
    "start_time": "2022-06-04T15:01:04.284Z"
   },
   {
    "duration": 508,
    "start_time": "2022-06-04T15:01:04.289Z"
   },
   {
    "duration": 171,
    "start_time": "2022-06-04T15:01:04.799Z"
   },
   {
    "duration": 264,
    "start_time": "2022-06-04T15:01:04.973Z"
   },
   {
    "duration": 77,
    "start_time": "2022-06-04T15:01:05.239Z"
   },
   {
    "duration": 173,
    "start_time": "2022-06-04T15:01:05.317Z"
   },
   {
    "duration": 130,
    "start_time": "2022-06-04T15:01:05.491Z"
   },
   {
    "duration": 16,
    "start_time": "2022-06-04T15:01:05.623Z"
   },
   {
    "duration": 64,
    "start_time": "2022-06-04T15:17:17.347Z"
   },
   {
    "duration": 194,
    "start_time": "2022-06-04T15:19:24.466Z"
   },
   {
    "duration": 1634,
    "start_time": "2022-06-04T17:10:24.203Z"
   },
   {
    "duration": 398,
    "start_time": "2022-06-04T17:10:25.839Z"
   },
   {
    "duration": 9,
    "start_time": "2022-06-04T17:10:26.243Z"
   },
   {
    "duration": 727,
    "start_time": "2022-06-04T17:10:26.261Z"
   },
   {
    "duration": 96,
    "start_time": "2022-06-04T17:10:26.990Z"
   },
   {
    "duration": 35,
    "start_time": "2022-06-04T17:10:27.090Z"
   },
   {
    "duration": 71,
    "start_time": "2022-06-04T17:10:27.126Z"
   },
   {
    "duration": 61,
    "start_time": "2022-06-04T17:10:27.202Z"
   },
   {
    "duration": 36,
    "start_time": "2022-06-04T17:10:27.271Z"
   },
   {
    "duration": 11,
    "start_time": "2022-06-04T17:10:27.311Z"
   },
   {
    "duration": 74,
    "start_time": "2022-06-04T17:10:27.324Z"
   },
   {
    "duration": 25,
    "start_time": "2022-06-04T17:10:27.401Z"
   },
   {
    "duration": 73,
    "start_time": "2022-06-04T17:10:27.428Z"
   },
   {
    "duration": 16,
    "start_time": "2022-06-04T17:10:27.505Z"
   },
   {
    "duration": 70,
    "start_time": "2022-06-04T17:10:27.522Z"
   },
   {
    "duration": 64,
    "start_time": "2022-06-04T17:10:27.594Z"
   },
   {
    "duration": 68,
    "start_time": "2022-06-04T17:10:27.660Z"
   },
   {
    "duration": 85,
    "start_time": "2022-06-04T17:10:27.730Z"
   },
   {
    "duration": 21,
    "start_time": "2022-06-04T17:10:27.817Z"
   },
   {
    "duration": 101,
    "start_time": "2022-06-04T17:10:27.840Z"
   },
   {
    "duration": 146,
    "start_time": "2022-06-04T17:10:27.945Z"
   },
   {
    "duration": 100,
    "start_time": "2022-06-04T17:10:28.093Z"
   },
   {
    "duration": 75,
    "start_time": "2022-06-04T17:10:28.195Z"
   },
   {
    "duration": 62,
    "start_time": "2022-06-04T17:10:28.271Z"
   },
   {
    "duration": 172,
    "start_time": "2022-06-04T17:10:28.334Z"
   },
   {
    "duration": 314,
    "start_time": "2022-06-04T17:10:28.510Z"
   },
   {
    "duration": 267,
    "start_time": "2022-06-04T17:10:28.836Z"
   },
   {
    "duration": 210,
    "start_time": "2022-06-04T17:10:29.107Z"
   },
   {
    "duration": 145,
    "start_time": "2022-06-04T17:10:29.319Z"
   },
   {
    "duration": 238,
    "start_time": "2022-06-04T17:10:29.469Z"
   },
   {
    "duration": 327,
    "start_time": "2022-06-04T17:10:29.711Z"
   },
   {
    "duration": 140,
    "start_time": "2022-06-04T17:10:30.040Z"
   },
   {
    "duration": 27168,
    "start_time": "2022-06-04T17:10:30.182Z"
   },
   {
    "duration": 341,
    "start_time": "2022-06-04T17:10:57.352Z"
   },
   {
    "duration": 46,
    "start_time": "2022-06-04T17:10:57.707Z"
   },
   {
    "duration": 85,
    "start_time": "2022-06-04T17:10:57.757Z"
   },
   {
    "duration": 162,
    "start_time": "2022-06-04T17:10:57.844Z"
   },
   {
    "duration": 310,
    "start_time": "2022-06-04T17:10:58.008Z"
   },
   {
    "duration": 323,
    "start_time": "2022-06-04T17:10:58.320Z"
   },
   {
    "duration": 315,
    "start_time": "2022-06-04T17:10:58.644Z"
   },
   {
    "duration": 92,
    "start_time": "2022-06-04T17:10:58.961Z"
   },
   {
    "duration": 10,
    "start_time": "2022-06-04T17:10:59.061Z"
   },
   {
    "duration": 143,
    "start_time": "2022-06-04T17:10:59.076Z"
   },
   {
    "duration": 146,
    "start_time": "2022-06-04T17:10:59.229Z"
   },
   {
    "duration": 148,
    "start_time": "2022-06-04T17:10:59.377Z"
   },
   {
    "duration": 8,
    "start_time": "2022-06-04T17:10:59.526Z"
   },
   {
    "duration": 503,
    "start_time": "2022-06-04T17:10:59.541Z"
   },
   {
    "duration": 147,
    "start_time": "2022-06-04T17:11:00.049Z"
   },
   {
    "duration": 279,
    "start_time": "2022-06-04T17:11:00.198Z"
   },
   {
    "duration": 82,
    "start_time": "2022-06-04T17:11:00.479Z"
   },
   {
    "duration": 30,
    "start_time": "2022-06-04T17:11:31.347Z"
   },
   {
    "duration": 1349,
    "start_time": "2022-06-04T17:49:05.963Z"
   },
   {
    "duration": 309,
    "start_time": "2022-06-04T17:49:07.314Z"
   },
   {
    "duration": 14,
    "start_time": "2022-06-04T17:49:07.625Z"
   },
   {
    "duration": 618,
    "start_time": "2022-06-04T17:49:07.645Z"
   },
   {
    "duration": 74,
    "start_time": "2022-06-04T17:49:08.265Z"
   },
   {
    "duration": 42,
    "start_time": "2022-06-04T17:49:08.346Z"
   },
   {
    "duration": 35,
    "start_time": "2022-06-04T17:49:08.389Z"
   },
   {
    "duration": 61,
    "start_time": "2022-06-04T17:49:08.426Z"
   },
   {
    "duration": 14,
    "start_time": "2022-06-04T17:49:08.489Z"
   },
   {
    "duration": 16,
    "start_time": "2022-06-04T17:49:08.505Z"
   },
   {
    "duration": 48,
    "start_time": "2022-06-04T17:49:08.523Z"
   },
   {
    "duration": 35,
    "start_time": "2022-06-04T17:49:08.575Z"
   },
   {
    "duration": 13,
    "start_time": "2022-06-04T17:49:08.611Z"
   },
   {
    "duration": 60,
    "start_time": "2022-06-04T17:49:08.628Z"
   },
   {
    "duration": 11,
    "start_time": "2022-06-04T17:49:08.690Z"
   },
   {
    "duration": 15,
    "start_time": "2022-06-04T17:49:08.703Z"
   },
   {
    "duration": 28,
    "start_time": "2022-06-04T17:49:08.719Z"
   },
   {
    "duration": 36,
    "start_time": "2022-06-04T17:49:08.749Z"
   },
   {
    "duration": 14,
    "start_time": "2022-06-04T17:49:08.786Z"
   },
   {
    "duration": 25,
    "start_time": "2022-06-04T17:49:08.802Z"
   },
   {
    "duration": 99,
    "start_time": "2022-06-04T17:49:08.828Z"
   },
   {
    "duration": 92,
    "start_time": "2022-06-04T17:49:08.928Z"
   },
   {
    "duration": 78,
    "start_time": "2022-06-04T17:49:09.022Z"
   },
   {
    "duration": 44,
    "start_time": "2022-06-04T17:49:09.102Z"
   },
   {
    "duration": 52,
    "start_time": "2022-06-04T17:49:09.148Z"
   },
   {
    "duration": 45,
    "start_time": "2022-06-04T17:49:09.202Z"
   },
   {
    "duration": 219,
    "start_time": "2022-06-04T17:49:09.252Z"
   },
   {
    "duration": 36,
    "start_time": "2022-06-04T17:49:09.472Z"
   },
   {
    "duration": 124,
    "start_time": "2022-06-04T17:49:09.510Z"
   },
   {
    "duration": 18169,
    "start_time": "2022-06-04T17:49:09.644Z"
   },
   {
    "duration": 85,
    "start_time": "2022-06-04T17:49:27.815Z"
   },
   {
    "duration": 29,
    "start_time": "2022-06-04T17:49:27.903Z"
   },
   {
    "duration": 79,
    "start_time": "2022-06-04T17:49:27.939Z"
   },
   {
    "duration": 188,
    "start_time": "2022-06-04T17:49:28.019Z"
   },
   {
    "duration": 0,
    "start_time": "2022-06-04T17:49:28.209Z"
   },
   {
    "duration": 0,
    "start_time": "2022-06-04T17:49:28.210Z"
   },
   {
    "duration": 0,
    "start_time": "2022-06-04T17:49:28.211Z"
   },
   {
    "duration": 0,
    "start_time": "2022-06-04T17:49:28.212Z"
   },
   {
    "duration": 0,
    "start_time": "2022-06-04T17:49:28.213Z"
   },
   {
    "duration": 0,
    "start_time": "2022-06-04T17:49:28.214Z"
   },
   {
    "duration": 0,
    "start_time": "2022-06-04T17:49:28.233Z"
   },
   {
    "duration": 0,
    "start_time": "2022-06-04T17:49:28.235Z"
   },
   {
    "duration": 0,
    "start_time": "2022-06-04T17:49:28.235Z"
   },
   {
    "duration": 0,
    "start_time": "2022-06-04T17:49:28.237Z"
   },
   {
    "duration": 0,
    "start_time": "2022-06-04T17:49:28.241Z"
   },
   {
    "duration": 0,
    "start_time": "2022-06-04T17:49:28.242Z"
   },
   {
    "duration": 0,
    "start_time": "2022-06-04T17:49:28.243Z"
   },
   {
    "duration": 0,
    "start_time": "2022-06-04T17:49:28.244Z"
   },
   {
    "duration": 7,
    "start_time": "2022-06-04T17:50:13.713Z"
   },
   {
    "duration": 1349,
    "start_time": "2022-06-04T17:50:27.803Z"
   },
   {
    "duration": 334,
    "start_time": "2022-06-04T17:50:29.154Z"
   },
   {
    "duration": 3,
    "start_time": "2022-06-04T17:50:29.490Z"
   },
   {
    "duration": 606,
    "start_time": "2022-06-04T17:50:29.495Z"
   },
   {
    "duration": 81,
    "start_time": "2022-06-04T17:50:30.103Z"
   },
   {
    "duration": 62,
    "start_time": "2022-06-04T17:50:30.186Z"
   },
   {
    "duration": 55,
    "start_time": "2022-06-04T17:50:30.249Z"
   },
   {
    "duration": 50,
    "start_time": "2022-06-04T17:50:30.305Z"
   },
   {
    "duration": 61,
    "start_time": "2022-06-04T17:50:30.357Z"
   },
   {
    "duration": 72,
    "start_time": "2022-06-04T17:50:30.419Z"
   },
   {
    "duration": 28,
    "start_time": "2022-06-04T17:50:30.492Z"
   },
   {
    "duration": 67,
    "start_time": "2022-06-04T17:50:30.521Z"
   },
   {
    "duration": 26,
    "start_time": "2022-06-04T17:50:30.590Z"
   },
   {
    "duration": 18,
    "start_time": "2022-06-04T17:50:30.619Z"
   },
   {
    "duration": 55,
    "start_time": "2022-06-04T17:50:30.642Z"
   },
   {
    "duration": 22,
    "start_time": "2022-06-04T17:50:30.698Z"
   },
   {
    "duration": 62,
    "start_time": "2022-06-04T17:50:30.722Z"
   },
   {
    "duration": 33,
    "start_time": "2022-06-04T17:50:30.786Z"
   },
   {
    "duration": 69,
    "start_time": "2022-06-04T17:50:30.821Z"
   },
   {
    "duration": 35,
    "start_time": "2022-06-04T17:50:30.892Z"
   },
   {
    "duration": 134,
    "start_time": "2022-06-04T17:50:30.936Z"
   },
   {
    "duration": 89,
    "start_time": "2022-06-04T17:50:31.071Z"
   },
   {
    "duration": 71,
    "start_time": "2022-06-04T17:50:31.161Z"
   },
   {
    "duration": 51,
    "start_time": "2022-06-04T17:50:31.233Z"
   },
   {
    "duration": 46,
    "start_time": "2022-06-04T17:50:31.291Z"
   },
   {
    "duration": 34,
    "start_time": "2022-06-04T17:50:31.339Z"
   },
   {
    "duration": 246,
    "start_time": "2022-06-04T17:50:31.375Z"
   },
   {
    "duration": 55,
    "start_time": "2022-06-04T17:50:31.623Z"
   },
   {
    "duration": 119,
    "start_time": "2022-06-04T17:50:31.681Z"
   },
   {
    "duration": 18214,
    "start_time": "2022-06-04T17:50:31.801Z"
   },
   {
    "duration": 93,
    "start_time": "2022-06-04T17:50:50.017Z"
   },
   {
    "duration": 11,
    "start_time": "2022-06-04T17:50:50.112Z"
   },
   {
    "duration": 47,
    "start_time": "2022-06-04T17:50:50.125Z"
   },
   {
    "duration": 35,
    "start_time": "2022-06-04T17:50:50.173Z"
   },
   {
    "duration": 188,
    "start_time": "2022-06-04T17:50:50.209Z"
   },
   {
    "duration": 0,
    "start_time": "2022-06-04T17:50:50.400Z"
   },
   {
    "duration": 0,
    "start_time": "2022-06-04T17:50:50.401Z"
   },
   {
    "duration": 0,
    "start_time": "2022-06-04T17:50:50.402Z"
   },
   {
    "duration": 0,
    "start_time": "2022-06-04T17:50:50.403Z"
   },
   {
    "duration": 0,
    "start_time": "2022-06-04T17:50:50.405Z"
   },
   {
    "duration": 0,
    "start_time": "2022-06-04T17:50:50.406Z"
   },
   {
    "duration": 0,
    "start_time": "2022-06-04T17:50:50.407Z"
   },
   {
    "duration": 0,
    "start_time": "2022-06-04T17:50:50.410Z"
   },
   {
    "duration": 1,
    "start_time": "2022-06-04T17:50:50.411Z"
   },
   {
    "duration": 0,
    "start_time": "2022-06-04T17:50:50.413Z"
   },
   {
    "duration": 0,
    "start_time": "2022-06-04T17:50:50.414Z"
   },
   {
    "duration": 0,
    "start_time": "2022-06-04T17:50:50.416Z"
   },
   {
    "duration": 0,
    "start_time": "2022-06-04T17:50:50.417Z"
   },
   {
    "duration": 190,
    "start_time": "2022-06-04T17:51:03.605Z"
   },
   {
    "duration": 16,
    "start_time": "2022-06-04T17:51:10.575Z"
   },
   {
    "duration": 15,
    "start_time": "2022-06-04T17:51:15.506Z"
   },
   {
    "duration": 360,
    "start_time": "2022-06-04T17:51:32.817Z"
   },
   {
    "duration": 19,
    "start_time": "2022-06-04T17:51:34.356Z"
   },
   {
    "duration": 13,
    "start_time": "2022-06-04T17:51:59.828Z"
   },
   {
    "duration": 7,
    "start_time": "2022-06-04T17:52:06.102Z"
   },
   {
    "duration": 11,
    "start_time": "2022-06-04T17:52:09.330Z"
   },
   {
    "duration": 14,
    "start_time": "2022-06-04T17:52:32.610Z"
   },
   {
    "duration": 14,
    "start_time": "2022-06-04T17:52:41.674Z"
   },
   {
    "duration": 20,
    "start_time": "2022-06-04T17:52:50.050Z"
   },
   {
    "duration": 1317,
    "start_time": "2022-06-04T17:53:57.516Z"
   },
   {
    "duration": 325,
    "start_time": "2022-06-04T17:53:58.844Z"
   },
   {
    "duration": 3,
    "start_time": "2022-06-04T17:53:59.179Z"
   },
   {
    "duration": 541,
    "start_time": "2022-06-04T17:53:59.184Z"
   },
   {
    "duration": 68,
    "start_time": "2022-06-04T17:53:59.728Z"
   },
   {
    "duration": 48,
    "start_time": "2022-06-04T17:53:59.797Z"
   },
   {
    "duration": 55,
    "start_time": "2022-06-04T17:53:59.851Z"
   },
   {
    "duration": 34,
    "start_time": "2022-06-04T17:53:59.908Z"
   },
   {
    "duration": 51,
    "start_time": "2022-06-04T17:53:59.943Z"
   },
   {
    "duration": 19,
    "start_time": "2022-06-04T17:53:59.995Z"
   },
   {
    "duration": 48,
    "start_time": "2022-06-04T17:54:00.016Z"
   },
   {
    "duration": 28,
    "start_time": "2022-06-04T17:54:00.073Z"
   },
   {
    "duration": 34,
    "start_time": "2022-06-04T17:54:00.103Z"
   },
   {
    "duration": 68,
    "start_time": "2022-06-04T17:54:00.140Z"
   },
   {
    "duration": 75,
    "start_time": "2022-06-04T17:54:00.210Z"
   },
   {
    "duration": 32,
    "start_time": "2022-06-04T17:54:00.286Z"
   },
   {
    "duration": 94,
    "start_time": "2022-06-04T17:54:00.320Z"
   },
   {
    "duration": 29,
    "start_time": "2022-06-04T17:54:00.415Z"
   },
   {
    "duration": 55,
    "start_time": "2022-06-04T17:54:00.446Z"
   },
   {
    "duration": 72,
    "start_time": "2022-06-04T17:54:00.503Z"
   },
   {
    "duration": 111,
    "start_time": "2022-06-04T17:54:00.577Z"
   },
   {
    "duration": 87,
    "start_time": "2022-06-04T17:54:00.690Z"
   },
   {
    "duration": 67,
    "start_time": "2022-06-04T17:54:00.779Z"
   },
   {
    "duration": 47,
    "start_time": "2022-06-04T17:54:00.855Z"
   },
   {
    "duration": 47,
    "start_time": "2022-06-04T17:54:00.904Z"
   },
   {
    "duration": 34,
    "start_time": "2022-06-04T17:54:00.953Z"
   },
   {
    "duration": 253,
    "start_time": "2022-06-04T17:54:00.989Z"
   },
   {
    "duration": 45,
    "start_time": "2022-06-04T17:54:01.250Z"
   },
   {
    "duration": 132,
    "start_time": "2022-06-04T17:54:01.297Z"
   },
   {
    "duration": 18380,
    "start_time": "2022-06-04T17:54:01.438Z"
   },
   {
    "duration": 82,
    "start_time": "2022-06-04T17:54:19.820Z"
   },
   {
    "duration": 9,
    "start_time": "2022-06-04T17:54:19.904Z"
   },
   {
    "duration": 20,
    "start_time": "2022-06-04T17:54:19.930Z"
   },
   {
    "duration": 39,
    "start_time": "2022-06-04T17:54:19.953Z"
   },
   {
    "duration": 152,
    "start_time": "2022-06-04T17:54:19.994Z"
   },
   {
    "duration": 20,
    "start_time": "2022-06-04T17:54:20.147Z"
   },
   {
    "duration": 346,
    "start_time": "2022-06-04T17:54:20.168Z"
   },
   {
    "duration": 5,
    "start_time": "2022-06-04T17:54:20.516Z"
   },
   {
    "duration": 22,
    "start_time": "2022-06-04T17:54:20.528Z"
   },
   {
    "duration": 161,
    "start_time": "2022-06-04T17:54:20.551Z"
   },
   {
    "duration": 139,
    "start_time": "2022-06-04T17:54:20.715Z"
   },
   {
    "duration": 0,
    "start_time": "2022-06-04T17:54:20.861Z"
   },
   {
    "duration": 0,
    "start_time": "2022-06-04T17:54:20.862Z"
   },
   {
    "duration": 0,
    "start_time": "2022-06-04T17:54:20.863Z"
   },
   {
    "duration": 0,
    "start_time": "2022-06-04T17:54:20.864Z"
   },
   {
    "duration": 0,
    "start_time": "2022-06-04T17:54:20.865Z"
   },
   {
    "duration": 0,
    "start_time": "2022-06-04T17:54:20.866Z"
   },
   {
    "duration": 0,
    "start_time": "2022-06-04T17:54:20.867Z"
   },
   {
    "duration": 14,
    "start_time": "2022-06-04T17:55:06.298Z"
   },
   {
    "duration": 19,
    "start_time": "2022-06-04T17:55:32.658Z"
   },
   {
    "duration": 23,
    "start_time": "2022-06-04T17:55:35.453Z"
   },
   {
    "duration": 12,
    "start_time": "2022-06-04T17:57:30.108Z"
   },
   {
    "duration": 6,
    "start_time": "2022-06-04T17:57:31.108Z"
   },
   {
    "duration": 145,
    "start_time": "2022-06-04T17:57:35.061Z"
   },
   {
    "duration": 12,
    "start_time": "2022-06-04T17:58:32.704Z"
   },
   {
    "duration": 13,
    "start_time": "2022-06-04T17:58:36.957Z"
   },
   {
    "duration": 1291,
    "start_time": "2022-06-04T17:58:41.276Z"
   },
   {
    "duration": 178,
    "start_time": "2022-06-04T17:59:10.404Z"
   },
   {
    "duration": 17,
    "start_time": "2022-06-04T17:59:23.354Z"
   },
   {
    "duration": 152,
    "start_time": "2022-06-04T17:59:25.992Z"
   },
   {
    "duration": 3,
    "start_time": "2022-06-04T18:00:49.714Z"
   },
   {
    "duration": 426,
    "start_time": "2022-06-04T18:00:50.809Z"
   },
   {
    "duration": 136,
    "start_time": "2022-06-04T18:00:55.121Z"
   },
   {
    "duration": 54,
    "start_time": "2022-06-04T18:00:55.965Z"
   },
   {
    "duration": 24,
    "start_time": "2022-06-04T18:01:10.455Z"
   },
   {
    "duration": 6,
    "start_time": "2022-06-04T18:01:11.573Z"
   },
   {
    "duration": 10,
    "start_time": "2022-06-04T18:06:04.360Z"
   },
   {
    "duration": 9,
    "start_time": "2022-06-04T18:06:07.205Z"
   },
   {
    "duration": 22,
    "start_time": "2022-06-04T18:16:46.874Z"
   },
   {
    "duration": 73,
    "start_time": "2022-06-04T18:16:50.045Z"
   },
   {
    "duration": 1482,
    "start_time": "2022-06-04T18:17:00.978Z"
   },
   {
    "duration": 400,
    "start_time": "2022-06-04T18:17:02.462Z"
   },
   {
    "duration": 22,
    "start_time": "2022-06-04T18:17:02.867Z"
   },
   {
    "duration": 696,
    "start_time": "2022-06-04T18:17:02.891Z"
   },
   {
    "duration": 92,
    "start_time": "2022-06-04T18:17:03.591Z"
   },
   {
    "duration": 58,
    "start_time": "2022-06-04T18:17:03.686Z"
   },
   {
    "duration": 116,
    "start_time": "2022-06-04T18:17:03.746Z"
   },
   {
    "duration": 118,
    "start_time": "2022-06-04T18:17:03.865Z"
   },
   {
    "duration": 34,
    "start_time": "2022-06-04T18:17:03.990Z"
   },
   {
    "duration": 54,
    "start_time": "2022-06-04T18:17:04.025Z"
   },
   {
    "duration": 29,
    "start_time": "2022-06-04T18:17:04.082Z"
   },
   {
    "duration": 52,
    "start_time": "2022-06-04T18:17:04.113Z"
   },
   {
    "duration": 46,
    "start_time": "2022-06-04T18:17:04.167Z"
   },
   {
    "duration": 23,
    "start_time": "2022-06-04T18:17:04.216Z"
   },
   {
    "duration": 58,
    "start_time": "2022-06-04T18:17:04.244Z"
   },
   {
    "duration": 45,
    "start_time": "2022-06-04T18:17:04.304Z"
   },
   {
    "duration": 94,
    "start_time": "2022-06-04T18:17:04.354Z"
   },
   {
    "duration": 45,
    "start_time": "2022-06-04T18:17:04.453Z"
   },
   {
    "duration": 113,
    "start_time": "2022-06-04T18:17:04.505Z"
   },
   {
    "duration": 129,
    "start_time": "2022-06-04T18:17:04.620Z"
   },
   {
    "duration": 172,
    "start_time": "2022-06-04T18:17:04.766Z"
   },
   {
    "duration": 132,
    "start_time": "2022-06-04T18:17:04.940Z"
   },
   {
    "duration": 120,
    "start_time": "2022-06-04T18:17:05.075Z"
   },
   {
    "duration": 64,
    "start_time": "2022-06-04T18:17:05.197Z"
   },
   {
    "duration": 131,
    "start_time": "2022-06-04T18:17:05.268Z"
   },
   {
    "duration": 23,
    "start_time": "2022-06-04T18:17:05.404Z"
   },
   {
    "duration": 244,
    "start_time": "2022-06-04T18:17:05.442Z"
   },
   {
    "duration": 42,
    "start_time": "2022-06-04T18:17:05.688Z"
   },
   {
    "duration": 126,
    "start_time": "2022-06-04T18:17:05.734Z"
   },
   {
    "duration": 22646,
    "start_time": "2022-06-04T18:17:05.864Z"
   },
   {
    "duration": 130,
    "start_time": "2022-06-04T18:17:28.512Z"
   },
   {
    "duration": 13,
    "start_time": "2022-06-04T18:17:28.654Z"
   },
   {
    "duration": 32,
    "start_time": "2022-06-04T18:17:28.668Z"
   },
   {
    "duration": 61,
    "start_time": "2022-06-04T18:17:28.702Z"
   },
   {
    "duration": 234,
    "start_time": "2022-06-04T18:17:28.765Z"
   },
   {
    "duration": 19,
    "start_time": "2022-06-04T18:17:29.000Z"
   },
   {
    "duration": 418,
    "start_time": "2022-06-04T18:17:29.021Z"
   },
   {
    "duration": 22,
    "start_time": "2022-06-04T18:17:29.445Z"
   },
   {
    "duration": 121,
    "start_time": "2022-06-04T18:17:29.469Z"
   },
   {
    "duration": 184,
    "start_time": "2022-06-04T18:17:29.593Z"
   },
   {
    "duration": 19,
    "start_time": "2022-06-04T18:17:29.782Z"
   },
   {
    "duration": 176,
    "start_time": "2022-06-04T18:17:29.812Z"
   },
   {
    "duration": 9,
    "start_time": "2022-06-04T18:17:29.991Z"
   },
   {
    "duration": 553,
    "start_time": "2022-06-04T18:17:30.002Z"
   },
   {
    "duration": 141,
    "start_time": "2022-06-04T18:17:30.560Z"
   },
   {
    "duration": 15,
    "start_time": "2022-06-04T18:17:30.705Z"
   },
   {
    "duration": 259,
    "start_time": "2022-06-04T18:17:30.723Z"
   },
   {
    "duration": 0,
    "start_time": "2022-06-04T18:17:30.984Z"
   },
   {
    "duration": 94,
    "start_time": "2022-06-04T18:19:42.353Z"
   },
   {
    "duration": 5,
    "start_time": "2022-06-04T18:19:44.000Z"
   },
   {
    "duration": 22,
    "start_time": "2022-06-04T18:22:09.648Z"
   },
   {
    "duration": 12,
    "start_time": "2022-06-04T18:22:20.256Z"
   },
   {
    "duration": 165,
    "start_time": "2022-06-04T18:22:30.624Z"
   },
   {
    "duration": 163,
    "start_time": "2022-06-04T18:22:44.385Z"
   },
   {
    "duration": 11,
    "start_time": "2022-06-04T18:22:57.221Z"
   },
   {
    "duration": 178,
    "start_time": "2022-06-04T18:22:58.218Z"
   },
   {
    "duration": 7,
    "start_time": "2022-06-04T18:23:20.818Z"
   },
   {
    "duration": 160,
    "start_time": "2022-06-04T18:23:21.520Z"
   },
   {
    "duration": 11,
    "start_time": "2022-06-04T18:23:33.520Z"
   },
   {
    "duration": 134,
    "start_time": "2022-06-04T18:23:34.727Z"
   },
   {
    "duration": 10,
    "start_time": "2022-06-04T18:23:51.369Z"
   },
   {
    "duration": 120,
    "start_time": "2022-06-04T18:23:53.265Z"
   },
   {
    "duration": 59,
    "start_time": "2022-06-04T18:23:56.552Z"
   },
   {
    "duration": 10,
    "start_time": "2022-06-04T18:23:57.851Z"
   },
   {
    "duration": 470,
    "start_time": "2022-06-04T18:25:25.824Z"
   },
   {
    "duration": 10,
    "start_time": "2022-06-04T18:25:37.025Z"
   },
   {
    "duration": 470,
    "start_time": "2022-06-04T18:25:37.421Z"
   },
   {
    "duration": 42,
    "start_time": "2022-06-04T18:25:40.258Z"
   },
   {
    "duration": 6,
    "start_time": "2022-06-04T18:25:41.916Z"
   },
   {
    "duration": 9,
    "start_time": "2022-06-04T18:25:57.720Z"
   },
   {
    "duration": 477,
    "start_time": "2022-06-04T18:25:58.404Z"
   },
   {
    "duration": 41,
    "start_time": "2022-06-04T18:26:03.777Z"
   },
   {
    "duration": 6,
    "start_time": "2022-06-04T18:26:04.674Z"
   },
   {
    "duration": 9,
    "start_time": "2022-06-04T18:26:20.757Z"
   },
   {
    "duration": 453,
    "start_time": "2022-06-04T18:26:21.958Z"
   },
   {
    "duration": 7,
    "start_time": "2022-06-04T18:26:37.718Z"
   },
   {
    "duration": 483,
    "start_time": "2022-06-04T18:27:02.758Z"
   },
   {
    "duration": 11,
    "start_time": "2022-06-04T18:28:16.970Z"
   },
   {
    "duration": 490,
    "start_time": "2022-06-04T18:28:19.401Z"
   },
   {
    "duration": 66,
    "start_time": "2022-06-04T18:28:26.520Z"
   },
   {
    "duration": 5,
    "start_time": "2022-06-04T18:28:27.377Z"
   },
   {
    "duration": 815,
    "start_time": "2022-06-04T18:28:49.409Z"
   },
   {
    "duration": 0,
    "start_time": "2022-06-04T18:28:50.226Z"
   },
   {
    "duration": 9,
    "start_time": "2022-06-04T18:29:51.920Z"
   },
   {
    "duration": 943,
    "start_time": "2022-06-04T18:29:52.810Z"
   },
   {
    "duration": 55,
    "start_time": "2022-06-04T18:29:55.813Z"
   },
   {
    "duration": 6,
    "start_time": "2022-06-04T18:29:56.505Z"
   },
   {
    "duration": 11,
    "start_time": "2022-06-04T18:31:47.366Z"
   },
   {
    "duration": 564,
    "start_time": "2022-06-04T18:31:47.974Z"
   },
   {
    "duration": 79,
    "start_time": "2022-06-04T18:31:53.613Z"
   },
   {
    "duration": 7,
    "start_time": "2022-06-04T18:32:45.913Z"
   },
   {
    "duration": 486,
    "start_time": "2022-06-04T18:32:47.513Z"
   },
   {
    "duration": 77,
    "start_time": "2022-06-04T18:32:50.117Z"
   },
   {
    "duration": 5,
    "start_time": "2022-06-04T18:32:59.123Z"
   },
   {
    "duration": 9,
    "start_time": "2022-06-04T18:35:04.503Z"
   },
   {
    "duration": 567,
    "start_time": "2022-06-04T18:35:04.814Z"
   },
   {
    "duration": 53,
    "start_time": "2022-06-04T18:35:09.872Z"
   },
   {
    "duration": 5,
    "start_time": "2022-06-04T18:35:10.517Z"
   },
   {
    "duration": 8,
    "start_time": "2022-06-04T18:35:21.400Z"
   },
   {
    "duration": 7,
    "start_time": "2022-06-04T18:35:23.606Z"
   },
   {
    "duration": 561,
    "start_time": "2022-06-04T18:35:24.548Z"
   },
   {
    "duration": 58,
    "start_time": "2022-06-04T18:35:26.508Z"
   },
   {
    "duration": 6,
    "start_time": "2022-06-04T18:35:27.524Z"
   },
   {
    "duration": 7,
    "start_time": "2022-06-04T18:35:37.390Z"
   },
   {
    "duration": 657,
    "start_time": "2022-06-04T18:35:37.662Z"
   },
   {
    "duration": 67,
    "start_time": "2022-06-04T18:35:39.900Z"
   },
   {
    "duration": 11,
    "start_time": "2022-06-04T18:35:40.422Z"
   },
   {
    "duration": 28,
    "start_time": "2022-06-04T18:35:48.925Z"
   },
   {
    "duration": 487,
    "start_time": "2022-06-04T18:35:49.304Z"
   },
   {
    "duration": 59,
    "start_time": "2022-06-04T18:35:50.362Z"
   },
   {
    "duration": 8,
    "start_time": "2022-06-04T18:35:50.854Z"
   },
   {
    "duration": 1383,
    "start_time": "2022-06-04T18:36:00.862Z"
   },
   {
    "duration": 341,
    "start_time": "2022-06-04T18:36:02.250Z"
   },
   {
    "duration": 4,
    "start_time": "2022-06-04T18:36:02.593Z"
   },
   {
    "duration": 613,
    "start_time": "2022-06-04T18:36:02.599Z"
   },
   {
    "duration": 82,
    "start_time": "2022-06-04T18:36:03.215Z"
   },
   {
    "duration": 43,
    "start_time": "2022-06-04T18:36:03.299Z"
   },
   {
    "duration": 59,
    "start_time": "2022-06-04T18:36:03.343Z"
   },
   {
    "duration": 57,
    "start_time": "2022-06-04T18:36:03.404Z"
   },
   {
    "duration": 29,
    "start_time": "2022-06-04T18:36:03.466Z"
   },
   {
    "duration": 17,
    "start_time": "2022-06-04T18:36:03.497Z"
   },
   {
    "duration": 36,
    "start_time": "2022-06-04T18:36:03.516Z"
   },
   {
    "duration": 58,
    "start_time": "2022-06-04T18:36:03.554Z"
   },
   {
    "duration": 74,
    "start_time": "2022-06-04T18:36:03.614Z"
   },
   {
    "duration": 11,
    "start_time": "2022-06-04T18:36:03.691Z"
   },
   {
    "duration": 15,
    "start_time": "2022-06-04T18:36:03.704Z"
   },
   {
    "duration": 39,
    "start_time": "2022-06-04T18:36:03.721Z"
   },
   {
    "duration": 33,
    "start_time": "2022-06-04T18:36:03.763Z"
   },
   {
    "duration": 15,
    "start_time": "2022-06-04T18:36:03.798Z"
   },
   {
    "duration": 18,
    "start_time": "2022-06-04T18:36:03.815Z"
   },
   {
    "duration": 66,
    "start_time": "2022-06-04T18:36:03.834Z"
   },
   {
    "duration": 93,
    "start_time": "2022-06-04T18:36:03.902Z"
   },
   {
    "duration": 105,
    "start_time": "2022-06-04T18:36:03.997Z"
   },
   {
    "duration": 93,
    "start_time": "2022-06-04T18:36:04.103Z"
   },
   {
    "duration": 29,
    "start_time": "2022-06-04T18:36:04.198Z"
   },
   {
    "duration": 53,
    "start_time": "2022-06-04T18:36:04.236Z"
   },
   {
    "duration": 36,
    "start_time": "2022-06-04T18:36:04.291Z"
   },
   {
    "duration": 324,
    "start_time": "2022-06-04T18:36:04.330Z"
   },
   {
    "duration": 47,
    "start_time": "2022-06-04T18:36:04.656Z"
   },
   {
    "duration": 163,
    "start_time": "2022-06-04T18:36:04.704Z"
   },
   {
    "duration": 17886,
    "start_time": "2022-06-04T18:36:04.872Z"
   },
   {
    "duration": 112,
    "start_time": "2022-06-04T18:36:22.763Z"
   },
   {
    "duration": 12,
    "start_time": "2022-06-04T18:36:22.878Z"
   },
   {
    "duration": 22,
    "start_time": "2022-06-04T18:36:22.892Z"
   },
   {
    "duration": 13,
    "start_time": "2022-06-04T18:36:22.917Z"
   },
   {
    "duration": 193,
    "start_time": "2022-06-04T18:36:22.932Z"
   },
   {
    "duration": 41,
    "start_time": "2022-06-04T18:36:23.127Z"
   },
   {
    "duration": 371,
    "start_time": "2022-06-04T18:36:23.173Z"
   },
   {
    "duration": 21,
    "start_time": "2022-06-04T18:36:23.546Z"
   },
   {
    "duration": 37,
    "start_time": "2022-06-04T18:36:23.569Z"
   },
   {
    "duration": 175,
    "start_time": "2022-06-04T18:36:23.607Z"
   },
   {
    "duration": 15,
    "start_time": "2022-06-04T18:36:23.787Z"
   },
   {
    "duration": 167,
    "start_time": "2022-06-04T18:36:23.804Z"
   },
   {
    "duration": 4,
    "start_time": "2022-06-04T18:36:23.976Z"
   },
   {
    "duration": 531,
    "start_time": "2022-06-04T18:36:23.982Z"
   },
   {
    "duration": 160,
    "start_time": "2022-06-04T18:36:24.515Z"
   },
   {
    "duration": 11,
    "start_time": "2022-06-04T18:36:24.677Z"
   },
   {
    "duration": 24,
    "start_time": "2022-06-04T18:36:24.691Z"
   },
   {
    "duration": 571,
    "start_time": "2022-06-04T18:36:24.718Z"
   },
   {
    "duration": 64,
    "start_time": "2022-06-04T18:36:25.290Z"
   },
   {
    "duration": 14,
    "start_time": "2022-06-04T18:36:25.355Z"
   },
   {
    "duration": 18,
    "start_time": "2022-06-04T18:36:38.447Z"
   },
   {
    "duration": 497,
    "start_time": "2022-06-04T18:36:41.199Z"
   },
   {
    "duration": 8,
    "start_time": "2022-06-04T18:36:50.810Z"
   },
   {
    "duration": 466,
    "start_time": "2022-06-04T18:36:51.362Z"
   },
   {
    "duration": 52,
    "start_time": "2022-06-04T18:37:03.805Z"
   },
   {
    "duration": 8,
    "start_time": "2022-06-04T18:37:04.930Z"
   },
   {
    "duration": 14,
    "start_time": "2022-06-04T18:37:14.857Z"
   },
   {
    "duration": 516,
    "start_time": "2022-06-04T18:37:16.494Z"
   },
   {
    "duration": 58,
    "start_time": "2022-06-04T18:37:22.306Z"
   },
   {
    "duration": 7,
    "start_time": "2022-06-04T18:37:23.878Z"
   },
   {
    "duration": 9,
    "start_time": "2022-06-04T18:38:28.418Z"
   },
   {
    "duration": 460,
    "start_time": "2022-06-04T18:38:29.255Z"
   },
   {
    "duration": 40,
    "start_time": "2022-06-04T18:38:31.475Z"
   },
   {
    "duration": 9,
    "start_time": "2022-06-04T18:38:32.850Z"
   },
   {
    "duration": 24,
    "start_time": "2022-06-04T19:04:12.296Z"
   },
   {
    "duration": 201,
    "start_time": "2022-06-04T19:06:04.409Z"
   },
   {
    "duration": 30,
    "start_time": "2022-06-04T19:06:15.152Z"
   },
   {
    "duration": 10,
    "start_time": "2022-06-04T19:18:05.482Z"
   },
   {
    "duration": 45,
    "start_time": "2022-06-04T19:18:31.931Z"
   },
   {
    "duration": 68,
    "start_time": "2022-06-04T19:18:38.059Z"
   },
   {
    "duration": 42,
    "start_time": "2022-06-04T19:18:43.480Z"
   },
   {
    "duration": 31,
    "start_time": "2022-06-04T19:19:55.315Z"
   },
   {
    "duration": 501,
    "start_time": "2022-06-04T19:20:07.219Z"
   },
   {
    "duration": 18,
    "start_time": "2022-06-04T19:20:58.062Z"
   },
   {
    "duration": 466,
    "start_time": "2022-06-04T19:21:58.926Z"
   },
   {
    "duration": 441,
    "start_time": "2022-06-04T19:23:21.038Z"
   },
   {
    "duration": 982,
    "start_time": "2022-06-04T19:23:50.482Z"
   },
   {
    "duration": 37,
    "start_time": "2022-06-04T19:46:07.843Z"
   },
   {
    "duration": 41,
    "start_time": "2022-06-04T19:46:13.016Z"
   },
   {
    "duration": 37,
    "start_time": "2022-06-04T19:47:12.092Z"
   },
   {
    "duration": 37,
    "start_time": "2022-06-04T19:47:29.730Z"
   },
   {
    "duration": 15,
    "start_time": "2022-06-04T19:57:12.692Z"
   },
   {
    "duration": 47,
    "start_time": "2022-06-04T20:00:28.357Z"
   },
   {
    "duration": 32,
    "start_time": "2022-06-04T20:04:23.117Z"
   },
   {
    "duration": 568,
    "start_time": "2022-06-04T20:10:33.543Z"
   },
   {
    "duration": 1272,
    "start_time": "2022-06-04T20:11:16.911Z"
   },
   {
    "duration": 275,
    "start_time": "2022-06-04T20:11:18.185Z"
   },
   {
    "duration": 4,
    "start_time": "2022-06-04T20:11:18.462Z"
   },
   {
    "duration": 526,
    "start_time": "2022-06-04T20:11:18.468Z"
   },
   {
    "duration": 84,
    "start_time": "2022-06-04T20:11:18.995Z"
   },
   {
    "duration": 29,
    "start_time": "2022-06-04T20:11:19.080Z"
   },
   {
    "duration": 46,
    "start_time": "2022-06-04T20:11:19.129Z"
   },
   {
    "duration": 28,
    "start_time": "2022-06-04T20:11:19.176Z"
   },
   {
    "duration": 47,
    "start_time": "2022-06-04T20:11:19.206Z"
   },
   {
    "duration": 11,
    "start_time": "2022-06-04T20:11:19.256Z"
   },
   {
    "duration": 11,
    "start_time": "2022-06-04T20:11:19.269Z"
   },
   {
    "duration": 18,
    "start_time": "2022-06-04T20:11:19.282Z"
   },
   {
    "duration": 40,
    "start_time": "2022-06-04T20:11:19.302Z"
   },
   {
    "duration": 11,
    "start_time": "2022-06-04T20:11:19.345Z"
   },
   {
    "duration": 9,
    "start_time": "2022-06-04T20:11:19.358Z"
   },
   {
    "duration": 14,
    "start_time": "2022-06-04T20:11:19.369Z"
   },
   {
    "duration": 13,
    "start_time": "2022-06-04T20:11:19.385Z"
   },
   {
    "duration": 3,
    "start_time": "2022-06-04T20:11:19.399Z"
   },
   {
    "duration": 25,
    "start_time": "2022-06-04T20:11:19.430Z"
   },
   {
    "duration": 26,
    "start_time": "2022-06-04T20:11:19.457Z"
   },
   {
    "duration": 88,
    "start_time": "2022-06-04T20:11:19.485Z"
   },
   {
    "duration": 83,
    "start_time": "2022-06-04T20:11:19.576Z"
   },
   {
    "duration": 61,
    "start_time": "2022-06-04T20:11:19.660Z"
   },
   {
    "duration": 45,
    "start_time": "2022-06-04T20:11:19.729Z"
   },
   {
    "duration": 35,
    "start_time": "2022-06-04T20:11:19.776Z"
   },
   {
    "duration": 31,
    "start_time": "2022-06-04T20:11:19.828Z"
   },
   {
    "duration": 218,
    "start_time": "2022-06-04T20:11:19.860Z"
   },
   {
    "duration": 32,
    "start_time": "2022-06-04T20:11:20.081Z"
   },
   {
    "duration": 118,
    "start_time": "2022-06-04T20:11:20.129Z"
   },
   {
    "duration": 16951,
    "start_time": "2022-06-04T20:11:20.249Z"
   },
   {
    "duration": 78,
    "start_time": "2022-06-04T20:11:37.202Z"
   },
   {
    "duration": 9,
    "start_time": "2022-06-04T20:11:37.282Z"
   },
   {
    "duration": 16,
    "start_time": "2022-06-04T20:11:37.293Z"
   },
   {
    "duration": 40,
    "start_time": "2022-06-04T20:11:37.311Z"
   },
   {
    "duration": 144,
    "start_time": "2022-06-04T20:11:37.353Z"
   },
   {
    "duration": 17,
    "start_time": "2022-06-04T20:11:37.498Z"
   },
   {
    "duration": 336,
    "start_time": "2022-06-04T20:11:37.516Z"
   },
   {
    "duration": 13,
    "start_time": "2022-06-04T20:11:37.853Z"
   },
   {
    "duration": 11,
    "start_time": "2022-06-04T20:11:37.867Z"
   },
   {
    "duration": 163,
    "start_time": "2022-06-04T20:11:37.879Z"
   },
   {
    "duration": 12,
    "start_time": "2022-06-04T20:11:38.043Z"
   },
   {
    "duration": 140,
    "start_time": "2022-06-04T20:11:38.057Z"
   },
   {
    "duration": 4,
    "start_time": "2022-06-04T20:11:38.199Z"
   },
   {
    "duration": 427,
    "start_time": "2022-06-04T20:11:38.205Z"
   },
   {
    "duration": 112,
    "start_time": "2022-06-04T20:11:38.637Z"
   },
   {
    "duration": 10,
    "start_time": "2022-06-04T20:11:38.751Z"
   },
   {
    "duration": 7,
    "start_time": "2022-06-04T20:11:38.762Z"
   },
   {
    "duration": 510,
    "start_time": "2022-06-04T20:11:38.770Z"
   },
   {
    "duration": 63,
    "start_time": "2022-06-04T20:11:39.282Z"
   },
   {
    "duration": 6,
    "start_time": "2022-06-04T20:11:39.347Z"
   },
   {
    "duration": 52,
    "start_time": "2022-06-04T20:11:39.355Z"
   },
   {
    "duration": 185,
    "start_time": "2022-06-04T20:11:39.409Z"
   },
   {
    "duration": 19,
    "start_time": "2022-06-04T20:15:30.047Z"
   },
   {
    "duration": 26,
    "start_time": "2022-06-04T20:16:02.247Z"
   },
   {
    "duration": 54,
    "start_time": "2022-06-04T20:16:08.615Z"
   },
   {
    "duration": 567,
    "start_time": "2022-06-04T20:16:14.811Z"
   },
   {
    "duration": 47,
    "start_time": "2022-06-04T20:17:10.832Z"
   },
   {
    "duration": 541,
    "start_time": "2022-06-04T20:17:23.645Z"
   },
   {
    "duration": 1375,
    "start_time": "2022-06-04T20:20:08.937Z"
   },
   {
    "duration": 550,
    "start_time": "2022-06-04T20:20:28.422Z"
   },
   {
    "duration": 572,
    "start_time": "2022-06-04T20:21:13.406Z"
   },
   {
    "duration": 13,
    "start_time": "2022-06-04T20:22:02.454Z"
   },
   {
    "duration": 104,
    "start_time": "2022-06-04T20:23:39.694Z"
   },
   {
    "duration": 597,
    "start_time": "2022-06-04T20:23:43.795Z"
   },
   {
    "duration": 72,
    "start_time": "2022-06-04T20:24:00.614Z"
   },
   {
    "duration": 103,
    "start_time": "2022-06-04T20:24:38.031Z"
   },
   {
    "duration": 10,
    "start_time": "2022-06-04T20:25:04.992Z"
   },
   {
    "duration": 159,
    "start_time": "2022-06-04T20:25:31.245Z"
   },
   {
    "duration": 149,
    "start_time": "2022-06-04T20:26:26.587Z"
   },
   {
    "duration": 63,
    "start_time": "2022-06-04T20:30:29.432Z"
   },
   {
    "duration": 423,
    "start_time": "2022-06-04T20:30:43.194Z"
   },
   {
    "duration": 71,
    "start_time": "2022-06-04T20:30:49.992Z"
   },
   {
    "duration": 59,
    "start_time": "2022-06-04T20:31:42.601Z"
   },
   {
    "duration": 41,
    "start_time": "2022-06-04T20:32:53.538Z"
   },
   {
    "duration": 5,
    "start_time": "2022-06-04T20:32:55.106Z"
   },
   {
    "duration": 49,
    "start_time": "2022-06-04T20:38:23.300Z"
   },
   {
    "duration": 58,
    "start_time": "2022-06-04T20:38:35.060Z"
   },
   {
    "duration": 51,
    "start_time": "2022-06-04T20:38:47.499Z"
   },
   {
    "duration": 38,
    "start_time": "2022-06-04T20:40:00.237Z"
   },
   {
    "duration": 57,
    "start_time": "2022-06-04T20:40:20.456Z"
   },
   {
    "duration": 76,
    "start_time": "2022-06-04T20:40:28.331Z"
   },
   {
    "duration": 73,
    "start_time": "2022-06-04T20:40:53.568Z"
   },
   {
    "duration": 52,
    "start_time": "2022-06-04T20:41:28.093Z"
   },
   {
    "duration": 55,
    "start_time": "2022-06-04T20:44:41.579Z"
   },
   {
    "duration": 137,
    "start_time": "2022-06-04T20:47:15.854Z"
   },
   {
    "duration": 78,
    "start_time": "2022-06-04T20:48:10.249Z"
   },
   {
    "duration": 71,
    "start_time": "2022-06-04T20:49:28.289Z"
   },
   {
    "duration": 59,
    "start_time": "2022-06-04T20:49:45.814Z"
   },
   {
    "duration": 69,
    "start_time": "2022-06-04T20:49:47.049Z"
   },
   {
    "duration": 3,
    "start_time": "2022-06-04T20:50:10.141Z"
   },
   {
    "duration": 5,
    "start_time": "2022-06-04T20:50:19.841Z"
   },
   {
    "duration": 4,
    "start_time": "2022-06-04T20:55:13.787Z"
   },
   {
    "duration": 25,
    "start_time": "2022-06-04T20:55:15.575Z"
   },
   {
    "duration": 8,
    "start_time": "2022-06-04T20:55:37.880Z"
   },
   {
    "duration": 2,
    "start_time": "2022-06-04T20:55:48.216Z"
   },
   {
    "duration": 4,
    "start_time": "2022-06-04T20:55:48.776Z"
   },
   {
    "duration": 32,
    "start_time": "2022-06-04T20:55:54.504Z"
   },
   {
    "duration": 9,
    "start_time": "2022-06-04T20:55:59.616Z"
   },
   {
    "duration": 42,
    "start_time": "2022-06-04T21:08:31.974Z"
   },
   {
    "duration": 3,
    "start_time": "2022-06-04T21:09:44.678Z"
   },
   {
    "duration": 33,
    "start_time": "2022-06-04T21:09:46.843Z"
   },
   {
    "duration": 4,
    "start_time": "2022-06-04T21:10:01.986Z"
   },
   {
    "duration": 22,
    "start_time": "2022-06-04T21:10:03.986Z"
   },
   {
    "duration": 4,
    "start_time": "2022-06-04T21:10:32.884Z"
   },
   {
    "duration": 24,
    "start_time": "2022-06-04T21:10:33.348Z"
   },
   {
    "duration": 4,
    "start_time": "2022-06-04T21:11:54.125Z"
   },
   {
    "duration": 3,
    "start_time": "2022-06-04T21:12:06.274Z"
   },
   {
    "duration": 4,
    "start_time": "2022-06-04T21:12:10.837Z"
   },
   {
    "duration": 22,
    "start_time": "2022-06-04T21:12:12.277Z"
   },
   {
    "duration": 31,
    "start_time": "2022-06-04T21:17:38.527Z"
   },
   {
    "duration": 3,
    "start_time": "2022-06-04T21:20:04.706Z"
   },
   {
    "duration": 21,
    "start_time": "2022-06-04T21:20:05.831Z"
   },
   {
    "duration": 8,
    "start_time": "2022-06-04T21:23:24.816Z"
   },
   {
    "duration": 8,
    "start_time": "2022-06-04T21:24:52.424Z"
   },
   {
    "duration": 1128,
    "start_time": "2022-06-04T21:26:37.888Z"
   },
   {
    "duration": 252,
    "start_time": "2022-06-04T21:26:39.018Z"
   },
   {
    "duration": 3,
    "start_time": "2022-06-04T21:26:39.271Z"
   },
   {
    "duration": 444,
    "start_time": "2022-06-04T21:26:39.276Z"
   },
   {
    "duration": 53,
    "start_time": "2022-06-04T21:26:39.728Z"
   },
   {
    "duration": 53,
    "start_time": "2022-06-04T21:26:39.782Z"
   },
   {
    "duration": 34,
    "start_time": "2022-06-04T21:26:39.836Z"
   },
   {
    "duration": 23,
    "start_time": "2022-06-04T21:26:39.871Z"
   },
   {
    "duration": 35,
    "start_time": "2022-06-04T21:26:39.896Z"
   },
   {
    "duration": 10,
    "start_time": "2022-06-04T21:26:39.933Z"
   },
   {
    "duration": 12,
    "start_time": "2022-06-04T21:26:39.945Z"
   },
   {
    "duration": 18,
    "start_time": "2022-06-04T21:26:39.958Z"
   },
   {
    "duration": 12,
    "start_time": "2022-06-04T21:26:39.978Z"
   },
   {
    "duration": 11,
    "start_time": "2022-06-04T21:26:39.993Z"
   },
   {
    "duration": 9,
    "start_time": "2022-06-04T21:26:40.029Z"
   },
   {
    "duration": 19,
    "start_time": "2022-06-04T21:26:40.039Z"
   },
   {
    "duration": 13,
    "start_time": "2022-06-04T21:26:40.060Z"
   },
   {
    "duration": 8,
    "start_time": "2022-06-04T21:26:40.074Z"
   },
   {
    "duration": 12,
    "start_time": "2022-06-04T21:26:40.083Z"
   },
   {
    "duration": 40,
    "start_time": "2022-06-04T21:26:40.097Z"
   },
   {
    "duration": 69,
    "start_time": "2022-06-04T21:26:40.138Z"
   },
   {
    "duration": 89,
    "start_time": "2022-06-04T21:26:40.209Z"
   },
   {
    "duration": 72,
    "start_time": "2022-06-04T21:26:40.300Z"
   },
   {
    "duration": 31,
    "start_time": "2022-06-04T21:26:40.373Z"
   },
   {
    "duration": 47,
    "start_time": "2022-06-04T21:26:40.405Z"
   },
   {
    "duration": 22,
    "start_time": "2022-06-04T21:26:40.453Z"
   },
   {
    "duration": 218,
    "start_time": "2022-06-04T21:26:40.476Z"
   },
   {
    "duration": 43,
    "start_time": "2022-06-04T21:26:40.695Z"
   },
   {
    "duration": 109,
    "start_time": "2022-06-04T21:26:40.740Z"
   },
   {
    "duration": 15196,
    "start_time": "2022-06-04T21:26:40.851Z"
   },
   {
    "duration": 59,
    "start_time": "2022-06-04T21:26:56.049Z"
   },
   {
    "duration": 9,
    "start_time": "2022-06-04T21:26:56.130Z"
   },
   {
    "duration": 13,
    "start_time": "2022-06-04T21:26:56.141Z"
   },
   {
    "duration": 10,
    "start_time": "2022-06-04T21:26:56.155Z"
   },
   {
    "duration": 146,
    "start_time": "2022-06-04T21:26:56.167Z"
   },
   {
    "duration": 19,
    "start_time": "2022-06-04T21:26:56.315Z"
   },
   {
    "duration": 310,
    "start_time": "2022-06-04T21:26:56.335Z"
   },
   {
    "duration": 14,
    "start_time": "2022-06-04T21:26:56.646Z"
   },
   {
    "duration": 12,
    "start_time": "2022-06-04T21:26:56.662Z"
   },
   {
    "duration": 149,
    "start_time": "2022-06-04T21:26:56.677Z"
   },
   {
    "duration": 10,
    "start_time": "2022-06-04T21:26:56.831Z"
   },
   {
    "duration": 133,
    "start_time": "2022-06-04T21:26:56.842Z"
   },
   {
    "duration": 2,
    "start_time": "2022-06-04T21:26:56.977Z"
   },
   {
    "duration": 399,
    "start_time": "2022-06-04T21:26:56.981Z"
   },
   {
    "duration": 110,
    "start_time": "2022-06-04T21:26:57.382Z"
   },
   {
    "duration": 10,
    "start_time": "2022-06-04T21:26:57.493Z"
   },
   {
    "duration": 23,
    "start_time": "2022-06-04T21:26:57.505Z"
   },
   {
    "duration": 460,
    "start_time": "2022-06-04T21:26:57.530Z"
   },
   {
    "duration": 45,
    "start_time": "2022-06-04T21:26:57.992Z"
   },
   {
    "duration": 4,
    "start_time": "2022-06-04T21:26:58.039Z"
   },
   {
    "duration": 29,
    "start_time": "2022-06-04T21:26:58.044Z"
   },
   {
    "duration": 63,
    "start_time": "2022-06-04T21:26:58.075Z"
   },
   {
    "duration": 183,
    "start_time": "2022-06-04T21:26:58.140Z"
   },
   {
    "duration": 0,
    "start_time": "2022-06-04T21:26:58.324Z"
   },
   {
    "duration": 0,
    "start_time": "2022-06-04T21:26:58.325Z"
   },
   {
    "duration": 0,
    "start_time": "2022-06-04T21:26:58.326Z"
   },
   {
    "duration": 0,
    "start_time": "2022-06-04T21:26:58.326Z"
   },
   {
    "duration": 57,
    "start_time": "2022-06-04T21:28:02.890Z"
   },
   {
    "duration": 55,
    "start_time": "2022-06-04T21:30:11.691Z"
   },
   {
    "duration": 3,
    "start_time": "2022-06-04T21:30:12.953Z"
   },
   {
    "duration": 5,
    "start_time": "2022-06-04T21:30:14.190Z"
   },
   {
    "duration": 21,
    "start_time": "2022-06-04T21:30:15.638Z"
   },
   {
    "duration": 8,
    "start_time": "2022-06-04T21:30:22.190Z"
   },
   {
    "duration": 1277,
    "start_time": "2022-06-05T08:23:36.501Z"
   },
   {
    "duration": 607,
    "start_time": "2022-06-05T08:23:37.780Z"
   },
   {
    "duration": 3,
    "start_time": "2022-06-05T08:23:38.388Z"
   },
   {
    "duration": 396,
    "start_time": "2022-06-05T08:23:38.393Z"
   },
   {
    "duration": 61,
    "start_time": "2022-06-05T08:23:38.791Z"
   },
   {
    "duration": 26,
    "start_time": "2022-06-05T08:23:38.853Z"
   },
   {
    "duration": 31,
    "start_time": "2022-06-05T08:23:38.880Z"
   },
   {
    "duration": 43,
    "start_time": "2022-06-05T08:23:38.913Z"
   },
   {
    "duration": 11,
    "start_time": "2022-06-05T08:23:38.958Z"
   },
   {
    "duration": 12,
    "start_time": "2022-06-05T08:23:38.971Z"
   },
   {
    "duration": 13,
    "start_time": "2022-06-05T08:23:38.985Z"
   },
   {
    "duration": 23,
    "start_time": "2022-06-05T08:23:39.000Z"
   },
   {
    "duration": 29,
    "start_time": "2022-06-05T08:23:39.025Z"
   },
   {
    "duration": 16,
    "start_time": "2022-06-05T08:23:39.057Z"
   },
   {
    "duration": 15,
    "start_time": "2022-06-05T08:23:39.075Z"
   },
   {
    "duration": 32,
    "start_time": "2022-06-05T08:23:39.091Z"
   },
   {
    "duration": 24,
    "start_time": "2022-06-05T08:23:39.125Z"
   },
   {
    "duration": 23,
    "start_time": "2022-06-05T08:23:39.151Z"
   },
   {
    "duration": 28,
    "start_time": "2022-06-05T08:23:39.175Z"
   },
   {
    "duration": 52,
    "start_time": "2022-06-05T08:23:39.204Z"
   },
   {
    "duration": 88,
    "start_time": "2022-06-05T08:23:39.258Z"
   },
   {
    "duration": 65,
    "start_time": "2022-06-05T08:23:39.348Z"
   },
   {
    "duration": 57,
    "start_time": "2022-06-05T08:23:39.414Z"
   },
   {
    "duration": 28,
    "start_time": "2022-06-05T08:23:39.472Z"
   },
   {
    "duration": 51,
    "start_time": "2022-06-05T08:23:39.501Z"
   },
   {
    "duration": 20,
    "start_time": "2022-06-05T08:23:39.554Z"
   },
   {
    "duration": 216,
    "start_time": "2022-06-05T08:23:39.576Z"
   },
   {
    "duration": 33,
    "start_time": "2022-06-05T08:23:39.793Z"
   },
   {
    "duration": 112,
    "start_time": "2022-06-05T08:23:39.828Z"
   },
   {
    "duration": 14960,
    "start_time": "2022-06-05T08:23:39.942Z"
   },
   {
    "duration": 68,
    "start_time": "2022-06-05T08:23:54.904Z"
   },
   {
    "duration": 9,
    "start_time": "2022-06-05T08:23:54.973Z"
   },
   {
    "duration": 14,
    "start_time": "2022-06-05T08:23:54.983Z"
   },
   {
    "duration": 8,
    "start_time": "2022-06-05T08:23:54.998Z"
   },
   {
    "duration": 160,
    "start_time": "2022-06-05T08:23:55.008Z"
   },
   {
    "duration": 19,
    "start_time": "2022-06-05T08:23:55.170Z"
   },
   {
    "duration": 329,
    "start_time": "2022-06-05T08:23:55.191Z"
   },
   {
    "duration": 12,
    "start_time": "2022-06-05T08:23:55.522Z"
   },
   {
    "duration": 21,
    "start_time": "2022-06-05T08:23:55.535Z"
   },
   {
    "duration": 126,
    "start_time": "2022-06-05T08:23:55.558Z"
   },
   {
    "duration": 10,
    "start_time": "2022-06-05T08:23:55.688Z"
   },
   {
    "duration": 148,
    "start_time": "2022-06-05T08:23:55.700Z"
   },
   {
    "duration": 3,
    "start_time": "2022-06-05T08:23:55.851Z"
   },
   {
    "duration": 414,
    "start_time": "2022-06-05T08:23:55.856Z"
   },
   {
    "duration": 107,
    "start_time": "2022-06-05T08:23:56.271Z"
   },
   {
    "duration": 9,
    "start_time": "2022-06-05T08:23:56.379Z"
   },
   {
    "duration": 7,
    "start_time": "2022-06-05T08:23:56.389Z"
   },
   {
    "duration": 471,
    "start_time": "2022-06-05T08:23:56.397Z"
   },
   {
    "duration": 37,
    "start_time": "2022-06-05T08:23:56.869Z"
   },
   {
    "duration": 5,
    "start_time": "2022-06-05T08:23:56.908Z"
   },
   {
    "duration": 43,
    "start_time": "2022-06-05T08:23:56.914Z"
   },
   {
    "duration": 42,
    "start_time": "2022-06-05T08:23:56.959Z"
   },
   {
    "duration": 85,
    "start_time": "2022-06-05T08:23:57.003Z"
   },
   {
    "duration": 3,
    "start_time": "2022-06-05T08:23:57.089Z"
   },
   {
    "duration": 7,
    "start_time": "2022-06-05T08:23:57.093Z"
   },
   {
    "duration": 25,
    "start_time": "2022-06-05T08:23:57.101Z"
   },
   {
    "duration": 8,
    "start_time": "2022-06-05T08:23:57.127Z"
   },
   {
    "duration": 112,
    "start_time": "2022-06-05T08:27:58.876Z"
   },
   {
    "duration": 8,
    "start_time": "2022-06-05T08:28:18.587Z"
   },
   {
    "duration": 48,
    "start_time": "2022-06-05T08:29:39.156Z"
   },
   {
    "duration": 80,
    "start_time": "2022-06-05T08:29:53.612Z"
   },
   {
    "duration": 64,
    "start_time": "2022-06-05T08:31:56.488Z"
   },
   {
    "duration": 16,
    "start_time": "2022-06-05T08:32:19.783Z"
   },
   {
    "duration": 1200,
    "start_time": "2022-06-05T08:32:33.140Z"
   },
   {
    "duration": 245,
    "start_time": "2022-06-05T08:32:34.342Z"
   },
   {
    "duration": 3,
    "start_time": "2022-06-05T08:32:34.589Z"
   },
   {
    "duration": 434,
    "start_time": "2022-06-05T08:32:34.593Z"
   },
   {
    "duration": 59,
    "start_time": "2022-06-05T08:32:35.030Z"
   },
   {
    "duration": 28,
    "start_time": "2022-06-05T08:32:35.091Z"
   },
   {
    "duration": 74,
    "start_time": "2022-06-05T08:32:35.120Z"
   },
   {
    "duration": 69,
    "start_time": "2022-06-05T08:32:35.196Z"
   },
   {
    "duration": 18,
    "start_time": "2022-06-05T08:32:35.267Z"
   },
   {
    "duration": 22,
    "start_time": "2022-06-05T08:32:35.286Z"
   },
   {
    "duration": 24,
    "start_time": "2022-06-05T08:32:35.311Z"
   },
   {
    "duration": 36,
    "start_time": "2022-06-05T08:32:35.337Z"
   },
   {
    "duration": 29,
    "start_time": "2022-06-05T08:32:35.375Z"
   },
   {
    "duration": 13,
    "start_time": "2022-06-05T08:32:35.409Z"
   },
   {
    "duration": 20,
    "start_time": "2022-06-05T08:32:35.423Z"
   },
   {
    "duration": 27,
    "start_time": "2022-06-05T08:32:35.445Z"
   },
   {
    "duration": 19,
    "start_time": "2022-06-05T08:32:35.474Z"
   },
   {
    "duration": 5,
    "start_time": "2022-06-05T08:32:35.495Z"
   },
   {
    "duration": 12,
    "start_time": "2022-06-05T08:32:35.502Z"
   },
   {
    "duration": 26,
    "start_time": "2022-06-05T08:32:35.515Z"
   },
   {
    "duration": 64,
    "start_time": "2022-06-05T08:32:35.543Z"
   },
   {
    "duration": 71,
    "start_time": "2022-06-05T08:32:35.608Z"
   },
   {
    "duration": 55,
    "start_time": "2022-06-05T08:32:35.681Z"
   },
   {
    "duration": 34,
    "start_time": "2022-06-05T08:32:35.738Z"
   },
   {
    "duration": 31,
    "start_time": "2022-06-05T08:32:35.774Z"
   },
   {
    "duration": 20,
    "start_time": "2022-06-05T08:32:35.806Z"
   },
   {
    "duration": 212,
    "start_time": "2022-06-05T08:32:35.828Z"
   },
   {
    "duration": 38,
    "start_time": "2022-06-05T08:32:36.041Z"
   },
   {
    "duration": 110,
    "start_time": "2022-06-05T08:32:36.080Z"
   },
   {
    "duration": 15026,
    "start_time": "2022-06-05T08:32:36.192Z"
   },
   {
    "duration": 68,
    "start_time": "2022-06-05T08:32:51.220Z"
   },
   {
    "duration": 8,
    "start_time": "2022-06-05T08:32:51.289Z"
   },
   {
    "duration": 19,
    "start_time": "2022-06-05T08:32:51.299Z"
   },
   {
    "duration": 17,
    "start_time": "2022-06-05T08:32:51.320Z"
   },
   {
    "duration": 129,
    "start_time": "2022-06-05T08:32:51.339Z"
   },
   {
    "duration": 16,
    "start_time": "2022-06-05T08:32:51.469Z"
   },
   {
    "duration": 306,
    "start_time": "2022-06-05T08:32:51.487Z"
   },
   {
    "duration": 14,
    "start_time": "2022-06-05T08:32:51.796Z"
   },
   {
    "duration": 14,
    "start_time": "2022-06-05T08:32:51.811Z"
   },
   {
    "duration": 139,
    "start_time": "2022-06-05T08:32:51.827Z"
   },
   {
    "duration": 10,
    "start_time": "2022-06-05T08:32:51.970Z"
   },
   {
    "duration": 133,
    "start_time": "2022-06-05T08:32:51.982Z"
   },
   {
    "duration": 3,
    "start_time": "2022-06-05T08:32:52.117Z"
   },
   {
    "duration": 393,
    "start_time": "2022-06-05T08:32:52.122Z"
   },
   {
    "duration": 118,
    "start_time": "2022-06-05T08:32:52.516Z"
   },
   {
    "duration": 19,
    "start_time": "2022-06-05T08:32:52.636Z"
   },
   {
    "duration": 7,
    "start_time": "2022-06-05T08:32:52.657Z"
   },
   {
    "duration": 454,
    "start_time": "2022-06-05T08:32:52.666Z"
   },
   {
    "duration": 49,
    "start_time": "2022-06-05T08:32:53.122Z"
   },
   {
    "duration": 4,
    "start_time": "2022-06-05T08:32:53.173Z"
   },
   {
    "duration": 31,
    "start_time": "2022-06-05T08:32:53.178Z"
   },
   {
    "duration": 61,
    "start_time": "2022-06-05T08:32:53.211Z"
   },
   {
    "duration": 78,
    "start_time": "2022-06-05T08:32:53.274Z"
   },
   {
    "duration": 2,
    "start_time": "2022-06-05T08:32:53.354Z"
   },
   {
    "duration": 5,
    "start_time": "2022-06-05T08:32:53.358Z"
   },
   {
    "duration": 26,
    "start_time": "2022-06-05T08:32:53.364Z"
   },
   {
    "duration": 9,
    "start_time": "2022-06-05T08:32:53.391Z"
   },
   {
    "duration": 86,
    "start_time": "2022-06-05T08:32:53.401Z"
   },
   {
    "duration": 575,
    "start_time": "2022-06-05T08:34:49.521Z"
   },
   {
    "duration": 638,
    "start_time": "2022-06-05T08:34:58.106Z"
   },
   {
    "duration": 161,
    "start_time": "2022-06-05T08:35:15.793Z"
   },
   {
    "duration": 2,
    "start_time": "2022-06-05T08:41:31.629Z"
   },
   {
    "duration": 1199,
    "start_time": "2022-06-05T08:57:37.249Z"
   },
   {
    "duration": 235,
    "start_time": "2022-06-05T08:57:38.450Z"
   },
   {
    "duration": 3,
    "start_time": "2022-06-05T08:57:38.687Z"
   },
   {
    "duration": 413,
    "start_time": "2022-06-05T08:57:38.692Z"
   },
   {
    "duration": 57,
    "start_time": "2022-06-05T08:57:39.107Z"
   },
   {
    "duration": 27,
    "start_time": "2022-06-05T08:57:39.165Z"
   },
   {
    "duration": 58,
    "start_time": "2022-06-05T08:57:39.194Z"
   },
   {
    "duration": 20,
    "start_time": "2022-06-05T08:57:39.253Z"
   },
   {
    "duration": 13,
    "start_time": "2022-06-05T08:57:39.275Z"
   },
   {
    "duration": 15,
    "start_time": "2022-06-05T08:57:39.291Z"
   },
   {
    "duration": 13,
    "start_time": "2022-06-05T08:57:39.308Z"
   },
   {
    "duration": 33,
    "start_time": "2022-06-05T08:57:39.323Z"
   },
   {
    "duration": 9,
    "start_time": "2022-06-05T08:57:39.358Z"
   },
   {
    "duration": 14,
    "start_time": "2022-06-05T08:57:39.369Z"
   },
   {
    "duration": 14,
    "start_time": "2022-06-05T08:57:39.384Z"
   },
   {
    "duration": 25,
    "start_time": "2022-06-05T08:57:39.400Z"
   },
   {
    "duration": 18,
    "start_time": "2022-06-05T08:57:39.427Z"
   },
   {
    "duration": 9,
    "start_time": "2022-06-05T08:57:39.446Z"
   },
   {
    "duration": 17,
    "start_time": "2022-06-05T08:57:39.456Z"
   },
   {
    "duration": 27,
    "start_time": "2022-06-05T08:57:39.475Z"
   },
   {
    "duration": 74,
    "start_time": "2022-06-05T08:57:39.504Z"
   },
   {
    "duration": 65,
    "start_time": "2022-06-05T08:57:39.579Z"
   },
   {
    "duration": 62,
    "start_time": "2022-06-05T08:57:39.645Z"
   },
   {
    "duration": 47,
    "start_time": "2022-06-05T08:57:39.709Z"
   },
   {
    "duration": 53,
    "start_time": "2022-06-05T08:57:39.759Z"
   },
   {
    "duration": 50,
    "start_time": "2022-06-05T08:57:39.815Z"
   },
   {
    "duration": 223,
    "start_time": "2022-06-05T08:57:39.867Z"
   },
   {
    "duration": 31,
    "start_time": "2022-06-05T08:57:40.093Z"
   },
   {
    "duration": 136,
    "start_time": "2022-06-05T08:57:40.127Z"
   },
   {
    "duration": 14854,
    "start_time": "2022-06-05T08:57:40.264Z"
   },
   {
    "duration": 81,
    "start_time": "2022-06-05T08:57:55.119Z"
   },
   {
    "duration": 14,
    "start_time": "2022-06-05T08:57:55.202Z"
   },
   {
    "duration": 38,
    "start_time": "2022-06-05T08:57:55.218Z"
   },
   {
    "duration": 35,
    "start_time": "2022-06-05T08:57:55.258Z"
   },
   {
    "duration": 209,
    "start_time": "2022-06-05T08:57:55.295Z"
   },
   {
    "duration": 15,
    "start_time": "2022-06-05T08:57:55.506Z"
   },
   {
    "duration": 275,
    "start_time": "2022-06-05T08:57:55.523Z"
   },
   {
    "duration": 11,
    "start_time": "2022-06-05T08:57:55.800Z"
   },
   {
    "duration": 18,
    "start_time": "2022-06-05T08:57:55.813Z"
   },
   {
    "duration": 127,
    "start_time": "2022-06-05T08:57:55.832Z"
   },
   {
    "duration": 10,
    "start_time": "2022-06-05T08:57:55.960Z"
   },
   {
    "duration": 129,
    "start_time": "2022-06-05T08:57:55.972Z"
   },
   {
    "duration": 3,
    "start_time": "2022-06-05T08:57:56.102Z"
   },
   {
    "duration": 402,
    "start_time": "2022-06-05T08:57:56.107Z"
   },
   {
    "duration": 101,
    "start_time": "2022-06-05T08:57:56.511Z"
   },
   {
    "duration": 9,
    "start_time": "2022-06-05T08:57:56.614Z"
   },
   {
    "duration": 7,
    "start_time": "2022-06-05T08:57:56.624Z"
   },
   {
    "duration": 479,
    "start_time": "2022-06-05T08:57:56.633Z"
   },
   {
    "duration": 45,
    "start_time": "2022-06-05T08:57:57.114Z"
   },
   {
    "duration": 5,
    "start_time": "2022-06-05T08:57:57.161Z"
   },
   {
    "duration": 29,
    "start_time": "2022-06-05T08:57:57.167Z"
   },
   {
    "duration": 58,
    "start_time": "2022-06-05T08:57:57.198Z"
   },
   {
    "duration": 65,
    "start_time": "2022-06-05T08:57:57.258Z"
   },
   {
    "duration": 2,
    "start_time": "2022-06-05T08:57:57.325Z"
   },
   {
    "duration": 7,
    "start_time": "2022-06-05T08:57:57.329Z"
   },
   {
    "duration": 34,
    "start_time": "2022-06-05T08:57:57.337Z"
   },
   {
    "duration": 7,
    "start_time": "2022-06-05T08:57:57.372Z"
   },
   {
    "duration": 81,
    "start_time": "2022-06-05T08:57:57.381Z"
   },
   {
    "duration": 566,
    "start_time": "2022-06-05T08:57:57.463Z"
   },
   {
    "duration": 138,
    "start_time": "2022-06-05T08:57:58.031Z"
   },
   {
    "duration": 284,
    "start_time": "2022-06-05T09:05:35.385Z"
   },
   {
    "duration": 46,
    "start_time": "2022-06-05T09:06:04.131Z"
   },
   {
    "duration": 43,
    "start_time": "2022-06-05T09:06:17.194Z"
   },
   {
    "duration": 67,
    "start_time": "2022-06-05T09:06:49.591Z"
   },
   {
    "duration": 1216,
    "start_time": "2022-06-05T09:30:16.126Z"
   },
   {
    "duration": 245,
    "start_time": "2022-06-05T09:30:17.344Z"
   },
   {
    "duration": 3,
    "start_time": "2022-06-05T09:30:17.591Z"
   },
   {
    "duration": 456,
    "start_time": "2022-06-05T09:30:17.597Z"
   },
   {
    "duration": 59,
    "start_time": "2022-06-05T09:30:18.055Z"
   },
   {
    "duration": 69,
    "start_time": "2022-06-05T09:30:18.116Z"
   },
   {
    "duration": 65,
    "start_time": "2022-06-05T09:30:18.187Z"
   },
   {
    "duration": 24,
    "start_time": "2022-06-05T09:30:18.255Z"
   },
   {
    "duration": 15,
    "start_time": "2022-06-05T09:30:18.281Z"
   },
   {
    "duration": 15,
    "start_time": "2022-06-05T09:30:18.299Z"
   },
   {
    "duration": 44,
    "start_time": "2022-06-05T09:30:18.316Z"
   },
   {
    "duration": 21,
    "start_time": "2022-06-05T09:30:18.362Z"
   },
   {
    "duration": 24,
    "start_time": "2022-06-05T09:30:18.385Z"
   },
   {
    "duration": 17,
    "start_time": "2022-06-05T09:30:18.411Z"
   },
   {
    "duration": 26,
    "start_time": "2022-06-05T09:30:18.430Z"
   },
   {
    "duration": 15,
    "start_time": "2022-06-05T09:30:18.457Z"
   },
   {
    "duration": 12,
    "start_time": "2022-06-05T09:30:18.473Z"
   },
   {
    "duration": 3,
    "start_time": "2022-06-05T09:30:18.486Z"
   },
   {
    "duration": 17,
    "start_time": "2022-06-05T09:30:18.490Z"
   },
   {
    "duration": 50,
    "start_time": "2022-06-05T09:30:18.509Z"
   },
   {
    "duration": 72,
    "start_time": "2022-06-05T09:30:18.561Z"
   },
   {
    "duration": 85,
    "start_time": "2022-06-05T09:30:18.634Z"
   },
   {
    "duration": 72,
    "start_time": "2022-06-05T09:30:18.720Z"
   },
   {
    "duration": 30,
    "start_time": "2022-06-05T09:30:18.794Z"
   },
   {
    "duration": 54,
    "start_time": "2022-06-05T09:30:18.826Z"
   },
   {
    "duration": 22,
    "start_time": "2022-06-05T09:30:18.881Z"
   },
   {
    "duration": 225,
    "start_time": "2022-06-05T09:30:18.904Z"
   },
   {
    "duration": 42,
    "start_time": "2022-06-05T09:30:19.133Z"
   },
   {
    "duration": 122,
    "start_time": "2022-06-05T09:30:19.176Z"
   },
   {
    "duration": 15033,
    "start_time": "2022-06-05T09:30:19.300Z"
   },
   {
    "duration": 59,
    "start_time": "2022-06-05T09:30:34.334Z"
   },
   {
    "duration": 9,
    "start_time": "2022-06-05T09:30:34.395Z"
   },
   {
    "duration": 46,
    "start_time": "2022-06-05T09:30:34.406Z"
   },
   {
    "duration": 18,
    "start_time": "2022-06-05T09:30:34.454Z"
   },
   {
    "duration": 128,
    "start_time": "2022-06-05T09:30:34.473Z"
   },
   {
    "duration": 15,
    "start_time": "2022-06-05T09:30:34.603Z"
   },
   {
    "duration": 291,
    "start_time": "2022-06-05T09:30:34.620Z"
   },
   {
    "duration": 12,
    "start_time": "2022-06-05T09:30:34.913Z"
   },
   {
    "duration": 25,
    "start_time": "2022-06-05T09:30:34.927Z"
   },
   {
    "duration": 134,
    "start_time": "2022-06-05T09:30:34.954Z"
   },
   {
    "duration": 11,
    "start_time": "2022-06-05T09:30:35.091Z"
   },
   {
    "duration": 176,
    "start_time": "2022-06-05T09:30:35.104Z"
   },
   {
    "duration": 3,
    "start_time": "2022-06-05T09:30:35.283Z"
   },
   {
    "duration": 433,
    "start_time": "2022-06-05T09:30:35.289Z"
   },
   {
    "duration": 114,
    "start_time": "2022-06-05T09:30:35.723Z"
   },
   {
    "duration": 17,
    "start_time": "2022-06-05T09:30:35.838Z"
   },
   {
    "duration": 27,
    "start_time": "2022-06-05T09:30:35.856Z"
   },
   {
    "duration": 473,
    "start_time": "2022-06-05T09:30:35.885Z"
   },
   {
    "duration": 36,
    "start_time": "2022-06-05T09:30:36.359Z"
   },
   {
    "duration": 4,
    "start_time": "2022-06-05T09:30:36.397Z"
   },
   {
    "duration": 50,
    "start_time": "2022-06-05T09:30:36.403Z"
   },
   {
    "duration": 45,
    "start_time": "2022-06-05T09:30:36.454Z"
   },
   {
    "duration": 83,
    "start_time": "2022-06-05T09:30:36.501Z"
   },
   {
    "duration": 3,
    "start_time": "2022-06-05T09:30:36.585Z"
   },
   {
    "duration": 11,
    "start_time": "2022-06-05T09:30:36.589Z"
   },
   {
    "duration": 36,
    "start_time": "2022-06-05T09:30:36.602Z"
   },
   {
    "duration": 19,
    "start_time": "2022-06-05T09:30:36.640Z"
   },
   {
    "duration": 92,
    "start_time": "2022-06-05T09:30:36.660Z"
   },
   {
    "duration": 559,
    "start_time": "2022-06-05T09:30:36.753Z"
   },
   {
    "duration": 134,
    "start_time": "2022-06-05T09:30:37.314Z"
   },
   {
    "duration": 118,
    "start_time": "2022-06-05T09:31:14.431Z"
   },
   {
    "duration": 536,
    "start_time": "2022-06-05T09:32:53.935Z"
   },
   {
    "duration": 537,
    "start_time": "2022-06-05T10:11:50.845Z"
   },
   {
    "duration": 130,
    "start_time": "2022-06-05T10:11:52.086Z"
   },
   {
    "duration": 377,
    "start_time": "2022-06-05T10:14:06.190Z"
   },
   {
    "duration": 87,
    "start_time": "2022-06-05T10:14:06.637Z"
   },
   {
    "duration": 1225,
    "start_time": "2022-06-05T10:15:00.772Z"
   },
   {
    "duration": 260,
    "start_time": "2022-06-05T10:15:01.999Z"
   },
   {
    "duration": 3,
    "start_time": "2022-06-05T10:15:02.261Z"
   },
   {
    "duration": 474,
    "start_time": "2022-06-05T10:15:02.266Z"
   },
   {
    "duration": 55,
    "start_time": "2022-06-05T10:15:02.742Z"
   },
   {
    "duration": 62,
    "start_time": "2022-06-05T10:15:02.798Z"
   },
   {
    "duration": 36,
    "start_time": "2022-06-05T10:15:02.861Z"
   },
   {
    "duration": 22,
    "start_time": "2022-06-05T10:15:02.898Z"
   },
   {
    "duration": 38,
    "start_time": "2022-06-05T10:15:02.921Z"
   },
   {
    "duration": 18,
    "start_time": "2022-06-05T10:15:02.961Z"
   },
   {
    "duration": 12,
    "start_time": "2022-06-05T10:15:02.981Z"
   },
   {
    "duration": 20,
    "start_time": "2022-06-05T10:15:02.994Z"
   },
   {
    "duration": 40,
    "start_time": "2022-06-05T10:15:03.015Z"
   },
   {
    "duration": 14,
    "start_time": "2022-06-05T10:15:03.058Z"
   },
   {
    "duration": 13,
    "start_time": "2022-06-05T10:15:03.074Z"
   },
   {
    "duration": 17,
    "start_time": "2022-06-05T10:15:03.088Z"
   },
   {
    "duration": 19,
    "start_time": "2022-06-05T10:15:03.106Z"
   },
   {
    "duration": 32,
    "start_time": "2022-06-05T10:15:03.127Z"
   },
   {
    "duration": 15,
    "start_time": "2022-06-05T10:15:03.160Z"
   },
   {
    "duration": 22,
    "start_time": "2022-06-05T10:15:03.177Z"
   },
   {
    "duration": 91,
    "start_time": "2022-06-05T10:15:03.201Z"
   },
   {
    "duration": 84,
    "start_time": "2022-06-05T10:15:03.294Z"
   },
   {
    "duration": 60,
    "start_time": "2022-06-05T10:15:03.380Z"
   },
   {
    "duration": 28,
    "start_time": "2022-06-05T10:15:03.452Z"
   },
   {
    "duration": 32,
    "start_time": "2022-06-05T10:15:03.482Z"
   },
   {
    "duration": 48,
    "start_time": "2022-06-05T10:15:03.516Z"
   },
   {
    "duration": 216,
    "start_time": "2022-06-05T10:15:03.566Z"
   },
   {
    "duration": 32,
    "start_time": "2022-06-05T10:15:03.784Z"
   },
   {
    "duration": 118,
    "start_time": "2022-06-05T10:15:03.818Z"
   },
   {
    "duration": 15012,
    "start_time": "2022-06-05T10:15:03.938Z"
   },
   {
    "duration": 58,
    "start_time": "2022-06-05T10:15:18.953Z"
   },
   {
    "duration": 42,
    "start_time": "2022-06-05T10:15:19.012Z"
   },
   {
    "duration": 15,
    "start_time": "2022-06-05T10:15:19.056Z"
   },
   {
    "duration": 17,
    "start_time": "2022-06-05T10:15:19.072Z"
   },
   {
    "duration": 155,
    "start_time": "2022-06-05T10:15:19.091Z"
   },
   {
    "duration": 15,
    "start_time": "2022-06-05T10:15:19.252Z"
   },
   {
    "duration": 312,
    "start_time": "2022-06-05T10:15:19.269Z"
   },
   {
    "duration": 12,
    "start_time": "2022-06-05T10:15:19.583Z"
   },
   {
    "duration": 8,
    "start_time": "2022-06-05T10:15:19.597Z"
   },
   {
    "duration": 157,
    "start_time": "2022-06-05T10:15:19.607Z"
   },
   {
    "duration": 11,
    "start_time": "2022-06-05T10:15:19.768Z"
   },
   {
    "duration": 157,
    "start_time": "2022-06-05T10:15:19.781Z"
   },
   {
    "duration": 3,
    "start_time": "2022-06-05T10:15:19.939Z"
   },
   {
    "duration": 384,
    "start_time": "2022-06-05T10:15:19.952Z"
   },
   {
    "duration": 116,
    "start_time": "2022-06-05T10:15:20.338Z"
   },
   {
    "duration": 8,
    "start_time": "2022-06-05T10:15:20.456Z"
   },
   {
    "duration": 7,
    "start_time": "2022-06-05T10:15:20.465Z"
   },
   {
    "duration": 486,
    "start_time": "2022-06-05T10:15:20.473Z"
   },
   {
    "duration": 37,
    "start_time": "2022-06-05T10:15:20.961Z"
   },
   {
    "duration": 4,
    "start_time": "2022-06-05T10:15:21.000Z"
   },
   {
    "duration": 56,
    "start_time": "2022-06-05T10:15:21.006Z"
   },
   {
    "duration": 46,
    "start_time": "2022-06-05T10:15:21.063Z"
   },
   {
    "duration": 91,
    "start_time": "2022-06-05T10:15:21.110Z"
   },
   {
    "duration": 3,
    "start_time": "2022-06-05T10:15:21.203Z"
   },
   {
    "duration": 7,
    "start_time": "2022-06-05T10:15:21.207Z"
   },
   {
    "duration": 50,
    "start_time": "2022-06-05T10:15:21.215Z"
   },
   {
    "duration": 9,
    "start_time": "2022-06-05T10:15:21.266Z"
   },
   {
    "duration": 99,
    "start_time": "2022-06-05T10:15:21.276Z"
   },
   {
    "duration": 339,
    "start_time": "2022-06-05T10:15:21.377Z"
   },
   {
    "duration": 96,
    "start_time": "2022-06-05T10:15:21.718Z"
   },
   {
    "duration": 1226,
    "start_time": "2022-06-05T13:26:57.156Z"
   },
   {
    "duration": 254,
    "start_time": "2022-06-05T13:26:58.384Z"
   },
   {
    "duration": 4,
    "start_time": "2022-06-05T13:26:58.640Z"
   },
   {
    "duration": 474,
    "start_time": "2022-06-05T13:26:58.647Z"
   },
   {
    "duration": 75,
    "start_time": "2022-06-05T13:26:59.123Z"
   },
   {
    "duration": 63,
    "start_time": "2022-06-05T13:26:59.199Z"
   },
   {
    "duration": 35,
    "start_time": "2022-06-05T13:26:59.264Z"
   },
   {
    "duration": 56,
    "start_time": "2022-06-05T13:26:59.301Z"
   },
   {
    "duration": 14,
    "start_time": "2022-06-05T13:26:59.358Z"
   },
   {
    "duration": 12,
    "start_time": "2022-06-05T13:26:59.374Z"
   },
   {
    "duration": 12,
    "start_time": "2022-06-05T13:26:59.387Z"
   },
   {
    "duration": 56,
    "start_time": "2022-06-05T13:26:59.401Z"
   },
   {
    "duration": 9,
    "start_time": "2022-06-05T13:26:59.459Z"
   },
   {
    "duration": 13,
    "start_time": "2022-06-05T13:26:59.470Z"
   },
   {
    "duration": 10,
    "start_time": "2022-06-05T13:26:59.484Z"
   },
   {
    "duration": 17,
    "start_time": "2022-06-05T13:26:59.496Z"
   },
   {
    "duration": 49,
    "start_time": "2022-06-05T13:26:59.514Z"
   },
   {
    "duration": 3,
    "start_time": "2022-06-05T13:26:59.564Z"
   },
   {
    "duration": 15,
    "start_time": "2022-06-05T13:26:59.568Z"
   },
   {
    "duration": 24,
    "start_time": "2022-06-05T13:26:59.584Z"
   },
   {
    "duration": 107,
    "start_time": "2022-06-05T13:26:59.610Z"
   },
   {
    "duration": 92,
    "start_time": "2022-06-05T13:26:59.718Z"
   },
   {
    "duration": 78,
    "start_time": "2022-06-05T13:26:59.812Z"
   },
   {
    "duration": 32,
    "start_time": "2022-06-05T13:26:59.892Z"
   },
   {
    "duration": 61,
    "start_time": "2022-06-05T13:26:59.925Z"
   },
   {
    "duration": 26,
    "start_time": "2022-06-05T13:26:59.988Z"
   },
   {
    "duration": 266,
    "start_time": "2022-06-05T13:27:00.016Z"
   },
   {
    "duration": 32,
    "start_time": "2022-06-05T13:27:00.286Z"
   },
   {
    "duration": 132,
    "start_time": "2022-06-05T13:27:00.320Z"
   },
   {
    "duration": 15820,
    "start_time": "2022-06-05T13:27:00.454Z"
   },
   {
    "duration": 84,
    "start_time": "2022-06-05T13:27:16.276Z"
   },
   {
    "duration": 9,
    "start_time": "2022-06-05T13:27:16.362Z"
   },
   {
    "duration": 15,
    "start_time": "2022-06-05T13:27:16.373Z"
   },
   {
    "duration": 10,
    "start_time": "2022-06-05T13:27:16.389Z"
   },
   {
    "duration": 162,
    "start_time": "2022-06-05T13:27:16.400Z"
   },
   {
    "duration": 14,
    "start_time": "2022-06-05T13:27:16.564Z"
   },
   {
    "duration": 296,
    "start_time": "2022-06-05T13:27:16.579Z"
   },
   {
    "duration": 12,
    "start_time": "2022-06-05T13:27:16.876Z"
   },
   {
    "duration": 10,
    "start_time": "2022-06-05T13:27:16.890Z"
   },
   {
    "duration": 146,
    "start_time": "2022-06-05T13:27:16.902Z"
   },
   {
    "duration": 10,
    "start_time": "2022-06-05T13:27:17.051Z"
   },
   {
    "duration": 138,
    "start_time": "2022-06-05T13:27:17.063Z"
   },
   {
    "duration": 3,
    "start_time": "2022-06-05T13:27:17.202Z"
   },
   {
    "duration": 412,
    "start_time": "2022-06-05T13:27:17.207Z"
   },
   {
    "duration": 109,
    "start_time": "2022-06-05T13:27:17.621Z"
   },
   {
    "duration": 22,
    "start_time": "2022-06-05T13:27:17.732Z"
   },
   {
    "duration": 7,
    "start_time": "2022-06-05T13:27:17.755Z"
   },
   {
    "duration": 481,
    "start_time": "2022-06-05T13:27:17.763Z"
   },
   {
    "duration": 43,
    "start_time": "2022-06-05T13:27:18.246Z"
   },
   {
    "duration": 4,
    "start_time": "2022-06-05T13:27:18.291Z"
   },
   {
    "duration": 31,
    "start_time": "2022-06-05T13:27:18.297Z"
   },
   {
    "duration": 49,
    "start_time": "2022-06-05T13:27:18.352Z"
   },
   {
    "duration": 91,
    "start_time": "2022-06-05T13:27:18.403Z"
   },
   {
    "duration": 2,
    "start_time": "2022-06-05T13:27:18.496Z"
   },
   {
    "duration": 6,
    "start_time": "2022-06-05T13:27:18.500Z"
   },
   {
    "duration": 45,
    "start_time": "2022-06-05T13:27:18.508Z"
   },
   {
    "duration": 9,
    "start_time": "2022-06-05T13:27:18.555Z"
   },
   {
    "duration": 98,
    "start_time": "2022-06-05T13:27:18.566Z"
   },
   {
    "duration": 490,
    "start_time": "2022-06-05T13:27:18.666Z"
   },
   {
    "duration": 128,
    "start_time": "2022-06-05T13:27:19.158Z"
   },
   {
    "duration": 1542,
    "start_time": "2022-06-06T15:50:20.989Z"
   },
   {
    "duration": 818,
    "start_time": "2022-06-06T15:50:22.534Z"
   },
   {
    "duration": 4,
    "start_time": "2022-06-06T15:50:23.354Z"
   },
   {
    "duration": 650,
    "start_time": "2022-06-06T15:50:23.361Z"
   },
   {
    "duration": 87,
    "start_time": "2022-06-06T15:50:24.013Z"
   },
   {
    "duration": 64,
    "start_time": "2022-06-06T15:50:24.102Z"
   },
   {
    "duration": 57,
    "start_time": "2022-06-06T15:50:24.170Z"
   },
   {
    "duration": 68,
    "start_time": "2022-06-06T15:50:24.229Z"
   },
   {
    "duration": 28,
    "start_time": "2022-06-06T15:50:24.299Z"
   },
   {
    "duration": 27,
    "start_time": "2022-06-06T15:50:24.329Z"
   },
   {
    "duration": 55,
    "start_time": "2022-06-06T15:50:24.357Z"
   },
   {
    "duration": 41,
    "start_time": "2022-06-06T15:50:24.414Z"
   },
   {
    "duration": 44,
    "start_time": "2022-06-06T15:50:24.457Z"
   },
   {
    "duration": 32,
    "start_time": "2022-06-06T15:50:24.504Z"
   },
   {
    "duration": 77,
    "start_time": "2022-06-06T15:50:24.538Z"
   },
   {
    "duration": 37,
    "start_time": "2022-06-06T15:50:24.617Z"
   },
   {
    "duration": 66,
    "start_time": "2022-06-06T15:50:24.656Z"
   },
   {
    "duration": 15,
    "start_time": "2022-06-06T15:50:24.724Z"
   },
   {
    "duration": 29,
    "start_time": "2022-06-06T15:50:24.741Z"
   },
   {
    "duration": 83,
    "start_time": "2022-06-06T15:50:24.772Z"
   },
   {
    "duration": 152,
    "start_time": "2022-06-06T15:50:24.857Z"
   },
   {
    "duration": 104,
    "start_time": "2022-06-06T15:50:25.012Z"
   },
   {
    "duration": 87,
    "start_time": "2022-06-06T15:50:25.119Z"
   },
   {
    "duration": 57,
    "start_time": "2022-06-06T15:50:25.208Z"
   },
   {
    "duration": 53,
    "start_time": "2022-06-06T15:50:25.267Z"
   },
   {
    "duration": 20,
    "start_time": "2022-06-06T15:50:25.322Z"
   },
   {
    "duration": 287,
    "start_time": "2022-06-06T15:50:25.344Z"
   },
   {
    "duration": 45,
    "start_time": "2022-06-06T15:50:25.635Z"
   },
   {
    "duration": 132,
    "start_time": "2022-06-06T15:50:25.683Z"
   },
   {
    "duration": 18527,
    "start_time": "2022-06-06T15:50:25.817Z"
   },
   {
    "duration": 83,
    "start_time": "2022-06-06T15:50:44.345Z"
   },
   {
    "duration": 51,
    "start_time": "2022-06-06T15:50:44.430Z"
   },
   {
    "duration": 37,
    "start_time": "2022-06-06T15:50:44.483Z"
   },
   {
    "duration": 9,
    "start_time": "2022-06-06T15:50:44.523Z"
   },
   {
    "duration": 176,
    "start_time": "2022-06-06T15:50:44.534Z"
   },
   {
    "duration": 18,
    "start_time": "2022-06-06T15:50:44.712Z"
   },
   {
    "duration": 367,
    "start_time": "2022-06-06T15:50:44.731Z"
   },
   {
    "duration": 16,
    "start_time": "2022-06-06T15:50:45.100Z"
   },
   {
    "duration": 13,
    "start_time": "2022-06-06T15:50:45.119Z"
   },
   {
    "duration": 180,
    "start_time": "2022-06-06T15:50:45.134Z"
   },
   {
    "duration": 15,
    "start_time": "2022-06-06T15:50:45.316Z"
   },
   {
    "duration": 175,
    "start_time": "2022-06-06T15:50:45.333Z"
   },
   {
    "duration": 3,
    "start_time": "2022-06-06T15:50:45.510Z"
   },
   {
    "duration": 506,
    "start_time": "2022-06-06T15:50:45.514Z"
   },
   {
    "duration": 140,
    "start_time": "2022-06-06T15:50:46.022Z"
   },
   {
    "duration": 30,
    "start_time": "2022-06-06T15:50:46.163Z"
   },
   {
    "duration": 33,
    "start_time": "2022-06-06T15:50:46.202Z"
   },
   {
    "duration": 521,
    "start_time": "2022-06-06T15:50:46.237Z"
   },
   {
    "duration": 56,
    "start_time": "2022-06-06T15:50:46.760Z"
   },
   {
    "duration": 11,
    "start_time": "2022-06-06T15:50:46.818Z"
   },
   {
    "duration": 62,
    "start_time": "2022-06-06T15:50:46.832Z"
   },
   {
    "duration": 62,
    "start_time": "2022-06-06T15:50:46.896Z"
   },
   {
    "duration": 116,
    "start_time": "2022-06-06T15:50:46.959Z"
   },
   {
    "duration": 20,
    "start_time": "2022-06-06T15:50:47.077Z"
   },
   {
    "duration": 19,
    "start_time": "2022-06-06T15:50:47.099Z"
   },
   {
    "duration": 62,
    "start_time": "2022-06-06T15:50:47.120Z"
   },
   {
    "duration": 34,
    "start_time": "2022-06-06T15:50:47.185Z"
   },
   {
    "duration": 103,
    "start_time": "2022-06-06T15:50:47.221Z"
   },
   {
    "duration": 937,
    "start_time": "2022-06-06T15:50:47.328Z"
   },
   {
    "duration": 190,
    "start_time": "2022-06-06T15:50:48.267Z"
   },
   {
    "duration": 27,
    "start_time": "2022-06-06T15:54:26.553Z"
   },
   {
    "duration": 20,
    "start_time": "2022-06-06T15:54:29.536Z"
   },
   {
    "duration": 147,
    "start_time": "2022-06-06T15:58:24.881Z"
   },
   {
    "duration": 92,
    "start_time": "2022-06-06T15:58:46.242Z"
   },
   {
    "duration": 87,
    "start_time": "2022-06-06T15:58:58.240Z"
   },
   {
    "duration": 1436,
    "start_time": "2022-06-06T15:59:05.641Z"
   },
   {
    "duration": 344,
    "start_time": "2022-06-06T15:59:07.079Z"
   },
   {
    "duration": 4,
    "start_time": "2022-06-06T15:59:07.425Z"
   },
   {
    "duration": 663,
    "start_time": "2022-06-06T15:59:07.444Z"
   },
   {
    "duration": 103,
    "start_time": "2022-06-06T15:59:08.111Z"
   },
   {
    "duration": 51,
    "start_time": "2022-06-06T15:59:08.216Z"
   },
   {
    "duration": 52,
    "start_time": "2022-06-06T15:59:08.270Z"
   },
   {
    "duration": 49,
    "start_time": "2022-06-06T15:59:08.324Z"
   },
   {
    "duration": 33,
    "start_time": "2022-06-06T15:59:08.376Z"
   },
   {
    "duration": 25,
    "start_time": "2022-06-06T15:59:08.411Z"
   },
   {
    "duration": 26,
    "start_time": "2022-06-06T15:59:08.438Z"
   },
   {
    "duration": 57,
    "start_time": "2022-06-06T15:59:08.468Z"
   },
   {
    "duration": 10,
    "start_time": "2022-06-06T15:59:08.527Z"
   },
   {
    "duration": 22,
    "start_time": "2022-06-06T15:59:08.541Z"
   },
   {
    "duration": 40,
    "start_time": "2022-06-06T15:59:08.574Z"
   },
   {
    "duration": 55,
    "start_time": "2022-06-06T15:59:08.618Z"
   },
   {
    "duration": 58,
    "start_time": "2022-06-06T15:59:08.675Z"
   },
   {
    "duration": 6,
    "start_time": "2022-06-06T15:59:08.734Z"
   },
   {
    "duration": 13,
    "start_time": "2022-06-06T15:59:08.742Z"
   },
   {
    "duration": 47,
    "start_time": "2022-06-06T15:59:08.759Z"
   },
   {
    "duration": 117,
    "start_time": "2022-06-06T15:59:08.809Z"
   },
   {
    "duration": 109,
    "start_time": "2022-06-06T15:59:08.928Z"
   },
   {
    "duration": 93,
    "start_time": "2022-06-06T15:59:09.040Z"
   },
   {
    "duration": 87,
    "start_time": "2022-06-06T15:59:09.135Z"
   },
   {
    "duration": 67,
    "start_time": "2022-06-06T15:59:09.224Z"
   },
   {
    "duration": 39,
    "start_time": "2022-06-06T15:59:09.294Z"
   },
   {
    "duration": 287,
    "start_time": "2022-06-06T15:59:09.336Z"
   },
   {
    "duration": 50,
    "start_time": "2022-06-06T15:59:09.625Z"
   },
   {
    "duration": 134,
    "start_time": "2022-06-06T15:59:09.677Z"
   },
   {
    "duration": 19165,
    "start_time": "2022-06-06T15:59:09.813Z"
   },
   {
    "duration": 77,
    "start_time": "2022-06-06T15:59:28.980Z"
   },
   {
    "duration": 27,
    "start_time": "2022-06-06T15:59:29.070Z"
   },
   {
    "duration": 47,
    "start_time": "2022-06-06T15:59:29.099Z"
   },
   {
    "duration": 19,
    "start_time": "2022-06-06T15:59:29.148Z"
   },
   {
    "duration": 333,
    "start_time": "2022-06-06T15:59:29.172Z"
   },
   {
    "duration": 18,
    "start_time": "2022-06-06T15:59:29.511Z"
   },
   {
    "duration": 310,
    "start_time": "2022-06-06T15:59:29.531Z"
   },
   {
    "duration": 12,
    "start_time": "2022-06-06T15:59:29.843Z"
   },
   {
    "duration": 7,
    "start_time": "2022-06-06T15:59:29.864Z"
   },
   {
    "duration": 172,
    "start_time": "2022-06-06T15:59:29.876Z"
   },
   {
    "duration": 18,
    "start_time": "2022-06-06T15:59:30.054Z"
   },
   {
    "duration": 183,
    "start_time": "2022-06-06T15:59:30.073Z"
   },
   {
    "duration": 5,
    "start_time": "2022-06-06T15:59:30.259Z"
   },
   {
    "duration": 582,
    "start_time": "2022-06-06T15:59:30.271Z"
   },
   {
    "duration": 166,
    "start_time": "2022-06-06T15:59:30.855Z"
   },
   {
    "duration": 10,
    "start_time": "2022-06-06T15:59:31.023Z"
   },
   {
    "duration": 20,
    "start_time": "2022-06-06T15:59:31.035Z"
   },
   {
    "duration": 620,
    "start_time": "2022-06-06T15:59:31.065Z"
   },
   {
    "duration": 50,
    "start_time": "2022-06-06T15:59:31.687Z"
   },
   {
    "duration": 6,
    "start_time": "2022-06-06T15:59:31.739Z"
   },
   {
    "duration": 44,
    "start_time": "2022-06-06T15:59:31.747Z"
   },
   {
    "duration": 88,
    "start_time": "2022-06-06T15:59:31.797Z"
   },
   {
    "duration": 141,
    "start_time": "2022-06-06T15:59:31.888Z"
   },
   {
    "duration": 3,
    "start_time": "2022-06-06T15:59:32.032Z"
   },
   {
    "duration": 14,
    "start_time": "2022-06-06T15:59:32.036Z"
   },
   {
    "duration": 47,
    "start_time": "2022-06-06T15:59:32.052Z"
   },
   {
    "duration": 12,
    "start_time": "2022-06-06T15:59:32.100Z"
   },
   {
    "duration": 102,
    "start_time": "2022-06-06T15:59:32.114Z"
   },
   {
    "duration": 939,
    "start_time": "2022-06-06T15:59:32.218Z"
   },
   {
    "duration": 165,
    "start_time": "2022-06-06T15:59:33.159Z"
   },
   {
    "duration": 15,
    "start_time": "2022-06-06T16:01:37.138Z"
   },
   {
    "duration": 20,
    "start_time": "2022-06-06T16:01:44.472Z"
   },
   {
    "duration": 11,
    "start_time": "2022-06-06T16:01:48.447Z"
   },
   {
    "duration": 18,
    "start_time": "2022-06-06T16:01:59.894Z"
   },
   {
    "duration": 1528,
    "start_time": "2022-06-06T16:02:34.395Z"
   },
   {
    "duration": 369,
    "start_time": "2022-06-06T16:02:35.932Z"
   },
   {
    "duration": 9,
    "start_time": "2022-06-06T16:02:36.308Z"
   },
   {
    "duration": 640,
    "start_time": "2022-06-06T16:02:36.321Z"
   },
   {
    "duration": 87,
    "start_time": "2022-06-06T16:02:36.965Z"
   },
   {
    "duration": 68,
    "start_time": "2022-06-06T16:02:37.055Z"
   },
   {
    "duration": 86,
    "start_time": "2022-06-06T16:02:37.125Z"
   },
   {
    "duration": 48,
    "start_time": "2022-06-06T16:02:37.214Z"
   },
   {
    "duration": 49,
    "start_time": "2022-06-06T16:02:37.270Z"
   },
   {
    "duration": 16,
    "start_time": "2022-06-06T16:02:37.321Z"
   },
   {
    "duration": 13,
    "start_time": "2022-06-06T16:02:37.339Z"
   },
   {
    "duration": 33,
    "start_time": "2022-06-06T16:02:37.354Z"
   },
   {
    "duration": 46,
    "start_time": "2022-06-06T16:02:37.390Z"
   },
   {
    "duration": 18,
    "start_time": "2022-06-06T16:02:37.443Z"
   },
   {
    "duration": 25,
    "start_time": "2022-06-06T16:02:37.468Z"
   },
   {
    "duration": 89,
    "start_time": "2022-06-06T16:02:37.496Z"
   },
   {
    "duration": 36,
    "start_time": "2022-06-06T16:02:37.593Z"
   },
   {
    "duration": 9,
    "start_time": "2022-06-06T16:02:37.631Z"
   },
   {
    "duration": 17,
    "start_time": "2022-06-06T16:02:37.643Z"
   },
   {
    "duration": 96,
    "start_time": "2022-06-06T16:02:37.661Z"
   },
   {
    "duration": 130,
    "start_time": "2022-06-06T16:02:37.760Z"
   },
   {
    "duration": 102,
    "start_time": "2022-06-06T16:02:37.892Z"
   },
   {
    "duration": 71,
    "start_time": "2022-06-06T16:02:37.996Z"
   },
   {
    "duration": 53,
    "start_time": "2022-06-06T16:02:38.069Z"
   },
   {
    "duration": 78,
    "start_time": "2022-06-06T16:02:38.124Z"
   },
   {
    "duration": 28,
    "start_time": "2022-06-06T16:02:38.204Z"
   },
   {
    "duration": 254,
    "start_time": "2022-06-06T16:02:38.234Z"
   },
   {
    "duration": 44,
    "start_time": "2022-06-06T16:02:38.489Z"
   },
   {
    "duration": 131,
    "start_time": "2022-06-06T16:02:38.535Z"
   },
   {
    "duration": 19493,
    "start_time": "2022-06-06T16:02:38.674Z"
   },
   {
    "duration": 96,
    "start_time": "2022-06-06T16:02:58.171Z"
   },
   {
    "duration": 16,
    "start_time": "2022-06-06T16:02:58.270Z"
   },
   {
    "duration": 59,
    "start_time": "2022-06-06T16:02:58.288Z"
   },
   {
    "duration": 61,
    "start_time": "2022-06-06T16:02:58.349Z"
   },
   {
    "duration": 154,
    "start_time": "2022-06-06T16:02:58.413Z"
   },
   {
    "duration": 24,
    "start_time": "2022-06-06T16:02:58.569Z"
   },
   {
    "duration": 444,
    "start_time": "2022-06-06T16:02:58.595Z"
   },
   {
    "duration": 28,
    "start_time": "2022-06-06T16:02:59.042Z"
   },
   {
    "duration": 76,
    "start_time": "2022-06-06T16:02:59.073Z"
   },
   {
    "duration": 223,
    "start_time": "2022-06-06T16:02:59.151Z"
   },
   {
    "duration": 24,
    "start_time": "2022-06-06T16:02:59.386Z"
   },
   {
    "duration": 234,
    "start_time": "2022-06-06T16:02:59.412Z"
   },
   {
    "duration": 3,
    "start_time": "2022-06-06T16:02:59.648Z"
   },
   {
    "duration": 492,
    "start_time": "2022-06-06T16:02:59.653Z"
   },
   {
    "duration": 184,
    "start_time": "2022-06-06T16:03:00.149Z"
   },
   {
    "duration": 12,
    "start_time": "2022-06-06T16:03:00.335Z"
   },
   {
    "duration": 16,
    "start_time": "2022-06-06T16:03:00.349Z"
   },
   {
    "duration": 652,
    "start_time": "2022-06-06T16:03:00.366Z"
   },
   {
    "duration": 188,
    "start_time": "2022-06-06T16:03:01.020Z"
   },
   {
    "duration": 47,
    "start_time": "2022-06-06T16:03:01.217Z"
   },
   {
    "duration": 130,
    "start_time": "2022-06-06T16:03:01.269Z"
   },
   {
    "duration": 202,
    "start_time": "2022-06-06T16:03:01.401Z"
   },
   {
    "duration": 205,
    "start_time": "2022-06-06T16:03:01.605Z"
   },
   {
    "duration": 54,
    "start_time": "2022-06-06T16:03:01.812Z"
   },
   {
    "duration": 73,
    "start_time": "2022-06-06T16:03:01.869Z"
   },
   {
    "duration": 153,
    "start_time": "2022-06-06T16:03:01.944Z"
   },
   {
    "duration": 22,
    "start_time": "2022-06-06T16:03:02.103Z"
   },
   {
    "duration": 319,
    "start_time": "2022-06-06T16:03:02.170Z"
   },
   {
    "duration": 1420,
    "start_time": "2022-06-06T16:03:02.491Z"
   },
   {
    "duration": 159,
    "start_time": "2022-06-06T16:03:03.914Z"
   },
   {
    "duration": 41,
    "start_time": "2022-06-06T16:03:30.893Z"
   },
   {
    "duration": 43,
    "start_time": "2022-06-06T16:06:08.488Z"
   },
   {
    "duration": 29,
    "start_time": "2022-06-06T16:06:22.785Z"
   },
   {
    "duration": 19,
    "start_time": "2022-06-06T16:06:26.763Z"
   },
   {
    "duration": 129,
    "start_time": "2022-06-06T16:07:34.230Z"
   },
   {
    "duration": 126,
    "start_time": "2022-06-06T16:07:43.581Z"
   },
   {
    "duration": 110,
    "start_time": "2022-06-06T16:07:47.139Z"
   },
   {
    "duration": 1486,
    "start_time": "2022-06-06T16:07:56.530Z"
   },
   {
    "duration": 329,
    "start_time": "2022-06-06T16:07:58.021Z"
   },
   {
    "duration": 5,
    "start_time": "2022-06-06T16:07:58.354Z"
   },
   {
    "duration": 772,
    "start_time": "2022-06-06T16:07:58.361Z"
   },
   {
    "duration": 93,
    "start_time": "2022-06-06T16:07:59.136Z"
   },
   {
    "duration": 123,
    "start_time": "2022-06-06T16:07:59.239Z"
   },
   {
    "duration": 88,
    "start_time": "2022-06-06T16:07:59.365Z"
   },
   {
    "duration": 132,
    "start_time": "2022-06-06T16:07:59.455Z"
   },
   {
    "duration": 73,
    "start_time": "2022-06-06T16:07:59.595Z"
   },
   {
    "duration": 124,
    "start_time": "2022-06-06T16:07:59.677Z"
   },
   {
    "duration": 45,
    "start_time": "2022-06-06T16:07:59.803Z"
   },
   {
    "duration": 29,
    "start_time": "2022-06-06T16:07:59.851Z"
   },
   {
    "duration": 68,
    "start_time": "2022-06-06T16:07:59.888Z"
   },
   {
    "duration": 157,
    "start_time": "2022-06-06T16:07:59.964Z"
   },
   {
    "duration": 29,
    "start_time": "2022-06-06T16:08:00.124Z"
   },
   {
    "duration": 75,
    "start_time": "2022-06-06T16:08:00.156Z"
   },
   {
    "duration": 30,
    "start_time": "2022-06-06T16:08:00.234Z"
   },
   {
    "duration": 51,
    "start_time": "2022-06-06T16:08:00.266Z"
   },
   {
    "duration": 18,
    "start_time": "2022-06-06T16:08:00.320Z"
   },
   {
    "duration": 49,
    "start_time": "2022-06-06T16:08:00.340Z"
   },
   {
    "duration": 147,
    "start_time": "2022-06-06T16:08:00.392Z"
   },
   {
    "duration": 152,
    "start_time": "2022-06-06T16:08:00.542Z"
   },
   {
    "duration": 110,
    "start_time": "2022-06-06T16:08:00.697Z"
   },
   {
    "duration": 72,
    "start_time": "2022-06-06T16:08:00.813Z"
   },
   {
    "duration": 64,
    "start_time": "2022-06-06T16:08:00.890Z"
   },
   {
    "duration": 54,
    "start_time": "2022-06-06T16:08:00.956Z"
   },
   {
    "duration": 284,
    "start_time": "2022-06-06T16:08:01.012Z"
   },
   {
    "duration": 56,
    "start_time": "2022-06-06T16:08:01.298Z"
   },
   {
    "duration": 145,
    "start_time": "2022-06-06T16:08:01.356Z"
   },
   {
    "duration": 21056,
    "start_time": "2022-06-06T16:08:01.503Z"
   },
   {
    "duration": 84,
    "start_time": "2022-06-06T16:08:22.561Z"
   },
   {
    "duration": 31,
    "start_time": "2022-06-06T16:08:22.647Z"
   },
   {
    "duration": 57,
    "start_time": "2022-06-06T16:08:22.680Z"
   },
   {
    "duration": 24,
    "start_time": "2022-06-06T16:08:22.739Z"
   },
   {
    "duration": 217,
    "start_time": "2022-06-06T16:08:22.767Z"
   },
   {
    "duration": 26,
    "start_time": "2022-06-06T16:08:22.986Z"
   },
   {
    "duration": 384,
    "start_time": "2022-06-06T16:08:23.016Z"
   },
   {
    "duration": 17,
    "start_time": "2022-06-06T16:08:23.402Z"
   },
   {
    "duration": 16,
    "start_time": "2022-06-06T16:08:23.421Z"
   },
   {
    "duration": 164,
    "start_time": "2022-06-06T16:08:23.439Z"
   },
   {
    "duration": 12,
    "start_time": "2022-06-06T16:08:23.613Z"
   },
   {
    "duration": 208,
    "start_time": "2022-06-06T16:08:23.627Z"
   },
   {
    "duration": 3,
    "start_time": "2022-06-06T16:08:23.837Z"
   },
   {
    "duration": 514,
    "start_time": "2022-06-06T16:08:23.842Z"
   },
   {
    "duration": 139,
    "start_time": "2022-06-06T16:08:24.359Z"
   },
   {
    "duration": 10,
    "start_time": "2022-06-06T16:08:24.500Z"
   },
   {
    "duration": 14,
    "start_time": "2022-06-06T16:08:24.512Z"
   },
   {
    "duration": 533,
    "start_time": "2022-06-06T16:08:24.528Z"
   },
   {
    "duration": 67,
    "start_time": "2022-06-06T16:08:25.064Z"
   },
   {
    "duration": 6,
    "start_time": "2022-06-06T16:08:25.133Z"
   },
   {
    "duration": 63,
    "start_time": "2022-06-06T16:08:25.141Z"
   },
   {
    "duration": 84,
    "start_time": "2022-06-06T16:08:25.206Z"
   },
   {
    "duration": 96,
    "start_time": "2022-06-06T16:08:25.294Z"
   },
   {
    "duration": 3,
    "start_time": "2022-06-06T16:08:25.391Z"
   },
   {
    "duration": 22,
    "start_time": "2022-06-06T16:08:25.396Z"
   },
   {
    "duration": 26,
    "start_time": "2022-06-06T16:08:25.420Z"
   },
   {
    "duration": 24,
    "start_time": "2022-06-06T16:08:25.449Z"
   },
   {
    "duration": 93,
    "start_time": "2022-06-06T16:08:25.479Z"
   },
   {
    "duration": 969,
    "start_time": "2022-06-06T16:08:25.575Z"
   },
   {
    "duration": 294,
    "start_time": "2022-06-06T16:08:26.546Z"
   },
   {
    "duration": 206,
    "start_time": "2022-06-06T16:11:09.354Z"
   },
   {
    "duration": 2584,
    "start_time": "2022-06-06T16:20:09.591Z"
   },
   {
    "duration": 2889,
    "start_time": "2022-06-06T16:20:39.532Z"
   },
   {
    "duration": 2168,
    "start_time": "2022-06-06T16:21:08.028Z"
   },
   {
    "duration": 2084,
    "start_time": "2022-06-06T16:21:39.599Z"
   },
   {
    "duration": 1948,
    "start_time": "2022-06-06T16:22:04.592Z"
   },
   {
    "duration": 1501,
    "start_time": "2022-06-06T16:22:16.553Z"
   },
   {
    "duration": 331,
    "start_time": "2022-06-06T16:22:18.056Z"
   },
   {
    "duration": 8,
    "start_time": "2022-06-06T16:22:18.391Z"
   },
   {
    "duration": 953,
    "start_time": "2022-06-06T16:22:18.402Z"
   },
   {
    "duration": 115,
    "start_time": "2022-06-06T16:22:19.359Z"
   },
   {
    "duration": 68,
    "start_time": "2022-06-06T16:22:19.478Z"
   },
   {
    "duration": 73,
    "start_time": "2022-06-06T16:22:19.547Z"
   },
   {
    "duration": 92,
    "start_time": "2022-06-06T16:22:19.622Z"
   },
   {
    "duration": 58,
    "start_time": "2022-06-06T16:22:19.716Z"
   },
   {
    "duration": 53,
    "start_time": "2022-06-06T16:22:19.777Z"
   },
   {
    "duration": 53,
    "start_time": "2022-06-06T16:22:19.832Z"
   },
   {
    "duration": 144,
    "start_time": "2022-06-06T16:22:19.887Z"
   },
   {
    "duration": 46,
    "start_time": "2022-06-06T16:22:20.033Z"
   },
   {
    "duration": 62,
    "start_time": "2022-06-06T16:22:20.081Z"
   },
   {
    "duration": 40,
    "start_time": "2022-06-06T16:22:20.145Z"
   },
   {
    "duration": 48,
    "start_time": "2022-06-06T16:22:20.188Z"
   },
   {
    "duration": 29,
    "start_time": "2022-06-06T16:22:20.239Z"
   },
   {
    "duration": 3,
    "start_time": "2022-06-06T16:22:20.271Z"
   },
   {
    "duration": 62,
    "start_time": "2022-06-06T16:22:20.277Z"
   },
   {
    "duration": 81,
    "start_time": "2022-06-06T16:22:20.342Z"
   },
   {
    "duration": 229,
    "start_time": "2022-06-06T16:22:20.426Z"
   },
   {
    "duration": 149,
    "start_time": "2022-06-06T16:22:20.665Z"
   },
   {
    "duration": 83,
    "start_time": "2022-06-06T16:22:20.817Z"
   },
   {
    "duration": 45,
    "start_time": "2022-06-06T16:22:20.902Z"
   },
   {
    "duration": 86,
    "start_time": "2022-06-06T16:22:20.948Z"
   },
   {
    "duration": 95,
    "start_time": "2022-06-06T16:22:21.037Z"
   },
   {
    "duration": 400,
    "start_time": "2022-06-06T16:22:21.135Z"
   },
   {
    "duration": 43,
    "start_time": "2022-06-06T16:22:21.540Z"
   },
   {
    "duration": 131,
    "start_time": "2022-06-06T16:22:21.589Z"
   },
   {
    "duration": 1629,
    "start_time": "2022-06-06T16:22:21.721Z"
   },
   {
    "duration": 76,
    "start_time": "2022-06-06T16:22:23.351Z"
   },
   {
    "duration": 18,
    "start_time": "2022-06-06T16:22:23.430Z"
   },
   {
    "duration": 35,
    "start_time": "2022-06-06T16:22:23.465Z"
   },
   {
    "duration": 16,
    "start_time": "2022-06-06T16:22:23.502Z"
   },
   {
    "duration": 160,
    "start_time": "2022-06-06T16:22:23.519Z"
   },
   {
    "duration": 43,
    "start_time": "2022-06-06T16:22:23.682Z"
   },
   {
    "duration": 209,
    "start_time": "2022-06-06T16:22:23.728Z"
   },
   {
    "duration": 17,
    "start_time": "2022-06-06T16:22:23.939Z"
   },
   {
    "duration": 36,
    "start_time": "2022-06-06T16:22:23.965Z"
   },
   {
    "duration": 212,
    "start_time": "2022-06-06T16:22:24.003Z"
   },
   {
    "duration": 13,
    "start_time": "2022-06-06T16:22:24.219Z"
   },
   {
    "duration": 183,
    "start_time": "2022-06-06T16:22:24.234Z"
   },
   {
    "duration": 4,
    "start_time": "2022-06-06T16:22:24.419Z"
   },
   {
    "duration": 471,
    "start_time": "2022-06-06T16:22:24.424Z"
   },
   {
    "duration": 232,
    "start_time": "2022-06-06T16:22:24.897Z"
   },
   {
    "duration": 11,
    "start_time": "2022-06-06T16:22:25.131Z"
   },
   {
    "duration": 33,
    "start_time": "2022-06-06T16:22:25.144Z"
   },
   {
    "duration": 597,
    "start_time": "2022-06-06T16:22:25.179Z"
   },
   {
    "duration": 60,
    "start_time": "2022-06-06T16:22:25.785Z"
   },
   {
    "duration": 6,
    "start_time": "2022-06-06T16:22:25.846Z"
   },
   {
    "duration": 58,
    "start_time": "2022-06-06T16:22:25.854Z"
   },
   {
    "duration": 92,
    "start_time": "2022-06-06T16:22:25.917Z"
   },
   {
    "duration": 101,
    "start_time": "2022-06-06T16:22:26.011Z"
   },
   {
    "duration": 10,
    "start_time": "2022-06-06T16:22:26.117Z"
   },
   {
    "duration": 9,
    "start_time": "2022-06-06T16:22:26.130Z"
   },
   {
    "duration": 56,
    "start_time": "2022-06-06T16:22:26.142Z"
   },
   {
    "duration": 18,
    "start_time": "2022-06-06T16:22:26.201Z"
   },
   {
    "duration": 122,
    "start_time": "2022-06-06T16:22:26.222Z"
   },
   {
    "duration": 930,
    "start_time": "2022-06-06T16:22:26.346Z"
   },
   {
    "duration": 260,
    "start_time": "2022-06-06T16:22:27.279Z"
   },
   {
    "duration": 173,
    "start_time": "2022-06-06T16:25:17.944Z"
   },
   {
    "duration": 142,
    "start_time": "2022-06-06T16:34:58.507Z"
   },
   {
    "duration": 9,
    "start_time": "2022-06-06T16:38:00.674Z"
   },
   {
    "duration": 24,
    "start_time": "2022-06-06T16:39:04.286Z"
   },
   {
    "duration": 1347,
    "start_time": "2022-06-06T16:39:16.299Z"
   },
   {
    "duration": 320,
    "start_time": "2022-06-06T16:39:17.648Z"
   },
   {
    "duration": 8,
    "start_time": "2022-06-06T16:39:17.970Z"
   },
   {
    "duration": 664,
    "start_time": "2022-06-06T16:39:17.980Z"
   },
   {
    "duration": 75,
    "start_time": "2022-06-06T16:39:18.646Z"
   },
   {
    "duration": 57,
    "start_time": "2022-06-06T16:39:18.725Z"
   },
   {
    "duration": 59,
    "start_time": "2022-06-06T16:39:18.788Z"
   },
   {
    "duration": 50,
    "start_time": "2022-06-06T16:39:18.849Z"
   },
   {
    "duration": 48,
    "start_time": "2022-06-06T16:39:18.901Z"
   },
   {
    "duration": 58,
    "start_time": "2022-06-06T16:39:18.951Z"
   },
   {
    "duration": 36,
    "start_time": "2022-06-06T16:39:19.012Z"
   },
   {
    "duration": 43,
    "start_time": "2022-06-06T16:39:19.050Z"
   },
   {
    "duration": 43,
    "start_time": "2022-06-06T16:39:19.099Z"
   },
   {
    "duration": 44,
    "start_time": "2022-06-06T16:39:19.145Z"
   },
   {
    "duration": 48,
    "start_time": "2022-06-06T16:39:19.191Z"
   },
   {
    "duration": 71,
    "start_time": "2022-06-06T16:39:19.242Z"
   },
   {
    "duration": 35,
    "start_time": "2022-06-06T16:39:19.315Z"
   },
   {
    "duration": 58,
    "start_time": "2022-06-06T16:39:19.352Z"
   },
   {
    "duration": 30,
    "start_time": "2022-06-06T16:39:19.413Z"
   },
   {
    "duration": 84,
    "start_time": "2022-06-06T16:39:19.445Z"
   },
   {
    "duration": 101,
    "start_time": "2022-06-06T16:39:19.531Z"
   },
   {
    "duration": 91,
    "start_time": "2022-06-06T16:39:19.634Z"
   },
   {
    "duration": 81,
    "start_time": "2022-06-06T16:39:19.727Z"
   },
   {
    "duration": 66,
    "start_time": "2022-06-06T16:39:19.810Z"
   },
   {
    "duration": 44,
    "start_time": "2022-06-06T16:39:19.877Z"
   },
   {
    "duration": 36,
    "start_time": "2022-06-06T16:39:19.923Z"
   },
   {
    "duration": 266,
    "start_time": "2022-06-06T16:39:19.965Z"
   },
   {
    "duration": 60,
    "start_time": "2022-06-06T16:39:20.233Z"
   },
   {
    "duration": 136,
    "start_time": "2022-06-06T16:39:20.296Z"
   },
   {
    "duration": 1800,
    "start_time": "2022-06-06T16:39:20.434Z"
   },
   {
    "duration": 90,
    "start_time": "2022-06-06T16:39:22.237Z"
   },
   {
    "duration": 14,
    "start_time": "2022-06-06T16:39:22.329Z"
   },
   {
    "duration": 45,
    "start_time": "2022-06-06T16:39:22.345Z"
   },
   {
    "duration": 15,
    "start_time": "2022-06-06T16:39:22.393Z"
   },
   {
    "duration": 193,
    "start_time": "2022-06-06T16:39:22.411Z"
   },
   {
    "duration": 22,
    "start_time": "2022-06-06T16:39:22.609Z"
   },
   {
    "duration": 176,
    "start_time": "2022-06-06T16:39:22.633Z"
   },
   {
    "duration": 0,
    "start_time": "2022-06-06T16:39:22.812Z"
   },
   {
    "duration": 0,
    "start_time": "2022-06-06T16:39:22.813Z"
   },
   {
    "duration": 0,
    "start_time": "2022-06-06T16:39:22.815Z"
   },
   {
    "duration": 0,
    "start_time": "2022-06-06T16:39:22.817Z"
   },
   {
    "duration": 0,
    "start_time": "2022-06-06T16:39:22.818Z"
   },
   {
    "duration": 0,
    "start_time": "2022-06-06T16:39:22.819Z"
   },
   {
    "duration": 0,
    "start_time": "2022-06-06T16:39:22.821Z"
   },
   {
    "duration": 0,
    "start_time": "2022-06-06T16:39:22.823Z"
   },
   {
    "duration": 0,
    "start_time": "2022-06-06T16:39:22.824Z"
   },
   {
    "duration": 0,
    "start_time": "2022-06-06T16:39:22.825Z"
   },
   {
    "duration": 0,
    "start_time": "2022-06-06T16:39:22.827Z"
   },
   {
    "duration": 0,
    "start_time": "2022-06-06T16:39:22.828Z"
   },
   {
    "duration": 0,
    "start_time": "2022-06-06T16:39:22.830Z"
   },
   {
    "duration": 1,
    "start_time": "2022-06-06T16:39:22.870Z"
   },
   {
    "duration": 0,
    "start_time": "2022-06-06T16:39:22.873Z"
   },
   {
    "duration": 0,
    "start_time": "2022-06-06T16:39:22.875Z"
   },
   {
    "duration": 0,
    "start_time": "2022-06-06T16:39:22.876Z"
   },
   {
    "duration": 0,
    "start_time": "2022-06-06T16:39:22.877Z"
   },
   {
    "duration": 0,
    "start_time": "2022-06-06T16:39:22.878Z"
   },
   {
    "duration": 0,
    "start_time": "2022-06-06T16:39:22.879Z"
   },
   {
    "duration": 0,
    "start_time": "2022-06-06T16:39:22.880Z"
   },
   {
    "duration": 0,
    "start_time": "2022-06-06T16:39:22.880Z"
   },
   {
    "duration": 0,
    "start_time": "2022-06-06T16:39:22.881Z"
   },
   {
    "duration": 1456,
    "start_time": "2022-06-06T16:46:27.687Z"
   },
   {
    "duration": 358,
    "start_time": "2022-06-06T16:46:29.146Z"
   },
   {
    "duration": 6,
    "start_time": "2022-06-06T16:46:29.507Z"
   },
   {
    "duration": 609,
    "start_time": "2022-06-06T16:46:29.516Z"
   },
   {
    "duration": 95,
    "start_time": "2022-06-06T16:46:30.127Z"
   },
   {
    "duration": 51,
    "start_time": "2022-06-06T16:46:30.224Z"
   },
   {
    "duration": 43,
    "start_time": "2022-06-06T16:46:30.276Z"
   },
   {
    "duration": 53,
    "start_time": "2022-06-06T16:46:30.321Z"
   },
   {
    "duration": 47,
    "start_time": "2022-06-06T16:46:30.376Z"
   },
   {
    "duration": 27,
    "start_time": "2022-06-06T16:46:30.425Z"
   },
   {
    "duration": 59,
    "start_time": "2022-06-06T16:46:30.454Z"
   },
   {
    "duration": 42,
    "start_time": "2022-06-06T16:46:30.515Z"
   },
   {
    "duration": 50,
    "start_time": "2022-06-06T16:46:30.559Z"
   },
   {
    "duration": 47,
    "start_time": "2022-06-06T16:46:30.611Z"
   },
   {
    "duration": 25,
    "start_time": "2022-06-06T16:46:30.660Z"
   },
   {
    "duration": 41,
    "start_time": "2022-06-06T16:46:30.687Z"
   },
   {
    "duration": 39,
    "start_time": "2022-06-06T16:46:30.730Z"
   },
   {
    "duration": 35,
    "start_time": "2022-06-06T16:46:30.771Z"
   },
   {
    "duration": 33,
    "start_time": "2022-06-06T16:46:30.809Z"
   },
   {
    "duration": 42,
    "start_time": "2022-06-06T16:46:30.844Z"
   },
   {
    "duration": 148,
    "start_time": "2022-06-06T16:46:30.888Z"
   },
   {
    "duration": 120,
    "start_time": "2022-06-06T16:46:31.039Z"
   },
   {
    "duration": 114,
    "start_time": "2022-06-06T16:46:31.164Z"
   },
   {
    "duration": 40,
    "start_time": "2022-06-06T16:46:31.280Z"
   },
   {
    "duration": 83,
    "start_time": "2022-06-06T16:46:31.324Z"
   },
   {
    "duration": 24,
    "start_time": "2022-06-06T16:46:31.418Z"
   },
   {
    "duration": 244,
    "start_time": "2022-06-06T16:46:31.444Z"
   },
   {
    "duration": 33,
    "start_time": "2022-06-06T16:46:31.699Z"
   },
   {
    "duration": 140,
    "start_time": "2022-06-06T16:46:31.734Z"
   },
   {
    "duration": 1597,
    "start_time": "2022-06-06T16:46:31.876Z"
   },
   {
    "duration": 69,
    "start_time": "2022-06-06T16:46:33.475Z"
   },
   {
    "duration": 10,
    "start_time": "2022-06-06T16:46:33.546Z"
   },
   {
    "duration": 22,
    "start_time": "2022-06-06T16:46:33.558Z"
   },
   {
    "duration": 42,
    "start_time": "2022-06-06T16:46:33.582Z"
   },
   {
    "duration": 165,
    "start_time": "2022-06-06T16:46:33.626Z"
   },
   {
    "duration": 16,
    "start_time": "2022-06-06T16:46:33.793Z"
   },
   {
    "duration": 149,
    "start_time": "2022-06-06T16:46:33.811Z"
   },
   {
    "duration": 0,
    "start_time": "2022-06-06T16:46:33.962Z"
   },
   {
    "duration": 0,
    "start_time": "2022-06-06T16:46:33.969Z"
   },
   {
    "duration": 0,
    "start_time": "2022-06-06T16:46:33.971Z"
   },
   {
    "duration": 0,
    "start_time": "2022-06-06T16:46:33.972Z"
   },
   {
    "duration": 0,
    "start_time": "2022-06-06T16:46:33.974Z"
   },
   {
    "duration": 0,
    "start_time": "2022-06-06T16:46:33.977Z"
   },
   {
    "duration": 0,
    "start_time": "2022-06-06T16:46:33.979Z"
   },
   {
    "duration": 0,
    "start_time": "2022-06-06T16:46:33.980Z"
   },
   {
    "duration": 0,
    "start_time": "2022-06-06T16:46:33.981Z"
   },
   {
    "duration": 0,
    "start_time": "2022-06-06T16:46:33.983Z"
   },
   {
    "duration": 0,
    "start_time": "2022-06-06T16:46:33.984Z"
   },
   {
    "duration": 0,
    "start_time": "2022-06-06T16:46:33.985Z"
   },
   {
    "duration": 0,
    "start_time": "2022-06-06T16:46:33.986Z"
   },
   {
    "duration": 0,
    "start_time": "2022-06-06T16:46:33.988Z"
   },
   {
    "duration": 0,
    "start_time": "2022-06-06T16:46:33.989Z"
   },
   {
    "duration": 0,
    "start_time": "2022-06-06T16:46:33.990Z"
   },
   {
    "duration": 0,
    "start_time": "2022-06-06T16:46:33.992Z"
   },
   {
    "duration": 0,
    "start_time": "2022-06-06T16:46:33.993Z"
   },
   {
    "duration": 0,
    "start_time": "2022-06-06T16:46:33.995Z"
   },
   {
    "duration": 0,
    "start_time": "2022-06-06T16:46:33.996Z"
   },
   {
    "duration": 0,
    "start_time": "2022-06-06T16:46:33.997Z"
   },
   {
    "duration": 0,
    "start_time": "2022-06-06T16:46:33.998Z"
   },
   {
    "duration": 0,
    "start_time": "2022-06-06T16:46:33.999Z"
   },
   {
    "duration": 18,
    "start_time": "2022-06-06T16:47:37.510Z"
   },
   {
    "duration": 1456,
    "start_time": "2022-06-06T16:47:50.149Z"
   },
   {
    "duration": 321,
    "start_time": "2022-06-06T16:47:51.607Z"
   },
   {
    "duration": 5,
    "start_time": "2022-06-06T16:47:51.930Z"
   },
   {
    "duration": 629,
    "start_time": "2022-06-06T16:47:51.937Z"
   },
   {
    "duration": 73,
    "start_time": "2022-06-06T16:47:52.570Z"
   },
   {
    "duration": 48,
    "start_time": "2022-06-06T16:47:52.645Z"
   },
   {
    "duration": 48,
    "start_time": "2022-06-06T16:47:52.695Z"
   },
   {
    "duration": 75,
    "start_time": "2022-06-06T16:47:52.745Z"
   },
   {
    "duration": 33,
    "start_time": "2022-06-06T16:47:52.822Z"
   },
   {
    "duration": 62,
    "start_time": "2022-06-06T16:47:52.857Z"
   },
   {
    "duration": 18,
    "start_time": "2022-06-06T16:47:52.921Z"
   },
   {
    "duration": 47,
    "start_time": "2022-06-06T16:47:52.941Z"
   },
   {
    "duration": 33,
    "start_time": "2022-06-06T16:47:52.990Z"
   },
   {
    "duration": 25,
    "start_time": "2022-06-06T16:47:53.027Z"
   },
   {
    "duration": 14,
    "start_time": "2022-06-06T16:47:53.055Z"
   },
   {
    "duration": 77,
    "start_time": "2022-06-06T16:47:53.071Z"
   },
   {
    "duration": 18,
    "start_time": "2022-06-06T16:47:53.150Z"
   },
   {
    "duration": 33,
    "start_time": "2022-06-06T16:47:53.170Z"
   },
   {
    "duration": 21,
    "start_time": "2022-06-06T16:47:53.204Z"
   },
   {
    "duration": 28,
    "start_time": "2022-06-06T16:47:53.227Z"
   },
   {
    "duration": 104,
    "start_time": "2022-06-06T16:47:53.256Z"
   },
   {
    "duration": 89,
    "start_time": "2022-06-06T16:47:53.361Z"
   },
   {
    "duration": 98,
    "start_time": "2022-06-06T16:47:53.451Z"
   },
   {
    "duration": 52,
    "start_time": "2022-06-06T16:47:53.551Z"
   },
   {
    "duration": 66,
    "start_time": "2022-06-06T16:47:53.605Z"
   },
   {
    "duration": 44,
    "start_time": "2022-06-06T16:47:53.673Z"
   },
   {
    "duration": 270,
    "start_time": "2022-06-06T16:47:53.719Z"
   },
   {
    "duration": 34,
    "start_time": "2022-06-06T16:47:53.991Z"
   },
   {
    "duration": 132,
    "start_time": "2022-06-06T16:47:54.027Z"
   },
   {
    "duration": 1454,
    "start_time": "2022-06-06T16:47:54.166Z"
   },
   {
    "duration": 84,
    "start_time": "2022-06-06T16:47:55.622Z"
   },
   {
    "duration": 9,
    "start_time": "2022-06-06T16:47:55.708Z"
   },
   {
    "duration": 15,
    "start_time": "2022-06-06T16:47:55.719Z"
   },
   {
    "duration": 15,
    "start_time": "2022-06-06T16:47:55.736Z"
   },
   {
    "duration": 162,
    "start_time": "2022-06-06T16:47:55.770Z"
   },
   {
    "duration": 16,
    "start_time": "2022-06-06T16:47:55.933Z"
   },
   {
    "duration": 35,
    "start_time": "2022-06-06T16:47:55.951Z"
   },
   {
    "duration": 25,
    "start_time": "2022-06-06T16:47:55.988Z"
   },
   {
    "duration": 168,
    "start_time": "2022-06-06T16:47:56.015Z"
   },
   {
    "duration": 11,
    "start_time": "2022-06-06T16:47:56.185Z"
   },
   {
    "duration": 173,
    "start_time": "2022-06-06T16:47:56.201Z"
   },
   {
    "duration": 13,
    "start_time": "2022-06-06T16:47:56.375Z"
   },
   {
    "duration": 11,
    "start_time": "2022-06-06T16:47:56.390Z"
   },
   {
    "duration": 499,
    "start_time": "2022-06-06T16:47:56.403Z"
   },
   {
    "duration": 143,
    "start_time": "2022-06-06T16:47:56.905Z"
   },
   {
    "duration": 20,
    "start_time": "2022-06-06T16:47:57.050Z"
   },
   {
    "duration": 38,
    "start_time": "2022-06-06T16:47:57.072Z"
   },
   {
    "duration": 693,
    "start_time": "2022-06-06T16:47:57.112Z"
   },
   {
    "duration": 40,
    "start_time": "2022-06-06T16:47:57.807Z"
   },
   {
    "duration": 4,
    "start_time": "2022-06-06T16:47:57.849Z"
   },
   {
    "duration": 68,
    "start_time": "2022-06-06T16:47:57.854Z"
   },
   {
    "duration": 62,
    "start_time": "2022-06-06T16:47:57.924Z"
   },
   {
    "duration": 86,
    "start_time": "2022-06-06T16:47:57.988Z"
   },
   {
    "duration": 3,
    "start_time": "2022-06-06T16:47:58.076Z"
   },
   {
    "duration": 27,
    "start_time": "2022-06-06T16:47:58.080Z"
   },
   {
    "duration": 30,
    "start_time": "2022-06-06T16:47:58.108Z"
   },
   {
    "duration": 10,
    "start_time": "2022-06-06T16:47:58.140Z"
   },
   {
    "duration": 116,
    "start_time": "2022-06-06T16:47:58.152Z"
   },
   {
    "duration": 1069,
    "start_time": "2022-06-06T16:47:58.271Z"
   },
   {
    "duration": 208,
    "start_time": "2022-06-06T16:47:59.342Z"
   },
   {
    "duration": 29,
    "start_time": "2022-06-06T16:57:56.028Z"
   },
   {
    "duration": 10,
    "start_time": "2022-06-06T16:58:02.228Z"
   },
   {
    "duration": 17,
    "start_time": "2022-06-06T16:58:07.089Z"
   },
   {
    "duration": 31,
    "start_time": "2022-06-06T16:58:50.569Z"
   },
   {
    "duration": 11,
    "start_time": "2022-06-06T16:59:48.533Z"
   },
   {
    "duration": 20,
    "start_time": "2022-06-06T16:59:52.065Z"
   },
   {
    "duration": 42,
    "start_time": "2022-06-06T17:01:05.445Z"
   },
   {
    "duration": 160,
    "start_time": "2022-06-06T17:02:17.388Z"
   },
   {
    "duration": 10,
    "start_time": "2022-06-06T17:04:24.404Z"
   },
   {
    "duration": 1442,
    "start_time": "2022-06-06T17:08:23.284Z"
   },
   {
    "duration": 325,
    "start_time": "2022-06-06T17:08:24.728Z"
   },
   {
    "duration": 4,
    "start_time": "2022-06-06T17:08:25.055Z"
   },
   {
    "duration": 638,
    "start_time": "2022-06-06T17:08:25.061Z"
   },
   {
    "duration": 81,
    "start_time": "2022-06-06T17:08:25.701Z"
   },
   {
    "duration": 40,
    "start_time": "2022-06-06T17:08:25.784Z"
   },
   {
    "duration": 106,
    "start_time": "2022-06-06T17:08:25.826Z"
   },
   {
    "duration": 42,
    "start_time": "2022-06-06T17:08:25.935Z"
   },
   {
    "duration": 55,
    "start_time": "2022-06-06T17:08:25.979Z"
   },
   {
    "duration": 15,
    "start_time": "2022-06-06T17:08:26.036Z"
   },
   {
    "duration": 17,
    "start_time": "2022-06-06T17:08:26.054Z"
   },
   {
    "duration": 55,
    "start_time": "2022-06-06T17:08:26.073Z"
   },
   {
    "duration": 13,
    "start_time": "2022-06-06T17:08:26.130Z"
   },
   {
    "duration": 11,
    "start_time": "2022-06-06T17:08:26.149Z"
   },
   {
    "duration": 14,
    "start_time": "2022-06-06T17:08:26.162Z"
   },
   {
    "duration": 48,
    "start_time": "2022-06-06T17:08:26.178Z"
   },
   {
    "duration": 19,
    "start_time": "2022-06-06T17:08:26.228Z"
   },
   {
    "duration": 2,
    "start_time": "2022-06-06T17:08:26.250Z"
   },
   {
    "duration": 26,
    "start_time": "2022-06-06T17:08:26.254Z"
   },
   {
    "duration": 67,
    "start_time": "2022-06-06T17:08:26.284Z"
   },
   {
    "duration": 92,
    "start_time": "2022-06-06T17:08:26.353Z"
   },
   {
    "duration": 96,
    "start_time": "2022-06-06T17:08:26.447Z"
   },
   {
    "duration": 88,
    "start_time": "2022-06-06T17:08:26.545Z"
   },
   {
    "duration": 55,
    "start_time": "2022-06-06T17:08:26.635Z"
   },
   {
    "duration": 45,
    "start_time": "2022-06-06T17:08:26.692Z"
   },
   {
    "duration": 30,
    "start_time": "2022-06-06T17:08:26.739Z"
   },
   {
    "duration": 250,
    "start_time": "2022-06-06T17:08:26.770Z"
   },
   {
    "duration": 33,
    "start_time": "2022-06-06T17:08:27.022Z"
   },
   {
    "duration": 133,
    "start_time": "2022-06-06T17:08:27.057Z"
   },
   {
    "duration": 1630,
    "start_time": "2022-06-06T17:08:27.194Z"
   },
   {
    "duration": 87,
    "start_time": "2022-06-06T17:08:28.826Z"
   },
   {
    "duration": 18,
    "start_time": "2022-06-06T17:08:28.914Z"
   },
   {
    "duration": 44,
    "start_time": "2022-06-06T17:08:28.934Z"
   },
   {
    "duration": 42,
    "start_time": "2022-06-06T17:08:28.980Z"
   },
   {
    "duration": 204,
    "start_time": "2022-06-06T17:08:29.024Z"
   },
   {
    "duration": 21,
    "start_time": "2022-06-06T17:08:29.230Z"
   },
   {
    "duration": 28,
    "start_time": "2022-06-06T17:08:29.253Z"
   },
   {
    "duration": 36,
    "start_time": "2022-06-06T17:08:29.284Z"
   },
   {
    "duration": 201,
    "start_time": "2022-06-06T17:08:29.322Z"
   },
   {
    "duration": 184,
    "start_time": "2022-06-06T17:08:29.525Z"
   },
   {
    "duration": 8,
    "start_time": "2022-06-06T17:08:29.713Z"
   },
   {
    "duration": 7,
    "start_time": "2022-06-06T17:08:29.723Z"
   },
   {
    "duration": 458,
    "start_time": "2022-06-06T17:08:29.731Z"
   },
   {
    "duration": 136,
    "start_time": "2022-06-06T17:08:30.191Z"
   },
   {
    "duration": 10,
    "start_time": "2022-06-06T17:08:30.329Z"
   },
   {
    "duration": 18,
    "start_time": "2022-06-06T17:08:30.340Z"
   },
   {
    "duration": 662,
    "start_time": "2022-06-06T17:08:30.359Z"
   },
   {
    "duration": 59,
    "start_time": "2022-06-06T17:08:31.023Z"
   },
   {
    "duration": 8,
    "start_time": "2022-06-06T17:08:31.085Z"
   },
   {
    "duration": 59,
    "start_time": "2022-06-06T17:08:31.095Z"
   },
   {
    "duration": 105,
    "start_time": "2022-06-06T17:08:31.156Z"
   },
   {
    "duration": 113,
    "start_time": "2022-06-06T17:08:31.263Z"
   },
   {
    "duration": 7,
    "start_time": "2022-06-06T17:08:31.378Z"
   },
   {
    "duration": 47,
    "start_time": "2022-06-06T17:08:31.387Z"
   },
   {
    "duration": 78,
    "start_time": "2022-06-06T17:08:31.436Z"
   },
   {
    "duration": 12,
    "start_time": "2022-06-06T17:08:31.516Z"
   },
   {
    "duration": 115,
    "start_time": "2022-06-06T17:08:31.529Z"
   },
   {
    "duration": 904,
    "start_time": "2022-06-06T17:08:31.646Z"
   },
   {
    "duration": 185,
    "start_time": "2022-06-06T17:08:32.552Z"
   },
   {
    "duration": 11,
    "start_time": "2022-06-06T17:22:37.205Z"
   },
   {
    "duration": 519,
    "start_time": "2022-06-06T17:24:16.496Z"
   },
   {
    "duration": 1308,
    "start_time": "2022-06-06T17:24:27.689Z"
   },
   {
    "duration": 342,
    "start_time": "2022-06-06T17:24:29.000Z"
   },
   {
    "duration": 4,
    "start_time": "2022-06-06T17:24:29.343Z"
   },
   {
    "duration": 556,
    "start_time": "2022-06-06T17:24:29.348Z"
   },
   {
    "duration": 69,
    "start_time": "2022-06-06T17:24:29.907Z"
   },
   {
    "duration": 36,
    "start_time": "2022-06-06T17:24:29.978Z"
   },
   {
    "duration": 75,
    "start_time": "2022-06-06T17:24:30.016Z"
   },
   {
    "duration": 23,
    "start_time": "2022-06-06T17:24:30.093Z"
   },
   {
    "duration": 17,
    "start_time": "2022-06-06T17:24:30.118Z"
   },
   {
    "duration": 16,
    "start_time": "2022-06-06T17:24:30.137Z"
   },
   {
    "duration": 27,
    "start_time": "2022-06-06T17:24:30.155Z"
   },
   {
    "duration": 36,
    "start_time": "2022-06-06T17:24:30.183Z"
   },
   {
    "duration": 32,
    "start_time": "2022-06-06T17:24:30.220Z"
   },
   {
    "duration": 42,
    "start_time": "2022-06-06T17:24:30.255Z"
   },
   {
    "duration": 26,
    "start_time": "2022-06-06T17:24:30.298Z"
   },
   {
    "duration": 23,
    "start_time": "2022-06-06T17:24:30.326Z"
   },
   {
    "duration": 50,
    "start_time": "2022-06-06T17:24:30.350Z"
   },
   {
    "duration": 29,
    "start_time": "2022-06-06T17:24:30.402Z"
   },
   {
    "duration": 16,
    "start_time": "2022-06-06T17:24:30.433Z"
   },
   {
    "duration": 68,
    "start_time": "2022-06-06T17:24:30.450Z"
   },
   {
    "duration": 94,
    "start_time": "2022-06-06T17:24:30.519Z"
   },
   {
    "duration": 85,
    "start_time": "2022-06-06T17:24:30.615Z"
   },
   {
    "duration": 72,
    "start_time": "2022-06-06T17:24:30.701Z"
   },
   {
    "duration": 41,
    "start_time": "2022-06-06T17:24:30.777Z"
   },
   {
    "duration": 61,
    "start_time": "2022-06-06T17:24:30.820Z"
   },
   {
    "duration": 31,
    "start_time": "2022-06-06T17:24:30.883Z"
   },
   {
    "duration": 248,
    "start_time": "2022-06-06T17:24:30.915Z"
   },
   {
    "duration": 47,
    "start_time": "2022-06-06T17:24:31.165Z"
   },
   {
    "duration": 130,
    "start_time": "2022-06-06T17:24:31.214Z"
   },
   {
    "duration": 1410,
    "start_time": "2022-06-06T17:24:31.346Z"
   },
   {
    "duration": 83,
    "start_time": "2022-06-06T17:24:32.758Z"
   },
   {
    "duration": 27,
    "start_time": "2022-06-06T17:24:32.843Z"
   },
   {
    "duration": 29,
    "start_time": "2022-06-06T17:24:32.878Z"
   },
   {
    "duration": 9,
    "start_time": "2022-06-06T17:24:32.909Z"
   },
   {
    "duration": 157,
    "start_time": "2022-06-06T17:24:32.919Z"
   },
   {
    "duration": 23,
    "start_time": "2022-06-06T17:24:33.078Z"
   },
   {
    "duration": 13,
    "start_time": "2022-06-06T17:24:33.102Z"
   },
   {
    "duration": 12,
    "start_time": "2022-06-06T17:24:33.116Z"
   },
   {
    "duration": 165,
    "start_time": "2022-06-06T17:24:33.130Z"
   },
   {
    "duration": 141,
    "start_time": "2022-06-06T17:24:33.297Z"
   },
   {
    "duration": 8,
    "start_time": "2022-06-06T17:24:33.442Z"
   },
   {
    "duration": 17,
    "start_time": "2022-06-06T17:24:33.452Z"
   },
   {
    "duration": 433,
    "start_time": "2022-06-06T17:24:33.470Z"
   },
   {
    "duration": 124,
    "start_time": "2022-06-06T17:24:33.905Z"
   },
   {
    "duration": 10,
    "start_time": "2022-06-06T17:24:34.031Z"
   },
   {
    "duration": 11,
    "start_time": "2022-06-06T17:24:34.043Z"
   },
   {
    "duration": 590,
    "start_time": "2022-06-06T17:24:34.055Z"
   },
   {
    "duration": 60,
    "start_time": "2022-06-06T17:24:34.647Z"
   },
   {
    "duration": 5,
    "start_time": "2022-06-06T17:24:34.708Z"
   },
   {
    "duration": 29,
    "start_time": "2022-06-06T17:24:34.715Z"
   },
   {
    "duration": 161,
    "start_time": "2022-06-06T17:24:34.745Z"
   },
   {
    "duration": 1,
    "start_time": "2022-06-06T17:24:34.907Z"
   },
   {
    "duration": 0,
    "start_time": "2022-06-06T17:24:34.909Z"
   },
   {
    "duration": 0,
    "start_time": "2022-06-06T17:24:34.910Z"
   },
   {
    "duration": 0,
    "start_time": "2022-06-06T17:24:34.911Z"
   },
   {
    "duration": 0,
    "start_time": "2022-06-06T17:24:34.912Z"
   },
   {
    "duration": 0,
    "start_time": "2022-06-06T17:24:34.913Z"
   },
   {
    "duration": 0,
    "start_time": "2022-06-06T17:24:34.914Z"
   },
   {
    "duration": 0,
    "start_time": "2022-06-06T17:24:34.915Z"
   },
   {
    "duration": 0,
    "start_time": "2022-06-06T17:24:34.916Z"
   },
   {
    "duration": 1348,
    "start_time": "2022-06-06T17:26:37.649Z"
   },
   {
    "duration": 325,
    "start_time": "2022-06-06T17:26:38.999Z"
   },
   {
    "duration": 4,
    "start_time": "2022-06-06T17:26:39.327Z"
   },
   {
    "duration": 497,
    "start_time": "2022-06-06T17:26:39.332Z"
   },
   {
    "duration": 76,
    "start_time": "2022-06-06T17:26:39.831Z"
   },
   {
    "duration": 30,
    "start_time": "2022-06-06T17:26:39.909Z"
   },
   {
    "duration": 71,
    "start_time": "2022-06-06T17:26:39.941Z"
   },
   {
    "duration": 26,
    "start_time": "2022-06-06T17:26:40.015Z"
   },
   {
    "duration": 29,
    "start_time": "2022-06-06T17:26:40.065Z"
   },
   {
    "duration": 13,
    "start_time": "2022-06-06T17:26:40.096Z"
   },
   {
    "duration": 21,
    "start_time": "2022-06-06T17:26:40.111Z"
   },
   {
    "duration": 25,
    "start_time": "2022-06-06T17:26:40.133Z"
   },
   {
    "duration": 15,
    "start_time": "2022-06-06T17:26:40.164Z"
   },
   {
    "duration": 24,
    "start_time": "2022-06-06T17:26:40.183Z"
   },
   {
    "duration": 9,
    "start_time": "2022-06-06T17:26:40.208Z"
   },
   {
    "duration": 24,
    "start_time": "2022-06-06T17:26:40.219Z"
   },
   {
    "duration": 50,
    "start_time": "2022-06-06T17:26:40.245Z"
   },
   {
    "duration": 6,
    "start_time": "2022-06-06T17:26:40.297Z"
   },
   {
    "duration": 26,
    "start_time": "2022-06-06T17:26:40.304Z"
   },
   {
    "duration": 26,
    "start_time": "2022-06-06T17:26:40.332Z"
   },
   {
    "duration": 93,
    "start_time": "2022-06-06T17:26:40.360Z"
   },
   {
    "duration": 89,
    "start_time": "2022-06-06T17:26:40.455Z"
   },
   {
    "duration": 84,
    "start_time": "2022-06-06T17:26:40.546Z"
   },
   {
    "duration": 46,
    "start_time": "2022-06-06T17:26:40.631Z"
   },
   {
    "duration": 45,
    "start_time": "2022-06-06T17:26:40.679Z"
   },
   {
    "duration": 46,
    "start_time": "2022-06-06T17:26:40.726Z"
   },
   {
    "duration": 225,
    "start_time": "2022-06-06T17:26:40.778Z"
   },
   {
    "duration": 33,
    "start_time": "2022-06-06T17:26:41.005Z"
   },
   {
    "duration": 130,
    "start_time": "2022-06-06T17:26:41.040Z"
   },
   {
    "duration": 1371,
    "start_time": "2022-06-06T17:26:41.171Z"
   },
   {
    "duration": 75,
    "start_time": "2022-06-06T17:26:42.544Z"
   },
   {
    "duration": 9,
    "start_time": "2022-06-06T17:26:42.621Z"
   },
   {
    "duration": 15,
    "start_time": "2022-06-06T17:26:42.631Z"
   },
   {
    "duration": 19,
    "start_time": "2022-06-06T17:26:42.648Z"
   },
   {
    "duration": 156,
    "start_time": "2022-06-06T17:26:42.670Z"
   },
   {
    "duration": 19,
    "start_time": "2022-06-06T17:26:42.828Z"
   },
   {
    "duration": 35,
    "start_time": "2022-06-06T17:26:42.849Z"
   },
   {
    "duration": 19,
    "start_time": "2022-06-06T17:26:42.886Z"
   },
   {
    "duration": 146,
    "start_time": "2022-06-06T17:26:42.906Z"
   },
   {
    "duration": 149,
    "start_time": "2022-06-06T17:26:43.054Z"
   },
   {
    "duration": 8,
    "start_time": "2022-06-06T17:26:43.206Z"
   },
   {
    "duration": 6,
    "start_time": "2022-06-06T17:26:43.216Z"
   },
   {
    "duration": 444,
    "start_time": "2022-06-06T17:26:43.224Z"
   },
   {
    "duration": 132,
    "start_time": "2022-06-06T17:26:43.670Z"
   },
   {
    "duration": 8,
    "start_time": "2022-06-06T17:26:43.804Z"
   },
   {
    "duration": 6,
    "start_time": "2022-06-06T17:26:43.814Z"
   },
   {
    "duration": 605,
    "start_time": "2022-06-06T17:26:43.821Z"
   },
   {
    "duration": 65,
    "start_time": "2022-06-06T17:26:44.428Z"
   },
   {
    "duration": 5,
    "start_time": "2022-06-06T17:26:44.495Z"
   },
   {
    "duration": 27,
    "start_time": "2022-06-06T17:26:44.501Z"
   },
   {
    "duration": 156,
    "start_time": "2022-06-06T17:26:44.529Z"
   },
   {
    "duration": 0,
    "start_time": "2022-06-06T17:26:44.688Z"
   },
   {
    "duration": 0,
    "start_time": "2022-06-06T17:26:44.690Z"
   },
   {
    "duration": 0,
    "start_time": "2022-06-06T17:26:44.692Z"
   },
   {
    "duration": 0,
    "start_time": "2022-06-06T17:26:44.694Z"
   },
   {
    "duration": 0,
    "start_time": "2022-06-06T17:26:44.695Z"
   },
   {
    "duration": 0,
    "start_time": "2022-06-06T17:26:44.696Z"
   },
   {
    "duration": 0,
    "start_time": "2022-06-06T17:26:44.697Z"
   },
   {
    "duration": 0,
    "start_time": "2022-06-06T17:26:44.698Z"
   },
   {
    "duration": 0,
    "start_time": "2022-06-06T17:26:44.699Z"
   },
   {
    "duration": 41,
    "start_time": "2022-06-06T17:32:01.759Z"
   },
   {
    "duration": 14,
    "start_time": "2022-06-06T17:32:14.518Z"
   },
   {
    "duration": 261,
    "start_time": "2022-06-06T17:32:40.504Z"
   },
   {
    "duration": 14,
    "start_time": "2022-06-06T17:32:47.255Z"
   },
   {
    "duration": 9,
    "start_time": "2022-06-06T17:35:45.447Z"
   },
   {
    "duration": 38,
    "start_time": "2022-06-06T17:36:55.956Z"
   },
   {
    "duration": 72,
    "start_time": "2022-06-06T17:36:59.099Z"
   },
   {
    "duration": 66,
    "start_time": "2022-06-06T17:37:22.760Z"
   },
   {
    "duration": 62,
    "start_time": "2022-06-06T17:38:19.999Z"
   },
   {
    "duration": 72,
    "start_time": "2022-06-06T17:38:25.609Z"
   },
   {
    "duration": 73,
    "start_time": "2022-06-06T17:38:32.152Z"
   },
   {
    "duration": 1229,
    "start_time": "2022-06-06T17:39:19.409Z"
   },
   {
    "duration": 1133,
    "start_time": "2022-06-06T17:40:01.780Z"
   },
   {
    "duration": 983,
    "start_time": "2022-06-06T17:43:47.543Z"
   },
   {
    "duration": 75,
    "start_time": "2022-06-06T17:45:25.810Z"
   },
   {
    "duration": 635,
    "start_time": "2022-06-06T17:45:50.394Z"
   },
   {
    "duration": 769,
    "start_time": "2022-06-06T17:48:07.762Z"
   },
   {
    "duration": 21,
    "start_time": "2022-06-06T17:48:16.200Z"
   },
   {
    "duration": 1280,
    "start_time": "2022-06-06T17:48:59.439Z"
   },
   {
    "duration": 303,
    "start_time": "2022-06-06T17:49:00.721Z"
   },
   {
    "duration": 4,
    "start_time": "2022-06-06T17:49:01.025Z"
   },
   {
    "duration": 527,
    "start_time": "2022-06-06T17:49:01.031Z"
   },
   {
    "duration": 65,
    "start_time": "2022-06-06T17:49:01.564Z"
   },
   {
    "duration": 51,
    "start_time": "2022-06-06T17:49:01.631Z"
   },
   {
    "duration": 37,
    "start_time": "2022-06-06T17:49:01.683Z"
   },
   {
    "duration": 159,
    "start_time": "2022-06-06T17:49:01.721Z"
   },
   {
    "duration": 54,
    "start_time": "2022-06-06T17:49:01.882Z"
   },
   {
    "duration": 105,
    "start_time": "2022-06-06T17:49:01.938Z"
   },
   {
    "duration": 67,
    "start_time": "2022-06-06T17:49:02.045Z"
   },
   {
    "duration": 23,
    "start_time": "2022-06-06T17:49:02.114Z"
   },
   {
    "duration": 36,
    "start_time": "2022-06-06T17:49:02.139Z"
   },
   {
    "duration": 25,
    "start_time": "2022-06-06T17:49:02.180Z"
   },
   {
    "duration": 12,
    "start_time": "2022-06-06T17:49:02.207Z"
   },
   {
    "duration": 33,
    "start_time": "2022-06-06T17:49:02.221Z"
   },
   {
    "duration": 32,
    "start_time": "2022-06-06T17:49:02.256Z"
   },
   {
    "duration": 20,
    "start_time": "2022-06-06T17:49:02.289Z"
   },
   {
    "duration": 25,
    "start_time": "2022-06-06T17:49:02.311Z"
   },
   {
    "duration": 41,
    "start_time": "2022-06-06T17:49:02.338Z"
   },
   {
    "duration": 72,
    "start_time": "2022-06-06T17:49:02.381Z"
   },
   {
    "duration": 81,
    "start_time": "2022-06-06T17:49:02.455Z"
   },
   {
    "duration": 88,
    "start_time": "2022-06-06T17:49:02.538Z"
   },
   {
    "duration": 48,
    "start_time": "2022-06-06T17:49:02.628Z"
   },
   {
    "duration": 38,
    "start_time": "2022-06-06T17:49:02.679Z"
   },
   {
    "duration": 22,
    "start_time": "2022-06-06T17:49:02.719Z"
   },
   {
    "duration": 232,
    "start_time": "2022-06-06T17:49:02.743Z"
   },
   {
    "duration": 33,
    "start_time": "2022-06-06T17:49:02.976Z"
   },
   {
    "duration": 108,
    "start_time": "2022-06-06T17:49:03.011Z"
   },
   {
    "duration": 1291,
    "start_time": "2022-06-06T17:49:03.120Z"
   },
   {
    "duration": 66,
    "start_time": "2022-06-06T17:49:04.413Z"
   },
   {
    "duration": 10,
    "start_time": "2022-06-06T17:49:04.480Z"
   },
   {
    "duration": 13,
    "start_time": "2022-06-06T17:49:04.492Z"
   },
   {
    "duration": 9,
    "start_time": "2022-06-06T17:49:04.506Z"
   },
   {
    "duration": 161,
    "start_time": "2022-06-06T17:49:04.517Z"
   },
   {
    "duration": 17,
    "start_time": "2022-06-06T17:49:04.680Z"
   },
   {
    "duration": 11,
    "start_time": "2022-06-06T17:49:04.699Z"
   },
   {
    "duration": 9,
    "start_time": "2022-06-06T17:49:04.712Z"
   },
   {
    "duration": 140,
    "start_time": "2022-06-06T17:49:04.722Z"
   },
   {
    "duration": 138,
    "start_time": "2022-06-06T17:49:04.865Z"
   },
   {
    "duration": 8,
    "start_time": "2022-06-06T17:49:05.007Z"
   },
   {
    "duration": 11,
    "start_time": "2022-06-06T17:49:05.016Z"
   },
   {
    "duration": 428,
    "start_time": "2022-06-06T17:49:05.029Z"
   },
   {
    "duration": 108,
    "start_time": "2022-06-06T17:49:05.465Z"
   },
   {
    "duration": 8,
    "start_time": "2022-06-06T17:49:05.579Z"
   },
   {
    "duration": 6,
    "start_time": "2022-06-06T17:49:05.589Z"
   },
   {
    "duration": 633,
    "start_time": "2022-06-06T17:49:05.597Z"
   },
   {
    "duration": 57,
    "start_time": "2022-06-06T17:49:06.231Z"
   },
   {
    "duration": 5,
    "start_time": "2022-06-06T17:49:06.289Z"
   },
   {
    "duration": 34,
    "start_time": "2022-06-06T17:49:06.296Z"
   },
   {
    "duration": 5,
    "start_time": "2022-06-06T17:49:06.332Z"
   },
   {
    "duration": 0,
    "start_time": "2022-06-06T17:49:06.338Z"
   },
   {
    "duration": 1,
    "start_time": "2022-06-06T17:49:06.339Z"
   },
   {
    "duration": 0,
    "start_time": "2022-06-06T17:49:06.340Z"
   },
   {
    "duration": 0,
    "start_time": "2022-06-06T17:49:06.341Z"
   },
   {
    "duration": 1,
    "start_time": "2022-06-06T17:49:06.364Z"
   },
   {
    "duration": 0,
    "start_time": "2022-06-06T17:49:06.365Z"
   },
   {
    "duration": 0,
    "start_time": "2022-06-06T17:49:06.366Z"
   },
   {
    "duration": 0,
    "start_time": "2022-06-06T17:49:06.367Z"
   },
   {
    "duration": 0,
    "start_time": "2022-06-06T17:49:06.367Z"
   },
   {
    "duration": 695,
    "start_time": "2022-06-06T17:50:19.245Z"
   },
   {
    "duration": 1220,
    "start_time": "2022-06-06T17:52:00.095Z"
   },
   {
    "duration": 278,
    "start_time": "2022-06-06T17:52:01.317Z"
   },
   {
    "duration": 4,
    "start_time": "2022-06-06T17:52:01.596Z"
   },
   {
    "duration": 514,
    "start_time": "2022-06-06T17:52:01.602Z"
   },
   {
    "duration": 68,
    "start_time": "2022-06-06T17:52:02.118Z"
   },
   {
    "duration": 28,
    "start_time": "2022-06-06T17:52:02.188Z"
   },
   {
    "duration": 65,
    "start_time": "2022-06-06T17:52:02.218Z"
   },
   {
    "duration": 24,
    "start_time": "2022-06-06T17:52:02.285Z"
   },
   {
    "duration": 15,
    "start_time": "2022-06-06T17:52:02.310Z"
   },
   {
    "duration": 12,
    "start_time": "2022-06-06T17:52:02.326Z"
   },
   {
    "duration": 36,
    "start_time": "2022-06-06T17:52:02.340Z"
   },
   {
    "duration": 25,
    "start_time": "2022-06-06T17:52:02.377Z"
   },
   {
    "duration": 8,
    "start_time": "2022-06-06T17:52:02.404Z"
   },
   {
    "duration": 15,
    "start_time": "2022-06-06T17:52:02.414Z"
   },
   {
    "duration": 9,
    "start_time": "2022-06-06T17:52:02.430Z"
   },
   {
    "duration": 33,
    "start_time": "2022-06-06T17:52:02.440Z"
   },
   {
    "duration": 13,
    "start_time": "2022-06-06T17:52:02.475Z"
   },
   {
    "duration": 6,
    "start_time": "2022-06-06T17:52:02.490Z"
   },
   {
    "duration": 14,
    "start_time": "2022-06-06T17:52:02.497Z"
   },
   {
    "duration": 28,
    "start_time": "2022-06-06T17:52:02.512Z"
   },
   {
    "duration": 85,
    "start_time": "2022-06-06T17:52:02.542Z"
   },
   {
    "duration": 78,
    "start_time": "2022-06-06T17:52:02.628Z"
   },
   {
    "duration": 68,
    "start_time": "2022-06-06T17:52:02.708Z"
   },
   {
    "duration": 29,
    "start_time": "2022-06-06T17:52:02.778Z"
   },
   {
    "duration": 40,
    "start_time": "2022-06-06T17:52:02.809Z"
   },
   {
    "duration": 27,
    "start_time": "2022-06-06T17:52:02.869Z"
   },
   {
    "duration": 200,
    "start_time": "2022-06-06T17:52:02.898Z"
   },
   {
    "duration": 32,
    "start_time": "2022-06-06T17:52:03.100Z"
   },
   {
    "duration": 116,
    "start_time": "2022-06-06T17:52:03.133Z"
   },
   {
    "duration": 1285,
    "start_time": "2022-06-06T17:52:03.251Z"
   },
   {
    "duration": 73,
    "start_time": "2022-06-06T17:52:04.538Z"
   },
   {
    "duration": 12,
    "start_time": "2022-06-06T17:52:04.612Z"
   },
   {
    "duration": 18,
    "start_time": "2022-06-06T17:52:04.626Z"
   },
   {
    "duration": 9,
    "start_time": "2022-06-06T17:52:04.646Z"
   },
   {
    "duration": 134,
    "start_time": "2022-06-06T17:52:04.664Z"
   },
   {
    "duration": 15,
    "start_time": "2022-06-06T17:52:04.799Z"
   },
   {
    "duration": 11,
    "start_time": "2022-06-06T17:52:04.816Z"
   },
   {
    "duration": 8,
    "start_time": "2022-06-06T17:52:04.828Z"
   },
   {
    "duration": 150,
    "start_time": "2022-06-06T17:52:04.837Z"
   },
   {
    "duration": 129,
    "start_time": "2022-06-06T17:52:04.989Z"
   },
   {
    "duration": 7,
    "start_time": "2022-06-06T17:52:05.122Z"
   },
   {
    "duration": 6,
    "start_time": "2022-06-06T17:52:05.130Z"
   },
   {
    "duration": 399,
    "start_time": "2022-06-06T17:52:05.137Z"
   },
   {
    "duration": 117,
    "start_time": "2022-06-06T17:52:05.538Z"
   },
   {
    "duration": 16,
    "start_time": "2022-06-06T17:52:05.657Z"
   },
   {
    "duration": 17,
    "start_time": "2022-06-06T17:52:05.674Z"
   },
   {
    "duration": 557,
    "start_time": "2022-06-06T17:52:05.693Z"
   },
   {
    "duration": 56,
    "start_time": "2022-06-06T17:52:06.252Z"
   },
   {
    "duration": 5,
    "start_time": "2022-06-06T17:52:06.310Z"
   },
   {
    "duration": 34,
    "start_time": "2022-06-06T17:52:06.316Z"
   },
   {
    "duration": 662,
    "start_time": "2022-06-06T17:52:06.364Z"
   },
   {
    "duration": 61,
    "start_time": "2022-06-06T17:52:07.028Z"
   },
   {
    "duration": 89,
    "start_time": "2022-06-06T17:52:07.090Z"
   },
   {
    "duration": 3,
    "start_time": "2022-06-06T17:52:07.181Z"
   },
   {
    "duration": 11,
    "start_time": "2022-06-06T17:52:07.185Z"
   },
   {
    "duration": 50,
    "start_time": "2022-06-06T17:52:07.198Z"
   },
   {
    "duration": 9,
    "start_time": "2022-06-06T17:52:07.250Z"
   },
   {
    "duration": 92,
    "start_time": "2022-06-06T17:52:07.260Z"
   },
   {
    "duration": 592,
    "start_time": "2022-06-06T17:52:07.354Z"
   },
   {
    "duration": 150,
    "start_time": "2022-06-06T17:52:07.947Z"
   },
   {
    "duration": 182,
    "start_time": "2022-06-06T17:55:01.404Z"
   },
   {
    "duration": 12,
    "start_time": "2022-06-06T17:55:15.300Z"
   },
   {
    "duration": 324,
    "start_time": "2022-06-06T17:55:28.194Z"
   },
   {
    "duration": 8,
    "start_time": "2022-06-06T17:56:10.890Z"
   },
   {
    "duration": 583,
    "start_time": "2022-06-06T17:57:29.597Z"
   },
   {
    "duration": 13,
    "start_time": "2022-06-06T17:57:38.313Z"
   },
   {
    "duration": 1210,
    "start_time": "2022-06-06T17:58:49.907Z"
   },
   {
    "duration": 684,
    "start_time": "2022-06-06T17:58:51.119Z"
   },
   {
    "duration": 4,
    "start_time": "2022-06-06T17:58:51.804Z"
   },
   {
    "duration": 534,
    "start_time": "2022-06-06T17:58:51.810Z"
   },
   {
    "duration": 67,
    "start_time": "2022-06-06T17:58:52.346Z"
   },
   {
    "duration": 28,
    "start_time": "2022-06-06T17:58:52.415Z"
   },
   {
    "duration": 40,
    "start_time": "2022-06-06T17:58:52.466Z"
   },
   {
    "duration": 23,
    "start_time": "2022-06-06T17:58:52.507Z"
   },
   {
    "duration": 37,
    "start_time": "2022-06-06T17:58:52.532Z"
   },
   {
    "duration": 14,
    "start_time": "2022-06-06T17:58:52.572Z"
   },
   {
    "duration": 12,
    "start_time": "2022-06-06T17:58:52.588Z"
   },
   {
    "duration": 18,
    "start_time": "2022-06-06T17:58:52.601Z"
   },
   {
    "duration": 9,
    "start_time": "2022-06-06T17:58:52.621Z"
   },
   {
    "duration": 11,
    "start_time": "2022-06-06T17:58:52.631Z"
   },
   {
    "duration": 37,
    "start_time": "2022-06-06T17:58:52.644Z"
   },
   {
    "duration": 15,
    "start_time": "2022-06-06T17:58:52.682Z"
   },
   {
    "duration": 18,
    "start_time": "2022-06-06T17:58:52.698Z"
   },
   {
    "duration": 2,
    "start_time": "2022-06-06T17:58:52.718Z"
   },
   {
    "duration": 14,
    "start_time": "2022-06-06T17:58:52.721Z"
   },
   {
    "duration": 42,
    "start_time": "2022-06-06T17:58:52.736Z"
   },
   {
    "duration": 80,
    "start_time": "2022-06-06T17:58:52.781Z"
   },
   {
    "duration": 71,
    "start_time": "2022-06-06T17:58:52.863Z"
   },
   {
    "duration": 74,
    "start_time": "2022-06-06T17:58:52.936Z"
   },
   {
    "duration": 32,
    "start_time": "2022-06-06T17:58:53.012Z"
   },
   {
    "duration": 61,
    "start_time": "2022-06-06T17:58:53.046Z"
   },
   {
    "duration": 22,
    "start_time": "2022-06-06T17:58:53.108Z"
   },
   {
    "duration": 228,
    "start_time": "2022-06-06T17:58:53.132Z"
   },
   {
    "duration": 43,
    "start_time": "2022-06-06T17:58:53.368Z"
   },
   {
    "duration": 121,
    "start_time": "2022-06-06T17:58:53.414Z"
   },
   {
    "duration": 1356,
    "start_time": "2022-06-06T17:58:53.536Z"
   },
   {
    "duration": 54,
    "start_time": "2022-06-06T17:58:54.893Z"
   },
   {
    "duration": 29,
    "start_time": "2022-06-06T17:58:54.948Z"
   },
   {
    "duration": 12,
    "start_time": "2022-06-06T17:58:54.979Z"
   },
   {
    "duration": 7,
    "start_time": "2022-06-06T17:58:54.993Z"
   },
   {
    "duration": 161,
    "start_time": "2022-06-06T17:58:55.002Z"
   },
   {
    "duration": 24,
    "start_time": "2022-06-06T17:58:55.172Z"
   },
   {
    "duration": 11,
    "start_time": "2022-06-06T17:58:55.197Z"
   },
   {
    "duration": 8,
    "start_time": "2022-06-06T17:58:55.210Z"
   },
   {
    "duration": 140,
    "start_time": "2022-06-06T17:58:55.219Z"
   },
   {
    "duration": 133,
    "start_time": "2022-06-06T17:58:55.364Z"
   },
   {
    "duration": 7,
    "start_time": "2022-06-06T17:58:55.499Z"
   },
   {
    "duration": 9,
    "start_time": "2022-06-06T17:58:55.508Z"
   },
   {
    "duration": 435,
    "start_time": "2022-06-06T17:58:55.518Z"
   },
   {
    "duration": 119,
    "start_time": "2022-06-06T17:58:55.955Z"
   },
   {
    "duration": 9,
    "start_time": "2022-06-06T17:58:56.080Z"
   },
   {
    "duration": 17,
    "start_time": "2022-06-06T17:58:56.091Z"
   },
   {
    "duration": 567,
    "start_time": "2022-06-06T17:58:56.110Z"
   },
   {
    "duration": 41,
    "start_time": "2022-06-06T17:58:56.679Z"
   },
   {
    "duration": 4,
    "start_time": "2022-06-06T17:58:56.722Z"
   },
   {
    "duration": 44,
    "start_time": "2022-06-06T17:58:56.728Z"
   },
   {
    "duration": 668,
    "start_time": "2022-06-06T17:58:56.774Z"
   },
   {
    "duration": 66,
    "start_time": "2022-06-06T17:58:57.444Z"
   },
   {
    "duration": 91,
    "start_time": "2022-06-06T17:58:57.512Z"
   },
   {
    "duration": 3,
    "start_time": "2022-06-06T17:58:57.604Z"
   },
   {
    "duration": 5,
    "start_time": "2022-06-06T17:58:57.609Z"
   },
   {
    "duration": 26,
    "start_time": "2022-06-06T17:58:57.616Z"
   },
   {
    "duration": 28,
    "start_time": "2022-06-06T17:58:57.644Z"
   },
   {
    "duration": 85,
    "start_time": "2022-06-06T17:58:57.673Z"
   },
   {
    "duration": 77,
    "start_time": "2022-06-06T17:58:57.760Z"
   },
   {
    "duration": 584,
    "start_time": "2022-06-06T17:58:57.839Z"
   },
   {
    "duration": 151,
    "start_time": "2022-06-06T17:58:58.425Z"
   },
   {
    "duration": 1920,
    "start_time": "2022-06-06T17:59:45.055Z"
   },
   {
    "duration": 29849,
    "start_time": "2022-06-06T18:02:44.347Z"
   },
   {
    "duration": 91,
    "start_time": "2022-06-06T18:04:46.512Z"
   },
   {
    "duration": 1366,
    "start_time": "2022-06-06T18:04:52.542Z"
   },
   {
    "duration": 716,
    "start_time": "2022-06-06T18:04:53.911Z"
   },
   {
    "duration": 5,
    "start_time": "2022-06-06T18:04:54.629Z"
   },
   {
    "duration": 586,
    "start_time": "2022-06-06T18:04:54.636Z"
   },
   {
    "duration": 72,
    "start_time": "2022-06-06T18:04:55.224Z"
   },
   {
    "duration": 35,
    "start_time": "2022-06-06T18:04:55.298Z"
   },
   {
    "duration": 79,
    "start_time": "2022-06-06T18:04:55.335Z"
   },
   {
    "duration": 25,
    "start_time": "2022-06-06T18:04:55.416Z"
   },
   {
    "duration": 42,
    "start_time": "2022-06-06T18:04:55.443Z"
   },
   {
    "duration": 18,
    "start_time": "2022-06-06T18:04:55.487Z"
   },
   {
    "duration": 21,
    "start_time": "2022-06-06T18:04:55.507Z"
   },
   {
    "duration": 21,
    "start_time": "2022-06-06T18:04:55.530Z"
   },
   {
    "duration": 32,
    "start_time": "2022-06-06T18:04:55.553Z"
   },
   {
    "duration": 41,
    "start_time": "2022-06-06T18:04:55.589Z"
   },
   {
    "duration": 12,
    "start_time": "2022-06-06T18:04:55.631Z"
   },
   {
    "duration": 28,
    "start_time": "2022-06-06T18:04:55.644Z"
   },
   {
    "duration": 21,
    "start_time": "2022-06-06T18:04:55.676Z"
   },
   {
    "duration": 2,
    "start_time": "2022-06-06T18:04:55.699Z"
   },
   {
    "duration": 17,
    "start_time": "2022-06-06T18:04:55.703Z"
   },
   {
    "duration": 30,
    "start_time": "2022-06-06T18:04:55.721Z"
   },
   {
    "duration": 77,
    "start_time": "2022-06-06T18:04:55.754Z"
   },
   {
    "duration": 86,
    "start_time": "2022-06-06T18:04:55.833Z"
   },
   {
    "duration": 84,
    "start_time": "2022-06-06T18:04:55.921Z"
   },
   {
    "duration": 32,
    "start_time": "2022-06-06T18:04:56.007Z"
   },
   {
    "duration": 56,
    "start_time": "2022-06-06T18:04:56.041Z"
   },
   {
    "duration": 22,
    "start_time": "2022-06-06T18:04:56.099Z"
   },
   {
    "duration": 262,
    "start_time": "2022-06-06T18:04:56.123Z"
   },
   {
    "duration": 32,
    "start_time": "2022-06-06T18:04:56.387Z"
   },
   {
    "duration": 111,
    "start_time": "2022-06-06T18:04:56.421Z"
   },
   {
    "duration": 1305,
    "start_time": "2022-06-06T18:04:56.534Z"
   },
   {
    "duration": 68,
    "start_time": "2022-06-06T18:04:57.840Z"
   },
   {
    "duration": 9,
    "start_time": "2022-06-06T18:04:57.910Z"
   },
   {
    "duration": 22,
    "start_time": "2022-06-06T18:04:57.921Z"
   },
   {
    "duration": 24,
    "start_time": "2022-06-06T18:04:57.945Z"
   },
   {
    "duration": 143,
    "start_time": "2022-06-06T18:04:57.974Z"
   },
   {
    "duration": 16,
    "start_time": "2022-06-06T18:04:58.118Z"
   },
   {
    "duration": 11,
    "start_time": "2022-06-06T18:04:58.136Z"
   },
   {
    "duration": 30,
    "start_time": "2022-06-06T18:04:58.149Z"
   },
   {
    "duration": 131,
    "start_time": "2022-06-06T18:04:58.181Z"
   },
   {
    "duration": 146,
    "start_time": "2022-06-06T18:04:58.314Z"
   },
   {
    "duration": 17,
    "start_time": "2022-06-06T18:04:58.468Z"
   },
   {
    "duration": 5,
    "start_time": "2022-06-06T18:04:58.486Z"
   },
   {
    "duration": 386,
    "start_time": "2022-06-06T18:04:58.493Z"
   },
   {
    "duration": 149,
    "start_time": "2022-06-06T18:04:58.880Z"
   },
   {
    "duration": 12,
    "start_time": "2022-06-06T18:04:59.032Z"
   },
   {
    "duration": 24,
    "start_time": "2022-06-06T18:04:59.046Z"
   },
   {
    "duration": 655,
    "start_time": "2022-06-06T18:04:59.072Z"
   },
   {
    "duration": 70,
    "start_time": "2022-06-06T18:04:59.729Z"
   },
   {
    "duration": 5,
    "start_time": "2022-06-06T18:04:59.800Z"
   },
   {
    "duration": 29,
    "start_time": "2022-06-06T18:04:59.808Z"
   },
   {
    "duration": 743,
    "start_time": "2022-06-06T18:04:59.840Z"
   },
   {
    "duration": 73,
    "start_time": "2022-06-06T18:05:00.594Z"
   },
   {
    "duration": 76,
    "start_time": "2022-06-06T18:05:00.675Z"
   },
   {
    "duration": 2,
    "start_time": "2022-06-06T18:05:00.753Z"
   },
   {
    "duration": 41,
    "start_time": "2022-06-06T18:05:00.757Z"
   },
   {
    "duration": 129,
    "start_time": "2022-06-06T18:05:00.802Z"
   },
   {
    "duration": 23,
    "start_time": "2022-06-06T18:05:00.933Z"
   },
   {
    "duration": 487,
    "start_time": "2022-06-06T18:05:00.958Z"
   },
   {
    "duration": 86,
    "start_time": "2022-06-06T18:05:01.448Z"
   },
   {
    "duration": 790,
    "start_time": "2022-06-06T18:05:01.536Z"
   },
   {
    "duration": 151,
    "start_time": "2022-06-06T18:05:02.329Z"
   },
   {
    "duration": 2012,
    "start_time": "2022-06-06T18:07:02.011Z"
   },
   {
    "duration": 9793,
    "start_time": "2022-06-06T18:08:51.149Z"
   },
   {
    "duration": 1264,
    "start_time": "2022-06-06T18:12:26.190Z"
   },
   {
    "duration": 670,
    "start_time": "2022-06-06T18:12:27.457Z"
   },
   {
    "duration": 4,
    "start_time": "2022-06-06T18:12:28.128Z"
   },
   {
    "duration": 480,
    "start_time": "2022-06-06T18:12:28.134Z"
   },
   {
    "duration": 68,
    "start_time": "2022-06-06T18:12:28.616Z"
   },
   {
    "duration": 32,
    "start_time": "2022-06-06T18:12:28.685Z"
   },
   {
    "duration": 76,
    "start_time": "2022-06-06T18:12:28.720Z"
   },
   {
    "duration": 28,
    "start_time": "2022-06-06T18:12:28.798Z"
   },
   {
    "duration": 14,
    "start_time": "2022-06-06T18:12:28.827Z"
   },
   {
    "duration": 34,
    "start_time": "2022-06-06T18:12:28.843Z"
   },
   {
    "duration": 12,
    "start_time": "2022-06-06T18:12:28.882Z"
   },
   {
    "duration": 24,
    "start_time": "2022-06-06T18:12:28.895Z"
   },
   {
    "duration": 8,
    "start_time": "2022-06-06T18:12:28.920Z"
   },
   {
    "duration": 11,
    "start_time": "2022-06-06T18:12:28.930Z"
   },
   {
    "duration": 35,
    "start_time": "2022-06-06T18:12:28.942Z"
   },
   {
    "duration": 26,
    "start_time": "2022-06-06T18:12:28.980Z"
   },
   {
    "duration": 15,
    "start_time": "2022-06-06T18:12:29.009Z"
   },
   {
    "duration": 6,
    "start_time": "2022-06-06T18:12:29.026Z"
   },
   {
    "duration": 16,
    "start_time": "2022-06-06T18:12:29.035Z"
   },
   {
    "duration": 47,
    "start_time": "2022-06-06T18:12:29.053Z"
   },
   {
    "duration": 104,
    "start_time": "2022-06-06T18:12:29.102Z"
   },
   {
    "duration": 89,
    "start_time": "2022-06-06T18:12:29.208Z"
   },
   {
    "duration": 78,
    "start_time": "2022-06-06T18:12:29.299Z"
   },
   {
    "duration": 32,
    "start_time": "2022-06-06T18:12:29.379Z"
   },
   {
    "duration": 34,
    "start_time": "2022-06-06T18:12:29.413Z"
   },
   {
    "duration": 40,
    "start_time": "2022-06-06T18:12:29.449Z"
   },
   {
    "duration": 215,
    "start_time": "2022-06-06T18:12:29.491Z"
   },
   {
    "duration": 31,
    "start_time": "2022-06-06T18:12:29.710Z"
   },
   {
    "duration": 109,
    "start_time": "2022-06-06T18:12:29.742Z"
   },
   {
    "duration": 1860,
    "start_time": "2022-06-06T18:12:29.853Z"
   },
   {
    "duration": 70,
    "start_time": "2022-06-06T18:12:31.715Z"
   },
   {
    "duration": 12,
    "start_time": "2022-06-06T18:12:31.787Z"
   },
   {
    "duration": 21,
    "start_time": "2022-06-06T18:12:31.801Z"
   },
   {
    "duration": 18,
    "start_time": "2022-06-06T18:12:31.824Z"
   },
   {
    "duration": 153,
    "start_time": "2022-06-06T18:12:31.844Z"
   },
   {
    "duration": 22,
    "start_time": "2022-06-06T18:12:31.999Z"
   },
   {
    "duration": 15,
    "start_time": "2022-06-06T18:12:32.022Z"
   },
   {
    "duration": 30,
    "start_time": "2022-06-06T18:12:32.039Z"
   },
   {
    "duration": 138,
    "start_time": "2022-06-06T18:12:32.073Z"
   },
   {
    "duration": 136,
    "start_time": "2022-06-06T18:12:32.213Z"
   },
   {
    "duration": 8,
    "start_time": "2022-06-06T18:12:32.350Z"
   },
   {
    "duration": 5,
    "start_time": "2022-06-06T18:12:32.364Z"
   },
   {
    "duration": 411,
    "start_time": "2022-06-06T18:12:32.373Z"
   },
   {
    "duration": 123,
    "start_time": "2022-06-06T18:12:32.785Z"
   },
   {
    "duration": 9,
    "start_time": "2022-06-06T18:12:32.909Z"
   },
   {
    "duration": 8,
    "start_time": "2022-06-06T18:12:32.919Z"
   },
   {
    "duration": 606,
    "start_time": "2022-06-06T18:12:32.929Z"
   },
   {
    "duration": 56,
    "start_time": "2022-06-06T18:12:33.536Z"
   },
   {
    "duration": 5,
    "start_time": "2022-06-06T18:12:33.594Z"
   },
   {
    "duration": 36,
    "start_time": "2022-06-06T18:12:33.602Z"
   },
   {
    "duration": 695,
    "start_time": "2022-06-06T18:12:33.640Z"
   },
   {
    "duration": 67,
    "start_time": "2022-06-06T18:12:34.337Z"
   },
   {
    "duration": 95,
    "start_time": "2022-06-06T18:12:34.406Z"
   },
   {
    "duration": 3,
    "start_time": "2022-06-06T18:12:34.503Z"
   },
   {
    "duration": 19,
    "start_time": "2022-06-06T18:12:34.508Z"
   },
   {
    "duration": 27,
    "start_time": "2022-06-06T18:12:34.529Z"
   },
   {
    "duration": 15,
    "start_time": "2022-06-06T18:12:34.558Z"
   },
   {
    "duration": 126,
    "start_time": "2022-06-06T18:12:34.575Z"
   },
   {
    "duration": 94,
    "start_time": "2022-06-06T18:12:34.704Z"
   },
   {
    "duration": 647,
    "start_time": "2022-06-06T18:12:34.800Z"
   },
   {
    "duration": 156,
    "start_time": "2022-06-06T18:12:35.449Z"
   },
   {
    "duration": 35,
    "start_time": "2022-06-06T18:14:09.004Z"
   },
   {
    "duration": 30,
    "start_time": "2022-06-06T18:14:15.250Z"
   },
   {
    "duration": 23,
    "start_time": "2022-06-06T18:14:26.196Z"
   },
   {
    "duration": 19,
    "start_time": "2022-06-06T18:14:34.643Z"
   },
   {
    "duration": 756,
    "start_time": "2022-06-06T18:15:24.132Z"
   },
   {
    "duration": 28,
    "start_time": "2022-06-06T18:16:09.500Z"
   },
   {
    "duration": 10372,
    "start_time": "2022-06-06T18:16:32.156Z"
   },
   {
    "duration": 62,
    "start_time": "2022-06-06T18:18:04.459Z"
   },
   {
    "duration": 1346,
    "start_time": "2022-06-06T18:18:15.380Z"
   },
   {
    "duration": 881,
    "start_time": "2022-06-06T18:18:16.728Z"
   },
   {
    "duration": 3,
    "start_time": "2022-06-06T18:18:17.611Z"
   },
   {
    "duration": 550,
    "start_time": "2022-06-06T18:18:17.616Z"
   },
   {
    "duration": 72,
    "start_time": "2022-06-06T18:18:18.169Z"
   },
   {
    "duration": 49,
    "start_time": "2022-06-06T18:18:18.242Z"
   },
   {
    "duration": 73,
    "start_time": "2022-06-06T18:18:18.293Z"
   },
   {
    "duration": 48,
    "start_time": "2022-06-06T18:18:18.369Z"
   },
   {
    "duration": 21,
    "start_time": "2022-06-06T18:18:18.419Z"
   },
   {
    "duration": 20,
    "start_time": "2022-06-06T18:18:18.442Z"
   },
   {
    "duration": 46,
    "start_time": "2022-06-06T18:18:18.467Z"
   },
   {
    "duration": 24,
    "start_time": "2022-06-06T18:18:18.515Z"
   },
   {
    "duration": 8,
    "start_time": "2022-06-06T18:18:18.541Z"
   },
   {
    "duration": 17,
    "start_time": "2022-06-06T18:18:18.552Z"
   },
   {
    "duration": 43,
    "start_time": "2022-06-06T18:18:18.578Z"
   },
   {
    "duration": 36,
    "start_time": "2022-06-06T18:18:18.624Z"
   },
   {
    "duration": 39,
    "start_time": "2022-06-06T18:18:18.662Z"
   },
   {
    "duration": 5,
    "start_time": "2022-06-06T18:18:18.703Z"
   },
   {
    "duration": 17,
    "start_time": "2022-06-06T18:18:18.710Z"
   },
   {
    "duration": 25,
    "start_time": "2022-06-06T18:18:18.729Z"
   },
   {
    "duration": 83,
    "start_time": "2022-06-06T18:18:18.756Z"
   },
   {
    "duration": 95,
    "start_time": "2022-06-06T18:18:18.841Z"
   },
   {
    "duration": 107,
    "start_time": "2022-06-06T18:18:18.939Z"
   },
   {
    "duration": 52,
    "start_time": "2022-06-06T18:18:19.048Z"
   },
   {
    "duration": 38,
    "start_time": "2022-06-06T18:18:19.103Z"
   },
   {
    "duration": 34,
    "start_time": "2022-06-06T18:18:19.144Z"
   },
   {
    "duration": 259,
    "start_time": "2022-06-06T18:18:19.180Z"
   },
   {
    "duration": 64,
    "start_time": "2022-06-06T18:18:19.441Z"
   },
   {
    "duration": 112,
    "start_time": "2022-06-06T18:18:19.508Z"
   },
   {
    "duration": 1380,
    "start_time": "2022-06-06T18:18:19.622Z"
   },
   {
    "duration": 88,
    "start_time": "2022-06-06T18:18:21.004Z"
   },
   {
    "duration": 10,
    "start_time": "2022-06-06T18:18:21.095Z"
   },
   {
    "duration": 18,
    "start_time": "2022-06-06T18:18:21.107Z"
   },
   {
    "duration": 9,
    "start_time": "2022-06-06T18:18:21.127Z"
   },
   {
    "duration": 161,
    "start_time": "2022-06-06T18:18:21.138Z"
   },
   {
    "duration": 18,
    "start_time": "2022-06-06T18:18:21.300Z"
   },
   {
    "duration": 19,
    "start_time": "2022-06-06T18:18:21.320Z"
   },
   {
    "duration": 21,
    "start_time": "2022-06-06T18:18:21.341Z"
   },
   {
    "duration": 163,
    "start_time": "2022-06-06T18:18:21.363Z"
   },
   {
    "duration": 121,
    "start_time": "2022-06-06T18:18:21.528Z"
   },
   {
    "duration": 15,
    "start_time": "2022-06-06T18:18:21.653Z"
   },
   {
    "duration": 29,
    "start_time": "2022-06-06T18:18:21.670Z"
   },
   {
    "duration": 396,
    "start_time": "2022-06-06T18:18:21.700Z"
   },
   {
    "duration": 114,
    "start_time": "2022-06-06T18:18:22.099Z"
   },
   {
    "duration": 9,
    "start_time": "2022-06-06T18:18:22.215Z"
   },
   {
    "duration": 24,
    "start_time": "2022-06-06T18:18:22.226Z"
   },
   {
    "duration": 573,
    "start_time": "2022-06-06T18:18:22.252Z"
   },
   {
    "duration": 69,
    "start_time": "2022-06-06T18:18:22.827Z"
   },
   {
    "duration": 5,
    "start_time": "2022-06-06T18:18:22.898Z"
   },
   {
    "duration": 45,
    "start_time": "2022-06-06T18:18:22.904Z"
   },
   {
    "duration": 689,
    "start_time": "2022-06-06T18:18:22.951Z"
   },
   {
    "duration": 70,
    "start_time": "2022-06-06T18:18:23.642Z"
   },
   {
    "duration": 112,
    "start_time": "2022-06-06T18:18:23.714Z"
   },
   {
    "duration": 3,
    "start_time": "2022-06-06T18:18:23.829Z"
   },
   {
    "duration": 12,
    "start_time": "2022-06-06T18:18:23.834Z"
   },
   {
    "duration": 44,
    "start_time": "2022-06-06T18:18:23.848Z"
   },
   {
    "duration": 24,
    "start_time": "2022-06-06T18:18:23.894Z"
   },
   {
    "duration": 313,
    "start_time": "2022-06-06T18:18:23.920Z"
   },
   {
    "duration": 104,
    "start_time": "2022-06-06T18:18:24.235Z"
   },
   {
    "duration": 691,
    "start_time": "2022-06-06T18:18:24.341Z"
   },
   {
    "duration": 145,
    "start_time": "2022-06-06T18:18:25.034Z"
   },
   {
    "duration": 959,
    "start_time": "2022-06-06T18:19:12.944Z"
   },
   {
    "duration": 1526,
    "start_time": "2022-06-06T18:19:33.157Z"
   },
   {
    "duration": 332,
    "start_time": "2022-06-06T18:19:34.692Z"
   },
   {
    "duration": 5,
    "start_time": "2022-06-06T18:19:35.027Z"
   },
   {
    "duration": 622,
    "start_time": "2022-06-06T18:19:35.034Z"
   },
   {
    "duration": 84,
    "start_time": "2022-06-06T18:19:35.665Z"
   },
   {
    "duration": 48,
    "start_time": "2022-06-06T18:19:35.751Z"
   },
   {
    "duration": 51,
    "start_time": "2022-06-06T18:19:35.801Z"
   },
   {
    "duration": 42,
    "start_time": "2022-06-06T18:19:35.865Z"
   },
   {
    "duration": 20,
    "start_time": "2022-06-06T18:19:35.909Z"
   },
   {
    "duration": 37,
    "start_time": "2022-06-06T18:19:35.931Z"
   },
   {
    "duration": 20,
    "start_time": "2022-06-06T18:19:35.973Z"
   },
   {
    "duration": 39,
    "start_time": "2022-06-06T18:19:35.997Z"
   },
   {
    "duration": 14,
    "start_time": "2022-06-06T18:19:36.038Z"
   },
   {
    "duration": 26,
    "start_time": "2022-06-06T18:19:36.055Z"
   },
   {
    "duration": 23,
    "start_time": "2022-06-06T18:19:36.091Z"
   },
   {
    "duration": 19,
    "start_time": "2022-06-06T18:19:36.116Z"
   },
   {
    "duration": 18,
    "start_time": "2022-06-06T18:19:36.137Z"
   },
   {
    "duration": 6,
    "start_time": "2022-06-06T18:19:36.157Z"
   },
   {
    "duration": 34,
    "start_time": "2022-06-06T18:19:36.164Z"
   },
   {
    "duration": 46,
    "start_time": "2022-06-06T18:19:36.201Z"
   },
   {
    "duration": 83,
    "start_time": "2022-06-06T18:19:36.249Z"
   },
   {
    "duration": 85,
    "start_time": "2022-06-06T18:19:36.333Z"
   },
   {
    "duration": 70,
    "start_time": "2022-06-06T18:19:36.420Z"
   },
   {
    "duration": 35,
    "start_time": "2022-06-06T18:19:36.492Z"
   },
   {
    "duration": 67,
    "start_time": "2022-06-06T18:19:36.529Z"
   },
   {
    "duration": 27,
    "start_time": "2022-06-06T18:19:36.598Z"
   },
   {
    "duration": 304,
    "start_time": "2022-06-06T18:19:36.627Z"
   },
   {
    "duration": 52,
    "start_time": "2022-06-06T18:19:36.934Z"
   },
   {
    "duration": 146,
    "start_time": "2022-06-06T18:19:36.988Z"
   },
   {
    "duration": 1652,
    "start_time": "2022-06-06T18:19:37.136Z"
   },
   {
    "duration": 87,
    "start_time": "2022-06-06T18:19:38.790Z"
   },
   {
    "duration": 27,
    "start_time": "2022-06-06T18:19:38.879Z"
   },
   {
    "duration": 17,
    "start_time": "2022-06-06T18:19:38.909Z"
   },
   {
    "duration": 10,
    "start_time": "2022-06-06T18:19:38.928Z"
   },
   {
    "duration": 187,
    "start_time": "2022-06-06T18:19:38.939Z"
   },
   {
    "duration": 36,
    "start_time": "2022-06-06T18:19:39.128Z"
   },
   {
    "duration": 65,
    "start_time": "2022-06-06T18:19:39.166Z"
   },
   {
    "duration": 19,
    "start_time": "2022-06-06T18:19:39.233Z"
   },
   {
    "duration": 164,
    "start_time": "2022-06-06T18:19:39.253Z"
   },
   {
    "duration": 155,
    "start_time": "2022-06-06T18:19:39.419Z"
   },
   {
    "duration": 13,
    "start_time": "2022-06-06T18:19:39.579Z"
   },
   {
    "duration": 9,
    "start_time": "2022-06-06T18:19:39.594Z"
   },
   {
    "duration": 399,
    "start_time": "2022-06-06T18:19:39.604Z"
   },
   {
    "duration": 133,
    "start_time": "2022-06-06T18:19:40.005Z"
   },
   {
    "duration": 9,
    "start_time": "2022-06-06T18:19:40.140Z"
   },
   {
    "duration": 24,
    "start_time": "2022-06-06T18:19:40.151Z"
   },
   {
    "duration": 614,
    "start_time": "2022-06-06T18:19:40.178Z"
   },
   {
    "duration": 47,
    "start_time": "2022-06-06T18:19:40.794Z"
   },
   {
    "duration": 4,
    "start_time": "2022-06-06T18:19:40.843Z"
   },
   {
    "duration": 56,
    "start_time": "2022-06-06T18:19:40.849Z"
   },
   {
    "duration": 630,
    "start_time": "2022-06-06T18:19:40.907Z"
   },
   {
    "duration": 62,
    "start_time": "2022-06-06T18:19:41.539Z"
   },
   {
    "duration": 121,
    "start_time": "2022-06-06T18:19:41.604Z"
   },
   {
    "duration": 3,
    "start_time": "2022-06-06T18:19:41.727Z"
   },
   {
    "duration": 7,
    "start_time": "2022-06-06T18:19:41.732Z"
   },
   {
    "duration": 47,
    "start_time": "2022-06-06T18:19:41.741Z"
   },
   {
    "duration": 8,
    "start_time": "2022-06-06T18:19:41.796Z"
   },
   {
    "duration": 220,
    "start_time": "2022-06-06T18:19:41.805Z"
   },
   {
    "duration": 0,
    "start_time": "2022-06-06T18:19:42.027Z"
   },
   {
    "duration": 0,
    "start_time": "2022-06-06T18:19:42.029Z"
   },
   {
    "duration": 0,
    "start_time": "2022-06-06T18:19:42.030Z"
   },
   {
    "duration": 723,
    "start_time": "2022-06-06T18:19:58.024Z"
   },
   {
    "duration": 15,
    "start_time": "2022-06-06T18:20:39.008Z"
   },
   {
    "duration": 1363,
    "start_time": "2022-06-06T18:23:50.443Z"
   },
   {
    "duration": 324,
    "start_time": "2022-06-06T18:23:51.808Z"
   },
   {
    "duration": 4,
    "start_time": "2022-06-06T18:23:52.133Z"
   },
   {
    "duration": 591,
    "start_time": "2022-06-06T18:23:52.139Z"
   },
   {
    "duration": 105,
    "start_time": "2022-06-06T18:23:52.732Z"
   },
   {
    "duration": 63,
    "start_time": "2022-06-06T18:23:52.839Z"
   },
   {
    "duration": 37,
    "start_time": "2022-06-06T18:23:52.907Z"
   },
   {
    "duration": 40,
    "start_time": "2022-06-06T18:23:52.945Z"
   },
   {
    "duration": 24,
    "start_time": "2022-06-06T18:23:52.988Z"
   },
   {
    "duration": 20,
    "start_time": "2022-06-06T18:23:53.014Z"
   },
   {
    "duration": 16,
    "start_time": "2022-06-06T18:23:53.036Z"
   },
   {
    "duration": 39,
    "start_time": "2022-06-06T18:23:53.054Z"
   },
   {
    "duration": 20,
    "start_time": "2022-06-06T18:23:53.098Z"
   },
   {
    "duration": 20,
    "start_time": "2022-06-06T18:23:53.121Z"
   },
   {
    "duration": 19,
    "start_time": "2022-06-06T18:23:53.144Z"
   },
   {
    "duration": 46,
    "start_time": "2022-06-06T18:23:53.170Z"
   },
   {
    "duration": 21,
    "start_time": "2022-06-06T18:23:53.218Z"
   },
   {
    "duration": 6,
    "start_time": "2022-06-06T18:23:53.241Z"
   },
   {
    "duration": 29,
    "start_time": "2022-06-06T18:23:53.249Z"
   },
   {
    "duration": 62,
    "start_time": "2022-06-06T18:23:53.280Z"
   },
   {
    "duration": 97,
    "start_time": "2022-06-06T18:23:53.344Z"
   },
   {
    "duration": 99,
    "start_time": "2022-06-06T18:23:53.443Z"
   },
   {
    "duration": 85,
    "start_time": "2022-06-06T18:23:53.545Z"
   },
   {
    "duration": 39,
    "start_time": "2022-06-06T18:23:53.632Z"
   },
   {
    "duration": 48,
    "start_time": "2022-06-06T18:23:53.676Z"
   },
   {
    "duration": 22,
    "start_time": "2022-06-06T18:23:53.726Z"
   },
   {
    "duration": 247,
    "start_time": "2022-06-06T18:23:53.750Z"
   },
   {
    "duration": 35,
    "start_time": "2022-06-06T18:23:53.999Z"
   },
   {
    "duration": 125,
    "start_time": "2022-06-06T18:23:54.036Z"
   },
   {
    "duration": 1435,
    "start_time": "2022-06-06T18:23:54.165Z"
   },
   {
    "duration": 74,
    "start_time": "2022-06-06T18:23:55.601Z"
   },
   {
    "duration": 12,
    "start_time": "2022-06-06T18:23:55.682Z"
   },
   {
    "duration": 18,
    "start_time": "2022-06-06T18:23:55.695Z"
   },
   {
    "duration": 14,
    "start_time": "2022-06-06T18:23:55.714Z"
   },
   {
    "duration": 175,
    "start_time": "2022-06-06T18:23:55.729Z"
   },
   {
    "duration": 17,
    "start_time": "2022-06-06T18:23:55.906Z"
   },
   {
    "duration": 12,
    "start_time": "2022-06-06T18:23:55.925Z"
   },
   {
    "duration": 41,
    "start_time": "2022-06-06T18:23:55.939Z"
   },
   {
    "duration": 135,
    "start_time": "2022-06-06T18:23:55.982Z"
   },
   {
    "duration": 172,
    "start_time": "2022-06-06T18:23:56.119Z"
   },
   {
    "duration": 12,
    "start_time": "2022-06-06T18:23:56.298Z"
   },
   {
    "duration": 13,
    "start_time": "2022-06-06T18:23:56.311Z"
   },
   {
    "duration": 443,
    "start_time": "2022-06-06T18:23:56.326Z"
   },
   {
    "duration": 126,
    "start_time": "2022-06-06T18:23:56.770Z"
   },
   {
    "duration": 10,
    "start_time": "2022-06-06T18:23:56.897Z"
   },
   {
    "duration": 7,
    "start_time": "2022-06-06T18:23:56.909Z"
   },
   {
    "duration": 650,
    "start_time": "2022-06-06T18:23:56.918Z"
   },
   {
    "duration": 55,
    "start_time": "2022-06-06T18:23:57.571Z"
   },
   {
    "duration": 4,
    "start_time": "2022-06-06T18:23:57.628Z"
   },
   {
    "duration": 56,
    "start_time": "2022-06-06T18:23:57.634Z"
   },
   {
    "duration": 650,
    "start_time": "2022-06-06T18:23:57.697Z"
   },
   {
    "duration": 65,
    "start_time": "2022-06-06T18:23:58.349Z"
   },
   {
    "duration": 98,
    "start_time": "2022-06-06T18:23:58.416Z"
   },
   {
    "duration": 3,
    "start_time": "2022-06-06T18:23:58.517Z"
   },
   {
    "duration": 5,
    "start_time": "2022-06-06T18:23:58.522Z"
   },
   {
    "duration": 53,
    "start_time": "2022-06-06T18:23:58.530Z"
   },
   {
    "duration": 11,
    "start_time": "2022-06-06T18:23:58.585Z"
   },
   {
    "duration": 1001,
    "start_time": "2022-06-06T18:23:58.600Z"
   },
   {
    "duration": 84,
    "start_time": "2022-06-06T18:23:59.603Z"
   },
   {
    "duration": 740,
    "start_time": "2022-06-06T18:23:59.688Z"
   },
   {
    "duration": 179,
    "start_time": "2022-06-06T18:24:00.430Z"
   },
   {
    "duration": 2178,
    "start_time": "2022-06-06T18:26:52.178Z"
   },
   {
    "duration": 10124,
    "start_time": "2022-06-06T18:28:01.011Z"
   },
   {
    "duration": 86,
    "start_time": "2022-06-06T18:29:13.419Z"
   },
   {
    "duration": 1630,
    "start_time": "2022-06-06T18:29:20.686Z"
   },
   {
    "duration": 930,
    "start_time": "2022-06-06T18:29:22.323Z"
   },
   {
    "duration": 4,
    "start_time": "2022-06-06T18:29:23.256Z"
   },
   {
    "duration": 826,
    "start_time": "2022-06-06T18:29:23.262Z"
   },
   {
    "duration": 106,
    "start_time": "2022-06-06T18:29:24.092Z"
   },
   {
    "duration": 43,
    "start_time": "2022-06-06T18:29:24.200Z"
   },
   {
    "duration": 77,
    "start_time": "2022-06-06T18:29:24.245Z"
   },
   {
    "duration": 70,
    "start_time": "2022-06-06T18:29:24.324Z"
   },
   {
    "duration": 30,
    "start_time": "2022-06-06T18:29:24.396Z"
   },
   {
    "duration": 26,
    "start_time": "2022-06-06T18:29:24.428Z"
   },
   {
    "duration": 47,
    "start_time": "2022-06-06T18:29:24.457Z"
   },
   {
    "duration": 30,
    "start_time": "2022-06-06T18:29:24.506Z"
   },
   {
    "duration": 23,
    "start_time": "2022-06-06T18:29:24.538Z"
   },
   {
    "duration": 89,
    "start_time": "2022-06-06T18:29:24.565Z"
   },
   {
    "duration": 73,
    "start_time": "2022-06-06T18:29:24.657Z"
   },
   {
    "duration": 45,
    "start_time": "2022-06-06T18:29:24.737Z"
   },
   {
    "duration": 39,
    "start_time": "2022-06-06T18:29:24.789Z"
   },
   {
    "duration": 7,
    "start_time": "2022-06-06T18:29:24.831Z"
   },
   {
    "duration": 24,
    "start_time": "2022-06-06T18:29:24.840Z"
   },
   {
    "duration": 87,
    "start_time": "2022-06-06T18:29:24.866Z"
   },
   {
    "duration": 118,
    "start_time": "2022-06-06T18:29:24.957Z"
   },
   {
    "duration": 121,
    "start_time": "2022-06-06T18:29:25.080Z"
   },
   {
    "duration": 99,
    "start_time": "2022-06-06T18:29:25.203Z"
   },
   {
    "duration": 66,
    "start_time": "2022-06-06T18:29:25.304Z"
   },
   {
    "duration": 63,
    "start_time": "2022-06-06T18:29:25.372Z"
   },
   {
    "duration": 45,
    "start_time": "2022-06-06T18:29:25.438Z"
   },
   {
    "duration": 296,
    "start_time": "2022-06-06T18:29:25.485Z"
   },
   {
    "duration": 55,
    "start_time": "2022-06-06T18:29:25.786Z"
   },
   {
    "duration": 159,
    "start_time": "2022-06-06T18:29:25.844Z"
   },
   {
    "duration": 2068,
    "start_time": "2022-06-06T18:29:26.006Z"
   },
   {
    "duration": 91,
    "start_time": "2022-06-06T18:29:28.078Z"
   },
   {
    "duration": 15,
    "start_time": "2022-06-06T18:29:28.171Z"
   },
   {
    "duration": 33,
    "start_time": "2022-06-06T18:29:28.188Z"
   },
   {
    "duration": 14,
    "start_time": "2022-06-06T18:29:28.223Z"
   },
   {
    "duration": 200,
    "start_time": "2022-06-06T18:29:28.239Z"
   },
   {
    "duration": 38,
    "start_time": "2022-06-06T18:29:28.442Z"
   },
   {
    "duration": 28,
    "start_time": "2022-06-06T18:29:28.481Z"
   },
   {
    "duration": 10,
    "start_time": "2022-06-06T18:29:28.511Z"
   },
   {
    "duration": 180,
    "start_time": "2022-06-06T18:29:28.524Z"
   },
   {
    "duration": 196,
    "start_time": "2022-06-06T18:29:28.706Z"
   },
   {
    "duration": 9,
    "start_time": "2022-06-06T18:29:28.907Z"
   },
   {
    "duration": 13,
    "start_time": "2022-06-06T18:29:28.919Z"
   },
   {
    "duration": 568,
    "start_time": "2022-06-06T18:29:28.934Z"
   },
   {
    "duration": 165,
    "start_time": "2022-06-06T18:29:29.506Z"
   },
   {
    "duration": 16,
    "start_time": "2022-06-06T18:29:29.680Z"
   },
   {
    "duration": 14,
    "start_time": "2022-06-06T18:29:29.699Z"
   },
   {
    "duration": 714,
    "start_time": "2022-06-06T18:29:29.715Z"
   },
   {
    "duration": 82,
    "start_time": "2022-06-06T18:29:30.431Z"
   },
   {
    "duration": 11,
    "start_time": "2022-06-06T18:29:30.516Z"
   },
   {
    "duration": 52,
    "start_time": "2022-06-06T18:29:30.530Z"
   },
   {
    "duration": 866,
    "start_time": "2022-06-06T18:29:30.584Z"
   },
   {
    "duration": 90,
    "start_time": "2022-06-06T18:29:31.452Z"
   },
   {
    "duration": 119,
    "start_time": "2022-06-06T18:29:31.544Z"
   },
   {
    "duration": 9,
    "start_time": "2022-06-06T18:29:31.665Z"
   },
   {
    "duration": 32,
    "start_time": "2022-06-06T18:29:31.679Z"
   },
   {
    "duration": 42,
    "start_time": "2022-06-06T18:29:31.713Z"
   },
   {
    "duration": 20,
    "start_time": "2022-06-06T18:29:31.757Z"
   },
   {
    "duration": 397,
    "start_time": "2022-06-06T18:29:31.781Z"
   },
   {
    "duration": 0,
    "start_time": "2022-06-06T18:29:32.180Z"
   },
   {
    "duration": 0,
    "start_time": "2022-06-06T18:29:32.184Z"
   },
   {
    "duration": 0,
    "start_time": "2022-06-06T18:29:32.187Z"
   },
   {
    "duration": 24,
    "start_time": "2022-06-06T18:30:26.147Z"
   },
   {
    "duration": 1345,
    "start_time": "2022-06-06T18:31:40.404Z"
   },
   {
    "duration": 16462,
    "start_time": "2022-06-06T18:31:48.794Z"
   },
   {
    "duration": 834,
    "start_time": "2022-06-06T18:33:46.916Z"
   },
   {
    "duration": 1425,
    "start_time": "2022-06-06T18:34:03.674Z"
   },
   {
    "duration": 332,
    "start_time": "2022-06-06T18:34:05.101Z"
   },
   {
    "duration": 4,
    "start_time": "2022-06-06T18:34:05.435Z"
   },
   {
    "duration": 638,
    "start_time": "2022-06-06T18:34:05.441Z"
   },
   {
    "duration": 68,
    "start_time": "2022-06-06T18:34:06.081Z"
   },
   {
    "duration": 52,
    "start_time": "2022-06-06T18:34:06.151Z"
   },
   {
    "duration": 48,
    "start_time": "2022-06-06T18:34:06.205Z"
   },
   {
    "duration": 51,
    "start_time": "2022-06-06T18:34:06.255Z"
   },
   {
    "duration": 21,
    "start_time": "2022-06-06T18:34:06.308Z"
   },
   {
    "duration": 13,
    "start_time": "2022-06-06T18:34:06.332Z"
   },
   {
    "duration": 38,
    "start_time": "2022-06-06T18:34:06.347Z"
   },
   {
    "duration": 35,
    "start_time": "2022-06-06T18:34:06.386Z"
   },
   {
    "duration": 19,
    "start_time": "2022-06-06T18:34:06.423Z"
   },
   {
    "duration": 17,
    "start_time": "2022-06-06T18:34:06.443Z"
   },
   {
    "duration": 29,
    "start_time": "2022-06-06T18:34:06.462Z"
   },
   {
    "duration": 35,
    "start_time": "2022-06-06T18:34:06.495Z"
   },
   {
    "duration": 15,
    "start_time": "2022-06-06T18:34:06.532Z"
   },
   {
    "duration": 7,
    "start_time": "2022-06-06T18:34:06.549Z"
   },
   {
    "duration": 33,
    "start_time": "2022-06-06T18:34:06.558Z"
   },
   {
    "duration": 30,
    "start_time": "2022-06-06T18:34:06.606Z"
   },
   {
    "duration": 85,
    "start_time": "2022-06-06T18:34:06.638Z"
   },
   {
    "duration": 93,
    "start_time": "2022-06-06T18:34:06.725Z"
   },
   {
    "duration": 79,
    "start_time": "2022-06-06T18:34:06.819Z"
   },
   {
    "duration": 35,
    "start_time": "2022-06-06T18:34:06.906Z"
   },
   {
    "duration": 60,
    "start_time": "2022-06-06T18:34:06.942Z"
   },
   {
    "duration": 36,
    "start_time": "2022-06-06T18:34:07.004Z"
   },
   {
    "duration": 264,
    "start_time": "2022-06-06T18:34:07.042Z"
   },
   {
    "duration": 33,
    "start_time": "2022-06-06T18:34:07.310Z"
   },
   {
    "duration": 181,
    "start_time": "2022-06-06T18:34:07.345Z"
   },
   {
    "duration": 1675,
    "start_time": "2022-06-06T18:34:07.528Z"
   },
   {
    "duration": 76,
    "start_time": "2022-06-06T18:34:09.205Z"
   },
   {
    "duration": 19,
    "start_time": "2022-06-06T18:34:09.283Z"
   },
   {
    "duration": 67,
    "start_time": "2022-06-06T18:34:09.307Z"
   },
   {
    "duration": 60,
    "start_time": "2022-06-06T18:34:09.378Z"
   },
   {
    "duration": 196,
    "start_time": "2022-06-06T18:34:09.441Z"
   },
   {
    "duration": 31,
    "start_time": "2022-06-06T18:34:09.639Z"
   },
   {
    "duration": 27,
    "start_time": "2022-06-06T18:34:09.672Z"
   },
   {
    "duration": 43,
    "start_time": "2022-06-06T18:34:09.706Z"
   },
   {
    "duration": 207,
    "start_time": "2022-06-06T18:34:09.751Z"
   },
   {
    "duration": 165,
    "start_time": "2022-06-06T18:34:09.959Z"
   },
   {
    "duration": 8,
    "start_time": "2022-06-06T18:34:10.126Z"
   },
   {
    "duration": 24,
    "start_time": "2022-06-06T18:34:10.136Z"
   },
   {
    "duration": 461,
    "start_time": "2022-06-06T18:34:10.162Z"
   },
   {
    "duration": 125,
    "start_time": "2022-06-06T18:34:10.624Z"
   },
   {
    "duration": 27,
    "start_time": "2022-06-06T18:34:10.751Z"
   },
   {
    "duration": 28,
    "start_time": "2022-06-06T18:34:10.784Z"
   },
   {
    "duration": 633,
    "start_time": "2022-06-06T18:34:10.814Z"
   },
   {
    "duration": 58,
    "start_time": "2022-06-06T18:34:11.449Z"
   },
   {
    "duration": 12,
    "start_time": "2022-06-06T18:34:11.509Z"
   },
   {
    "duration": 58,
    "start_time": "2022-06-06T18:34:11.523Z"
   },
   {
    "duration": 680,
    "start_time": "2022-06-06T18:34:11.582Z"
   },
   {
    "duration": 84,
    "start_time": "2022-06-06T18:34:12.265Z"
   },
   {
    "duration": 123,
    "start_time": "2022-06-06T18:34:12.351Z"
   },
   {
    "duration": 3,
    "start_time": "2022-06-06T18:34:12.475Z"
   },
   {
    "duration": 50,
    "start_time": "2022-06-06T18:34:12.480Z"
   },
   {
    "duration": 73,
    "start_time": "2022-06-06T18:34:12.532Z"
   },
   {
    "duration": 42,
    "start_time": "2022-06-06T18:34:12.611Z"
   },
   {
    "duration": 220,
    "start_time": "2022-06-06T18:34:12.656Z"
   },
   {
    "duration": 0,
    "start_time": "2022-06-06T18:34:12.884Z"
   },
   {
    "duration": 0,
    "start_time": "2022-06-06T18:34:12.885Z"
   },
   {
    "duration": 0,
    "start_time": "2022-06-06T18:34:12.888Z"
   },
   {
    "duration": 18,
    "start_time": "2022-06-06T18:35:42.346Z"
   },
   {
    "duration": 403,
    "start_time": "2022-06-06T18:36:25.544Z"
   },
   {
    "duration": 383,
    "start_time": "2022-06-06T18:37:11.753Z"
   },
   {
    "duration": 315,
    "start_time": "2022-06-06T18:37:19.152Z"
   },
   {
    "duration": 28,
    "start_time": "2022-06-06T18:37:32.931Z"
   },
   {
    "duration": 287,
    "start_time": "2022-06-06T18:37:44.313Z"
   },
   {
    "duration": 673,
    "start_time": "2022-06-06T18:38:12.810Z"
   },
   {
    "duration": 269,
    "start_time": "2022-06-06T18:38:40.512Z"
   },
   {
    "duration": 244,
    "start_time": "2022-06-06T18:38:53.288Z"
   },
   {
    "duration": 605,
    "start_time": "2022-06-06T18:39:19.846Z"
   },
   {
    "duration": 30,
    "start_time": "2022-06-06T18:40:51.992Z"
   },
   {
    "duration": 755,
    "start_time": "2022-06-06T18:42:51.699Z"
   },
   {
    "duration": 693,
    "start_time": "2022-06-06T18:43:00.365Z"
   }
  ],
  "kernelspec": {
   "display_name": "Python 3 (ipykernel)",
   "language": "python",
   "name": "python3"
  },
  "language_info": {
   "codemirror_mode": {
    "name": "ipython",
    "version": 3
   },
   "file_extension": ".py",
   "mimetype": "text/x-python",
   "name": "python",
   "nbconvert_exporter": "python",
   "pygments_lexer": "ipython3",
   "version": "3.9.7"
  },
  "toc": {
   "base_numbering": 1,
   "nav_menu": {
    "height": "12.2222px",
    "width": "496.163px"
   },
   "number_sections": true,
   "sideBar": true,
   "skip_h1_title": true,
   "title_cell": "Содержание",
   "title_sidebar": "Contents",
   "toc_cell": true,
   "toc_position": {
    "height": "calc(100% - 180px)",
    "left": "10px",
    "top": "150px",
    "width": "227.118px"
   },
   "toc_section_display": true,
   "toc_window_display": true
  }
 },
 "nbformat": 4,
 "nbformat_minor": 2
}
